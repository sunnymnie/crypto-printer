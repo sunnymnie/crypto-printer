{
 "cells": [
  {
   "cell_type": "markdown",
   "id": "440d4122-46ca-4785-9f28-3b356dbf20fd",
   "metadata": {},
   "source": [
    "# Minute downloader"
   ]
  },
  {
   "cell_type": "code",
   "execution_count": 5,
   "id": "1579b20a-09c2-4f1e-86d8-76c7af532ce7",
   "metadata": {},
   "outputs": [],
   "source": [
    "import discovery_downloader as ddl"
   ]
  },
  {
   "cell_type": "code",
   "execution_count": 6,
   "id": "6273bd36-11d8-4988-98e3-3a74ffb1d9b5",
   "metadata": {},
   "outputs": [],
   "source": [
    "## Make sure below constants are correct\n",
    "\n",
    "RESTART = False\n",
    "CONTINUE_FROM_LEFT_OFF = True\n",
    "\n",
    "PATHNAME = \"../data/strat-discovery/\"\n",
    "MINUTEPATH = \"../data/minute/\"\n",
    "DOWNLOAD_ORDER = \"download_order.csv\"\n",
    "CURRENT_DOWNLOAD_ORDER = \"current_download_order.csv\""
   ]
  },
  {
   "cell_type": "code",
   "execution_count": 7,
   "id": "df00ac6a-a6b9-49cd-871d-b75a86824292",
   "metadata": {},
   "outputs": [],
   "source": [
    "ddl.download_all_minutely_data(RESTART, CONTINUE_FROM_LEFT_OFF, PATHNAME, MINUTEPATH,\n",
    "                               DOWNLOAD_ORDER, CURRENT_DOWNLOAD_ORDER)"
   ]
  },
  {
   "cell_type": "code",
   "execution_count": null,
   "id": "2a607bb4-07bf-439d-aa5c-01a82ba7ef22",
   "metadata": {},
   "outputs": [],
   "source": []
  }
 ],
 "metadata": {
  "kernelspec": {
   "display_name": "Python 3",
   "language": "python",
   "name": "python3"
  },
  "language_info": {
   "codemirror_mode": {
    "name": "ipython",
    "version": 3
   },
   "file_extension": ".py",
   "mimetype": "text/x-python",
   "name": "python",
   "nbconvert_exporter": "python",
   "pygments_lexer": "ipython3",
   "version": "3.9.5"
  }
 },
 "nbformat": 4,
 "nbformat_minor": 5
}
