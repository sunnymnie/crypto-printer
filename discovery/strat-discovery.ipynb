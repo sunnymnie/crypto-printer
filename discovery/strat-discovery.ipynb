{
 "cells": [
  {
   "cell_type": "markdown",
   "id": "c617a859-1f50-4f11-8cff-9ee79341c4e2",
   "metadata": {},
   "source": [
    "# Strat discovery\n",
    "Functionality:\n",
    "- Review constants\n",
    "- Run\n",
    "- Allow saving progress and quitting\n",
    "- End with visualizations and choosing which strats to go"
   ]
  },
  {
   "cell_type": "markdown",
   "id": "faeb6214-951e-447d-a04f-f607ab7f357f",
   "metadata": {},
   "source": [
    "## Imports"
   ]
  },
  {
   "cell_type": "code",
   "execution_count": 1,
   "id": "d69d1769-0ff0-47b0-88c2-495d3043d113",
   "metadata": {},
   "outputs": [],
   "source": [
    "import discovery_downloader as ddl\n",
    "import adf_calculator as adfc\n",
    "import param_discovery as pmd\n",
    "# from datetime import datetime\n",
    "# import numpy as np\n",
    "# import time"
   ]
  },
  {
   "cell_type": "markdown",
   "id": "359a3443-bb18-4550-b1f4-4607126f3de7",
   "metadata": {},
   "source": [
    "## Constants and Paramaters"
   ]
  },
  {
   "cell_type": "code",
   "execution_count": 2,
   "id": "43cdb72e-93b4-41f6-a8cf-410033774faf",
   "metadata": {},
   "outputs": [],
   "source": [
    "## File names\n",
    "PATHNAME = \"../data/strat-discovery/\"\n",
    "HOURPATH = \"../data/hour/\"\n",
    "MINUTEPATH = \"../data/minute/\"\n",
    "ALL_ISOLATED_PAIRS = \"all_isolated_pairs.csv\"\n",
    "ADF_STATS = \"adf_stats.csv\"\n",
    "ADF_STATS_FILTERED = \"adf_stats_filtered.csv\"\n",
    "DOWNLOAD_ORDER = \"download_order.csv\"\n",
    "CURRENT_ADF = \"current_adf.csv\"\n",
    "PAIR_RESULTS = \"results.csv\""
   ]
  },
  {
   "cell_type": "markdown",
   "id": "c78ae0c5-322d-4d13-8001-55c19e5bbcdb",
   "metadata": {},
   "source": [
    "## Get all margin assets on Binance"
   ]
  },
  {
   "cell_type": "code",
   "execution_count": 12,
   "id": "7a0a3de5-2bd3-4d1c-85b9-01eb83e665d7",
   "metadata": {},
   "outputs": [],
   "source": [
    "ddl.download_all_available_margin_assets(PATHNAME, ALL_ISOLATED_PAIRS) #RUNTIME: 1 second"
   ]
  },
  {
   "cell_type": "markdown",
   "id": "5eebd5b0-d8cf-4bfe-a82d-d69e94b55b88",
   "metadata": {},
   "source": [
    "## Download hourly data"
   ]
  },
  {
   "cell_type": "code",
   "execution_count": 3,
   "id": "b91ed282-3e97-48a8-b1c1-dd644b898fc2",
   "metadata": {},
   "outputs": [
    {
     "name": "stdout",
     "output_type": "stream",
     "text": [
      "Operation took 27.74 minutes to download 231 files\n"
     ]
    }
   ],
   "source": [
    "ddl.download_all_hourly_data(PATHNAME, ALL_ISOLATED_PAIRS, HOURPATH)"
   ]
  },
  {
   "cell_type": "markdown",
   "id": "88f28682-675b-4d30-be4c-2752c035ea59",
   "metadata": {},
   "source": [
    "## Compute ADF tests "
   ]
  },
  {
   "cell_type": "code",
   "execution_count": 3,
   "id": "85e661c1-9052-4689-8b82-1eb4b2e7a7f7",
   "metadata": {},
   "outputs": [
    {
     "name": "stdout",
     "output_type": "stream",
     "text": [
      "Operation took 255.86 minutes\n"
     ]
    }
   ],
   "source": [
    "adfc.compute_adf_tests(PATHNAME, HOURPATH, ALL_ISOLATED_PAIRS, ADF_STATS, 10000)"
   ]
  },
  {
   "cell_type": "markdown",
   "id": "054231b6-8603-422b-9b28-a73a3e8a3679",
   "metadata": {},
   "source": [
    "## Get filtered pairs"
   ]
  },
  {
   "cell_type": "code",
   "execution_count": 4,
   "id": "18e02b12-fefa-4b40-a359-b01034f43563",
   "metadata": {},
   "outputs": [],
   "source": [
    "adfc.filter_adf_tests(PATHNAME, ADF_STATS, ADF_STATS_FILTERED, min_h=0, max_p=0.05, sort=\"p\")"
   ]
  },
  {
   "cell_type": "markdown",
   "id": "750e5484-7009-4038-952d-93eb15232cea",
   "metadata": {},
   "source": [
    "## Get download order"
   ]
  },
  {
   "cell_type": "code",
   "execution_count": 3,
   "id": "501a478f-caab-474e-a4e4-203198d0d137",
   "metadata": {},
   "outputs": [],
   "source": [
    "ddl.get_download_order(PATHNAME, ADF_STATS_FILTERED, DOWNLOAD_ORDER)"
   ]
  },
  {
   "cell_type": "markdown",
   "id": "d256d298-5942-438f-8a12-b2815eaef2b4",
   "metadata": {},
   "source": [
    "## Download minutely data in parallel\n",
    "Go to Minute-Downloader and start downloading. Wait until the first two have finished downloadig before proceeding with below\n",
    "\n",
    "http://localhost:8888/lab/tree/discovery/minute-downloader.ipynb"
   ]
  },
  {
   "cell_type": "markdown",
   "id": "eeaa6cbb-78f8-4507-9a4a-667bf25155f5",
   "metadata": {},
   "source": [
    "## Strat searching"
   ]
  },
  {
   "cell_type": "code",
   "execution_count": 3,
   "id": "44946c68-9bbc-41f2-af8f-ac3556c69197",
   "metadata": {},
   "outputs": [],
   "source": [
    "RESTART = False\n",
    "CONTINUE_FROM_LEFT_OFF = True"
   ]
  },
  {
   "cell_type": "code",
   "execution_count": 4,
   "id": "092bbfec-9944-4dc1-b0f1-4bdc1baba680",
   "metadata": {},
   "outputs": [
    {
     "name": "stdout",
     "output_type": "stream",
     "text": [
      "Now doing a: NKNUSDT, b: TRXUSDT\n",
      "Now doing lookback: 4000, thres: 3.0, sell_thres: -0.5, safe to kill kernel\n",
      "Error in processing NKNUSDT and TRXUSDT, kill kernal again to quit\n",
      "Successfully quit\n"
     ]
    }
   ],
   "source": [
    "pmd.brute_force_search(RESTART, CONTINUE_FROM_LEFT_OFF, PATHNAME, \n",
    "                       ADF_STATS_FILTERED, CURRENT_ADF, PAIR_RESULTS)"
   ]
  },
  {
   "cell_type": "markdown",
   "id": "4cec96fc-07a0-4356-a37e-ac2521d95b88",
   "metadata": {},
   "source": [
    "## Analysis"
   ]
  },
  {
   "cell_type": "code",
   "execution_count": 20,
   "id": "8a92759e-bbfd-45af-802b-ad78dce17440",
   "metadata": {},
   "outputs": [],
   "source": [
    "import pandas as pd\n",
    "import numpy as np"
   ]
  },
  {
   "cell_type": "code",
   "execution_count": 21,
   "id": "55844483-850e-453e-baa7-504f75cee0f8",
   "metadata": {},
   "outputs": [],
   "source": [
    "df = pd.read_csv(PATHNAME + ADF_STATS_FILTERED)"
   ]
  },
  {
   "cell_type": "code",
   "execution_count": 24,
   "id": "e4859052-9d53-48eb-9e9d-3aa1112609b6",
   "metadata": {},
   "outputs": [],
   "source": [
    "df = df[100:]"
   ]
  },
  {
   "cell_type": "code",
   "execution_count": 25,
   "id": "e62096e1-19dd-4019-96c3-ffb292dd2b9e",
   "metadata": {},
   "outputs": [
    {
     "data": {
      "text/html": [
       "<div>\n",
       "<style scoped>\n",
       "    .dataframe tbody tr th:only-of-type {\n",
       "        vertical-align: middle;\n",
       "    }\n",
       "\n",
       "    .dataframe tbody tr th {\n",
       "        vertical-align: top;\n",
       "    }\n",
       "\n",
       "    .dataframe thead th {\n",
       "        text-align: right;\n",
       "    }\n",
       "</style>\n",
       "<table border=\"1\" class=\"dataframe\">\n",
       "  <thead>\n",
       "    <tr style=\"text-align: right;\">\n",
       "      <th></th>\n",
       "      <th>A</th>\n",
       "      <th>B</th>\n",
       "      <th>t</th>\n",
       "      <th>p</th>\n",
       "      <th>h</th>\n",
       "    </tr>\n",
       "  </thead>\n",
       "  <tbody>\n",
       "    <tr>\n",
       "      <th>100</th>\n",
       "      <td>MITHUSDT</td>\n",
       "      <td>OGNUSDT</td>\n",
       "      <td>-6.348362</td>\n",
       "      <td>2.774105e-07</td>\n",
       "      <td>50.108144</td>\n",
       "    </tr>\n",
       "    <tr>\n",
       "      <th>101</th>\n",
       "      <td>MTLUSDT</td>\n",
       "      <td>ONGUSDT</td>\n",
       "      <td>-6.342500</td>\n",
       "      <td>2.859457e-07</td>\n",
       "      <td>78.393491</td>\n",
       "    </tr>\n",
       "    <tr>\n",
       "      <th>102</th>\n",
       "      <td>DENTUSDT</td>\n",
       "      <td>MBLUSDT</td>\n",
       "      <td>-6.342336</td>\n",
       "      <td>2.861886e-07</td>\n",
       "      <td>59.123494</td>\n",
       "    </tr>\n",
       "    <tr>\n",
       "      <th>103</th>\n",
       "      <td>ANKRUSDT</td>\n",
       "      <td>MITHUSDT</td>\n",
       "      <td>-6.334893</td>\n",
       "      <td>2.974071e-07</td>\n",
       "      <td>104.863935</td>\n",
       "    </tr>\n",
       "    <tr>\n",
       "      <th>104</th>\n",
       "      <td>CTXCUSDT</td>\n",
       "      <td>TCTUSDT</td>\n",
       "      <td>-6.328173</td>\n",
       "      <td>3.079050e-07</td>\n",
       "      <td>48.885905</td>\n",
       "    </tr>\n",
       "    <tr>\n",
       "      <th>...</th>\n",
       "      <td>...</td>\n",
       "      <td>...</td>\n",
       "      <td>...</td>\n",
       "      <td>...</td>\n",
       "      <td>...</td>\n",
       "    </tr>\n",
       "    <tr>\n",
       "      <th>2574</th>\n",
       "      <td>CTSIUSDT</td>\n",
       "      <td>ZECUSDT</td>\n",
       "      <td>-3.337381</td>\n",
       "      <td>4.979716e-02</td>\n",
       "      <td>168.506946</td>\n",
       "    </tr>\n",
       "    <tr>\n",
       "      <th>2575</th>\n",
       "      <td>CHRUSDT</td>\n",
       "      <td>THETAUSDT</td>\n",
       "      <td>-3.337219</td>\n",
       "      <td>4.981764e-02</td>\n",
       "      <td>225.921638</td>\n",
       "    </tr>\n",
       "    <tr>\n",
       "      <th>2576</th>\n",
       "      <td>BNTUSDT</td>\n",
       "      <td>ONGUSDT</td>\n",
       "      <td>-3.336528</td>\n",
       "      <td>4.990561e-02</td>\n",
       "      <td>131.222281</td>\n",
       "    </tr>\n",
       "    <tr>\n",
       "      <th>2577</th>\n",
       "      <td>REPUSDT</td>\n",
       "      <td>TROYUSDT</td>\n",
       "      <td>-3.336256</td>\n",
       "      <td>4.994012e-02</td>\n",
       "      <td>107.192782</td>\n",
       "    </tr>\n",
       "    <tr>\n",
       "      <th>2578</th>\n",
       "      <td>TFUELUSDT</td>\n",
       "      <td>TRXUSDT</td>\n",
       "      <td>-3.336002</td>\n",
       "      <td>4.997253e-02</td>\n",
       "      <td>539.170191</td>\n",
       "    </tr>\n",
       "  </tbody>\n",
       "</table>\n",
       "<p>2479 rows × 5 columns</p>\n",
       "</div>"
      ],
      "text/plain": [
       "              A          B         t             p           h\n",
       "100    MITHUSDT    OGNUSDT -6.348362  2.774105e-07   50.108144\n",
       "101     MTLUSDT    ONGUSDT -6.342500  2.859457e-07   78.393491\n",
       "102    DENTUSDT    MBLUSDT -6.342336  2.861886e-07   59.123494\n",
       "103    ANKRUSDT   MITHUSDT -6.334893  2.974071e-07  104.863935\n",
       "104    CTXCUSDT    TCTUSDT -6.328173  3.079050e-07   48.885905\n",
       "...         ...        ...       ...           ...         ...\n",
       "2574   CTSIUSDT    ZECUSDT -3.337381  4.979716e-02  168.506946\n",
       "2575    CHRUSDT  THETAUSDT -3.337219  4.981764e-02  225.921638\n",
       "2576    BNTUSDT    ONGUSDT -3.336528  4.990561e-02  131.222281\n",
       "2577    REPUSDT   TROYUSDT -3.336256  4.994012e-02  107.192782\n",
       "2578  TFUELUSDT    TRXUSDT -3.336002  4.997253e-02  539.170191\n",
       "\n",
       "[2479 rows x 5 columns]"
      ]
     },
     "execution_count": 25,
     "metadata": {},
     "output_type": "execute_result"
    }
   ],
   "source": [
    "df"
   ]
  },
  {
   "cell_type": "code",
   "execution_count": 26,
   "id": "acd3f804-c666-4c8a-bc2b-103bbbb185c8",
   "metadata": {},
   "outputs": [],
   "source": [
    "df.reset_index(inplace=True, drop=True)"
   ]
  },
  {
   "cell_type": "code",
   "execution_count": 27,
   "id": "348ad8e3-544a-48f5-9914-3682fca3cb19",
   "metadata": {},
   "outputs": [
    {
     "data": {
      "text/html": [
       "<div>\n",
       "<style scoped>\n",
       "    .dataframe tbody tr th:only-of-type {\n",
       "        vertical-align: middle;\n",
       "    }\n",
       "\n",
       "    .dataframe tbody tr th {\n",
       "        vertical-align: top;\n",
       "    }\n",
       "\n",
       "    .dataframe thead th {\n",
       "        text-align: right;\n",
       "    }\n",
       "</style>\n",
       "<table border=\"1\" class=\"dataframe\">\n",
       "  <thead>\n",
       "    <tr style=\"text-align: right;\">\n",
       "      <th></th>\n",
       "      <th>A</th>\n",
       "      <th>B</th>\n",
       "      <th>t</th>\n",
       "      <th>p</th>\n",
       "      <th>h</th>\n",
       "    </tr>\n",
       "  </thead>\n",
       "  <tbody>\n",
       "    <tr>\n",
       "      <th>0</th>\n",
       "      <td>MITHUSDT</td>\n",
       "      <td>OGNUSDT</td>\n",
       "      <td>-6.348362</td>\n",
       "      <td>2.774105e-07</td>\n",
       "      <td>50.108144</td>\n",
       "    </tr>\n",
       "    <tr>\n",
       "      <th>1</th>\n",
       "      <td>MTLUSDT</td>\n",
       "      <td>ONGUSDT</td>\n",
       "      <td>-6.342500</td>\n",
       "      <td>2.859457e-07</td>\n",
       "      <td>78.393491</td>\n",
       "    </tr>\n",
       "    <tr>\n",
       "      <th>2</th>\n",
       "      <td>DENTUSDT</td>\n",
       "      <td>MBLUSDT</td>\n",
       "      <td>-6.342336</td>\n",
       "      <td>2.861886e-07</td>\n",
       "      <td>59.123494</td>\n",
       "    </tr>\n",
       "    <tr>\n",
       "      <th>3</th>\n",
       "      <td>ANKRUSDT</td>\n",
       "      <td>MITHUSDT</td>\n",
       "      <td>-6.334893</td>\n",
       "      <td>2.974071e-07</td>\n",
       "      <td>104.863935</td>\n",
       "    </tr>\n",
       "    <tr>\n",
       "      <th>4</th>\n",
       "      <td>CTXCUSDT</td>\n",
       "      <td>TCTUSDT</td>\n",
       "      <td>-6.328173</td>\n",
       "      <td>3.079050e-07</td>\n",
       "      <td>48.885905</td>\n",
       "    </tr>\n",
       "    <tr>\n",
       "      <th>...</th>\n",
       "      <td>...</td>\n",
       "      <td>...</td>\n",
       "      <td>...</td>\n",
       "      <td>...</td>\n",
       "      <td>...</td>\n",
       "    </tr>\n",
       "    <tr>\n",
       "      <th>2474</th>\n",
       "      <td>CTSIUSDT</td>\n",
       "      <td>ZECUSDT</td>\n",
       "      <td>-3.337381</td>\n",
       "      <td>4.979716e-02</td>\n",
       "      <td>168.506946</td>\n",
       "    </tr>\n",
       "    <tr>\n",
       "      <th>2475</th>\n",
       "      <td>CHRUSDT</td>\n",
       "      <td>THETAUSDT</td>\n",
       "      <td>-3.337219</td>\n",
       "      <td>4.981764e-02</td>\n",
       "      <td>225.921638</td>\n",
       "    </tr>\n",
       "    <tr>\n",
       "      <th>2476</th>\n",
       "      <td>BNTUSDT</td>\n",
       "      <td>ONGUSDT</td>\n",
       "      <td>-3.336528</td>\n",
       "      <td>4.990561e-02</td>\n",
       "      <td>131.222281</td>\n",
       "    </tr>\n",
       "    <tr>\n",
       "      <th>2477</th>\n",
       "      <td>REPUSDT</td>\n",
       "      <td>TROYUSDT</td>\n",
       "      <td>-3.336256</td>\n",
       "      <td>4.994012e-02</td>\n",
       "      <td>107.192782</td>\n",
       "    </tr>\n",
       "    <tr>\n",
       "      <th>2478</th>\n",
       "      <td>TFUELUSDT</td>\n",
       "      <td>TRXUSDT</td>\n",
       "      <td>-3.336002</td>\n",
       "      <td>4.997253e-02</td>\n",
       "      <td>539.170191</td>\n",
       "    </tr>\n",
       "  </tbody>\n",
       "</table>\n",
       "<p>2479 rows × 5 columns</p>\n",
       "</div>"
      ],
      "text/plain": [
       "              A          B         t             p           h\n",
       "0      MITHUSDT    OGNUSDT -6.348362  2.774105e-07   50.108144\n",
       "1       MTLUSDT    ONGUSDT -6.342500  2.859457e-07   78.393491\n",
       "2      DENTUSDT    MBLUSDT -6.342336  2.861886e-07   59.123494\n",
       "3      ANKRUSDT   MITHUSDT -6.334893  2.974071e-07  104.863935\n",
       "4      CTXCUSDT    TCTUSDT -6.328173  3.079050e-07   48.885905\n",
       "...         ...        ...       ...           ...         ...\n",
       "2474   CTSIUSDT    ZECUSDT -3.337381  4.979716e-02  168.506946\n",
       "2475    CHRUSDT  THETAUSDT -3.337219  4.981764e-02  225.921638\n",
       "2476    BNTUSDT    ONGUSDT -3.336528  4.990561e-02  131.222281\n",
       "2477    REPUSDT   TROYUSDT -3.336256  4.994012e-02  107.192782\n",
       "2478  TFUELUSDT    TRXUSDT -3.336002  4.997253e-02  539.170191\n",
       "\n",
       "[2479 rows x 5 columns]"
      ]
     },
     "execution_count": 27,
     "metadata": {},
     "output_type": "execute_result"
    }
   ],
   "source": [
    "df"
   ]
  },
  {
   "cell_type": "code",
   "execution_count": 72,
   "id": "20b0b5eb-0bda-479a-a199-86e08165a846",
   "metadata": {},
   "outputs": [],
   "source": [
    "def get_download_order(pathname, adf_stat, filename):\n",
    "    \"\"\"saves the download order\"\"\"\n",
    "    df = pd.read_csv(pathname + adf_stat)\n",
    "    symbols = []\n",
    "    for row in range(df.shape[0]):\n",
    "        symbols.append(df.iloc[row].A)\n",
    "        symbols.append(df.iloc[row].B)\n",
    "\n",
    "    seen = set()\n",
    "    seen_add = seen.add\n",
    "    symbols = [x for x in symbols if not (x in seen or seen_add(x))]\n",
    "    pd.Series(symbols).to_csv(pathname + filename, index=False)\n"
   ]
  },
  {
   "cell_type": "code",
   "execution_count": 68,
   "id": "b8c3971f-75cf-497d-9ad7-546cc8395647",
   "metadata": {},
   "outputs": [],
   "source": []
  },
  {
   "cell_type": "code",
   "execution_count": 74,
   "id": "a4db8ccb-ae3f-4dcd-b2b2-14b862de3767",
   "metadata": {},
   "outputs": [
    {
     "data": {
      "text/plain": [
       "103"
      ]
     },
     "execution_count": 74,
     "metadata": {},
     "output_type": "execute_result"
    }
   ],
   "source": [
    "len(symbols)"
   ]
  },
  {
   "cell_type": "code",
   "execution_count": 71,
   "id": "1d0dd096-dc6d-4f40-82b3-9c712a586bb4",
   "metadata": {},
   "outputs": [
    {
     "data": {
      "text/plain": [
       "['DREPUSDT',\n",
       " 'WINUSDT',\n",
       " 'HOTUSDT',\n",
       " 'MTLUSDT',\n",
       " 'NKNUSDT',\n",
       " 'ANKRUSDT',\n",
       " 'WRXUSDT',\n",
       " 'BTTUSDT',\n",
       " 'OGNUSDT',\n",
       " 'GTOUSDT',\n",
       " 'CELRUSDT',\n",
       " 'NPXSUSDT',\n",
       " 'BTSUSDT',\n",
       " 'CTXCUSDT',\n",
       " 'CHZUSDT',\n",
       " 'ENJUSDT',\n",
       " 'MITHUSDT',\n",
       " 'ETCUSDT',\n",
       " 'RLCUSDT',\n",
       " 'BNBUSDT',\n",
       " 'VETUSDT',\n",
       " 'ONEUSDT',\n",
       " 'TFUELUSDT',\n",
       " 'WANUSDT',\n",
       " 'DOGEUSDT',\n",
       " 'LSKUSDT',\n",
       " 'TCTUSDT',\n",
       " 'FETUSDT',\n",
       " 'STPTUSDT',\n",
       " 'BATUSDT',\n",
       " 'WTCUSDT',\n",
       " 'CTSIUSDT',\n",
       " 'KEYUSDT',\n",
       " 'AIONUSDT',\n",
       " 'IOSTUSDT',\n",
       " 'IOTAUSDT',\n",
       " 'COCOSUSDT',\n",
       " 'MFTUSDT',\n",
       " 'KNCUSDT',\n",
       " 'QTUMUSDT',\n",
       " 'TRXUSDT',\n",
       " 'THETAUSDT',\n",
       " 'ARDRUSDT',\n",
       " 'TROYUSDT',\n",
       " 'ICXUSDT',\n",
       " 'ZRXUSDT',\n",
       " 'VITEUSDT',\n",
       " 'CVCUSDT',\n",
       " 'ARPAUSDT',\n",
       " 'NANOUSDT',\n",
       " 'XRPUSDT',\n",
       " 'NULSUSDT',\n",
       " 'HIVEUSDT',\n",
       " 'MATICUSDT',\n",
       " 'DENTUSDT',\n",
       " 'HBARUSDT',\n",
       " 'ONGUSDT',\n",
       " 'MBLUSDT',\n",
       " 'STMXUSDT',\n",
       " 'BEAMUSDT',\n",
       " 'ATOMUSDT',\n",
       " 'FTMUSDT',\n",
       " 'IOTXUSDT',\n",
       " 'DUSKUSDT',\n",
       " 'XLMUSDT',\n",
       " 'EOSUSDT',\n",
       " 'ETHUSDT',\n",
       " 'PERLUSDT',\n",
       " 'COSUSDT',\n",
       " 'REPUSDT',\n",
       " 'DOCKUSDT',\n",
       " 'DASHUSDT',\n",
       " 'NEOUSDT',\n",
       " 'XMRUSDT',\n",
       " 'LTOUSDT',\n",
       " 'MDTUSDT',\n",
       " 'XTZUSDT',\n",
       " 'STXUSDT',\n",
       " 'ADAUSDT',\n",
       " 'WAVESUSDT',\n",
       " 'DATAUSDT',\n",
       " 'ONTUSDT',\n",
       " 'FUNUSDT',\n",
       " 'ZILUSDT',\n",
       " 'FTTUSDT',\n",
       " 'PNTUSDT',\n",
       " 'COTIUSDT',\n",
       " 'ALGOUSDT',\n",
       " 'ZECUSDT',\n",
       " 'RVNUSDT',\n",
       " 'BCHUSDT',\n",
       " 'LTCUSDT',\n",
       " 'BTCUSDT',\n",
       " 'OMGUSDT',\n",
       " 'CHRUSDT',\n",
       " 'BNTUSDT',\n",
       " 'LINKUSDT',\n",
       " 'TOMOUSDT',\n",
       " 'GXSUSDT',\n",
       " 'KAVAUSDT',\n",
       " 'LRCUSDT',\n",
       " 'RENUSDT',\n",
       " 'BANDUSDT']"
      ]
     },
     "execution_count": 71,
     "metadata": {},
     "output_type": "execute_result"
    }
   ],
   "source": [
    "d"
   ]
  },
  {
   "cell_type": "code",
   "execution_count": 31,
   "id": "fe7bdfd7-26a0-4c30-bbaa-38f80708ed5c",
   "metadata": {},
   "outputs": [
    {
     "data": {
      "text/plain": [
       "25.0"
      ]
     },
     "execution_count": 31,
     "metadata": {},
     "output_type": "execute_result"
    }
   ],
   "source": [
    "150*10/60"
   ]
  },
  {
   "cell_type": "code",
   "execution_count": null,
   "id": "dd60766e-c080-4317-b6c3-cb2025904b47",
   "metadata": {},
   "outputs": [],
   "source": []
  }
 ],
 "metadata": {
  "kernelspec": {
   "display_name": "Python 3",
   "language": "python",
   "name": "python3"
  },
  "language_info": {
   "codemirror_mode": {
    "name": "ipython",
    "version": 3
   },
   "file_extension": ".py",
   "mimetype": "text/x-python",
   "name": "python",
   "nbconvert_exporter": "python",
   "pygments_lexer": "ipython3",
   "version": "3.9.5"
  }
 },
 "nbformat": 4,
 "nbformat_minor": 5
}
