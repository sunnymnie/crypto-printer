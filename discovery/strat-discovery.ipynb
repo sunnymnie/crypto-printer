{
 "cells": [
  {
   "cell_type": "markdown",
   "id": "c617a859-1f50-4f11-8cff-9ee79341c4e2",
   "metadata": {},
   "source": [
    "# Strat discovery\n",
    "Functionality:\n",
    "- Review constants\n",
    "- Run\n",
    "- Allow saving progress and quitting\n",
    "- End with visualizations and choosing which strats to go"
   ]
  },
  {
   "cell_type": "markdown",
   "id": "faeb6214-951e-447d-a04f-f607ab7f357f",
   "metadata": {},
   "source": [
    "## Imports"
   ]
  },
  {
   "cell_type": "code",
   "execution_count": 1,
   "id": "d69d1769-0ff0-47b0-88c2-495d3043d113",
   "metadata": {},
   "outputs": [],
   "source": [
    "import discovery_downloader as ddl\n",
    "import adf_calculator as adfc\n",
    "# from datetime import datetime\n",
    "# import numpy as np\n",
    "# import time"
   ]
  },
  {
   "cell_type": "markdown",
   "id": "359a3443-bb18-4550-b1f4-4607126f3de7",
   "metadata": {},
   "source": [
    "## Constants and Paramaters"
   ]
  },
  {
   "cell_type": "code",
   "execution_count": 10,
   "id": "5889fb15-e392-4226-9ed2-22c3a9b643a6",
   "metadata": {},
   "outputs": [],
   "source": [
    "RESUME = True #If false, then restart, else use current progress"
   ]
  },
  {
   "cell_type": "code",
   "execution_count": 2,
   "id": "43cdb72e-93b4-41f6-a8cf-410033774faf",
   "metadata": {},
   "outputs": [],
   "source": [
    "## File names\n",
    "PATHNAME = \"../data/strat-discovery/\"\n",
    "HOURPATH = \"../data/hour/\"\n",
    "MINUTEPATH = \"../data/minute/\"\n",
    "ALL_ISOLATED_PAIRS = \"all_isolated_pairs.csv\"\n",
    "ADF_STATS = \"adf_stats.csv\""
   ]
  },
  {
   "cell_type": "markdown",
   "id": "c78ae0c5-322d-4d13-8001-55c19e5bbcdb",
   "metadata": {},
   "source": [
    "## Get all margin assets on Binance"
   ]
  },
  {
   "cell_type": "code",
   "execution_count": 12,
   "id": "7a0a3de5-2bd3-4d1c-85b9-01eb83e665d7",
   "metadata": {},
   "outputs": [],
   "source": [
    "ddl.download_all_available_margin_assets(PATHNAME, ALL_ISOLATED_PAIRS) #RUNTIME: 1 second"
   ]
  },
  {
   "cell_type": "markdown",
   "id": "5eebd5b0-d8cf-4bfe-a82d-d69e94b55b88",
   "metadata": {},
   "source": [
    "## Download hourly data"
   ]
  },
  {
   "cell_type": "code",
   "execution_count": 3,
   "id": "b91ed282-3e97-48a8-b1c1-dd644b898fc2",
   "metadata": {},
   "outputs": [
    {
     "name": "stdout",
     "output_type": "stream",
     "text": [
      "Operation took 27.74 minutes to download 231 files\n"
     ]
    }
   ],
   "source": [
    "ddl.download_all_hourly_data(PATHNAME, ALL_ISOLATED_PAIRS, HOURPATH)"
   ]
  },
  {
   "cell_type": "markdown",
   "id": "88f28682-675b-4d30-be4c-2752c035ea59",
   "metadata": {},
   "source": [
    "## Compute ADF tests "
   ]
  },
  {
   "cell_type": "code",
   "execution_count": null,
   "id": "85e661c1-9052-4689-8b82-1eb4b2e7a7f7",
   "metadata": {},
   "outputs": [],
   "source": [
    "adfc.compute_adf_tests(PATHNAME, HOURPATH, ALL_ISOLATED_PAIRS, ADF_STATS, 10000)"
   ]
  },
  {
   "cell_type": "markdown",
   "id": "eeaa6cbb-78f8-4507-9a4a-667bf25155f5",
   "metadata": {},
   "source": [
    "## Strat searching"
   ]
  },
  {
   "cell_type": "code",
   "execution_count": null,
   "id": "8a92759e-bbfd-45af-802b-ad78dce17440",
   "metadata": {},
   "outputs": [],
   "source": []
  }
 ],
 "metadata": {
  "kernelspec": {
   "display_name": "Python 3",
   "language": "python",
   "name": "python3"
  },
  "language_info": {
   "codemirror_mode": {
    "name": "ipython",
    "version": 3
   },
   "file_extension": ".py",
   "mimetype": "text/x-python",
   "name": "python",
   "nbconvert_exporter": "python",
   "pygments_lexer": "ipython3",
   "version": "3.9.5"
  }
 },
 "nbformat": 4,
 "nbformat_minor": 5
}
