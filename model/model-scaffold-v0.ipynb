{
 "cells": [
  {
   "cell_type": "markdown",
   "id": "4215a6ed-7880-4f18-9bc7-23c4d3123407",
   "metadata": {},
   "source": [
    "# Model scaffold v0\n",
    "Heavily based off of prototype"
   ]
  },
  {
   "cell_type": "code",
   "execution_count": 1,
   "id": "8bd68566-d19c-4e04-b9c2-2e847b5989be",
   "metadata": {},
   "outputs": [],
   "source": [
    "# Imports\n",
    "from binance.client import Client\n",
    "from binance.enums import * #https://github.com/sammchardy/python-binance/blob/master/binance/enums.py\n",
    "\n",
    "# import schedule\n",
    "import time\n",
    "from datetime import datetime, timedelta\n",
    "\n",
    "import statsmodels.formula.api as sm\n",
    "import matplotlib.pyplot as plt\n",
    "import pandas as pd\n",
    "import numpy as np\n",
    "\n",
    "# python files\n",
    "from keys import key\n",
    "from components import Downloader, Magic\n",
    "import binance_helpers as bh\n",
    "\n",
    "from IPython.display import clear_output\n",
    "\n",
    "client = bh.new_binance_client()\n",
    "\n",
    "mode = 2"
   ]
  },
  {
   "cell_type": "code",
   "execution_count": 2,
   "id": "72da422c-e575-41d7-b885-26584563412f",
   "metadata": {},
   "outputs": [],
   "source": [
    "dl = Downloader(client, \"../data/model/\")"
   ]
  },
  {
   "cell_type": "code",
   "execution_count": 3,
   "id": "9a862316-0cbe-4db0-8a84-372e2f56cec2",
   "metadata": {},
   "outputs": [],
   "source": [
    "df = dl.get_minutely_data(\"ICPUSDT\")"
   ]
  },
  {
   "cell_type": "code",
   "execution_count": 4,
   "id": "ba27b9c3-1be6-40cb-b327-d83eebfe34f7",
   "metadata": {},
   "outputs": [],
   "source": [
    "dl.save_df(df, \"ICPUSDT\")"
   ]
  },
  {
   "cell_type": "code",
   "execution_count": 6,
   "id": "c3fdecd3-f189-4060-ad7f-2bf868174d40",
   "metadata": {},
   "outputs": [],
   "source": [
    "dl = Downloader(client, \"../data/model/\")\n",
    "df_a = dl.get_minutely_data(\"FETUSDT\")\n",
    "dl.save_df(df, \"FETUSDT\")"
   ]
  },
  {
   "cell_type": "code",
   "execution_count": 7,
   "id": "7d3da572-8bba-427a-bed8-e0529c6926af",
   "metadata": {},
   "outputs": [],
   "source": [
    "dl = Downloader(client, \"../data/model/\")\n",
    "df = dl.get_minutely_data(\"CELRUSDT\")\n",
    "dl.save_df(df, \"CELRUSDT\")"
   ]
  },
  {
   "cell_type": "code",
   "execution_count": 8,
   "id": "6cbbeaf6-6bf8-4880-a69a-63b60ac29c84",
   "metadata": {},
   "outputs": [],
   "source": [
    "m = Magic(4000)"
   ]
  },
  {
   "cell_type": "code",
   "execution_count": 12,
   "id": "94792f70-8d57-4475-9a99-78189bc2bf93",
   "metadata": {},
   "outputs": [
    {
     "data": {
      "text/plain": [
       "4.0957770347595215"
      ]
     },
     "execution_count": 12,
     "metadata": {},
     "output_type": "execute_result"
    }
   ],
   "source": [
    "start = time.time()\n",
    "df_b = dl.get_minutely_data(\"FETUSDT\")\n",
    "df_a = dl.get_minutely_data(\"CELRUSDT\")\n",
    "z = m.get_z_score(df_a, df_b)\n",
    "# dl.save_df(df_b, \"FETUDST\")\n",
    "# dl.save_df(df_a, \"CELRUSDT\")\n",
    "time.time() - start"
   ]
  },
  {
   "cell_type": "code",
   "execution_count": 4,
   "id": "3175d297-69fa-4767-9ca7-4a041ebd585b",
   "metadata": {},
   "outputs": [],
   "source": [
    "df_a = dl.read_df(\"CELRUSDT\")"
   ]
  },
  {
   "cell_type": "code",
   "execution_count": 23,
   "id": "cc1eb288-bac0-4d2f-92f6-62461c214d3c",
   "metadata": {},
   "outputs": [],
   "source": [
    "m = Magic(4000)"
   ]
  },
  {
   "cell_type": "code",
   "execution_count": 11,
   "id": "40195a8e-b18b-4161-ac28-dd5fc1ea0f46",
   "metadata": {},
   "outputs": [
    {
     "data": {
      "text/plain": [
       "1.4940381050109863"
      ]
     },
     "execution_count": 11,
     "metadata": {},
     "output_type": "execute_result"
    }
   ],
   "source": [
    "start = time.time()\n",
    "z = m.get_z_score(df_a, df_b)\n",
    "time.time() - start"
   ]
  },
  {
   "cell_type": "code",
   "execution_count": 25,
   "id": "63c309f3-f8be-4965-b311-ba72eb1cdb29",
   "metadata": {},
   "outputs": [
    {
     "data": {
      "text/plain": [
       "-1.817757832127045"
      ]
     },
     "execution_count": 25,
     "metadata": {},
     "output_type": "execute_result"
    }
   ],
   "source": [
    "z"
   ]
  },
  {
   "cell_type": "code",
   "execution_count": 82,
   "id": "8f025d45-5db2-46dc-bd8a-1799dbc5df23",
   "metadata": {},
   "outputs": [],
   "source": [
    "df_past = df[:-2]\n",
    "df_now = df[-4:]"
   ]
  },
  {
   "cell_type": "code",
   "execution_count": 83,
   "id": "9e41a4d3-6683-44ec-a0b1-2dcfdf5f6ff5",
   "metadata": {},
   "outputs": [],
   "source": [
    "df = df_past[df_past.timestamp < df_now.iloc[0].timestamp]"
   ]
  },
  {
   "cell_type": "code",
   "execution_count": 84,
   "id": "260f0f1a-551b-4ccf-a635-bd443ef90b00",
   "metadata": {},
   "outputs": [],
   "source": [
    "df = df.append(df_now, ignore_index=True)"
   ]
  },
  {
   "cell_type": "code",
   "execution_count": 86,
   "id": "1b172a36-4621-4ec5-a8f5-c3a139c2a19d",
   "metadata": {},
   "outputs": [
    {
     "data": {
      "text/plain": [
       "1627577640000.0"
      ]
     },
     "execution_count": 86,
     "metadata": {},
     "output_type": "execute_result"
    }
   ],
   "source": [
    "df.iloc[-1].timestamp"
   ]
  },
  {
   "cell_type": "code",
   "execution_count": 4,
   "id": "b358b6e4-ba2e-4366-9b06-26acab67d515",
   "metadata": {},
   "outputs": [
    {
     "data": {
      "text/plain": [
       "1627577640000.0"
      ]
     },
     "execution_count": 4,
     "metadata": {},
     "output_type": "execute_result"
    }
   ],
   "source": [
    "df.iloc[-1].timestamp"
   ]
  },
  {
   "cell_type": "code",
   "execution_count": null,
   "id": "145ccffa-3212-4ace-a26a-ed4904b63443",
   "metadata": {},
   "outputs": [],
   "source": [
    "def get_z_score(pair:str):\n",
    "    \"\"\"Returns the latest zscore + update or downloads all necessary files\"\"\"\n",
    "    "
   ]
  },
  {
   "cell_type": "code",
   "execution_count": 15,
   "id": "ade31096-b1c5-4e35-b047-5448cf4b7834",
   "metadata": {},
   "outputs": [
    {
     "data": {
      "text/plain": [
       "datetime.datetime(2021, 8, 4, 4, 9)"
      ]
     },
     "execution_count": 15,
     "metadata": {},
     "output_type": "execute_result"
    }
   ],
   "source": [
    "datetime.utcfromtimestamp(1628050140000.0/1000)"
   ]
  },
  {
   "cell_type": "code",
   "execution_count": 5,
   "id": "7fbf177d-20e8-4597-8a69-1a7d4d0601fa",
   "metadata": {},
   "outputs": [
    {
     "data": {
      "text/plain": [
       "datetime.datetime(2021, 8, 4, 2, 6, 20, 882577)"
      ]
     },
     "execution_count": 5,
     "metadata": {},
     "output_type": "execute_result"
    }
   ],
   "source": [
    "datetime.utcnow()"
   ]
  },
  {
   "cell_type": "code",
   "execution_count": 6,
   "id": "b92a8c29-6e30-4ffe-ae72-86f32591a6d7",
   "metadata": {},
   "outputs": [],
   "source": [
    "period = datetime.utcnow() - datetime.utcfromtimestamp(1627577640000.0/1000)"
   ]
  },
  {
   "cell_type": "code",
   "execution_count": null,
   "id": "1e19dd69-0ed2-47a2-b16f-6e9f4c644cce",
   "metadata": {},
   "outputs": [],
   "source": [
    "datetime"
   ]
  },
  {
   "cell_type": "code",
   "execution_count": 59,
   "id": "3c206ab8-8d10-4b15-ade5-2c42f62c981d",
   "metadata": {},
   "outputs": [
    {
     "data": {
      "text/plain": [
       "6208"
      ]
     },
     "execution_count": 59,
     "metadata": {},
     "output_type": "execute_result"
    }
   ],
   "source": [
    "math.ceil((period.days*24*60*60 + period.seconds)/60)"
   ]
  },
  {
   "cell_type": "code",
   "execution_count": 70,
   "id": "ca9af3fb-5c23-47a0-92ca-58ef20ba2f56",
   "metadata": {},
   "outputs": [],
   "source": [
    "period += timedelta(seconds=3600)"
   ]
  },
  {
   "cell_type": "code",
   "execution_count": 71,
   "id": "e2479f34-6ec4-4dbc-87f8-eaeddfa0b9c0",
   "metadata": {},
   "outputs": [
    {
     "data": {
      "text/plain": [
       "datetime.timedelta(days=4, seconds=34033, microseconds=768942)"
      ]
     },
     "execution_count": 71,
     "metadata": {},
     "output_type": "execute_result"
    }
   ],
   "source": [
    "period"
   ]
  },
  {
   "cell_type": "code",
   "execution_count": 27,
   "id": "423a8a30-adb3-48d6-896c-1d774435b048",
   "metadata": {},
   "outputs": [],
   "source": [
    "date = datetime.utcfromtimestamp(1000000000000.0/1000)"
   ]
  },
  {
   "cell_type": "code",
   "execution_count": 28,
   "id": "553ddc2a-57ac-4774-9d19-b06cfb075f15",
   "metadata": {},
   "outputs": [
    {
     "data": {
      "text/plain": [
       "'09 Sep 2001 01:46:40'"
      ]
     },
     "execution_count": 28,
     "metadata": {},
     "output_type": "execute_result"
    }
   ],
   "source": [
    "date.strftime(\"%d %b %Y %H:%M:%S\")"
   ]
  },
  {
   "cell_type": "code",
   "execution_count": 4,
   "id": "6bbc4f09-7f81-4a3b-97c3-203891f75a75",
   "metadata": {},
   "outputs": [
    {
     "data": {
      "text/plain": [
       "'01 Jan 1980 00:00:00'"
      ]
     },
     "execution_count": 4,
     "metadata": {},
     "output_type": "execute_result"
    }
   ],
   "source": [
    "datetime.strptime(\"1 Jan 1980\", '%d %b %Y').strftime(\"%d %b %Y %H:%M:%S\")"
   ]
  },
  {
   "cell_type": "code",
   "execution_count": 38,
   "id": "01e1db2d-3f39-4f1c-b61e-aca02dc1baff",
   "metadata": {},
   "outputs": [],
   "source": [
    "test() if 3>4 else None"
   ]
  },
  {
   "cell_type": "code",
   "execution_count": 106,
   "id": "dfe1d3e4-ac6c-40ec-8aad-8321208c8b8c",
   "metadata": {},
   "outputs": [],
   "source": [
    "df = pd.DataFrame({\"A\":[0, 1], \"B\":[2, 3]})"
   ]
  },
  {
   "cell_type": "code",
   "execution_count": 107,
   "id": "bc0c956e-dc79-4029-9f85-89c41db97d77",
   "metadata": {},
   "outputs": [],
   "source": [
    "def test(d):\n",
    "    d = d.set_index(\"B\")\n",
    "    return d"
   ]
  },
  {
   "cell_type": "code",
   "execution_count": 111,
   "id": "37e949a6-3cb6-4975-a1af-432586b0c1da",
   "metadata": {},
   "outputs": [
    {
     "data": {
      "text/html": [
       "<div>\n",
       "<style scoped>\n",
       "    .dataframe tbody tr th:only-of-type {\n",
       "        vertical-align: middle;\n",
       "    }\n",
       "\n",
       "    .dataframe tbody tr th {\n",
       "        vertical-align: top;\n",
       "    }\n",
       "\n",
       "    .dataframe thead th {\n",
       "        text-align: right;\n",
       "    }\n",
       "</style>\n",
       "<table border=\"1\" class=\"dataframe\">\n",
       "  <thead>\n",
       "    <tr style=\"text-align: right;\">\n",
       "      <th></th>\n",
       "      <th>A</th>\n",
       "      <th>B</th>\n",
       "    </tr>\n",
       "  </thead>\n",
       "  <tbody>\n",
       "    <tr>\n",
       "      <th>0</th>\n",
       "      <td>0</td>\n",
       "      <td>2</td>\n",
       "    </tr>\n",
       "    <tr>\n",
       "      <th>1</th>\n",
       "      <td>1</td>\n",
       "      <td>3</td>\n",
       "    </tr>\n",
       "  </tbody>\n",
       "</table>\n",
       "</div>"
      ],
      "text/plain": [
       "   A  B\n",
       "0  0  2\n",
       "1  1  3"
      ]
     },
     "execution_count": 111,
     "metadata": {},
     "output_type": "execute_result"
    }
   ],
   "source": [
    "df"
   ]
  },
  {
   "cell_type": "code",
   "execution_count": 29,
   "id": "07532445-63fd-4c11-abb7-e8326a58f691",
   "metadata": {},
   "outputs": [],
   "source": [
    "def test():\n",
    "    print(\"Hi\")"
   ]
  },
  {
   "cell_type": "code",
   "execution_count": 32,
   "id": "5d14bf1b-e965-46d2-809c-020cdcffc7ee",
   "metadata": {},
   "outputs": [
    {
     "name": "stdout",
     "output_type": "stream",
     "text": [
      "bye\n"
     ]
    }
   ],
   "source": [
    "test() if 1>2 else print(\"bye\")"
   ]
  },
  {
   "cell_type": "code",
   "execution_count": 47,
   "id": "5f29bf53-4cef-4ede-a1db-5d825b2f850b",
   "metadata": {},
   "outputs": [],
   "source": [
    "class test:\n",
    "    def __init__(self, a):\n",
    "        self.a = a\n",
    "    def test1(self):\n",
    "        return self.test2(self.a)\n",
    "    def test2(self, a):\n",
    "        return a"
   ]
  },
  {
   "cell_type": "code",
   "execution_count": 48,
   "id": "7cab20ff-a017-4dc7-827b-1ba4db3af7dd",
   "metadata": {},
   "outputs": [],
   "source": [
    "test = test(3)"
   ]
  },
  {
   "cell_type": "code",
   "execution_count": 49,
   "id": "1231c9c9-76b8-4392-9935-d0fe97d64f42",
   "metadata": {},
   "outputs": [
    {
     "data": {
      "text/plain": [
       "3"
      ]
     },
     "execution_count": 49,
     "metadata": {},
     "output_type": "execute_result"
    }
   ],
   "source": [
    "test.test1()"
   ]
  },
  {
   "cell_type": "code",
   "execution_count": 24,
   "id": "8f549157-76c6-4379-a64b-2ad6917bcf44",
   "metadata": {},
   "outputs": [
    {
     "data": {
      "text/plain": [
       "'1m'"
      ]
     },
     "execution_count": 24,
     "metadata": {},
     "output_type": "execute_result"
    }
   ],
   "source": [
    "client.KLINE_INTERVAL_1MINUTE"
   ]
  },
  {
   "cell_type": "code",
   "execution_count": 18,
   "id": "66267dd2-e865-48c4-bfb9-219c94a91068",
   "metadata": {},
   "outputs": [
    {
     "data": {
      "text/plain": [
       "0.0001468658447265625"
      ]
     },
     "execution_count": 18,
     "metadata": {},
     "output_type": "execute_result"
    }
   ],
   "source": [
    "start = time.time()\n",
    "d = Downloader(client, \"../data/\")\n",
    "time.time()-start"
   ]
  },
  {
   "cell_type": "code",
   "execution_count": 19,
   "id": "02eb5b2f-77e9-4dbd-b4ff-9ecd3d4468e9",
   "metadata": {},
   "outputs": [
    {
     "name": "stdout",
     "output_type": "stream",
     "text": [
      "../data/\n"
     ]
    }
   ],
   "source": [
    "d.test()"
   ]
  },
  {
   "cell_type": "code",
   "execution_count": null,
   "id": "3f22f5d8-4d2b-4cb1-aca5-2464e01534e3",
   "metadata": {},
   "outputs": [],
   "source": []
  },
  {
   "cell_type": "code",
   "execution_count": 2,
   "id": "85cf584a-4c29-46ea-a245-e45ddc719c7a",
   "metadata": {},
   "outputs": [
    {
     "data": {
      "text/plain": [
       "39668.85"
      ]
     },
     "execution_count": 2,
     "metadata": {},
     "output_type": "execute_result"
    }
   ],
   "source": [
    "bh.get_price(client, \"BTCUSDT\")"
   ]
  },
  {
   "cell_type": "code",
   "execution_count": 3,
   "id": "cab91705-423a-4361-b6b9-3a0b133a3bc1",
   "metadata": {},
   "outputs": [
    {
     "data": {
      "text/plain": [
       "0.37812"
      ]
     },
     "execution_count": 3,
     "metadata": {},
     "output_type": "execute_result"
    }
   ],
   "source": [
    "bh.trade_amt(client, \"BTC\", 15000, 5)"
   ]
  },
  {
   "cell_type": "code",
   "execution_count": 2,
   "id": "042186c8-292d-43f1-9188-b1069feec99e",
   "metadata": {},
   "outputs": [],
   "source": [
    "## Constants\n",
    "ASSET_A = \"CELR\"\n",
    "ASSET_B = \"FET\"\n",
    "BASE = \"USDT\"\n",
    "LOOKBACK = 4000 #1800\n",
    "THRES = 1.\n",
    "SELL_THRES = 1."
   ]
  },
  {
   "cell_type": "code",
   "execution_count": 3,
   "id": "d4906152-d5b1-4e61-b911-d73628e20fc7",
   "metadata": {},
   "outputs": [
    {
     "data": {
      "text/plain": [
       "{'asset': 'FET',\n",
       " 'borrowEnabled': True,\n",
       " 'borrowed': '0',\n",
       " 'free': '0.14289781',\n",
       " 'interest': '0',\n",
       " 'locked': '0',\n",
       " 'netAsset': '0.14289781',\n",
       " 'netAssetOfBtc': '0.00000143',\n",
       " 'repayEnabled': True,\n",
       " 'totalAsset': '0.14289781'}"
      ]
     },
     "execution_count": 3,
     "metadata": {},
     "output_type": "execute_result"
    }
   ],
   "source": [
    "bh.get_margin_asset(client, ASSET_B)"
   ]
  },
  {
   "cell_type": "code",
   "execution_count": null,
   "id": "891727b8-0539-4725-bc39-470d129a1e45",
   "metadata": {},
   "outputs": [],
   "source": [
    "def go_long_short(long: str, l_amt: float, short: str, s_amt: float, base=BASE):\n",
    "    \"\"\"goes long and short. Enter long/short as 'XMR' rather than 'XMRUSDT'. \"\"\"\n",
    "    l_pair = long + base\n",
    "    s_pair = short + base\n",
    "    transaction = client.create_margin_loan(asset=short, amount=str(s_amt), isIsolated='TRUE', symbol=s_pair)\n",
    "#     time.sleep(1)\n",
    "    print(\"starting short order\")\n",
    "    order_s = client.create_margin_order(\n",
    "        symbol=s_pair,\n",
    "        side=SIDE_SELL,\n",
    "        type=ORDER_TYPE_MARKET,\n",
    "        quantity=s_amt,\n",
    "        newOrderRespType = \"FULL\",\n",
    "        isIsolated='TRUE')\n",
    "    print(order_s)\n",
    "    print(\"starting buy order\")\n",
    "    order_l = client.create_margin_order(\n",
    "        symbol=l_pair,\n",
    "        side=SIDE_BUY,\n",
    "        type=ORDER_TYPE_MARKET,\n",
    "        quantity=l_amt,\n",
    "        newOrderRespType = \"FULL\",\n",
    "        isIsolated='TRUE')\n",
    "    print(order_l)\n",
    "    send_message(\"ls\", long=long, l_amt=str(l_amt), short=short, s_amt=str(s_amt), o_s=order_s, o_l=order_l)\n",
    "    \n",
    "def liquidate(long: str, short: str, base=BASE):\n",
    "    \"\"\"liquidates long and short position. Enter long as currently longing which asset\"\"\"\n",
    "    l_pair = long + base\n",
    "    s_pair = short + base\n",
    "    l_amt = binance_floor(float(get_margin_asset(long)[\"free\"]), 1)\n",
    "    s_amt = binance_ceil(abs(float(get_margin_asset(short)[\"netAsset\"])), 1)\n",
    "    \n",
    "    order = client.create_margin_order(\n",
    "        symbol=l_pair,\n",
    "        side=SIDE_SELL,\n",
    "        type=ORDER_TYPE_MARKET,\n",
    "        quantity=l_amt,\n",
    "        newOrderRespType = \"FULL\",\n",
    "        isIsolated='TRUE')\n",
    "    order1 = client.create_margin_order(\n",
    "        symbol=s_pair,\n",
    "        side=SIDE_BUY,\n",
    "        type=ORDER_TYPE_MARKET,\n",
    "        quantity=s_amt,\n",
    "        newOrderRespType = \"FULL\",\n",
    "        isIsolated='TRUE')\n",
    "    rp = str(abs(float(get_margin_asset(short)[\"free\"])))\n",
    "    transaction1 = client.repay_margin_loan(asset=short, amount=rp, isIsolated='TRUE', symbol=s_pair)\n",
    "    rebalance_accounts(ASSET_A, ASSET_B)\n",
    "    send_message(\"lq\", o_s=order, o_b=order1)\n",
    "    \n",
    "def rebalance_accounts(a: str, b: str, base=BASE):\n",
    "    \"\"\"Rebalance isolated margin accounts a and b. Enter as 'FET' \"\"\"\n",
    "    a_usdt = float(get_isolated_margin_account(a)[\"quoteAsset\"][\"free\"])\n",
    "    b_usdt = float(get_isolated_margin_account(b)[\"quoteAsset\"][\"free\"])\n",
    "    transfer = str(round(abs(a_usdt - (a_usdt + b_usdt)/2), 6))\n",
    "    from_account = \"\"\n",
    "    to_account = \"\"\n",
    "    if a_usdt > b_usdt:\n",
    "        from_account = a + base\n",
    "        to_account = b + base\n",
    "    else:\n",
    "        from_account = b + base\n",
    "        to_account = a + base\n",
    "    client.transfer_isolated_margin_to_spot(asset='USDT', symbol=from_account, amount=transfer)\n",
    "    client.transfer_spot_to_isolated_margin(asset='USDT', symbol=to_account, amount=transfer)\n",
    "\n",
    "def get_long():\n",
    "    \"\"\"Returns None if long nothing, else ASSET_A or ASSET_B\"\"\"\n",
    "    if float(get_margin_asset(ASSET_A)[\"borrowed\"])>0: #Borrowed ASSET_A (ie long ASSET_B)\n",
    "        return ASSET_B\n",
    "    elif float(get_margin_asset(ASSET_B)[\"borrowed\"])>0: #Borrwed XMR (ie long ZEC)\n",
    "        return ASSET_A\n",
    "    else:\n",
    "        return None"
   ]
  },
  {
   "cell_type": "code",
   "execution_count": null,
   "id": "abe57df4-ea31-47b7-8a5e-f1bfa48e6f2b",
   "metadata": {},
   "outputs": [],
   "source": [
    "def printer():\n",
    "    \"\"\"main printer. Fetches current position, fetches data, and performs buys/sells if necessary\"\"\"\n",
    "    long = get_long() # Returns None if long nothing, else ASSET_A or ASSET_B\n",
    "\n",
    "    # Get z_score\n",
    "    z = get_z_score()\n",
    "    while math.isnan(z): #z is nan, retry:\n",
    "        time.sleep(1)\n",
    "        z = get_z_score()\n",
    "    \n",
    "    # Get trading amount (won't be used if liquidating or NOT buying)\n",
    "    # NOTE: ASSUMES isolated margin account for both A and B have the same amount of USDT\n",
    "    total = float(get_isolated_margin_account(ASSET_A)[\"quoteAsset\"][\"free\"])*0.95\n",
    "    asset_a = trade_amt(ASSET_A, total)\n",
    "    asset_b = trade_amt(ASSET_B, total)\n",
    "    \n",
    "    if z>THRES and long==None: #buy/sell #LONG A\n",
    "        go_long_short(long=ASSET_A, l_amt=asset_a, short=ASSET_B, s_amt=asset_b)\n",
    "    elif z<-THRES and long==None: #buy/sell #LONG B\n",
    "        go_long_short(long=ASSET_B, l_amt=asset_b, short=ASSET_A, s_amt=asset_a)\n",
    "    elif z>SELL_THRES and long==ASSET_B: #liquidate #LONG B\n",
    "        liquidate(long=ASSET_B, short=ASSET_A)\n",
    "    elif z<-SELL_THRES and long==ASSET_A: #liquidate #LONG A\n",
    "        liquidate(long=ASSET_A, short=ASSET_B)\n",
    "    \n",
    "    send_message(\"z\", z=str(z))\n",
    "    change_mode(z, long)\n",
    "    reset_client()\n",
    "    \n",
    "    return schedule.CancelJob"
   ]
  },
  {
   "cell_type": "code",
   "execution_count": null,
   "id": "f7cf5391-a671-4c67-93e5-a071ab2b07da",
   "metadata": {},
   "outputs": [],
   "source": [
    "def change_mode(z:float, long):\n",
    "    \"\"\"Change the frequency of the checking\"\"\"\n",
    "    global mode\n",
    "    if long==None:\n",
    "        mode = 2\n",
    "    elif long==ASSET_A:\n",
    "        if z > -SELL_THRES + 1.5: \n",
    "            mode = 10\n",
    "        elif z > -SELL_THRES + 1.: \n",
    "            mode = 5\n",
    "        elif z > -SELL_THRES + 0.5: \n",
    "            mode = 3\n",
    "        else:\n",
    "            mode = 2\n",
    "    elif long==ASSET_B:\n",
    "        if z < SELL_THRES - 1.5:\n",
    "            mode = 10\n",
    "        elif z < SELL_THRES - 1.:\n",
    "            mode = 5\n",
    "        elif z < SELL_THRES - .5:\n",
    "            mode = 3\n",
    "        else:\n",
    "            mode = 2"
   ]
  },
  {
   "cell_type": "code",
   "execution_count": null,
   "id": "af54f83d-a041-411d-b40e-b880c7ba1dde",
   "metadata": {},
   "outputs": [],
   "source": [
    "# Discord # Saving message\n",
    "def get_message():\n",
    "    \"\"\"gets the message\"\"\"\n",
    "    with open('message.txt') as json_file:\n",
    "        new_message = json.load(json_file)\n",
    "        return new_message\n",
    "def send_message(m:str,  **k):\n",
    "    data = get_message()\n",
    "    if m == \"ls\":\n",
    "        data[\"message\"] = f\"Went long {k['l_amt']} {k['long']} at ${k['o_l']['fills'][0]['price']} \\nShort {k['s_amt']} {k['short']} at ${k['o_s']['fills'][0]['price']}\"\n",
    "        data[\"o_l\"] = k['o_l']\n",
    "        data[\"o_s\"] = k['o_s']\n",
    "    elif m == \"lq\":\n",
    "        o_s = k['o_s']\n",
    "        o_b = k['o_b']\n",
    "        data[\"message\"] = f\"Liquidated! Sold {o_s['executedQty']} {o_s['symbol']} for {o_s['fills'][0]['price']} \\nBought {o_b['executedQty']} {o_b['symbol']} for {o_b['fills'][0]['price']}\"\n",
    "        data[\"o_l\"] = o_s\n",
    "        data[\"o_s\"] = o_b\n",
    "    elif m == \"z\":\n",
    "        data[\"z\"] = k[\"z\"]\n",
    "    elif m == \"mode\":\n",
    "        data[\"mode\"] = k[\"mode\"]\n",
    "    with open('message.txt', 'w') as outfile:\n",
    "        json.dump(data, outfile)"
   ]
  }
 ],
 "metadata": {
  "kernelspec": {
   "display_name": "Python 3",
   "language": "python",
   "name": "python3"
  },
  "language_info": {
   "codemirror_mode": {
    "name": "ipython",
    "version": 3
   },
   "file_extension": ".py",
   "mimetype": "text/x-python",
   "name": "python",
   "nbconvert_exporter": "python",
   "pygments_lexer": "ipython3",
   "version": "3.9.5"
  }
 },
 "nbformat": 4,
 "nbformat_minor": 5
}
