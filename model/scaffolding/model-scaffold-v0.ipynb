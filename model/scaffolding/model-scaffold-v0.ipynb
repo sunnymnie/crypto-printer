{
 "cells": [
  {
   "cell_type": "markdown",
   "id": "4215a6ed-7880-4f18-9bc7-23c4d3123407",
   "metadata": {},
   "source": [
    "# Model scaffold v0\n",
    "Heavily based off of prototype"
   ]
  },
  {
   "cell_type": "code",
   "execution_count": 1,
   "id": "8bd68566-d19c-4e04-b9c2-2e847b5989be",
   "metadata": {},
   "outputs": [],
   "source": [
    "# Imports\n",
    "import pandas as pd\n",
    "from binance.client import Client\n",
    "from binance.enums import * #https://github.com/sammchardy/python-binance/blob/master/binance/enums.py\n",
    "import datetime\n",
    "\n",
    "# import schedule\n",
    "import time\n",
    "from datetime import datetime, timedelta\n",
    "\n",
    "import statsmodels.formula.api as sm\n",
    "import matplotlib.pyplot as plt\n",
    "import pandas as pd\n",
    "import numpy as np\n",
    "\n",
    "# python files\n",
    "from keys import key\n",
    "import binance_helpers as bh\n",
    "import data\n",
    "\n",
    "from IPython.display import clear_output\n",
    "\n",
    "client = bh.new_binance_client()\n",
    "\n",
    "mode = 2"
   ]
  },
  {
   "cell_type": "code",
   "execution_count": 2,
   "id": "85cf584a-4c29-46ea-a245-e45ddc719c7a",
   "metadata": {},
   "outputs": [
    {
     "data": {
      "text/plain": [
       "39668.85"
      ]
     },
     "execution_count": 2,
     "metadata": {},
     "output_type": "execute_result"
    }
   ],
   "source": [
    "bh.get_price(client, \"BTCUSDT\")"
   ]
  },
  {
   "cell_type": "code",
   "execution_count": 3,
   "id": "cab91705-423a-4361-b6b9-3a0b133a3bc1",
   "metadata": {},
   "outputs": [
    {
     "data": {
      "text/plain": [
       "0.37812"
      ]
     },
     "execution_count": 3,
     "metadata": {},
     "output_type": "execute_result"
    }
   ],
   "source": [
    "bh.trade_amt(client, \"BTC\", 15000, 5)"
   ]
  },
  {
   "cell_type": "code",
   "execution_count": 2,
   "id": "042186c8-292d-43f1-9188-b1069feec99e",
   "metadata": {},
   "outputs": [],
   "source": [
    "## Constants\n",
    "ASSET_A = \"CELR\"\n",
    "ASSET_B = \"FET\"\n",
    "BASE = \"USDT\"\n",
    "LOOKBACK = 4000 #1800\n",
    "THRES = 1.\n",
    "SELL_THRES = 1."
   ]
  },
  {
   "cell_type": "code",
   "execution_count": 3,
   "id": "d4906152-d5b1-4e61-b911-d73628e20fc7",
   "metadata": {},
   "outputs": [
    {
     "data": {
      "text/plain": [
       "{'asset': 'FET',\n",
       " 'borrowEnabled': True,\n",
       " 'borrowed': '0',\n",
       " 'free': '0.14289781',\n",
       " 'interest': '0',\n",
       " 'locked': '0',\n",
       " 'netAsset': '0.14289781',\n",
       " 'netAssetOfBtc': '0.00000143',\n",
       " 'repayEnabled': True,\n",
       " 'totalAsset': '0.14289781'}"
      ]
     },
     "execution_count": 3,
     "metadata": {},
     "output_type": "execute_result"
    }
   ],
   "source": [
    "bh.get_margin_asset(client, ASSET_B)"
   ]
  },
  {
   "cell_type": "code",
   "execution_count": null,
   "id": "891727b8-0539-4725-bc39-470d129a1e45",
   "metadata": {},
   "outputs": [],
   "source": [
    "def go_long_short(long: str, l_amt: float, short: str, s_amt: float, base=BASE):\n",
    "    \"\"\"goes long and short. Enter long/short as 'XMR' rather than 'XMRUSDT'. \"\"\"\n",
    "    l_pair = long + base\n",
    "    s_pair = short + base\n",
    "    transaction = client.create_margin_loan(asset=short, amount=str(s_amt), isIsolated='TRUE', symbol=s_pair)\n",
    "#     time.sleep(1)\n",
    "    print(\"starting short order\")\n",
    "    order_s = client.create_margin_order(\n",
    "        symbol=s_pair,\n",
    "        side=SIDE_SELL,\n",
    "        type=ORDER_TYPE_MARKET,\n",
    "        quantity=s_amt,\n",
    "        newOrderRespType = \"FULL\",\n",
    "        isIsolated='TRUE')\n",
    "    print(order_s)\n",
    "    print(\"starting buy order\")\n",
    "    order_l = client.create_margin_order(\n",
    "        symbol=l_pair,\n",
    "        side=SIDE_BUY,\n",
    "        type=ORDER_TYPE_MARKET,\n",
    "        quantity=l_amt,\n",
    "        newOrderRespType = \"FULL\",\n",
    "        isIsolated='TRUE')\n",
    "    print(order_l)\n",
    "    send_message(\"ls\", long=long, l_amt=str(l_amt), short=short, s_amt=str(s_amt), o_s=order_s, o_l=order_l)\n",
    "    \n",
    "def liquidate(long: str, short: str, base=BASE):\n",
    "    \"\"\"liquidates long and short position. Enter long as currently longing which asset\"\"\"\n",
    "    l_pair = long + base\n",
    "    s_pair = short + base\n",
    "    l_amt = binance_floor(float(get_margin_asset(long)[\"free\"]), 1)\n",
    "    s_amt = binance_ceil(abs(float(get_margin_asset(short)[\"netAsset\"])), 1)\n",
    "    \n",
    "    order = client.create_margin_order(\n",
    "        symbol=l_pair,\n",
    "        side=SIDE_SELL,\n",
    "        type=ORDER_TYPE_MARKET,\n",
    "        quantity=l_amt,\n",
    "        newOrderRespType = \"FULL\",\n",
    "        isIsolated='TRUE')\n",
    "    order1 = client.create_margin_order(\n",
    "        symbol=s_pair,\n",
    "        side=SIDE_BUY,\n",
    "        type=ORDER_TYPE_MARKET,\n",
    "        quantity=s_amt,\n",
    "        newOrderRespType = \"FULL\",\n",
    "        isIsolated='TRUE')\n",
    "    rp = str(abs(float(get_margin_asset(short)[\"free\"])))\n",
    "    transaction1 = client.repay_margin_loan(asset=short, amount=rp, isIsolated='TRUE', symbol=s_pair)\n",
    "    rebalance_accounts(ASSET_A, ASSET_B)\n",
    "    send_message(\"lq\", o_s=order, o_b=order1)\n",
    "    \n",
    "def rebalance_accounts(a: str, b: str, base=BASE):\n",
    "    \"\"\"Rebalance isolated margin accounts a and b. Enter as 'FET' \"\"\"\n",
    "    a_usdt = float(get_isolated_margin_account(a)[\"quoteAsset\"][\"free\"])\n",
    "    b_usdt = float(get_isolated_margin_account(b)[\"quoteAsset\"][\"free\"])\n",
    "    transfer = str(round(abs(a_usdt - (a_usdt + b_usdt)/2), 6))\n",
    "    from_account = \"\"\n",
    "    to_account = \"\"\n",
    "    if a_usdt > b_usdt:\n",
    "        from_account = a + base\n",
    "        to_account = b + base\n",
    "    else:\n",
    "        from_account = b + base\n",
    "        to_account = a + base\n",
    "    client.transfer_isolated_margin_to_spot(asset='USDT', symbol=from_account, amount=transfer)\n",
    "    client.transfer_spot_to_isolated_margin(asset='USDT', symbol=to_account, amount=transfer)\n",
    "\n",
    "def get_long():\n",
    "    \"\"\"Returns None if long nothing, else ASSET_A or ASSET_B\"\"\"\n",
    "    if float(get_margin_asset(ASSET_A)[\"borrowed\"])>0: #Borrowed ASSET_A (ie long ASSET_B)\n",
    "        return ASSET_B\n",
    "    elif float(get_margin_asset(ASSET_B)[\"borrowed\"])>0: #Borrwed XMR (ie long ZEC)\n",
    "        return ASSET_A\n",
    "    else:\n",
    "        return None"
   ]
  },
  {
   "cell_type": "code",
   "execution_count": null,
   "id": "abe57df4-ea31-47b7-8a5e-f1bfa48e6f2b",
   "metadata": {},
   "outputs": [],
   "source": [
    "def printer():\n",
    "    \"\"\"main printer. Fetches current position, fetches data, and performs buys/sells if necessary\"\"\"\n",
    "    long = get_long() # Returns None if long nothing, else ASSET_A or ASSET_B\n",
    "\n",
    "    # Get z_score\n",
    "    z = get_z_score()\n",
    "    while math.isnan(z): #z is nan, retry:\n",
    "        time.sleep(1)\n",
    "        z = get_z_score()\n",
    "    \n",
    "    # Get trading amount (won't be used if liquidating or NOT buying)\n",
    "    # NOTE: ASSUMES isolated margin account for both A and B have the same amount of USDT\n",
    "    total = float(get_isolated_margin_account(ASSET_A)[\"quoteAsset\"][\"free\"])*0.95\n",
    "    asset_a = trade_amt(ASSET_A, total)\n",
    "    asset_b = trade_amt(ASSET_B, total)\n",
    "    \n",
    "    if z>THRES and long==None: #buy/sell #LONG A\n",
    "        go_long_short(long=ASSET_A, l_amt=asset_a, short=ASSET_B, s_amt=asset_b)\n",
    "    elif z<-THRES and long==None: #buy/sell #LONG B\n",
    "        go_long_short(long=ASSET_B, l_amt=asset_b, short=ASSET_A, s_amt=asset_a)\n",
    "    elif z>SELL_THRES and long==ASSET_B: #liquidate #LONG B\n",
    "        liquidate(long=ASSET_B, short=ASSET_A)\n",
    "    elif z<-SELL_THRES and long==ASSET_A: #liquidate #LONG A\n",
    "        liquidate(long=ASSET_A, short=ASSET_B)\n",
    "    \n",
    "    send_message(\"z\", z=str(z))\n",
    "    change_mode(z, long)\n",
    "    reset_client()\n",
    "    \n",
    "    return schedule.CancelJob"
   ]
  },
  {
   "cell_type": "code",
   "execution_count": null,
   "id": "f7cf5391-a671-4c67-93e5-a071ab2b07da",
   "metadata": {},
   "outputs": [],
   "source": [
    "def change_mode(z:float, long):\n",
    "    \"\"\"Change the frequency of the checking\"\"\"\n",
    "    global mode\n",
    "    if long==None:\n",
    "        mode = 2\n",
    "    elif long==ASSET_A:\n",
    "        if z > -SELL_THRES + 1.5: \n",
    "            mode = 10\n",
    "        elif z > -SELL_THRES + 1.: \n",
    "            mode = 5\n",
    "        elif z > -SELL_THRES + 0.5: \n",
    "            mode = 3\n",
    "        else:\n",
    "            mode = 2\n",
    "    elif long==ASSET_B:\n",
    "        if z < SELL_THRES - 1.5:\n",
    "            mode = 10\n",
    "        elif z < SELL_THRES - 1.:\n",
    "            mode = 5\n",
    "        elif z < SELL_THRES - .5:\n",
    "            mode = 3\n",
    "        else:\n",
    "            mode = 2"
   ]
  },
  {
   "cell_type": "code",
   "execution_count": null,
   "id": "af54f83d-a041-411d-b40e-b880c7ba1dde",
   "metadata": {},
   "outputs": [],
   "source": [
    "# Discord # Saving message\n",
    "def get_message():\n",
    "    \"\"\"gets the message\"\"\"\n",
    "    with open('message.txt') as json_file:\n",
    "        new_message = json.load(json_file)\n",
    "        return new_message\n",
    "def send_message(m:str,  **k):\n",
    "    data = get_message()\n",
    "    if m == \"ls\":\n",
    "        data[\"message\"] = f\"Went long {k['l_amt']} {k['long']} at ${k['o_l']['fills'][0]['price']} \\nShort {k['s_amt']} {k['short']} at ${k['o_s']['fills'][0]['price']}\"\n",
    "        data[\"o_l\"] = k['o_l']\n",
    "        data[\"o_s\"] = k['o_s']\n",
    "    elif m == \"lq\":\n",
    "        o_s = k['o_s']\n",
    "        o_b = k['o_b']\n",
    "        data[\"message\"] = f\"Liquidated! Sold {o_s['executedQty']} {o_s['symbol']} for {o_s['fills'][0]['price']} \\nBought {o_b['executedQty']} {o_b['symbol']} for {o_b['fills'][0]['price']}\"\n",
    "        data[\"o_l\"] = o_s\n",
    "        data[\"o_s\"] = o_b\n",
    "    elif m == \"z\":\n",
    "        data[\"z\"] = k[\"z\"]\n",
    "    elif m == \"mode\":\n",
    "        data[\"mode\"] = k[\"mode\"]\n",
    "    with open('message.txt', 'w') as outfile:\n",
    "        json.dump(data, outfile)"
   ]
  }
 ],
 "metadata": {
  "kernelspec": {
   "display_name": "Python 3",
   "language": "python",
   "name": "python3"
  },
  "language_info": {
   "codemirror_mode": {
    "name": "ipython",
    "version": 3
   },
   "file_extension": ".py",
   "mimetype": "text/x-python",
   "name": "python",
   "nbconvert_exporter": "python",
   "pygments_lexer": "ipython3",
   "version": "3.9.5"
  }
 },
 "nbformat": 4,
 "nbformat_minor": 5
}
