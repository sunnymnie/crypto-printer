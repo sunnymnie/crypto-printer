{
 "cells": [
  {
   "cell_type": "markdown",
   "id": "f4f899a8-725a-4f72-af83-5e2c1a0934ee",
   "metadata": {},
   "source": [
    "# Brute force optimizer\n",
    "The end result will be a dataframe with columns: #total trades, #wins, #losses, mean win %, mean loss %, max # of winning trades in a row, max # of losing trades in a row, max drawdown %, max drawdown length, all drawdown lengths (type:list of timedeltas), returns (type:list of floats), and maybe some more"
   ]
  },
  {
   "cell_type": "code",
   "execution_count": 7,
   "id": "ac8bb405-3ca7-4d59-87e6-6e90b811cd9b",
   "metadata": {},
   "outputs": [],
   "source": [
    "import pandas as pd\n",
    "import numpy as np\n",
    "import matplotlib.pyplot as plt\n",
    "from datetime import datetime, timedelta\n",
    "import math\n",
    "from IPython.display import clear_output\n",
    "import time\n",
    "\n",
    "import statsmodels.formula.api as sm\n",
    "import statsmodels.tsa.stattools as ts\n",
    "import statsmodels.tsa.vector_ar.vecm as vm"
   ]
  },
  {
   "cell_type": "code",
   "execution_count": 10,
   "id": "b2812d0b-d3ae-4264-83d2-d4807843fa72",
   "metadata": {},
   "outputs": [],
   "source": [
    "df1 = pd.read_csv(\"../data/minute/CELRUSDT-minute.csv\", index_col=0, parse_dates=True)\n",
    "df2 = pd.read_csv(\"../data/minute/FETUSDT-minute.csv\", index_col=0, parse_dates=True)"
   ]
  },
  {
   "cell_type": "code",
   "execution_count": 11,
   "id": "07d5b31f-8803-409a-b19f-d1a209487071",
   "metadata": {},
   "outputs": [],
   "source": [
    "df = df1.open.rename(\"A\").to_frame()\n",
    "df[\"B\"] = df2.open\n",
    "df = df[1000:]\n",
    "df = df.dropna()"
   ]
  },
  {
   "cell_type": "markdown",
   "id": "b941c864-0fa9-4f8c-9446-6977f5058b01",
   "metadata": {},
   "source": [
    "## Hedge Ratio calculation"
   ]
  },
  {
   "cell_type": "code",
   "execution_count": 4,
   "id": "562e394a-0464-4397-afa9-5a7a13eea8e7",
   "metadata": {},
   "outputs": [
    {
     "name": "stdout",
     "output_type": "stream",
     "text": [
      "24231 < 24232\n"
     ]
    }
   ],
   "source": [
    "ds = 50 #downsample\n",
    "hedge_ratio = np.full(df.shape[0], np.nan)\n",
    "l = math.floor(len(hedge_ratio)/ds)\n",
    "index = []\n",
    "for t in np.arange(l):\n",
    "    clear_output()\n",
    "    print(f\"{t} < {l}\")\n",
    "    regress_results = sm.ols(formula=\"B ~ A\",\n",
    "                             data=df[:t*ds+1]).fit()  # Note this can deal with NaN in top row\n",
    "    hedge_ratio[t] = regress_results.params[1]\n",
    "    index.append(df.index[t*ds+1])"
   ]
  },
  {
   "cell_type": "markdown",
   "id": "9002bc2a-002e-40e0-b7c5-9a6d728860cf",
   "metadata": {},
   "source": [
    "## Functions"
   ]
  },
  {
   "cell_type": "code",
   "execution_count": 5,
   "id": "6057db64-9807-40c1-b1b2-c17e46a585c5",
   "metadata": {},
   "outputs": [],
   "source": [
    "def get_spread(lookback, length=700_000):\n",
    "    \"\"\"returns the spread. Lookback is for mean and std. length is [-length:] of spread\"\"\"\n",
    "    hr = pd.Series(hedge_ratio).dropna().rename(\"hr\").to_frame()\n",
    "\n",
    "    hr[\"index\"] = index\n",
    "    hr.set_index(\"index\", inplace=True)\n",
    "\n",
    "    spread = pd.DataFrame(hr.hr, index=df.index)\n",
    "\n",
    "    spread.ffill(inplace=True)\n",
    "\n",
    "    spread = pd.Series((df['B'] - spread[\"hr\"] * df['A'])).rename(\"spread\").to_frame()\n",
    "    spread[\"mean\"] = spread.spread.rolling(lookback).mean()\n",
    "    spread[\"std\"] =  spread.spread.rolling(lookback).std()\n",
    "    spread[\"zscore\"] = pd.Series((spread[\"spread\"]-spread[\"mean\"])/spread[\"std\"])\n",
    "\n",
    "    spread = spread.dropna()\n",
    "\n",
    "    spread[\"A\"] = df1[\"close\"].reindex(spread.index)\n",
    "    spread[\"Ah\"] = df1[\"high\"].reindex(spread.index)\n",
    "    spread[\"Al\"] = df1[\"low\"].reindex(spread.index)\n",
    "\n",
    "    spread[\"B\"] = df2[\"close\"].reindex(spread.index)\n",
    "    spread[\"Bh\"] = df2[\"high\"].reindex(spread.index)\n",
    "    spread[\"Bl\"] = df2[\"low\"].reindex(spread.index)\n",
    "    return spread[-length:]\n",
    "\n",
    "def get_a_b(al, ac, ah, bl, bc, bh):\n",
    "    return ac-abs(ac-al)/2, ac+abs(ac-ah)/2, bc-abs(bc-bl)/2, bc+abs(bc-bh)/2\n",
    "\n",
    "def run_backtest(spread, thres, sell_thres, fee=0.002, interest=0.002):\n",
    "    total, p_total = 0, 0 #Previous total\n",
    "    cusum, returns = [], []\n",
    "    price_a, price_b, long = None, None, None #Values: None, \"A\", \"B\"\n",
    "    long_a, long_b, liquidate,  dd_indices= [], [], [], [] #Drawdown indicies\n",
    "    dd_i = True\n",
    "    for i in range(spread.shape[0]):\n",
    "        z = spread.zscore[i]\n",
    "        if long == None: # Looking to buy\n",
    "            if z>thres or z<-thres:\n",
    "                al, ah, bl, bh = get_a_b(spread.Al[i], spread.A[i], spread.Ah[i], spread.Bl[i], spread.B[i], spread.Bh[i])\n",
    "                price_a = ah if z > thres else al\n",
    "                price_b = bl if z > thres else bh\n",
    "                long = \"A\" if z > thres else \"B\"\n",
    "                long_a.append(spread.index[i]) if z > thres else long_b.append(spread.index[i])\n",
    "        if (long == \"A\" and z<-sell_thres) or (long == \"B\" and z>sell_thres): #Liquidate positions\n",
    "            al, ah, bl, bh = get_a_b(spread.Al[i], spread.A[i], spread.Ah[i], spread.Bl[i], spread.B[i], spread.Bh[i])\n",
    "            gain = 0\n",
    "            if long==\"A\":\n",
    "                gain = liquidate_assets(price_b, bh, al, price_a, fee, long_a[-1], spread.index[i], interest)\n",
    "            else:\n",
    "                gain = liquidate_assets(price_a, ah, bl, price_b, fee, long_b[-1], spread.index[i], interest)\n",
    "            returns.append(gain)\n",
    "            total += gain\n",
    "            price_a, price_b, long = None, None, None\n",
    "            liquidate.append(spread.index[i])\n",
    "        cusum.append(total)\n",
    "\n",
    "        if total < p_total:\n",
    "            if dd_i:\n",
    "                dd_indices.append(spread.index[i])\n",
    "                dd_i = False\n",
    "        else:\n",
    "            if not dd_i:\n",
    "                dd_indices.append(spread.index[i])\n",
    "                dd_i = True\n",
    "            p_total = total\n",
    "    if total < p_total:\n",
    "        dd_indices.append(spread.index[i])\n",
    "    drawdowns = get_drawdowns(dd_indices)\n",
    "    return long_a, long_b, liquidate, cusum, returns, drawdowns\n",
    "        \n",
    "def liquidate_assets(x1, x2, y1, y2, fee, d1, d2, interest):\n",
    "    interest = ((d2-d1).days + 1) * interest\n",
    "    total = (x1 - x2)/x1 - 2*fee - interest\n",
    "    total += (y1 - y2)/y1 - 2*fee - interest\n",
    "    return total\n",
    "\n",
    "def get_drawdowns(dd_indices):\n",
    "    a = dd_indices[1::2]\n",
    "    b = dd_indices[::2]\n",
    "    a = np.array(a)\n",
    "    b = np.array(b[:len(a)])\n",
    "    c = a-b\n",
    "    c.sort()\n",
    "    return c[::-1]\n",
    "\n",
    "def convert_timedelta_to_seconds(td):\n",
    "    \"\"\"converts timedelta to seconds\"\"\"\n",
    "    return td.days*24*60*60 + td.seconds"
   ]
  },
  {
   "cell_type": "markdown",
   "id": "0124a5f4-056a-4920-94f1-c647dffd5136",
   "metadata": {},
   "source": [
    "## For loop"
   ]
  },
  {
   "cell_type": "code",
   "execution_count": null,
   "id": "c8551bf7-9c34-45a5-b9ba-8e969e742490",
   "metadata": {},
   "outputs": [
    {
     "name": "stdout",
     "output_type": "stream",
     "text": [
      "Now doing lookback: 1000, thres: 1.5, sell_thres: 2.5, safe to kill kernel\n",
      "Length: 700000 should == 700_000\n"
     ]
    }
   ],
   "source": [
    "for lookback in [500, 1000, 1500, 2000, 3000, 4000, 5000, 6000, 8000, 10000]:\n",
    "    \n",
    "    d = {\"lookback\":[], \"thres\":[], \"sell_thres\":[], \"cusum\":[], \"returns\":[], \"drawdowns\":[]}\n",
    "    spread = get_spread(lookback)\n",
    "    \n",
    "    for thres in [0.5, 0.75, 1., 1.25, 1.5, 1.75, 2., 2.5, 3., 4.]:\n",
    "        \n",
    "        for sell_thres in [-2., -1.5, -1., -0.5, -0.25, 0., 0.25, 0.5, 0.75, 1., 1.25, 1.5, 2., 2.5, 3.]:\n",
    "            if sell_thres <= -thres:\n",
    "                continue\n",
    "            print(f\"Now doing lookback: {lookback}, thres: {thres}, sell_thres: {sell_thres}, safe to kill kernel\")\n",
    "            print(f\"Length: {len(spread)} should == 700_000\")\n",
    "            long_a, long_b, liquidate, cusum, returns, drawdowns = run_backtest(spread, thres, sell_thres)\n",
    "            \n",
    "            print(f\"DON'T KILL KERNEL, ADDING TRADES\")\n",
    "            time.sleep(1)\n",
    "            d[\"lookback\"].append(lookback)\n",
    "            d[\"thres\"].append(thres)\n",
    "            d[\"sell_thres\"].append(sell_thres)\n",
    "            d[\"cusum\"].append(cusum)\n",
    "            d[\"returns\"].append(list(map(lambda x: round(x, 5), returns)))\n",
    "            d[\"drawdowns\"].append(list(map(lambda x: convert_timedelta_to_seconds(x), drawdowns)))\n",
    "            \n",
    "            clear_output()\n",
    "        \n",
    "    result_so_far = pd.DataFrame(d)\n",
    "    result_so_far.to_csv(f\"../data/generated/fet-celr-{str(lookback)}.csv\", index=False)"
   ]
  },
  {
   "cell_type": "code",
   "execution_count": null,
   "id": "97361542-45f6-4225-bd29-0d3d36792557",
   "metadata": {},
   "outputs": [],
   "source": []
  }
 ],
 "metadata": {
  "kernelspec": {
   "display_name": "Python 3",
   "language": "python",
   "name": "python3"
  },
  "language_info": {
   "codemirror_mode": {
    "name": "ipython",
    "version": 3
   },
   "file_extension": ".py",
   "mimetype": "text/x-python",
   "name": "python",
   "nbconvert_exporter": "python",
   "pygments_lexer": "ipython3",
   "version": "3.9.5"
  }
 },
 "nbformat": 4,
 "nbformat_minor": 5
}
