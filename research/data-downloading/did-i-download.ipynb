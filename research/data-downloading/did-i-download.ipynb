{
 "cells": [
  {
   "cell_type": "markdown",
   "id": "dcf59e2e-ce1d-46c1-b357-4eadad8acdb9",
   "metadata": {},
   "source": [
    "# Did I download?"
   ]
  },
  {
   "cell_type": "code",
   "execution_count": 4,
   "id": "634cd356-4c89-4fc9-9c70-56fe3e28908d",
   "metadata": {},
   "outputs": [],
   "source": [
    "downloaded = [\"MITHUSDT\", \"WINUSDT\", \"FUNUSDT\", \"MTLUSDT\", \"\", \"\", \"\", \"\", \"\", \"\", \n",
    "             \"\", \"\", \"\", \"\", \"\", \"\", \"\", \"\", \"\", \"\", \n",
    "             \"\", \"\", \"\", \"\", \"\", \"\", \"\", \"\", \"\", \"\", \n",
    "             \"\", \"\", \"\", \"\", \"\", \"\", \"\", \"\", \"\", \"\", \n",
    "             \"\", \"\", \"\", \"\", \"\", \"\", \"\", \"\", \"\", \"\", ]"
   ]
  },
  {
   "cell_type": "code",
   "execution_count": 3,
   "id": "be7128da-aa5c-43b1-903d-1a5b3e103518",
   "metadata": {},
   "outputs": [
    {
     "data": {
      "text/plain": [
       "True"
      ]
     },
     "execution_count": 3,
     "metadata": {},
     "output_type": "execute_result"
    }
   ],
   "source": [
    "\"\" in downloaded #?"
   ]
  },
  {
   "cell_type": "code",
   "execution_count": 5,
   "id": "8cd6d64c-fdd9-48a9-b566-4d2cf8e2ed6f",
   "metadata": {},
   "outputs": [],
   "source": [
    "a = [1, 2, 3]\n",
    "b = [4, 5, 6]\n",
    "c = a+b"
   ]
  },
  {
   "cell_type": "code",
   "execution_count": 6,
   "id": "a22df808-43dc-42ae-aefc-b27385727657",
   "metadata": {},
   "outputs": [
    {
     "data": {
      "text/plain": [
       "[1, 2, 3, 4, 5, 6]"
      ]
     },
     "execution_count": 6,
     "metadata": {},
     "output_type": "execute_result"
    }
   ],
   "source": [
    "c"
   ]
  },
  {
   "cell_type": "code",
   "execution_count": null,
   "id": "88e7fdc0-5f7b-4ecd-9919-9dc85937899e",
   "metadata": {},
   "outputs": [],
   "source": []
  }
 ],
 "metadata": {
  "kernelspec": {
   "display_name": "Python 3",
   "language": "python",
   "name": "python3"
  },
  "language_info": {
   "codemirror_mode": {
    "name": "ipython",
    "version": 3
   },
   "file_extension": ".py",
   "mimetype": "text/x-python",
   "name": "python",
   "nbconvert_exporter": "python",
   "pygments_lexer": "ipython3",
   "version": "3.9.5"
  }
 },
 "nbformat": 4,
 "nbformat_minor": 5
}
