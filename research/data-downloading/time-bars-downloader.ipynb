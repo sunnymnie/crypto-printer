{
 "cells": [
  {
   "cell_type": "markdown",
   "id": "7d721297",
   "metadata": {},
   "source": [
    "# Time bars downloader\n",
    "\n",
    "Purpose: Downloading historical crypto data for TESTING (Cause volume is superior but more computationally intensive)"
   ]
  },
  {
   "cell_type": "code",
   "execution_count": 1,
   "id": "9ea00642",
   "metadata": {},
   "outputs": [],
   "source": [
    "# Imports\n",
    "import pandas as pd\n",
    "from binance.client import Client\n",
    "import datetime\n",
    "import json"
   ]
  },
  {
   "cell_type": "code",
   "execution_count": 4,
   "id": "83b8bd7d",
   "metadata": {},
   "outputs": [],
   "source": [
    "def get_api_keys(site: str, api_type: str)->str:\n",
    "    \"\"\"\n",
    "    gets api keys stored in api-keys/api-keys.txt\n",
    "    site: 'binance'\n",
    "    api_type: 'api', 'secret'\n",
    "    \"\"\"\n",
    "    with open('../../api-keys/api-keys.txt') as json_file:\n",
    "        return json.load(json_file)[site][api_type]\n"
   ]
  },
  {
   "cell_type": "code",
   "execution_count": 5,
   "id": "5e7f346c",
   "metadata": {},
   "outputs": [],
   "source": [
    "# Constants\n",
    "api_key = get_api_keys(\"binance\", \"api\")\n",
    "api_secret = get_api_keys(\"binance\", \"secret\")\n",
    "\n",
    "bclient = Client(api_key=api_key, api_secret=api_secret)"
   ]
  },
  {
   "cell_type": "code",
   "execution_count": 6,
   "id": "4c6bcd60",
   "metadata": {},
   "outputs": [],
   "source": [
    "def binance_downloader(symbol:str, kline_interval:object, interval_name:str, path=\"data/\", start=\"1 Jan 1900\"):\n",
    "    \"\"\"\n",
    "    downloads binance data\n",
    "    symbol: BTCUSDT\n",
    "    kline_interval: Client.KLINE_INTERVAL_1DAY, Client.KLINE_INTERVAL_1DAY, Client.KLINE_INTERVAL_1DAY\n",
    "    interval_name: only used for csv name: BTCUSDT-interval_name.csv\n",
    "    start: empty if from the very beginning\n",
    "    \"\"\"\n",
    "    start_date = datetime.datetime.strptime(start, '%d %b %Y')\n",
    "    today = datetime.datetime.today()\n",
    "    filename = \"../data/minute/\" + symbol + \"-\" + interval_name + \".csv\"\n",
    "#     print(f\"downloading {filename}\", end='\\r')\n",
    "#     klines = bclient.get_klines(symbol='BTCUSDT', interval=Client.KLINE_INTERVAL_1MINUTE)\n",
    "    klines = bclient.get_historical_klines(symbol, kline_interval, start_date.strftime(\"%d %b %Y %H:%M:%S\"), today.strftime(\"%d %b %Y %H:%M:%S\"), 1000)\n",
    "    data = pd.DataFrame(klines, columns = ['timestamp', 'open', 'high', 'low', 'close', 'volume', 'close_time', 'quote_av', 'trades', 'tb_base_av', 'tb_quote_av', 'ignore' ])\n",
    "    data['timestamp'] = pd.to_datetime(data['timestamp'], unit='ms')\n",
    "    data.set_index('timestamp', inplace=True)\n",
    "    data.to_csv(filename)\n",
    "#     print(f\"downloaded {filename}   \")"
   ]
  },
  {
   "cell_type": "markdown",
   "id": "73965ffd",
   "metadata": {},
   "source": [
    "## Binance downloader\n",
    "\n",
    "### symbol\n",
    "- \"BTCUSDT\"\n",
    "\n",
    "### kline_interval\n",
    "- `Client.KLINE_INTERVAL_1MINUTE`\n",
    "- `Client.KLINE_INTERVAL_1HOUR`\n",
    "- `Client.KLINE_INTERVAL_1DAY`\n",
    "\n",
    "### interval_name\n",
    "- \"minute\"\n",
    "- \"hour\"\n",
    "- \"day\""
   ]
  },
  {
   "cell_type": "code",
   "execution_count": 7,
   "id": "1c96f6e7-9869-463e-aef8-d15bc1315c8d",
   "metadata": {},
   "outputs": [],
   "source": [
    "# symbols = bclient.get_all_isolated_margin_symbols()\n",
    "# fsymbols = list(filter(lambda x: \"USDT\" in x[\"symbol\"], symbols))\n",
    "# pairs = list(map(lambda x: x[\"symbol\"], fsymbols))\n",
    "# pd.Series(pairs).to_csv(\"../data/testing-hourly/0-pairs.csv\", index=False)"
   ]
  },
  {
   "cell_type": "code",
   "execution_count": 8,
   "id": "3750fb40",
   "metadata": {
    "tags": []
   },
   "outputs": [
    {
     "ename": "FileNotFoundError",
     "evalue": "[Errno 2] No such file or directory: '../data/testing-hourly/MITHUSDT-minute.csv'",
     "output_type": "error",
     "traceback": [
      "\u001b[0;31m---------------------------------------------------------------------------\u001b[0m",
      "\u001b[0;31mFileNotFoundError\u001b[0m                         Traceback (most recent call last)",
      "\u001b[0;32m<ipython-input-8-2c37fd3edfa4>\u001b[0m in \u001b[0;36m<module>\u001b[0;34m\u001b[0m\n\u001b[1;32m      6\u001b[0m \u001b[0;32mfor\u001b[0m \u001b[0msymbol\u001b[0m \u001b[0;32min\u001b[0m \u001b[0msymbols\u001b[0m\u001b[0;34m:\u001b[0m\u001b[0;34m\u001b[0m\u001b[0;34m\u001b[0m\u001b[0m\n\u001b[1;32m      7\u001b[0m     \u001b[0mstart_time\u001b[0m \u001b[0;34m=\u001b[0m \u001b[0mtime\u001b[0m\u001b[0;34m.\u001b[0m\u001b[0mtime\u001b[0m\u001b[0;34m(\u001b[0m\u001b[0;34m)\u001b[0m\u001b[0;34m\u001b[0m\u001b[0;34m\u001b[0m\u001b[0m\n\u001b[0;32m----> 8\u001b[0;31m     binance_downloader(symbol=symbol, \n\u001b[0m\u001b[1;32m      9\u001b[0m                        \u001b[0mkline_interval\u001b[0m\u001b[0;34m=\u001b[0m\u001b[0mClient\u001b[0m\u001b[0;34m.\u001b[0m\u001b[0mKLINE_INTERVAL_1MINUTE\u001b[0m\u001b[0;34m,\u001b[0m\u001b[0;34m\u001b[0m\u001b[0;34m\u001b[0m\u001b[0m\n\u001b[1;32m     10\u001b[0m                        \u001b[0minterval_name\u001b[0m\u001b[0;34m=\u001b[0m\u001b[0;34m\"minute\"\u001b[0m\u001b[0;34m,\u001b[0m \u001b[0;31m#hour\u001b[0m\u001b[0;34m\u001b[0m\u001b[0;34m\u001b[0m\u001b[0m\n",
      "\u001b[0;32m<ipython-input-6-fa79692b5ac3>\u001b[0m in \u001b[0;36mbinance_downloader\u001b[0;34m(symbol, kline_interval, interval_name, path, start)\u001b[0m\n\u001b[1;32m     16\u001b[0m     \u001b[0mdata\u001b[0m\u001b[0;34m[\u001b[0m\u001b[0;34m'timestamp'\u001b[0m\u001b[0;34m]\u001b[0m \u001b[0;34m=\u001b[0m \u001b[0mpd\u001b[0m\u001b[0;34m.\u001b[0m\u001b[0mto_datetime\u001b[0m\u001b[0;34m(\u001b[0m\u001b[0mdata\u001b[0m\u001b[0;34m[\u001b[0m\u001b[0;34m'timestamp'\u001b[0m\u001b[0;34m]\u001b[0m\u001b[0;34m,\u001b[0m \u001b[0munit\u001b[0m\u001b[0;34m=\u001b[0m\u001b[0;34m'ms'\u001b[0m\u001b[0;34m)\u001b[0m\u001b[0;34m\u001b[0m\u001b[0;34m\u001b[0m\u001b[0m\n\u001b[1;32m     17\u001b[0m     \u001b[0mdata\u001b[0m\u001b[0;34m.\u001b[0m\u001b[0mset_index\u001b[0m\u001b[0;34m(\u001b[0m\u001b[0;34m'timestamp'\u001b[0m\u001b[0;34m,\u001b[0m \u001b[0minplace\u001b[0m\u001b[0;34m=\u001b[0m\u001b[0;32mTrue\u001b[0m\u001b[0;34m)\u001b[0m\u001b[0;34m\u001b[0m\u001b[0;34m\u001b[0m\u001b[0m\n\u001b[0;32m---> 18\u001b[0;31m     \u001b[0mdata\u001b[0m\u001b[0;34m.\u001b[0m\u001b[0mto_csv\u001b[0m\u001b[0;34m(\u001b[0m\u001b[0mfilename\u001b[0m\u001b[0;34m)\u001b[0m\u001b[0;34m\u001b[0m\u001b[0;34m\u001b[0m\u001b[0m\n\u001b[0m\u001b[1;32m     19\u001b[0m \u001b[0;31m#     print(f\"downloaded {filename}   \")\u001b[0m\u001b[0;34m\u001b[0m\u001b[0;34m\u001b[0m\u001b[0;34m\u001b[0m\u001b[0m\n",
      "\u001b[0;32m/Volumes/Storage/Programming/crypto-printer/env/lib/python3.9/site-packages/pandas/core/generic.py\u001b[0m in \u001b[0;36mto_csv\u001b[0;34m(self, path_or_buf, sep, na_rep, float_format, columns, header, index, index_label, mode, encoding, compression, quoting, quotechar, line_terminator, chunksize, date_format, doublequote, escapechar, decimal, errors, storage_options)\u001b[0m\n\u001b[1;32m   3461\u001b[0m         )\n\u001b[1;32m   3462\u001b[0m \u001b[0;34m\u001b[0m\u001b[0m\n\u001b[0;32m-> 3463\u001b[0;31m         return DataFrameRenderer(formatter).to_csv(\n\u001b[0m\u001b[1;32m   3464\u001b[0m             \u001b[0mpath_or_buf\u001b[0m\u001b[0;34m,\u001b[0m\u001b[0;34m\u001b[0m\u001b[0;34m\u001b[0m\u001b[0m\n\u001b[1;32m   3465\u001b[0m             \u001b[0mline_terminator\u001b[0m\u001b[0;34m=\u001b[0m\u001b[0mline_terminator\u001b[0m\u001b[0;34m,\u001b[0m\u001b[0;34m\u001b[0m\u001b[0;34m\u001b[0m\u001b[0m\n",
      "\u001b[0;32m/Volumes/Storage/Programming/crypto-printer/env/lib/python3.9/site-packages/pandas/io/formats/format.py\u001b[0m in \u001b[0;36mto_csv\u001b[0;34m(self, path_or_buf, encoding, sep, columns, index_label, mode, compression, quoting, quotechar, line_terminator, chunksize, date_format, doublequote, escapechar, errors, storage_options)\u001b[0m\n\u001b[1;32m   1103\u001b[0m             \u001b[0mformatter\u001b[0m\u001b[0;34m=\u001b[0m\u001b[0mself\u001b[0m\u001b[0;34m.\u001b[0m\u001b[0mfmt\u001b[0m\u001b[0;34m,\u001b[0m\u001b[0;34m\u001b[0m\u001b[0;34m\u001b[0m\u001b[0m\n\u001b[1;32m   1104\u001b[0m         )\n\u001b[0;32m-> 1105\u001b[0;31m         \u001b[0mcsv_formatter\u001b[0m\u001b[0;34m.\u001b[0m\u001b[0msave\u001b[0m\u001b[0;34m(\u001b[0m\u001b[0;34m)\u001b[0m\u001b[0;34m\u001b[0m\u001b[0;34m\u001b[0m\u001b[0m\n\u001b[0m\u001b[1;32m   1106\u001b[0m \u001b[0;34m\u001b[0m\u001b[0m\n\u001b[1;32m   1107\u001b[0m         \u001b[0;32mif\u001b[0m \u001b[0mcreated_buffer\u001b[0m\u001b[0;34m:\u001b[0m\u001b[0;34m\u001b[0m\u001b[0;34m\u001b[0m\u001b[0m\n",
      "\u001b[0;32m/Volumes/Storage/Programming/crypto-printer/env/lib/python3.9/site-packages/pandas/io/formats/csvs.py\u001b[0m in \u001b[0;36msave\u001b[0;34m(self)\u001b[0m\n\u001b[1;32m    235\u001b[0m         \"\"\"\n\u001b[1;32m    236\u001b[0m         \u001b[0;31m# apply compression and byte/text conversion\u001b[0m\u001b[0;34m\u001b[0m\u001b[0;34m\u001b[0m\u001b[0;34m\u001b[0m\u001b[0m\n\u001b[0;32m--> 237\u001b[0;31m         with get_handle(\n\u001b[0m\u001b[1;32m    238\u001b[0m             \u001b[0mself\u001b[0m\u001b[0;34m.\u001b[0m\u001b[0mfilepath_or_buffer\u001b[0m\u001b[0;34m,\u001b[0m\u001b[0;34m\u001b[0m\u001b[0;34m\u001b[0m\u001b[0m\n\u001b[1;32m    239\u001b[0m             \u001b[0mself\u001b[0m\u001b[0;34m.\u001b[0m\u001b[0mmode\u001b[0m\u001b[0;34m,\u001b[0m\u001b[0;34m\u001b[0m\u001b[0;34m\u001b[0m\u001b[0m\n",
      "\u001b[0;32m/Volumes/Storage/Programming/crypto-printer/env/lib/python3.9/site-packages/pandas/io/common.py\u001b[0m in \u001b[0;36mget_handle\u001b[0;34m(path_or_buf, mode, encoding, compression, memory_map, is_text, errors, storage_options)\u001b[0m\n\u001b[1;32m    699\u001b[0m         \u001b[0;32mif\u001b[0m \u001b[0mioargs\u001b[0m\u001b[0;34m.\u001b[0m\u001b[0mencoding\u001b[0m \u001b[0;32mand\u001b[0m \u001b[0;34m\"b\"\u001b[0m \u001b[0;32mnot\u001b[0m \u001b[0;32min\u001b[0m \u001b[0mioargs\u001b[0m\u001b[0;34m.\u001b[0m\u001b[0mmode\u001b[0m\u001b[0;34m:\u001b[0m\u001b[0;34m\u001b[0m\u001b[0;34m\u001b[0m\u001b[0m\n\u001b[1;32m    700\u001b[0m             \u001b[0;31m# Encoding\u001b[0m\u001b[0;34m\u001b[0m\u001b[0;34m\u001b[0m\u001b[0;34m\u001b[0m\u001b[0m\n\u001b[0;32m--> 701\u001b[0;31m             handle = open(\n\u001b[0m\u001b[1;32m    702\u001b[0m                 \u001b[0mhandle\u001b[0m\u001b[0;34m,\u001b[0m\u001b[0;34m\u001b[0m\u001b[0;34m\u001b[0m\u001b[0m\n\u001b[1;32m    703\u001b[0m                 \u001b[0mioargs\u001b[0m\u001b[0;34m.\u001b[0m\u001b[0mmode\u001b[0m\u001b[0;34m,\u001b[0m\u001b[0;34m\u001b[0m\u001b[0;34m\u001b[0m\u001b[0m\n",
      "\u001b[0;31mFileNotFoundError\u001b[0m: [Errno 2] No such file or directory: '../data/testing-hourly/MITHUSDT-minute.csv'"
     ]
    }
   ],
   "source": [
    "import time\n",
    "# symbols = [\"BTCUSDT\", \"ETHUSDT\", \"DOTUSDT\", \"ADAUSDT\", \"LTCUSDT\", \"ZECUSDT\", \"XMRUSDT\",\n",
    "#            \"ETCUSDT\", \"XLMUSDT\", \"BCHUSDT\", \"EOSUSDT\", \"DASHUSDT\", \"NANOUSDT\"]\n",
    "# symbols = pairs\n",
    "symbols = [\"MITHUSDT\", \"WINUSDT\"]\n",
    "for symbol in symbols: \n",
    "    start_time = time.time()\n",
    "    binance_downloader(symbol=symbol, \n",
    "                       kline_interval=Client.KLINE_INTERVAL_1MINUTE, \n",
    "                       interval_name=\"minute\", #hour\n",
    "                       start=\"10 Jan 1971\")\n",
    "    print(f\"Downloaded {symbol} in {str(round((time.time() - start_time)/60, 2))} minutes\")\n",
    "\n",
    "# hour-target\"\n",
    "# \"hour-predict\""
   ]
  },
  {
   "cell_type": "markdown",
   "id": "de64bc72-2413-4a47-af77-28654ecb9dd2",
   "metadata": {},
   "source": [
    "## For special"
   ]
  },
  {
   "cell_type": "code",
   "execution_count": 7,
   "id": "f2fa3707-13d0-4891-9075-5439b52c127b",
   "metadata": {},
   "outputs": [],
   "source": [
    "def binance_downloader(symbol:str, kline_interval:object, path=\"data/\", start=\"1 Jan 1900\"):\n",
    "    \"\"\"\n",
    "    downloads binance data\n",
    "    symbol: BTCUSDT\n",
    "    kline_interval: Client.KLINE_INTERVAL_1DAY, Client.KLINE_INTERVAL_1DAY, Client.KLINE_INTERVAL_1DAY\n",
    "    start: empty if from the very beginning\n",
    "    \"\"\"\n",
    "    start_date = datetime.datetime.strptime(start, '%d %b %Y')\n",
    "    today = datetime.datetime.today()\n",
    "    filename = \"../data/\" + symbol + \"-past.csv\"\n",
    "#     print(f\"downloading {filename}\", end='\\r')\n",
    "#     klines = bclient.get_klines(symbol='BTCUSDT', interval=Client.KLINE_INTERVAL_1MINUTE)\n",
    "    klines = bclient.get_historical_klines(symbol, kline_interval, start_date.strftime(\"%d %b %Y %H:%M:%S\"), today.strftime(\"%d %b %Y %H:%M:%S\"), 1000)\n",
    "    data = pd.DataFrame(klines, columns = ['timestamp', 'open', 'high', 'low', 'close', 'volume', 'close_time', 'quote_av', 'trades', 'tb_base_av', 'tb_quote_av', 'ignore'])\n",
    "    data = data[['timestamp', 'open', 'high', 'low', 'close', 'volume']]\n",
    "#     data['timestamp'] = pd.to_datetime(data['timestamp'], unit='ms')\n",
    "#     data.set_index('timestamp', inplace=True)\n",
    "    data.to_csv(filename, index=False)\n",
    "#     print(f\"downloaded {filename}   \")"
   ]
  },
  {
   "cell_type": "code",
   "execution_count": 8,
   "id": "ba781624-84e0-4ef3-8832-8ce5112d30c4",
   "metadata": {},
   "outputs": [
    {
     "name": "stdout",
     "output_type": "stream",
     "text": [
      "Downloaded FETUSDT in 11.01 minutes\n",
      "Downloaded CELRUSDT in 10.56 minutes\n"
     ]
    }
   ],
   "source": [
    "import time\n",
    "# symbols = [\"BTCUSDT\", \"ETHUSDT\", \"DOTUSDT\", \"ADAUSDT\", \"LTCUSDT\", \"ZECUSDT\", \"XMRUSDT\",\n",
    "#            \"ETCUSDT\", \"XLMUSDT\", \"BCHUSDT\", \"EOSUSDT\", \"DASHUSDT\", \"NANOUSDT\"]\n",
    "symbols = [\"FETUSDT\", \"CELRUSDT\"]\n",
    "for symbol in symbols: \n",
    "    start_time = time.time()\n",
    "    binance_downloader(symbol=symbol, \n",
    "                       kline_interval=Client.KLINE_INTERVAL_1MINUTE, \n",
    "                       start=\"10 Jul 1971\")\n",
    "    print(f\"Downloaded {symbol} in {str(round((time.time() - start_time)/60, 2))} minutes\")\n",
    "\n",
    "# hour-target\"\n",
    "# \"hour-predict\""
   ]
  },
  {
   "cell_type": "code",
   "execution_count": null,
   "id": "8e66b335-b654-4f44-8ecd-341554f7c258",
   "metadata": {},
   "outputs": [],
   "source": []
  }
 ],
 "metadata": {
  "kernelspec": {
   "display_name": "Python 3",
   "language": "python",
   "name": "python3"
  },
  "language_info": {
   "codemirror_mode": {
    "name": "ipython",
    "version": 3
   },
   "file_extension": ".py",
   "mimetype": "text/x-python",
   "name": "python",
   "nbconvert_exporter": "python",
   "pygments_lexer": "ipython3",
   "version": "3.9.5"
  }
 },
 "nbformat": 4,
 "nbformat_minor": 5
}
