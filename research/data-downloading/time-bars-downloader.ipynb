{
 "cells": [
  {
   "cell_type": "markdown",
   "id": "7d721297",
   "metadata": {},
   "source": [
    "# Time bars downloader\n",
    "\n",
    "Purpose: Downloading historical crypto data for TESTING (Cause volume is superior but more computationally intensive)"
   ]
  },
  {
   "cell_type": "code",
   "execution_count": 1,
   "id": "9ea00642",
   "metadata": {},
   "outputs": [],
   "source": [
    "# Imports\n",
    "import pandas as pd\n",
    "from binance.client import Client\n",
    "import datetime\n",
    "import json"
   ]
  },
  {
   "cell_type": "code",
   "execution_count": 2,
   "id": "83b8bd7d",
   "metadata": {},
   "outputs": [],
   "source": [
    "def get_api_keys(site: str, api_type: str)->str:\n",
    "    \"\"\"\n",
    "    gets api keys stored in api-keys/api-keys.txt\n",
    "    site: 'binance'\n",
    "    api_type: 'api', 'secret'\n",
    "    \"\"\"\n",
    "    with open('../../api-keys/api-keys.txt') as json_file:\n",
    "        return json.load(json_file)[site][api_type]\n"
   ]
  },
  {
   "cell_type": "code",
   "execution_count": 3,
   "id": "5e7f346c",
   "metadata": {},
   "outputs": [],
   "source": [
    "# Constants\n",
    "api_key = get_api_keys(\"binance\", \"api\")\n",
    "api_secret = get_api_keys(\"binance\", \"secret\")\n",
    "\n",
    "bclient = Client(api_key=api_key, api_secret=api_secret)"
   ]
  },
  {
   "cell_type": "code",
   "execution_count": 7,
   "id": "4c6bcd60",
   "metadata": {},
   "outputs": [],
   "source": [
    "def binance_downloader(symbol:str, kline_interval:object, interval_name:str, path=\"data/\", start=\"1 Jan 1900\"):\n",
    "    \"\"\"\n",
    "    downloads binance data\n",
    "    symbol: BTCUSDT\n",
    "    kline_interval: Client.KLINE_INTERVAL_1DAY, Client.KLINE_INTERVAL_1DAY, Client.KLINE_INTERVAL_1DAY\n",
    "    interval_name: only used for csv name: BTCUSDT-interval_name.csv\n",
    "    start: empty if from the very beginning\n",
    "    \"\"\"\n",
    "    start_date = datetime.datetime.strptime(start, '%d %b %Y')\n",
    "    today = datetime.datetime.today()\n",
    "    filename = \"../../data/minute/\" + symbol + \"-\" + interval_name + \".csv\"\n",
    "#     print(f\"downloading {filename}\", end='\\r')\n",
    "#     klines = bclient.get_klines(symbol='BTCUSDT', interval=Client.KLINE_INTERVAL_1MINUTE)\n",
    "    klines = bclient.get_historical_klines(symbol, kline_interval, start_date.strftime(\"%d %b %Y %H:%M:%S\"), today.strftime(\"%d %b %Y %H:%M:%S\"), 1000)\n",
    "    data = pd.DataFrame(klines, columns = ['timestamp', 'open', 'high', 'low', 'close', 'volume', 'close_time', 'quote_av', 'trades', 'tb_base_av', 'tb_quote_av', 'ignore' ])\n",
    "    data['timestamp'] = pd.to_datetime(data['timestamp'], unit='ms')\n",
    "    data.set_index('timestamp', inplace=True)\n",
    "    data.to_csv(filename)\n",
    "#     print(f\"downloaded {filename}   \")"
   ]
  },
  {
   "cell_type": "markdown",
   "id": "73965ffd",
   "metadata": {},
   "source": [
    "## Binance downloader\n",
    "\n",
    "### symbol\n",
    "- \"BTCUSDT\"\n",
    "\n",
    "### kline_interval\n",
    "- `Client.KLINE_INTERVAL_1MINUTE`\n",
    "- `Client.KLINE_INTERVAL_1HOUR`\n",
    "- `Client.KLINE_INTERVAL_1DAY`\n",
    "\n",
    "### interval_name\n",
    "- \"minute\"\n",
    "- \"hour\"\n",
    "- \"day\""
   ]
  },
  {
   "cell_type": "code",
   "execution_count": 5,
   "id": "1c96f6e7-9869-463e-aef8-d15bc1315c8d",
   "metadata": {},
   "outputs": [],
   "source": [
    "# symbols = bclient.get_all_isolated_margin_symbols()\n",
    "# fsymbols = list(filter(lambda x: \"USDT\" in x[\"symbol\"], symbols))\n",
    "# pairs = list(map(lambda x: x[\"symbol\"], fsymbols))\n",
    "# pd.Series(pairs).to_csv(\"../data/testing-hourly/0-pairs.csv\", index=False)"
   ]
  },
  {
   "cell_type": "code",
   "execution_count": 9,
   "id": "1f6346d3-c5b3-45d2-a330-7733914ab05a",
   "metadata": {},
   "outputs": [],
   "source": [
    "symbols = list(pd.read_csv(\"../../data/pairs/to-download.csv\", squeeze=True))"
   ]
  },
  {
   "cell_type": "code",
   "execution_count": 16,
   "id": "88347a1c-bd96-4803-8376-a0c694412d61",
   "metadata": {},
   "outputs": [],
   "source": [
    "symbols1 = symbols[:10]\n",
    "symbols2 = symbols[10:20]\n",
    "symbols3 = symbols[20:30]\n",
    "symbols4 = symbols[30:40]\n",
    "symbols5 = symbols[40:50]\n",
    "symbols6 = symbols[50:]"
   ]
  },
  {
   "cell_type": "code",
   "execution_count": 21,
   "id": "0254e2f5-a981-45b0-9a14-24046b6da2ae",
   "metadata": {},
   "outputs": [],
   "source": [
    "symbols = symbols2 + symbols3 + symbols4 + symbols5 + symbols6"
   ]
  },
  {
   "cell_type": "code",
   "execution_count": 28,
   "id": "ca3e3b8d-f3cc-4e02-becf-497d77c551d4",
   "metadata": {},
   "outputs": [],
   "source": [
    "ss = symbols[9:]"
   ]
  },
  {
   "cell_type": "code",
   "execution_count": 29,
   "id": "3750fb40",
   "metadata": {
    "tags": []
   },
   "outputs": [
    {
     "name": "stdout",
     "output_type": "stream",
     "text": [
      "Downloaded NULSUSDT in 13.83 minutes, sleeping 30 seconds\n",
      "Downloaded NEOUSDT in 16.96 minutes, sleeping 30 seconds\n",
      "Downloaded KAVAUSDT in 8.08 minutes, sleeping 30 seconds\n",
      "Downloaded TCTUSDT in 7.02 minutes, sleeping 30 seconds\n",
      "Downloaded IOSTUSDT in 11.09 minutes, sleeping 30 seconds\n",
      "Downloaded FETUSDT in 11.12 minutes, sleeping 30 seconds\n",
      "Downloaded ATOMUSDT in 14.67 minutes, sleeping 30 seconds\n",
      "Downloaded DREPUSDT in 7.18 minutes, sleeping 30 seconds\n",
      "Downloaded DUSKUSDT in 9.23 minutes, sleeping 30 seconds\n",
      "Downloaded BEAMUSDT in 8.72 minutes, sleeping 30 seconds\n",
      "Downloaded CHZUSDT in 9.22 minutes, sleeping 30 seconds\n",
      "Downloaded ARPAUSDT in 8.47 minutes, sleeping 30 seconds\n",
      "Downloaded XTZUSDT in 10.95 minutes, sleeping 30 seconds\n",
      "Downloaded STPTUSDT in 6.05 minutes, sleeping 30 seconds\n",
      "Downloaded ONEUSDT in 9.86 minutes, sleeping 30 seconds\n",
      "Downloaded CTSIUSDT in 5.79 minutes, sleeping 30 seconds\n",
      "Downloaded MTLUSDT in 8.6 minutes, sleeping 30 seconds\n"
     ]
    }
   ],
   "source": [
    "import time\n",
    "# symbols = [\"BTCUSDT\", \"ETHUSDT\", \"DOTUSDT\", \"ADAUSDT\", \"LTCUSDT\", \"ZECUSDT\", \"XMRUSDT\",\n",
    "#            \"ETCUSDT\", \"XLMUSDT\", \"BCHUSDT\", \"EOSUSDT\", \"DASHUSDT\", \"NANOUSDT\"]\n",
    "# symbols = pairs\n",
    "symbols = ss\n",
    "for symbol in symbols: \n",
    "    start_time = time.time()\n",
    "    binance_downloader(symbol=symbol, \n",
    "                       kline_interval=Client.KLINE_INTERVAL_1MINUTE, \n",
    "                       interval_name=\"minute\", #hour\n",
    "                       start=\"10 Jan 1971\")\n",
    "    print(f\"Downloaded {symbol} in {str(round((time.time() - start_time)/60, 2))} minutes, sleeping 30 seconds\")\n",
    "    time.sleep(30)\n",
    "    bclient = Client(api_key=api_key, api_secret=api_secret)\n",
    "# hour-target\"\n",
    "# \"hour-predict\""
   ]
  },
  {
   "cell_type": "markdown",
   "id": "de64bc72-2413-4a47-af77-28654ecb9dd2",
   "metadata": {},
   "source": [
    "## For special"
   ]
  },
  {
   "cell_type": "code",
   "execution_count": 7,
   "id": "f2fa3707-13d0-4891-9075-5439b52c127b",
   "metadata": {},
   "outputs": [],
   "source": [
    "def binance_downloader(symbol:str, kline_interval:object, path=\"data/\", start=\"1 Jan 1900\"):\n",
    "    \"\"\"\n",
    "    downloads binance data\n",
    "    symbol: BTCUSDT\n",
    "    kline_interval: Client.KLINE_INTERVAL_1DAY, Client.KLINE_INTERVAL_1DAY, Client.KLINE_INTERVAL_1DAY\n",
    "    start: empty if from the very beginning\n",
    "    \"\"\"\n",
    "    start_date = datetime.datetime.strptime(start, '%d %b %Y')\n",
    "    today = datetime.datetime.today()\n",
    "    filename = \"../data/\" + symbol + \"-past.csv\"\n",
    "#     print(f\"downloading {filename}\", end='\\r')\n",
    "#     klines = bclient.get_klines(symbol='BTCUSDT', interval=Client.KLINE_INTERVAL_1MINUTE)\n",
    "    klines = bclient.get_historical_klines(symbol, kline_interval, start_date.strftime(\"%d %b %Y %H:%M:%S\"), today.strftime(\"%d %b %Y %H:%M:%S\"), 1000)\n",
    "    data = pd.DataFrame(klines, columns = ['timestamp', 'open', 'high', 'low', 'close', 'volume', 'close_time', 'quote_av', 'trades', 'tb_base_av', 'tb_quote_av', 'ignore'])\n",
    "    data = data[['timestamp', 'open', 'high', 'low', 'close', 'volume']]\n",
    "#     data['timestamp'] = pd.to_datetime(data['timestamp'], unit='ms')\n",
    "#     data.set_index('timestamp', inplace=True)\n",
    "    data.to_csv(filename, index=False)\n",
    "#     print(f\"downloaded {filename}   \")"
   ]
  },
  {
   "cell_type": "code",
   "execution_count": 8,
   "id": "ba781624-84e0-4ef3-8832-8ce5112d30c4",
   "metadata": {},
   "outputs": [
    {
     "name": "stdout",
     "output_type": "stream",
     "text": [
      "Downloaded FETUSDT in 11.01 minutes\n",
      "Downloaded CELRUSDT in 10.56 minutes\n"
     ]
    }
   ],
   "source": [
    "import time\n",
    "# symbols = [\"BTCUSDT\", \"ETHUSDT\", \"DOTUSDT\", \"ADAUSDT\", \"LTCUSDT\", \"ZECUSDT\", \"XMRUSDT\",\n",
    "#            \"ETCUSDT\", \"XLMUSDT\", \"BCHUSDT\", \"EOSUSDT\", \"DASHUSDT\", \"NANOUSDT\"]\n",
    "symbols = [\"FETUSDT\", \"CELRUSDT\"]\n",
    "for symbol in symbols: \n",
    "    start_time = time.time()\n",
    "    binance_downloader(symbol=symbol, \n",
    "                       kline_interval=Client.KLINE_INTERVAL_1MINUTE, \n",
    "                       start=\"10 Jul 1971\")\n",
    "    print(f\"Downloaded {symbol} in {str(round((time.time() - start_time)/60, 2))} minutes\")\n",
    "\n",
    "# hour-target\"\n",
    "# \"hour-predict\""
   ]
  },
  {
   "cell_type": "code",
   "execution_count": null,
   "id": "8e66b335-b654-4f44-8ecd-341554f7c258",
   "metadata": {},
   "outputs": [],
   "source": []
  }
 ],
 "metadata": {
  "kernelspec": {
   "display_name": "Python 3",
   "language": "python",
   "name": "python3"
  },
  "language_info": {
   "codemirror_mode": {
    "name": "ipython",
    "version": 3
   },
   "file_extension": ".py",
   "mimetype": "text/x-python",
   "name": "python",
   "nbconvert_exporter": "python",
   "pygments_lexer": "ipython3",
   "version": "3.9.5"
  }
 },
 "nbformat": 4,
 "nbformat_minor": 5
}
