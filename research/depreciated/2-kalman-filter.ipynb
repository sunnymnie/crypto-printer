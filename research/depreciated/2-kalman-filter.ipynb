{
 "cells": [
  {
   "cell_type": "markdown",
   "id": "ac5f52b6-a015-4f35-ba54-feb6bc2f4e75",
   "metadata": {},
   "source": [
    "# Kalman filter strat\n",
    "Basically attempting to implement this: https://www.reddit.com/r/algotrading/comments/obbb5d/kalman_filter_stat_arb/\n",
    "\n",
    "With help from: \n",
    "https://github.com/welly87/epchanbooks/blob/main/book2/KF_beta_EWA_EWC.py"
   ]
  },
  {
   "cell_type": "code",
   "execution_count": 2,
   "id": "a266aae2-42cf-4cca-98c8-e0076469bdb2",
   "metadata": {},
   "outputs": [],
   "source": [
    "import pandas as pd\n",
    "import numpy as np\n",
    "import matplotlib.pyplot as plt\n",
    "from datetime import datetime, timedelta\n",
    "import math\n",
    "from IPython.display import clear_output\n",
    "\n",
    "import statsmodels.formula.api as sm\n",
    "import statsmodels.tsa.stattools as ts\n",
    "import statsmodels.tsa.vector_ar.vecm as vm"
   ]
  },
  {
   "cell_type": "code",
   "execution_count": 2,
   "id": "6a7ea432-29aa-482f-a72f-913bfab0c35c",
   "metadata": {},
   "outputs": [],
   "source": [
    "# FETUSDT CELRUSDT 13000 ~150\n",
    "\n",
    "# WINUSDT WRXUSDT 162 ~150                 X\n",
    "# GTOUSDT MITHUSDT 304, ~500               300   √\n",
    "# DREPUSDT WINUSDT 26000, ~500             X\n",
    "# ARDRUSDT WANUSDT 470, ~200 but very low volume   188\n",
    "# CTXCUSDT WTCUSDT 420, ~500, but very low volume  229...\n",
    "# COSUSDT TROYUSDT 220, ~500,\n",
    "# BTSUSDT CTXCUSDT 290, ~500,\n",
    "# AIONUSDT LSKUSDT 310, ~300, but very low volume\n",
    "# NPXSUSDT ONEUSDT 400, ~2000 very risky\n",
    "# MITHUSDT NKNUSDT 380, ~500\n",
    "# NKNUSDT WRXUSDT 40, but up recently, ~200\n"
   ]
  },
  {
   "cell_type": "code",
   "execution_count": 3,
   "id": "7dbecf7c-28fe-44bc-8819-2e0032d71d71",
   "metadata": {},
   "outputs": [],
   "source": [
    "df1 = pd.read_csv(\"../data/minute/CELRUSDT-minute.csv\", index_col=0, parse_dates=True)\n",
    "df2 = pd.read_csv(\"../data/minute/FETUSDT-minute.csv\", index_col=0, parse_dates=True)\n",
    "\n",
    "# df1 = pd.read_csv(\"../data/testing-hourly/NKNUSDT-hour.csv\", index_col=0, parse_dates=True)\n",
    "# df2 = pd.read_csv(\"../data/testing-hourly/WRXUSDT-hour.csv\", index_col=0, parse_dates=True)\n",
    "\n",
    "# df1 = pd.read_csv(\"../data/CELRUSDT-past.csv\", index_col=0, parse_dates=True)\n",
    "# df2 = pd.read_csv(\"../data/FETUSDT-past.csv\", index_col=0, parse_dates=True)\n",
    "\n",
    "# df1 = pd.read_csv(\"../data/testing-hourly/BTTUSDT-minute.csv\", index_col=0, parse_dates=True)\n",
    "# df2 = pd.read_csv(\"../data/testing-hourly/HOTUSDT-minute.csv\", index_col=0, parse_dates=True)\n",
    "\n",
    "# df1 = pd.read_csv(\"../data/ZECUSDT-minute.csv\", index_col=0, parse_dates=True)\n",
    "# df2 = pd.read_csv(\"../data/XMRUSDT-minute.csv\", index_col=0, parse_dates=True)"
   ]
  },
  {
   "cell_type": "code",
   "execution_count": 4,
   "id": "df462d37-ac6f-4d0a-8830-4efc672a9ff3",
   "metadata": {},
   "outputs": [
    {
     "name": "stdout",
     "output_type": "stream",
     "text": [
      "1212637\n",
      "1247928\n"
     ]
    }
   ],
   "source": [
    "print(len(df1))\n",
    "print(len(df2))"
   ]
  },
  {
   "cell_type": "code",
   "execution_count": 5,
   "id": "11abe121-ac0a-486e-b9b0-870f30985aa0",
   "metadata": {},
   "outputs": [],
   "source": [
    "df = df1.open.rename(\"A\").to_frame()\n",
    "df[\"B\"] = df2.open\n",
    "# df[\"C\"] = df3.close"
   ]
  },
  {
   "cell_type": "code",
   "execution_count": 6,
   "id": "47998e6d-4e22-419f-9ff0-e1a95cb3df99",
   "metadata": {},
   "outputs": [],
   "source": [
    "df = df[1000:]\n",
    "df = df.dropna()"
   ]
  },
  {
   "cell_type": "code",
   "execution_count": 7,
   "id": "e6ac6376-e89f-44fa-9413-2ba14a6c368e",
   "metadata": {},
   "outputs": [],
   "source": [
    "# fig, (ax, ax1) = plt.subplots(2, figsize=(12, 8))\n",
    "# ax.plot(df[df.columns[0]], color=\"lightblue\", alpha=.95)\n",
    "# axi = ax.twinx()\n",
    "# axi.plot(df[df.columns[1]], color=\"orange\", alpha=.75)\n",
    "# ax1.scatter(df[df.columns[0]], df[df.columns[1]]);"
   ]
  },
  {
   "cell_type": "markdown",
   "id": "63dab18d-cf60-4499-9a3f-94211fa90218",
   "metadata": {},
   "source": [
    "### Standard"
   ]
  },
  {
   "cell_type": "code",
   "execution_count": 78,
   "id": "5a75c148-8b8b-4fac-b09e-43e02aa55824",
   "metadata": {},
   "outputs": [
    {
     "name": "stdout",
     "output_type": "stream",
     "text": [
      "hedgeRatio=8.966777\n"
     ]
    }
   ],
   "source": [
    "results = sm.ols(formula=\"B ~ A\", data=df[['B', 'A']]).fit()\n",
    "hedgeRatio = results.params[1]\n",
    "print('hedgeRatio=%f' % hedgeRatio)"
   ]
  },
  {
   "cell_type": "code",
   "execution_count": 79,
   "id": "cb9e7f20-4bce-45f0-ab25-a57f281d6201",
   "metadata": {},
   "outputs": [],
   "source": [
    "spread = pd.Series((df['B'] - hedgeRatio * df['A'])).rename(\"spread\").to_frame()\n",
    "spread[\"mean\"] = spread.spread.rolling(4000).mean()\n",
    "spread[\"std\"] =  spread.spread.rolling(4000).std()\n",
    "spread[\"zscore\"] = pd.Series((spread[\"spread\"]-spread[\"mean\"])/spread[\"std\"])\n",
    "\n",
    "# spread.spread.plot()"
   ]
  },
  {
   "cell_type": "markdown",
   "id": "7026310c-990c-44a1-a660-083a3c7e0055",
   "metadata": {},
   "source": [
    "### Lookback period"
   ]
  },
  {
   "cell_type": "code",
   "execution_count": 333,
   "id": "51d0ddf4-8676-4f40-8142-c42566c04cea",
   "metadata": {},
   "outputs": [
    {
     "name": "stdout",
     "output_type": "stream",
     "text": [
      "1210 < 1211\n"
     ]
    }
   ],
   "source": [
    "ds = 1000 #downsample\n",
    "hedgeRatio = np.full(df.shape[0], np.nan)\n",
    "l = math.floor(len(hedgeRatio)/ds)\n",
    "index = []\n",
    "for t in np.arange(l):\n",
    "    clear_output()\n",
    "    print(f\"{t} < {l}\")\n",
    "    regress_results = sm.ols(formula=\"B ~ A\",\n",
    "                             data=df[:t*ds+1]).fit()  # Note this can deal with NaN in top row\n",
    "    hedgeRatio[t] = regress_results.params[1]\n",
    "    index.append(df.index[t*ds+1])"
   ]
  },
  {
   "cell_type": "code",
   "execution_count": 334,
   "id": "2e9a7d10-f9f3-454a-982f-5d90a6fcbee1",
   "metadata": {},
   "outputs": [],
   "source": [
    "hedgeRatio1211 = hedgeRatio\n",
    "index1211 = index"
   ]
  },
  {
   "cell_type": "code",
   "execution_count": 301,
   "id": "e8dbe31e-687b-48ea-b4cb-967eb2cb2508",
   "metadata": {
    "tags": []
   },
   "outputs": [
    {
     "name": "stdout",
     "output_type": "stream",
     "text": [
      "7115 < 7116\n"
     ]
    }
   ],
   "source": [
    "# lookback = 500000\n",
    "# ds = 100 #downsample\n",
    "# hedgeRatio = np.full(df.shape[0], np.nan)\n",
    "# l = math.floor(len(hedgeRatio[:-lookback])/ds)\n",
    "# index = []\n",
    "# for t in np.arange(l):\n",
    "#     clear_output()\n",
    "#     print(f\"{t} < {l}\")\n",
    "#     regress_results = sm.ols(formula=\"B ~ A\",\n",
    "#                              data=df[t*ds:t*ds+lookback]).fit()  # Note this can deal with NaN in top row\n",
    "#     hedgeRatio[t] = regress_results.params[1]\n",
    "#     index.append(df.index[t*ds+lookback])"
   ]
  },
  {
   "cell_type": "code",
   "execution_count": 314,
   "id": "36d01423-977c-44e2-b643-e52a349ff301",
   "metadata": {},
   "outputs": [],
   "source": [
    "# hedgeRatio500k = hedgeRatio"
   ]
  },
  {
   "cell_type": "code",
   "execution_count": 332,
   "id": "f6be57ef-ee25-49d9-a0fa-0baeff3b6d89",
   "metadata": {},
   "outputs": [],
   "source": [
    "# index500k = index"
   ]
  },
  {
   "cell_type": "code",
   "execution_count": 364,
   "id": "60fc74a7-9897-4f52-b9dc-b4ed20dfd3f3",
   "metadata": {},
   "outputs": [],
   "source": [
    "# hedgeRatio = hedgeRatio1211\n",
    "# index = index1211"
   ]
  },
  {
   "cell_type": "code",
   "execution_count": 433,
   "id": "6f5301a7-2d52-48e6-ad80-a3eba305df55",
   "metadata": {},
   "outputs": [],
   "source": [
    "hr = pd.Series(hedgeRatio).dropna().rename(\"hr\").to_frame()\n",
    "\n",
    "hr[\"index\"] = index\n",
    "hr.set_index(\"index\", inplace=True)"
   ]
  },
  {
   "cell_type": "code",
   "execution_count": 434,
   "id": "fdbff971-e850-46c2-848e-00ede0b6cb47",
   "metadata": {},
   "outputs": [],
   "source": [
    "spread = pd.DataFrame(hr.hr, index=df.index)\n",
    "# spread = pd.DataFrame(list(hr), index=df.index, columns=[\"hr\"])"
   ]
  },
  {
   "cell_type": "code",
   "execution_count": 435,
   "id": "283a19e0-1a5a-41e2-af99-5520ff8e5993",
   "metadata": {},
   "outputs": [],
   "source": [
    "spread.ffill(inplace=True)"
   ]
  },
  {
   "cell_type": "code",
   "execution_count": 436,
   "id": "83c73b3f-7a1c-4453-9221-04013aded434",
   "metadata": {},
   "outputs": [],
   "source": [
    "spread = pd.Series((df['B'] - spread[\"hr\"] * df['A'])).rename(\"spread\").to_frame()\n",
    "spread[\"mean\"] = spread.spread.rolling(4000).mean()\n",
    "spread[\"std\"] =  spread.spread.rolling(4000).std()\n",
    "spread[\"zscore\"] = pd.Series((spread[\"spread\"]-spread[\"mean\"])/spread[\"std\"])"
   ]
  },
  {
   "cell_type": "markdown",
   "id": "22691e8b-6fa4-4a5b-b3c8-63b8336b3e92",
   "metadata": {},
   "source": [
    "### Kalman filter lookback period"
   ]
  },
  {
   "cell_type": "markdown",
   "id": "c46ed303-f9d3-4ecb-a8b7-fa0b99ba0732",
   "metadata": {},
   "source": [
    "### Continue"
   ]
  },
  {
   "cell_type": "code",
   "execution_count": 437,
   "id": "dfe1d932-f73b-45ac-986c-98131030e5c0",
   "metadata": {},
   "outputs": [],
   "source": [
    "spread = spread.dropna()"
   ]
  },
  {
   "cell_type": "code",
   "execution_count": 438,
   "id": "d678d8eb-9a16-48f5-aeb8-7e3e436a55e2",
   "metadata": {},
   "outputs": [],
   "source": [
    "spread[\"A\"] = df1[\"close\"].reindex(spread.index)\n",
    "spread[\"Ah\"] = df1[\"high\"].reindex(spread.index)\n",
    "spread[\"Al\"] = df1[\"low\"].reindex(spread.index)\n",
    "\n",
    "spread[\"B\"] = df2[\"close\"].reindex(spread.index)\n",
    "spread[\"Bh\"] = df2[\"high\"].reindex(spread.index)\n",
    "spread[\"Bl\"] = df2[\"low\"].reindex(spread.index)\n",
    "\n",
    "# spread.index = (range(len(spread))) #If using XXXUSDT-past.csv"
   ]
  },
  {
   "cell_type": "markdown",
   "id": "ebb4635b-5511-4eac-92d8-656e390c2832",
   "metadata": {},
   "source": [
    "### Bollinger band thres + sell_thres"
   ]
  },
  {
   "cell_type": "code",
   "execution_count": 371,
   "id": "39f78c47-e2db-4b23-ab3a-643a545a52de",
   "metadata": {},
   "outputs": [],
   "source": [
    "def bbands(price, window, sd1, sd2, width=None, ):\n",
    "    \"\"\" returns average, upper band, and lower band\"\"\"\n",
    "    ave = price.rolling(window).mean()\n",
    "    sd = price.rolling(window).std(ddof=0)      \n",
    "\n",
    "    upband = ave + (sd*sd1)\n",
    "    dnband = ave - (sd*sd2)\n",
    "    return np.round(upband,5), -np.round(dnband,5)"
   ]
  },
  {
   "cell_type": "code",
   "execution_count": 372,
   "id": "bd5a8c4c-9a88-4be7-a303-e433e3ff2e84",
   "metadata": {},
   "outputs": [],
   "source": [
    "window=100000\n",
    "sd1 = 1.\n",
    "sd2 = 1.\n",
    "spread['thres'],spread['sell_thres']=bbands(spread.zscore, window, sd1, sd2)\n",
    "spread.dropna(inplace=True)"
   ]
  },
  {
   "cell_type": "code",
   "execution_count": 173,
   "id": "592dd131-7ab7-401e-bd6a-96657d5d3a59",
   "metadata": {},
   "outputs": [],
   "source": [
    "spread[\"sell_thres\"] = 0"
   ]
  },
  {
   "cell_type": "code",
   "execution_count": 373,
   "id": "574dcea6-ab0c-4f9e-8507-72964c877460",
   "metadata": {},
   "outputs": [
    {
     "data": {
      "text/plain": [
       "<matplotlib.lines.Line2D at 0x7fb185fd7a30>"
      ]
     },
     "execution_count": 373,
     "metadata": {},
     "output_type": "execute_result"
    },
    {
     "data": {
      "image/png": "[encoded data removed]",
      "text/plain": [
       "<Figure size 864x288 with 1 Axes>"
      ]
     },
     "metadata": {
      "needs_background": "light"
     },
     "output_type": "display_data"
    }
   ],
   "source": [
    "fig, ax = plt.subplots(figsize=(12, 4))\n",
    "\n",
    "\n",
    "ax.plot(spread.zscore)\n",
    "ax.plot(spread.thres, color=\"green\")\n",
    "ax.plot(-spread.sell_thres, color=\"red\")\n",
    "ax.axhline(y=1, color=\"gray\")\n",
    "ax.axhline(y=-1, color=\"gray\")"
   ]
  },
  {
   "cell_type": "markdown",
   "id": "b0439e48-0845-4771-9936-6daab6c89b43",
   "metadata": {},
   "source": [
    "### Scaling-in thres and sell_thres"
   ]
  },
  {
   "cell_type": "markdown",
   "id": "72664338-7e8a-4c65-9fee-874ed29de031",
   "metadata": {},
   "source": [
    "### Continue"
   ]
  },
  {
   "cell_type": "code",
   "execution_count": 374,
   "id": "4f3bb4ea-142f-4f06-9402-d2b10729b737",
   "metadata": {
    "collapsed": true,
    "jupyter": {
     "outputs_hidden": true
    },
    "tags": []
   },
   "outputs": [
    {
     "data": {
      "text/html": [
       "<div>\n",
       "<style scoped>\n",
       "    .dataframe tbody tr th:only-of-type {\n",
       "        vertical-align: middle;\n",
       "    }\n",
       "\n",
       "    .dataframe tbody tr th {\n",
       "        vertical-align: top;\n",
       "    }\n",
       "\n",
       "    .dataframe thead th {\n",
       "        text-align: right;\n",
       "    }\n",
       "</style>\n",
       "<table border=\"1\" class=\"dataframe\">\n",
       "  <thead>\n",
       "    <tr style=\"text-align: right;\">\n",
       "      <th></th>\n",
       "      <th>spread</th>\n",
       "      <th>mean</th>\n",
       "      <th>std</th>\n",
       "      <th>zscore</th>\n",
       "      <th>A</th>\n",
       "      <th>Ah</th>\n",
       "      <th>Al</th>\n",
       "      <th>B</th>\n",
       "      <th>Bh</th>\n",
       "      <th>Bl</th>\n",
       "      <th>thres</th>\n",
       "      <th>sell_thres</th>\n",
       "    </tr>\n",
       "    <tr>\n",
       "      <th>timestamp</th>\n",
       "      <th></th>\n",
       "      <th></th>\n",
       "      <th></th>\n",
       "      <th></th>\n",
       "      <th></th>\n",
       "      <th></th>\n",
       "      <th></th>\n",
       "      <th></th>\n",
       "      <th></th>\n",
       "      <th></th>\n",
       "      <th></th>\n",
       "      <th></th>\n",
       "    </tr>\n",
       "  </thead>\n",
       "  <tbody>\n",
       "    <tr>\n",
       "      <th>2021-07-16 12:52:00</th>\n",
       "      <td>-0.001349</td>\n",
       "      <td>-0.000413</td>\n",
       "      <td>0.004550</td>\n",
       "      <td>-0.205688</td>\n",
       "      <td>0.02321</td>\n",
       "      <td>0.02323</td>\n",
       "      <td>0.02320</td>\n",
       "      <td>0.20654</td>\n",
       "      <td>0.20689</td>\n",
       "      <td>0.20649</td>\n",
       "      <td>1.42339</td>\n",
       "      <td>1.24354</td>\n",
       "    </tr>\n",
       "    <tr>\n",
       "      <th>2021-07-16 12:53:00</th>\n",
       "      <td>-0.001758</td>\n",
       "      <td>-0.000412</td>\n",
       "      <td>0.004548</td>\n",
       "      <td>-0.296064</td>\n",
       "      <td>0.02345</td>\n",
       "      <td>0.02345</td>\n",
       "      <td>0.02323</td>\n",
       "      <td>0.20795</td>\n",
       "      <td>0.20850</td>\n",
       "      <td>0.20655</td>\n",
       "      <td>1.42339</td>\n",
       "      <td>1.24355</td>\n",
       "    </tr>\n",
       "    <tr>\n",
       "      <th>2021-07-16 12:54:00</th>\n",
       "      <td>-0.002461</td>\n",
       "      <td>-0.000410</td>\n",
       "      <td>0.004547</td>\n",
       "      <td>-0.451086</td>\n",
       "      <td>0.02338</td>\n",
       "      <td>0.02344</td>\n",
       "      <td>0.02338</td>\n",
       "      <td>0.20825</td>\n",
       "      <td>0.20866</td>\n",
       "      <td>0.20773</td>\n",
       "      <td>1.42339</td>\n",
       "      <td>1.24355</td>\n",
       "    </tr>\n",
       "    <tr>\n",
       "      <th>2021-07-16 12:55:00</th>\n",
       "      <td>-0.001613</td>\n",
       "      <td>-0.000409</td>\n",
       "      <td>0.004545</td>\n",
       "      <td>-0.264847</td>\n",
       "      <td>0.02338</td>\n",
       "      <td>0.02340</td>\n",
       "      <td>0.02337</td>\n",
       "      <td>0.20924</td>\n",
       "      <td>0.20932</td>\n",
       "      <td>0.20803</td>\n",
       "      <td>1.42339</td>\n",
       "      <td>1.24355</td>\n",
       "    </tr>\n",
       "    <tr>\n",
       "      <th>2021-07-16 12:56:00</th>\n",
       "      <td>-0.000851</td>\n",
       "      <td>-0.000407</td>\n",
       "      <td>0.004544</td>\n",
       "      <td>-0.097770</td>\n",
       "      <td>0.02356</td>\n",
       "      <td>0.02356</td>\n",
       "      <td>0.02344</td>\n",
       "      <td>0.21125</td>\n",
       "      <td>0.21125</td>\n",
       "      <td>0.20922</td>\n",
       "      <td>1.42339</td>\n",
       "      <td>1.24355</td>\n",
       "    </tr>\n",
       "  </tbody>\n",
       "</table>\n",
       "</div>"
      ],
      "text/plain": [
       "                       spread      mean       std    zscore        A       Ah  \\\n",
       "timestamp                                                                       \n",
       "2021-07-16 12:52:00 -0.001349 -0.000413  0.004550 -0.205688  0.02321  0.02323   \n",
       "2021-07-16 12:53:00 -0.001758 -0.000412  0.004548 -0.296064  0.02345  0.02345   \n",
       "2021-07-16 12:54:00 -0.002461 -0.000410  0.004547 -0.451086  0.02338  0.02344   \n",
       "2021-07-16 12:55:00 -0.001613 -0.000409  0.004545 -0.264847  0.02338  0.02340   \n",
       "2021-07-16 12:56:00 -0.000851 -0.000407  0.004544 -0.097770  0.02356  0.02356   \n",
       "\n",
       "                          Al        B       Bh       Bl    thres  sell_thres  \n",
       "timestamp                                                                     \n",
       "2021-07-16 12:52:00  0.02320  0.20654  0.20689  0.20649  1.42339     1.24354  \n",
       "2021-07-16 12:53:00  0.02323  0.20795  0.20850  0.20655  1.42339     1.24355  \n",
       "2021-07-16 12:54:00  0.02338  0.20825  0.20866  0.20773  1.42339     1.24355  \n",
       "2021-07-16 12:55:00  0.02337  0.20924  0.20932  0.20803  1.42339     1.24355  \n",
       "2021-07-16 12:56:00  0.02344  0.21125  0.21125  0.20922  1.42339     1.24355  "
      ]
     },
     "execution_count": 374,
     "metadata": {},
     "output_type": "execute_result"
    }
   ],
   "source": [
    "spread.tail(5)"
   ]
  },
  {
   "cell_type": "code",
   "execution_count": 439,
   "id": "6342c923-9744-414c-b1ff-49173bb431d8",
   "metadata": {},
   "outputs": [
    {
     "name": "stdout",
     "output_type": "stream",
     "text": [
      "1207637\n"
     ]
    }
   ],
   "source": [
    "print(len(spread))\n",
    "spread = spread[-700_000:]"
   ]
  },
  {
   "cell_type": "code",
   "execution_count": 440,
   "id": "808c473c-2095-4563-b25a-f88bad4d9139",
   "metadata": {},
   "outputs": [],
   "source": [
    "def get_a_b(al, ac, ah, bl, bc, bh):\n",
    "    return ac-abs(ac-al)/2, ac+abs(ac-ah)/2, bc-abs(bc-bl)/2, bc+abs(bc-bh)/2"
   ]
  },
  {
   "cell_type": "code",
   "execution_count": 441,
   "id": "ae4a333c-3b48-4b81-aebb-c3fc22f610fa",
   "metadata": {},
   "outputs": [],
   "source": [
    "fee = 0.003       #Set double normal rate\n",
    "thres = 1.       #2\n",
    "sell_thres = 1.   # 0, in range [0, ...) for more travel"
   ]
  },
  {
   "cell_type": "code",
   "execution_count": 380,
   "id": "9acb7b8d-1909-4d86-85b1-cdb90f2a5aad",
   "metadata": {
    "jupyter": {
     "source_hidden": true
    },
    "tags": []
   },
   "outputs": [],
   "source": [
    "# Variable thres and sell_thres from spread.thres and spread.sell_thres\n",
    "total = 100.\n",
    "cusum = []\n",
    "price_a = None\n",
    "price_b = None\n",
    "long = None       #Values: None, \"A\", \"B\"\n",
    "long_a = []\n",
    "long_b = []\n",
    "liquidate = []\n",
    "test = []\n",
    "trades = 0\n",
    "for i in range(spread.shape[0]):\n",
    "    z = spread.zscore[i]\n",
    "    thres = spread.thres[i]\n",
    "    sell_thres = spread.sell_thres[i]\n",
    "    if long == None: # Looking to buy\n",
    "        if z>thres or z<-thres:\n",
    "            trades += 1\n",
    "            al, ah, bl, bh = get_a_b(spread.Al[i], spread.A[i], spread.Ah[i], spread.Bl[i], spread.B[i], spread.Bh[i])\n",
    "            if z>thres: \n",
    "                price_a = [ah, ((total/2)/ah)*(1.-fee)]\n",
    "                price_b = [bl, ((total/2)/bl)*(1.-fee)]\n",
    "                long = \"A\"\n",
    "                long_a.append(spread.index[i])\n",
    "            elif z<-thres:\n",
    "                price_a = [al, ((total/2)/al)*(1.-fee)]\n",
    "                price_b = [bh, ((total/2)/bh)*(1.-fee)]\n",
    "                long = \"B\"\n",
    "                long_b.append(spread.index[i])\n",
    "    if long == \"B\" and z>sell_thres: #Liquidate positions\n",
    "        al, ah, bl, bh = get_a_b(spread.Al[i], spread.A[i], spread.Ah[i], spread.Bl[i], spread.B[i], spread.Bh[i])\n",
    "        total += (price_a[0] - ah)*price_a[1]-(ah*price_a[1]*fee)\n",
    "        total += (bl - price_b[0])*price_b[1]-(bl*price_b[1]*fee)\n",
    "        price_a, price_b, long = None, None, None\n",
    "        liquidate.append(spread.index[i])\n",
    "    elif long == \"A\" and z<-sell_thres: #Liquidate positions\n",
    "        al, ah, bl, bh = get_a_b(spread.Al[i], spread.A[i], spread.Ah[i], spread.Bl[i], spread.B[i], spread.Bh[i])\n",
    "        total += (al - price_a[0])*price_a[1]-(al*price_a[1]*fee)\n",
    "        total += (price_b[0] - bh)*price_b[1]-(bh*price_b[1]*fee)\n",
    "        price_a, price_b, long = None, None, None\n",
    "        liquidate.append(spread.index[i])\n",
    "    cusum.append(total)"
   ]
  },
  {
   "cell_type": "code",
   "execution_count": 132,
   "id": "eff43bd4-a6b1-4cc0-bb9a-4b5bcf2c61d5",
   "metadata": {
    "tags": []
   },
   "outputs": [],
   "source": [
    "# Above + Max drawdown + Max drawdown length\n",
    "total = 100.\n",
    "p_total = 100. #Previous total\n",
    "dd_indices = [] #Drawdown indicies\n",
    "dd_i = True #Ignore\n",
    "cusum = []\n",
    "price_a = None\n",
    "price_b = None\n",
    "long = None       #Values: None, \"A\", \"B\"\n",
    "long_a = []\n",
    "long_b = []\n",
    "liquidate = []\n",
    "max_dr = 0\n",
    "max_df_length = 0\n",
    "trades = 0\n",
    "for i in range(spread.shape[0]):\n",
    "    z = spread.zscore[i]\n",
    "    thres = spread.thres[i]\n",
    "    sell_thres = spread.sell_thres[i]\n",
    "    al, ah, bl, bh = get_a_b(spread.Al[i], spread.A[i], spread.Ah[i], spread.Bl[i], spread.B[i], spread.Bh[i])\n",
    "    if long == None: # Looking to buy\n",
    "        if z>thres or z<-thres:\n",
    "            trades += 1\n",
    "            if z>thres: \n",
    "                price_a = [ah, ((total/2)/ah)*(1.-fee)]\n",
    "                price_b = [bl, ((total/2)/bl)*(1.-fee)]\n",
    "                long = \"A\"\n",
    "                long_a.append(spread.index[i])\n",
    "            elif z<-thres:\n",
    "                price_a = [al, ((total/2)/al)*(1.-fee)]\n",
    "                price_b = [bh, ((total/2)/bh)*(1.-fee)]\n",
    "                long = \"B\"\n",
    "                long_b.append(spread.index[i])\n",
    "    if long == \"B\" and z>sell_thres: #Liquidate positions\n",
    "        total += (price_a[0] - ah)*price_a[1]-(ah*price_a[1]*fee)\n",
    "        total += (bl - price_b[0])*price_b[1]-(bl*price_b[1]*fee)\n",
    "        price_a, price_b, long = None, None, None\n",
    "        liquidate.append(spread.index[i])\n",
    "    elif long == \"A\" and z<-sell_thres: #Liquidate positions\n",
    "        total += (al - price_a[0])*price_a[1]-(al*price_a[1]*fee)\n",
    "        total += (price_b[0] - bh)*price_b[1]-(bh*price_b[1]*fee)\n",
    "        price_a, price_b, long = None, None, None\n",
    "        liquidate.append(spread.index[i])\n",
    "    if long == \"B\":\n",
    "        dd = 0.5*(price_a[0] - ah)/price_a[0]\n",
    "        dd += 0.5*(bl - price_b[0])/price_b[0]\n",
    "        max_dr = dd if max_dr > dd else max_dr\n",
    "    elif long == \"A\":\n",
    "        dd = 0.5*(al - price_a[0])/price_a[0]\n",
    "        dd += 0.5*(price_b[0] - bh)/price_b[0]\n",
    "        max_dr = dd if max_dr > dd else max_dr\n",
    "        \n",
    "    if total < p_total:\n",
    "        if dd_i:\n",
    "            dd_indices.append(spread.index[i])\n",
    "            dd_i = False\n",
    "    else:\n",
    "        if not dd_i:\n",
    "            dd_indices.append(spread.index[i])\n",
    "            dd_i = True\n",
    "        p_total = total\n",
    "    \n",
    "    cusum.append(total)"
   ]
  },
  {
   "cell_type": "code",
   "execution_count": 427,
   "id": "0a0e11e3-1d53-40dd-a67c-8cf9a69d7d5d",
   "metadata": {
    "jupyter": {
     "source_hidden": true
    },
    "tags": []
   },
   "outputs": [],
   "source": [
    "# Buy  random value between high and low, now correct LONG A or B\n",
    "total = 100.\n",
    "cusum = []\n",
    "price_a = None\n",
    "price_b = None\n",
    "long = None       #Values: None, \"A\", \"B\"\n",
    "long_a = []\n",
    "long_b = []\n",
    "liquidate = []\n",
    "test = []\n",
    "trades = 0\n",
    "for i in range(spread.shape[0]):\n",
    "    z = spread.zscore[i]\n",
    "    if long == None: # Looking to buy\n",
    "        if z>thres or z<-thres:\n",
    "            trades += 1\n",
    "            al, ah, bl, bh = get_a_b(spread.Al[i], spread.A[i], spread.Ah[i], spread.Bl[i], spread.B[i], spread.Bh[i])\n",
    "            if z>thres: \n",
    "                price_a = [ah, ((total/2)/ah)*(1.-fee)]\n",
    "                price_b = [bl, ((total/2)/bl)*(1.-fee)]\n",
    "                long = \"A\"\n",
    "                long_a.append(spread.index[i])\n",
    "            elif z<-thres:\n",
    "                price_a = [al, ((total/2)/al)*(1.-fee)]\n",
    "                price_b = [bh, ((total/2)/bh)*(1.-fee)]\n",
    "                long = \"B\"\n",
    "                long_b.append(spread.index[i])\n",
    "    if long == \"B\" and z>sell_thres: #Liquidate positions\n",
    "        al, ah, bl, bh = get_a_b(spread.Al[i], spread.A[i], spread.Ah[i], spread.Bl[i], spread.B[i], spread.Bh[i])\n",
    "        total += (price_a[0] - ah)*price_a[1]-(ah*price_a[1]*fee)\n",
    "        total += (bl - price_b[0])*price_b[1]-(bl*price_b[1]*fee)\n",
    "        price_a, price_b, long = None, None, None\n",
    "        liquidate.append(spread.index[i])\n",
    "    elif long == \"A\" and z<-sell_thres: #Liquidate positions\n",
    "        al, ah, bl, bh = get_a_b(spread.Al[i], spread.A[i], spread.Ah[i], spread.Bl[i], spread.B[i], spread.Bh[i])\n",
    "        total += (al - price_a[0])*price_a[1]-(al*price_a[1]*fee)\n",
    "        total += (price_b[0] - bh)*price_b[1]-(bh*price_b[1]*fee)\n",
    "        price_a, price_b, long = None, None, None\n",
    "        liquidate.append(spread.index[i])\n",
    "    cusum.append(total)"
   ]
  },
  {
   "cell_type": "code",
   "execution_count": 347,
   "id": "a3306c0c-34f7-4f88-aef3-d5523142e65a",
   "metadata": {
    "jupyter": {
     "source_hidden": true
    },
    "tags": []
   },
   "outputs": [],
   "source": [
    "# Buy liquidate after 1 days no matter what\n",
    "total = 100.\n",
    "cusum = []\n",
    "price_a = None\n",
    "price_b = None\n",
    "long = None       #Values: None, \"A\", \"B\"\n",
    "long_a = []\n",
    "long_b = []\n",
    "liquidate = []\n",
    "test = []\n",
    "vb = None\n",
    "prevent = None\n",
    "trades = 0\n",
    "mr = -1           #or 1 for not mean reversion\n",
    "for i in range(spread.shape[0]):\n",
    "    z = spread.zscore[i]\n",
    "    if long == None: # Looking to buy\n",
    "        if z>thres or z<-thres:\n",
    "            trades += 1\n",
    "            al, ah, bl, bh = get_a_b(spread.Al[i], spread.A[i], spread.Ah[i], spread.Bl[i], spread.B[i], spread.Bh[i])\n",
    "            if z>thres and prevent != \"B\": \n",
    "                vb = spread.index[i] + timedelta(1)\n",
    "                price_a = [ah, ((total/2)/ah)*(1.-fee)]\n",
    "                price_b = [bl, ((total/2)/bl)*(1.-fee)]\n",
    "                long = \"B\"\n",
    "                long_b.append(spread.index[i])\n",
    "                prevent = None\n",
    "            elif z<-thres and prevent != \"A\":\n",
    "                vb = spread.index[i] + timedelta(1)\n",
    "                price_a = [al, ((total/2)/al)*(1.-fee)]\n",
    "                price_b = [bh, ((total/2)/bh)*(1.-fee)]\n",
    "                long = \"A\"\n",
    "                long_a.append(spread.index[i])\n",
    "                prevent = None\n",
    "    if (long == \"A\" and z>sell_thres) or (long==\"A\" and spread.index[i]>vb): #Liquidate positions\n",
    "        al, ah, bl, bh = get_a_b(spread.Al[i], spread.A[i], spread.Ah[i], spread.Bl[i], spread.B[i], spread.Bh[i])\n",
    "        total += (price_a[0] - ah)*price_a[1]-(ah*price_a[1]*fee)\n",
    "        total += (bl - price_b[0])*price_b[1]-(bl*price_b[1]*fee)\n",
    "        price_a, price_b, long = None, None, None\n",
    "        liquidate.append(spread.index[i])\n",
    "        if vb:\n",
    "            prevent = \"A\"\n",
    "            vb = None\n",
    "    elif (long == \"B\" and z<-sell_thres) or (long==\"B\" and spread.index[i]>vb): #Liquidate positions\n",
    "        al, ah, bl, bh = get_a_b(spread.Al[i], spread.A[i], spread.Ah[i], spread.Bl[i], spread.B[i], spread.Bh[i])\n",
    "        total += (al - price_a[0])*price_a[1]-(al*price_a[1]*fee)\n",
    "        total += (price_b[0] - bh)*price_b[1]-(bh*price_b[1]*fee)\n",
    "        price_a, price_b, long = None, None, None\n",
    "        liquidate.append(spread.index[i])\n",
    "        if vb: \n",
    "            prevent = \"B\"\n",
    "            vb = None\n",
    "    cusum.append(total)"
   ]
  },
  {
   "cell_type": "code",
   "execution_count": 442,
   "id": "f2d6887f-96e1-47da-9729-08843ce3808a",
   "metadata": {
    "jupyter": {
     "source_hidden": true
    },
    "tags": []
   },
   "outputs": [],
   "source": [
    "# CONSTANT TOTAL\n",
    "total = 100.\n",
    "cusum = []\n",
    "price_a = None\n",
    "price_b = None\n",
    "long = None       #Values: None, \"A\", \"B\"\n",
    "long_a = []\n",
    "long_b = []\n",
    "liquidate = []\n",
    "test = []\n",
    "trades = 0\n",
    "for i in range(spread.shape[0]):\n",
    "    z = spread.zscore[i]\n",
    "    if long == None: # Looking to buy\n",
    "        if z>thres or z<-thres:\n",
    "            trades += 1\n",
    "            al, ah, bl, bh = get_a_b(spread.Al[i], spread.A[i], spread.Ah[i], spread.Bl[i], spread.B[i], spread.Bh[i])\n",
    "            if z>thres: \n",
    "                price_a = [ah, ((50/2)/ah)*(1.-fee)]\n",
    "                price_b = [bl, ((50/2)/bl)*(1.-fee)]\n",
    "                long = \"A\"\n",
    "                long_a.append(spread.index[i])\n",
    "            elif z<-thres:\n",
    "                price_a = [al, ((50/2)/al)*(1.-fee)]\n",
    "                price_b = [bh, ((50/2)/bh)*(1.-fee)]\n",
    "                long = \"B\"\n",
    "                long_b.append(spread.index[i])\n",
    "    if long == \"B\" and z>sell_thres: #Liquidate positions\n",
    "        al, ah, bl, bh = get_a_b(spread.Al[i], spread.A[i], spread.Ah[i], spread.Bl[i], spread.B[i], spread.Bh[i])\n",
    "        total += (price_a[0] - ah)*price_a[1]-(ah*price_a[1]*fee)\n",
    "        total += (bl - price_b[0])*price_b[1]-(bl*price_b[1]*fee)\n",
    "        price_a, price_b, long = None, None, None\n",
    "        liquidate.append(spread.index[i])\n",
    "    elif long == \"A\" and z<-sell_thres: #Liquidate positions\n",
    "        al, ah, bl, bh = get_a_b(spread.Al[i], spread.A[i], spread.Ah[i], spread.Bl[i], spread.B[i], spread.Bh[i])\n",
    "        total += (al - price_a[0])*price_a[1]-(al*price_a[1]*fee)\n",
    "        total += (price_b[0] - bh)*price_b[1]-(bh*price_b[1]*fee)\n",
    "        price_a, price_b, long = None, None, None\n",
    "        liquidate.append(spread.index[i])\n",
    "    cusum.append(total)"
   ]
  },
  {
   "cell_type": "code",
   "execution_count": 429,
   "id": "d2b422e5-18ad-4a9a-bdc9-189128b4c05c",
   "metadata": {
    "jupyter": {
     "source_hidden": true
    },
    "tags": []
   },
   "outputs": [],
   "source": [
    "# REVERSE!\n",
    "total = 100.\n",
    "cusum = []\n",
    "price_a = None\n",
    "price_b = None\n",
    "long = None       #Values: None, \"A\", \"B\"\n",
    "long_a = []\n",
    "long_b = []\n",
    "liquidate = []\n",
    "test = []\n",
    "trades = 0\n",
    "for i in range(spread.shape[0]):\n",
    "    z = spread.zscore[i]\n",
    "    if long == None: # Looking to buy\n",
    "        if z>thres or z<-thres:\n",
    "            trades += 1\n",
    "            al, ah, bl, bh = get_a_b(spread.Al[i], spread.A[i], spread.Ah[i], spread.Bl[i], spread.B[i], spread.Bh[i])\n",
    "            if z<-thres: \n",
    "                price_a = [ah, ((total/2)/ah)*(1.-fee)]\n",
    "                price_b = [bl, ((total/2)/bl)*(1.-fee)]\n",
    "                long = \"A\"\n",
    "                long_a.append(spread.index[i])\n",
    "            elif z>thres:\n",
    "                price_a = [al, ((total/2)/al)*(1.-fee)]\n",
    "                price_b = [bh, ((total/2)/bh)*(1.-fee)]\n",
    "                long = \"B\"\n",
    "                long_b.append(spread.index[i])\n",
    "    if long == \"B\" and z<-sell_thres: #Liquidate positions\n",
    "        al, ah, bl, bh = get_a_b(spread.Al[i], spread.A[i], spread.Ah[i], spread.Bl[i], spread.B[i], spread.Bh[i])\n",
    "        total += (price_a[0] - ah)*price_a[1]-(ah*price_a[1]*fee)\n",
    "        total += (bl - price_b[0])*price_b[1]-(bl*price_b[1]*fee)\n",
    "        price_a, price_b, long = None, None, None\n",
    "        liquidate.append(spread.index[i])\n",
    "    elif long == \"A\" and z>sell_thres: #Liquidate positions\n",
    "        al, ah, bl, bh = get_a_b(spread.Al[i], spread.A[i], spread.Ah[i], spread.Bl[i], spread.B[i], spread.Bh[i])\n",
    "        total += (al - price_a[0])*price_a[1]-(al*price_a[1]*fee)\n",
    "        total += (price_b[0] - bh)*price_b[1]-(bh*price_b[1]*fee)\n",
    "        price_a, price_b, long = None, None, None\n",
    "        liquidate.append(spread.index[i])\n",
    "    cusum.append(total)"
   ]
  },
  {
   "cell_type": "code",
   "execution_count": 646,
   "id": "9780c705-e3e2-43be-8645-f4204c1bad1e",
   "metadata": {
    "jupyter": {
     "source_hidden": true
    },
    "tags": []
   },
   "outputs": [],
   "source": [
    "# False results for hourly representation\n",
    "total = 100.\n",
    "cusum = []\n",
    "price_a = None\n",
    "price_b = None\n",
    "long = None       #Values: None, \"A\", \"B\"\n",
    "long_a = []\n",
    "long_b = []\n",
    "liquidate = []\n",
    "test = []\n",
    "trades = 0\n",
    "for i in range(spread.shape[0]):\n",
    "    z = spread.zscore[i]\n",
    "    if long == None: # Looking to buy\n",
    "        if z>thres or z<-thres:\n",
    "            trades += 1\n",
    "            al, ah, bl, bh = spread.A[i], spread.A[i], spread.B[i], spread.B[i]\n",
    "            if z>thres: \n",
    "                price_a = [ah, ((total/2)/ah)*(1.-fee)]\n",
    "                price_b = [bl, ((total/2)/bl)*(1.-fee)]\n",
    "                long = \"A\"\n",
    "                long_a.append(spread.index[i])\n",
    "            elif z<-thres:\n",
    "                price_a = [al, ((total/2)/al)*(1.-fee)]\n",
    "                price_b = [bh, ((total/2)/bh)*(1.-fee)]\n",
    "                long = \"B\"\n",
    "                long_b.append(spread.index[i])\n",
    "    if long == \"B\" and z>sell_thres: #Liquidate positions\n",
    "        al, ah, bl, bh = spread.A[i], spread.A[i], spread.B[i], spread.B[i]\n",
    "        total += (price_a[0] - ah)*price_a[1]-(ah*price_a[1]*fee)\n",
    "        total += (bl - price_b[0])*price_b[1]-(bl*price_b[1]*fee)\n",
    "        price_a, price_b, long = None, None, None\n",
    "        liquidate.append(spread.index[i])\n",
    "    elif long == \"A\" and z<-sell_thres: #Liquidate positions\n",
    "        al, ah, bl, bh = spread.A[i], spread.A[i], spread.B[i], spread.B[i]\n",
    "        total += (al - price_a[0])*price_a[1]-(al*price_a[1]*fee)\n",
    "        total += (price_b[0] - bh)*price_b[1]-(bh*price_b[1]*fee)\n",
    "        price_a, price_b, long = None, None, None\n",
    "        liquidate.append(spread.index[i])\n",
    "    cusum.append(total)"
   ]
  },
  {
   "cell_type": "code",
   "execution_count": 22,
   "id": "025b481c-8591-4f2b-bddc-4ac03da9ab42",
   "metadata": {},
   "outputs": [],
   "source": [
    "# a = df1[1_000_000:]\n",
    "# a = abs(a.low-a.close)/a.close"
   ]
  },
  {
   "cell_type": "code",
   "execution_count": 443,
   "id": "2fcb74bd-2539-43a3-80dc-796a2fcafdf8",
   "metadata": {},
   "outputs": [
    {
     "name": "stdout",
     "output_type": "stream",
     "text": [
      "369.1591124391487\n"
     ]
    },
    {
     "data": {
      "image/png": "[encoded data removed]",
      "text/plain": [
       "<Figure size 432x288 with 1 Axes>"
      ]
     },
     "metadata": {
      "needs_background": "light"
     },
     "output_type": "display_data"
    }
   ],
   "source": [
    "plt.plot(cusum);\n",
    "print(total)"
   ]
  },
  {
   "cell_type": "code",
   "execution_count": 133,
   "id": "a46aa147-9f89-449f-8f48-de2c2b4c26f7",
   "metadata": {},
   "outputs": [
    {
     "data": {
      "text/plain": [
       "-0.32890191491676646"
      ]
     },
     "execution_count": 133,
     "metadata": {},
     "output_type": "execute_result"
    }
   ],
   "source": [
    "max_dr"
   ]
  },
  {
   "cell_type": "code",
   "execution_count": 134,
   "id": "b228f314-31c0-4f23-a3ea-ce6211bdc460",
   "metadata": {},
   "outputs": [],
   "source": [
    "a = dd_indices[1::2]\n",
    "b = dd_indices[::2]"
   ]
  },
  {
   "cell_type": "code",
   "execution_count": 135,
   "id": "d2f01f63-95d4-4ad1-8463-e44472a7cf63",
   "metadata": {},
   "outputs": [],
   "source": [
    "a = np.array(a)\n",
    "b = np.array(b[:len(a)])\n",
    "c = a-b"
   ]
  },
  {
   "cell_type": "code",
   "execution_count": 136,
   "id": "bdd0149b-5117-455b-a231-91a1b0fcca5d",
   "metadata": {},
   "outputs": [
    {
     "data": {
      "text/plain": [
       "array([Timedelta('39 days 09:01:00'), Timedelta('29 days 13:32:00'),\n",
       "       Timedelta('23 days 01:07:00'), Timedelta('18 days 07:19:00'),\n",
       "       Timedelta('13 days 01:04:00'), Timedelta('10 days 06:16:00'),\n",
       "       Timedelta('10 days 03:24:00'), Timedelta('9 days 17:37:00'),\n",
       "       Timedelta('7 days 17:09:00'), Timedelta('7 days 13:37:00')],\n",
       "      dtype=object)"
      ]
     },
     "execution_count": 136,
     "metadata": {},
     "output_type": "execute_result"
    }
   ],
   "source": [
    "c.sort()\n",
    "c[::-1][:10]"
   ]
  },
  {
   "cell_type": "markdown",
   "id": "8c9375fa-ea67-4a51-b36f-cb4fe7397d64",
   "metadata": {},
   "source": [
    "## Plotting"
   ]
  },
  {
   "cell_type": "code",
   "execution_count": 131,
   "id": "deec1c91-43d4-44ce-8376-2d44c0615571",
   "metadata": {
    "tags": []
   },
   "outputs": [
    {
     "data": {
      "text/plain": [
       "[<matplotlib.lines.Line2D at 0x7fb23b234b80>]"
      ]
     },
     "execution_count": 131,
     "metadata": {},
     "output_type": "execute_result"
    },
    {
     "data": {
      "image/png": "[encoded data removed]",
      "text/plain": [
       "<Figure size 864x648 with 6 Axes>"
      ]
     },
     "metadata": {
      "needs_background": "light"
     },
     "output_type": "display_data"
    }
   ],
   "source": [
    "plot = spread\n",
    "plot[\"cusum\"] = cusum\n",
    "\n",
    "s = list(pd.Series(cusum).diff())\n",
    "s = pd.Series(s, index=spread.index)\n",
    "plot[\"diffs\"] = s[s != 0.]\n",
    "\n",
    "\n",
    "plot = plot[-30000:] #500_000:700_000\n",
    "\n",
    "fig, (ax, axz, axc) = plt.subplots(3, figsize=(12,9))\n",
    "\n",
    "# close_df.loc['2014':].plot(ax=ax, alpha=.5)\n",
    "ax.plot(plot.A, alpha=.7, color=\"lightblue\", label=\"A\")\n",
    "ax1 = ax.twinx()\n",
    "ax1.plot(plot.B, alpha=.5, color=\"orange\", label=\"B\")\n",
    "\n",
    "\n",
    "ax.plot(plot.A.reindex(long_a), marker='^', markersize=7,\n",
    "                     alpha=0.75, color='blue', linewidth=0)\n",
    "\n",
    "ax.plot(plot.A.reindex(long_b), marker='v', markersize=7,\n",
    "                     alpha=0.75, color='blue', linewidth=0)\n",
    "\n",
    "ax1.plot(plot.B.reindex(long_b), marker='^', markersize=7,\n",
    "                     alpha=0.75, color='red', linewidth=0)\n",
    "\n",
    "ax1.plot(plot.B.reindex(long_a), marker='v', markersize=7,\n",
    "                     alpha=0.75, color='red', linewidth=0)\n",
    "ax.plot(plot.A.reindex(liquidate), marker='o', markersize=7,\n",
    "                     alpha=0.75, color='gray', linewidth=0)\n",
    "ax1.plot(plot.B.reindex(liquidate), marker='o', markersize=7,\n",
    "                     alpha=0.75, color='gray', linewidth=0)\n",
    "ax2 = ax.twinx()\n",
    "ax2.plot(plot.cusum, color=\"gray\", alpha=.5)\n",
    "ax.legend()\n",
    "ax1.legend()\n",
    "\n",
    "axz.plot(plot.zscore, color=\"gray\", alpha=.5, label=\"zscore\")\n",
    "axz.plot(plot.zscore.reindex(long_a), marker='o', markersize=7,\n",
    "                     alpha=0.75, label='long_a', color='lightblue', linewidth=0)\n",
    "axz.plot(plot.zscore.reindex(long_b), marker='o', markersize=7,\n",
    "                     alpha=0.75, label='long_b', color='orange', linewidth=0)\n",
    "axz.plot(plot.zscore.reindex(liquidate), marker='o', markersize=7,\n",
    "                     alpha=0.75, label='liquidate', color='gray', linewidth=0)\n",
    "\n",
    "axz.legend()\n",
    "\n",
    "axc.scatter(plot.index, plot.diffs[plot.diffs > 0].reindex(plot.index)*100/plot.cusum, color=\"green\", alpha=.5)\n",
    "axc.scatter(plot.index, plot.diffs[plot.diffs <= 0].reindex(plot.index)*100/plot.cusum, color=\"red\", alpha=.5)\n",
    "axc.axhline(0, linestyle=\"--\", color=\"blue\", alpha=.5)\n",
    "axc1 = axc.twinx()\n",
    "axc1.plot(plot.cusum, color=\"gray\", alpha=.5)"
   ]
  },
  {
   "cell_type": "markdown",
   "id": "262fbca6-0a3d-484e-ab0b-a2be7205b049",
   "metadata": {},
   "source": [
    "## Creating metalabels"
   ]
  },
  {
   "cell_type": "code",
   "execution_count": 128,
   "id": "2b322673-9146-4bd5-998d-a224da13bfe4",
   "metadata": {},
   "outputs": [
    {
     "data": {
      "text/plain": [
       "2019-03-29 04:39:00    1\n",
       "2019-03-29 07:07:00   -1\n",
       "2019-03-29 18:25:00    1\n",
       "2019-03-31 06:51:00   -1\n",
       "2019-03-31 16:32:00    1\n",
       "                      ..\n",
       "2021-07-11 01:26:00   -1\n",
       "2021-07-12 09:59:00    1\n",
       "2021-07-12 12:02:00   -1\n",
       "2021-07-14 09:12:00    1\n",
       "2021-07-16 00:09:00   -1\n",
       "Length: 1909, dtype: int64"
      ]
     },
     "execution_count": 128,
     "metadata": {},
     "output_type": "execute_result"
    }
   ],
   "source": [
    "side_up = pd.Series(1, index=long_a)\n",
    "side_down = pd.Series(-1, index=long_b)\n",
    "side = pd.concat([side_up,side_down]).sort_index()\n",
    "side"
   ]
  },
  {
   "cell_type": "code",
   "execution_count": 137,
   "id": "091c392a-5248-4352-ad69-2772ac0b7630",
   "metadata": {},
   "outputs": [],
   "source": [
    "c_sum = pd.Series(data=cusum, index=spread.index)\n",
    "c_sum = c_sum.diff()\n",
    "c_sum = c_sum[c_sum != 0.][1:]\n",
    "target = c_sum.map(lambda x: 1 if x>0 else 0)"
   ]
  },
  {
   "cell_type": "code",
   "execution_count": 141,
   "id": "d005a118-9971-4ae3-b486-6243b6882808",
   "metadata": {},
   "outputs": [],
   "source": [
    "metalabels = side[:-1].rename(\"side\").to_frame()\n",
    "metalabels[\"ret\"] = list(c_sum)\n",
    "metalabels[\"target\"] = list(target)"
   ]
  },
  {
   "cell_type": "code",
   "execution_count": 143,
   "id": "8c78741d-64b0-441e-bc2a-cdf4b564780d",
   "metadata": {},
   "outputs": [],
   "source": [
    "metalabels.to_csv(\"../data/metalabels.csv\")"
   ]
  },
  {
   "cell_type": "markdown",
   "id": "35b563b3-582c-4a63-8ee7-72f90c286ca1",
   "metadata": {},
   "source": [
    "## Others"
   ]
  },
  {
   "cell_type": "code",
   "execution_count": 489,
   "id": "03d0c934-2d63-4502-8f3b-38e5efcc0ce1",
   "metadata": {},
   "outputs": [
    {
     "ename": "KeyboardInterrupt",
     "evalue": "",
     "output_type": "error",
     "traceback": [
      "\u001b[0;31m---------------------------------------------------------------------------\u001b[0m",
      "\u001b[0;31mKeyboardInterrupt\u001b[0m                         Traceback (most recent call last)",
      "\u001b[0;32m<ipython-input-489-7f9deb12e337>\u001b[0m in \u001b[0;36m<module>\u001b[0;34m\u001b[0m\n\u001b[1;32m      1\u001b[0m \u001b[0;31m# cadf test\u001b[0m\u001b[0;34m\u001b[0m\u001b[0;34m\u001b[0m\u001b[0;34m\u001b[0m\u001b[0m\n\u001b[0;32m----> 2\u001b[0;31m \u001b[0mcoint_t\u001b[0m\u001b[0;34m,\u001b[0m \u001b[0mpvalue\u001b[0m\u001b[0;34m,\u001b[0m \u001b[0mcrit_value\u001b[0m \u001b[0;34m=\u001b[0m \u001b[0mts\u001b[0m\u001b[0;34m.\u001b[0m\u001b[0mcoint\u001b[0m\u001b[0;34m(\u001b[0m\u001b[0mdf\u001b[0m\u001b[0;34m[\u001b[0m\u001b[0;34m'B'\u001b[0m\u001b[0;34m]\u001b[0m\u001b[0;34m,\u001b[0m \u001b[0mdf\u001b[0m\u001b[0;34m[\u001b[0m\u001b[0;34m'A'\u001b[0m\u001b[0;34m]\u001b[0m\u001b[0;34m)\u001b[0m\u001b[0;34m\u001b[0m\u001b[0;34m\u001b[0m\u001b[0m\n\u001b[0m\u001b[1;32m      3\u001b[0m \u001b[0mprint\u001b[0m\u001b[0;34m(\u001b[0m\u001b[0;34m't-statistic=%f'\u001b[0m \u001b[0;34m%\u001b[0m \u001b[0mcoint_t\u001b[0m\u001b[0;34m)\u001b[0m\u001b[0;34m\u001b[0m\u001b[0;34m\u001b[0m\u001b[0m\n\u001b[1;32m      4\u001b[0m \u001b[0mprint\u001b[0m\u001b[0;34m(\u001b[0m\u001b[0;34m'pvalue=%f'\u001b[0m \u001b[0;34m%\u001b[0m \u001b[0mpvalue\u001b[0m\u001b[0;34m)\u001b[0m\u001b[0;34m\u001b[0m\u001b[0;34m\u001b[0m\u001b[0m\n\u001b[1;32m      5\u001b[0m \u001b[0mprint\u001b[0m\u001b[0;34m(\u001b[0m\u001b[0mcrit_value\u001b[0m\u001b[0;34m)\u001b[0m\u001b[0;34m\u001b[0m\u001b[0;34m\u001b[0m\u001b[0m\n",
      "\u001b[0;32m/Volumes/Storage/Programming/bitcoin-printer/env/lib/python3.9/site-packages/statsmodels/tsa/stattools.py\u001b[0m in \u001b[0;36mcoint\u001b[0;34m(y0, y1, trend, method, maxlag, autolag, return_results)\u001b[0m\n\u001b[1;32m   1599\u001b[0m \u001b[0;34m\u001b[0m\u001b[0m\n\u001b[1;32m   1600\u001b[0m     \u001b[0;32mif\u001b[0m \u001b[0mres_co\u001b[0m\u001b[0;34m.\u001b[0m\u001b[0mrsquared\u001b[0m \u001b[0;34m<\u001b[0m \u001b[0;36m1\u001b[0m \u001b[0;34m-\u001b[0m \u001b[0;36m100\u001b[0m \u001b[0;34m*\u001b[0m \u001b[0mSQRTEPS\u001b[0m\u001b[0;34m:\u001b[0m\u001b[0;34m\u001b[0m\u001b[0;34m\u001b[0m\u001b[0m\n\u001b[0;32m-> 1601\u001b[0;31m         res_adf = adfuller(\n\u001b[0m\u001b[1;32m   1602\u001b[0m             \u001b[0mres_co\u001b[0m\u001b[0;34m.\u001b[0m\u001b[0mresid\u001b[0m\u001b[0;34m,\u001b[0m \u001b[0mmaxlag\u001b[0m\u001b[0;34m=\u001b[0m\u001b[0mmaxlag\u001b[0m\u001b[0;34m,\u001b[0m \u001b[0mautolag\u001b[0m\u001b[0;34m=\u001b[0m\u001b[0mautolag\u001b[0m\u001b[0;34m,\u001b[0m \u001b[0mregression\u001b[0m\u001b[0;34m=\u001b[0m\u001b[0;34m\"nc\"\u001b[0m\u001b[0;34m\u001b[0m\u001b[0;34m\u001b[0m\u001b[0m\n\u001b[1;32m   1603\u001b[0m         )\n",
      "\u001b[0;32m/Volumes/Storage/Programming/bitcoin-printer/env/lib/python3.9/site-packages/statsmodels/tsa/stattools.py\u001b[0m in \u001b[0;36madfuller\u001b[0;34m(x, maxlag, regression, autolag, store, regresults)\u001b[0m\n\u001b[1;32m    312\u001b[0m \u001b[0;34m\u001b[0m\u001b[0m\n\u001b[1;32m    313\u001b[0m         \u001b[0;32mif\u001b[0m \u001b[0;32mnot\u001b[0m \u001b[0mregresults\u001b[0m\u001b[0;34m:\u001b[0m\u001b[0;34m\u001b[0m\u001b[0;34m\u001b[0m\u001b[0m\n\u001b[0;32m--> 314\u001b[0;31m             icbest, bestlag = _autolag(\n\u001b[0m\u001b[1;32m    315\u001b[0m                 \u001b[0mOLS\u001b[0m\u001b[0;34m,\u001b[0m \u001b[0mxdshort\u001b[0m\u001b[0;34m,\u001b[0m \u001b[0mfullRHS\u001b[0m\u001b[0;34m,\u001b[0m \u001b[0mstartlag\u001b[0m\u001b[0;34m,\u001b[0m \u001b[0mmaxlag\u001b[0m\u001b[0;34m,\u001b[0m \u001b[0mautolag\u001b[0m\u001b[0;34m\u001b[0m\u001b[0;34m\u001b[0m\u001b[0m\n\u001b[1;32m    316\u001b[0m             )\n",
      "\u001b[0;32m/Volumes/Storage/Programming/bitcoin-printer/env/lib/python3.9/site-packages/statsmodels/tsa/stattools.py\u001b[0m in \u001b[0;36m_autolag\u001b[0;34m(mod, endog, exog, startlag, maxlag, method, modargs, fitargs, regresults)\u001b[0m\n\u001b[1;32m    123\u001b[0m     \u001b[0;32mfor\u001b[0m \u001b[0mlag\u001b[0m \u001b[0;32min\u001b[0m \u001b[0mrange\u001b[0m\u001b[0;34m(\u001b[0m\u001b[0mstartlag\u001b[0m\u001b[0;34m,\u001b[0m \u001b[0mstartlag\u001b[0m \u001b[0;34m+\u001b[0m \u001b[0mmaxlag\u001b[0m \u001b[0;34m+\u001b[0m \u001b[0;36m1\u001b[0m\u001b[0;34m)\u001b[0m\u001b[0;34m:\u001b[0m\u001b[0;34m\u001b[0m\u001b[0;34m\u001b[0m\u001b[0m\n\u001b[1;32m    124\u001b[0m         \u001b[0mmod_instance\u001b[0m \u001b[0;34m=\u001b[0m \u001b[0mmod\u001b[0m\u001b[0;34m(\u001b[0m\u001b[0mendog\u001b[0m\u001b[0;34m,\u001b[0m \u001b[0mexog\u001b[0m\u001b[0;34m[\u001b[0m\u001b[0;34m:\u001b[0m\u001b[0;34m,\u001b[0m \u001b[0;34m:\u001b[0m\u001b[0mlag\u001b[0m\u001b[0;34m]\u001b[0m\u001b[0;34m,\u001b[0m \u001b[0;34m*\u001b[0m\u001b[0mmodargs\u001b[0m\u001b[0;34m)\u001b[0m\u001b[0;34m\u001b[0m\u001b[0;34m\u001b[0m\u001b[0m\n\u001b[0;32m--> 125\u001b[0;31m         \u001b[0mresults\u001b[0m\u001b[0;34m[\u001b[0m\u001b[0mlag\u001b[0m\u001b[0;34m]\u001b[0m \u001b[0;34m=\u001b[0m \u001b[0mmod_instance\u001b[0m\u001b[0;34m.\u001b[0m\u001b[0mfit\u001b[0m\u001b[0;34m(\u001b[0m\u001b[0;34m)\u001b[0m\u001b[0;34m\u001b[0m\u001b[0;34m\u001b[0m\u001b[0m\n\u001b[0m\u001b[1;32m    126\u001b[0m \u001b[0;34m\u001b[0m\u001b[0m\n\u001b[1;32m    127\u001b[0m     \u001b[0;32mif\u001b[0m \u001b[0mmethod\u001b[0m \u001b[0;34m==\u001b[0m \u001b[0;34m\"aic\"\u001b[0m\u001b[0;34m:\u001b[0m\u001b[0;34m\u001b[0m\u001b[0;34m\u001b[0m\u001b[0m\n",
      "\u001b[0;32m/Volumes/Storage/Programming/bitcoin-printer/env/lib/python3.9/site-packages/statsmodels/regression/linear_model.py\u001b[0m in \u001b[0;36mfit\u001b[0;34m(self, method, cov_type, cov_kwds, use_t, **kwargs)\u001b[0m\n\u001b[1;32m    303\u001b[0m                     hasattr(self, 'rank')):\n\u001b[1;32m    304\u001b[0m \u001b[0;34m\u001b[0m\u001b[0m\n\u001b[0;32m--> 305\u001b[0;31m                 \u001b[0mself\u001b[0m\u001b[0;34m.\u001b[0m\u001b[0mpinv_wexog\u001b[0m\u001b[0;34m,\u001b[0m \u001b[0msingular_values\u001b[0m \u001b[0;34m=\u001b[0m \u001b[0mpinv_extended\u001b[0m\u001b[0;34m(\u001b[0m\u001b[0mself\u001b[0m\u001b[0;34m.\u001b[0m\u001b[0mwexog\u001b[0m\u001b[0;34m)\u001b[0m\u001b[0;34m\u001b[0m\u001b[0;34m\u001b[0m\u001b[0m\n\u001b[0m\u001b[1;32m    306\u001b[0m                 self.normalized_cov_params = np.dot(\n\u001b[1;32m    307\u001b[0m                     self.pinv_wexog, np.transpose(self.pinv_wexog))\n",
      "\u001b[0;32m/Volumes/Storage/Programming/bitcoin-printer/env/lib/python3.9/site-packages/statsmodels/tools/tools.py\u001b[0m in \u001b[0;36mpinv_extended\u001b[0;34m(x, rcond)\u001b[0m\n\u001b[1;32m    405\u001b[0m     \u001b[0mx\u001b[0m \u001b[0;34m=\u001b[0m \u001b[0mnp\u001b[0m\u001b[0;34m.\u001b[0m\u001b[0masarray\u001b[0m\u001b[0;34m(\u001b[0m\u001b[0mx\u001b[0m\u001b[0;34m)\u001b[0m\u001b[0;34m\u001b[0m\u001b[0;34m\u001b[0m\u001b[0m\n\u001b[1;32m    406\u001b[0m     \u001b[0mx\u001b[0m \u001b[0;34m=\u001b[0m \u001b[0mx\u001b[0m\u001b[0;34m.\u001b[0m\u001b[0mconjugate\u001b[0m\u001b[0;34m(\u001b[0m\u001b[0;34m)\u001b[0m\u001b[0;34m\u001b[0m\u001b[0;34m\u001b[0m\u001b[0m\n\u001b[0;32m--> 407\u001b[0;31m     \u001b[0mu\u001b[0m\u001b[0;34m,\u001b[0m \u001b[0ms\u001b[0m\u001b[0;34m,\u001b[0m \u001b[0mvt\u001b[0m \u001b[0;34m=\u001b[0m \u001b[0mnp\u001b[0m\u001b[0;34m.\u001b[0m\u001b[0mlinalg\u001b[0m\u001b[0;34m.\u001b[0m\u001b[0msvd\u001b[0m\u001b[0;34m(\u001b[0m\u001b[0mx\u001b[0m\u001b[0;34m,\u001b[0m \u001b[0;32mFalse\u001b[0m\u001b[0;34m)\u001b[0m\u001b[0;34m\u001b[0m\u001b[0;34m\u001b[0m\u001b[0m\n\u001b[0m\u001b[1;32m    408\u001b[0m     \u001b[0ms_orig\u001b[0m \u001b[0;34m=\u001b[0m \u001b[0mnp\u001b[0m\u001b[0;34m.\u001b[0m\u001b[0mcopy\u001b[0m\u001b[0;34m(\u001b[0m\u001b[0ms\u001b[0m\u001b[0;34m)\u001b[0m\u001b[0;34m\u001b[0m\u001b[0;34m\u001b[0m\u001b[0m\n\u001b[1;32m    409\u001b[0m     \u001b[0mm\u001b[0m \u001b[0;34m=\u001b[0m \u001b[0mu\u001b[0m\u001b[0;34m.\u001b[0m\u001b[0mshape\u001b[0m\u001b[0;34m[\u001b[0m\u001b[0;36m0\u001b[0m\u001b[0;34m]\u001b[0m\u001b[0;34m\u001b[0m\u001b[0;34m\u001b[0m\u001b[0m\n",
      "\u001b[0;32m<__array_function__ internals>\u001b[0m in \u001b[0;36msvd\u001b[0;34m(*args, **kwargs)\u001b[0m\n",
      "\u001b[0;32m/Volumes/Storage/Programming/bitcoin-printer/env/lib/python3.9/site-packages/numpy/linalg/linalg.py\u001b[0m in \u001b[0;36msvd\u001b[0;34m(a, full_matrices, compute_uv, hermitian)\u001b[0m\n\u001b[1;32m   1658\u001b[0m \u001b[0;34m\u001b[0m\u001b[0m\n\u001b[1;32m   1659\u001b[0m         \u001b[0msignature\u001b[0m \u001b[0;34m=\u001b[0m \u001b[0;34m'D->DdD'\u001b[0m \u001b[0;32mif\u001b[0m \u001b[0misComplexType\u001b[0m\u001b[0;34m(\u001b[0m\u001b[0mt\u001b[0m\u001b[0;34m)\u001b[0m \u001b[0;32melse\u001b[0m \u001b[0;34m'd->ddd'\u001b[0m\u001b[0;34m\u001b[0m\u001b[0;34m\u001b[0m\u001b[0m\n\u001b[0;32m-> 1660\u001b[0;31m         \u001b[0mu\u001b[0m\u001b[0;34m,\u001b[0m \u001b[0ms\u001b[0m\u001b[0;34m,\u001b[0m \u001b[0mvh\u001b[0m \u001b[0;34m=\u001b[0m \u001b[0mgufunc\u001b[0m\u001b[0;34m(\u001b[0m\u001b[0ma\u001b[0m\u001b[0;34m,\u001b[0m \u001b[0msignature\u001b[0m\u001b[0;34m=\u001b[0m\u001b[0msignature\u001b[0m\u001b[0;34m,\u001b[0m \u001b[0mextobj\u001b[0m\u001b[0;34m=\u001b[0m\u001b[0mextobj\u001b[0m\u001b[0;34m)\u001b[0m\u001b[0;34m\u001b[0m\u001b[0;34m\u001b[0m\u001b[0m\n\u001b[0m\u001b[1;32m   1661\u001b[0m         \u001b[0mu\u001b[0m \u001b[0;34m=\u001b[0m \u001b[0mu\u001b[0m\u001b[0;34m.\u001b[0m\u001b[0mastype\u001b[0m\u001b[0;34m(\u001b[0m\u001b[0mresult_t\u001b[0m\u001b[0;34m,\u001b[0m \u001b[0mcopy\u001b[0m\u001b[0;34m=\u001b[0m\u001b[0;32mFalse\u001b[0m\u001b[0;34m)\u001b[0m\u001b[0;34m\u001b[0m\u001b[0;34m\u001b[0m\u001b[0m\n\u001b[1;32m   1662\u001b[0m         \u001b[0ms\u001b[0m \u001b[0;34m=\u001b[0m \u001b[0ms\u001b[0m\u001b[0;34m.\u001b[0m\u001b[0mastype\u001b[0m\u001b[0;34m(\u001b[0m\u001b[0m_realType\u001b[0m\u001b[0;34m(\u001b[0m\u001b[0mresult_t\u001b[0m\u001b[0;34m)\u001b[0m\u001b[0;34m,\u001b[0m \u001b[0mcopy\u001b[0m\u001b[0;34m=\u001b[0m\u001b[0;32mFalse\u001b[0m\u001b[0;34m)\u001b[0m\u001b[0;34m\u001b[0m\u001b[0;34m\u001b[0m\u001b[0m\n",
      "\u001b[0;31mKeyboardInterrupt\u001b[0m: "
     ]
    }
   ],
   "source": [
    "# cadf test\n",
    "coint_t, pvalue, crit_value = ts.coint(df['B'], df['A'])\n",
    "print('t-statistic=%f' % coint_t)\n",
    "print('pvalue=%f' % pvalue)\n",
    "print(crit_value)"
   ]
  },
  {
   "cell_type": "markdown",
   "id": "8ab7f87b-773c-471a-b930-f1608cb044fc",
   "metadata": {},
   "source": [
    "### GOOD CADFs\n",
    "- ETH-XMR: -3.8\n",
    "- ZEC-XMR: -3.4\n",
    "- ETH-ADA: -5"
   ]
  },
  {
   "cell_type": "code",
   "execution_count": 490,
   "id": "4711decd-5e15-441e-aa43-aa137e91e31d",
   "metadata": {},
   "outputs": [
    {
     "name": "stdout",
     "output_type": "stream",
     "text": [
      "[199.85595738   4.26277077]\n",
      "[[13.4294 15.4943 19.9349]\n",
      " [ 2.7055  3.8415  6.6349]]\n",
      "[195.59318661   4.26277077]\n",
      "[[12.2971 14.2639 18.52  ]\n",
      " [ 2.7055  3.8415  6.6349]]\n"
     ]
    }
   ],
   "source": [
    "# Johansen test\n",
    "result = vm.coint_johansen(df[['A', 'B']].values, det_order=0, k_ar_diff=1)\n",
    "print(result.lr1)\n",
    "print(result.cvt)\n",
    "print(result.lr2)\n",
    "print(result.cvm)"
   ]
  },
  {
   "cell_type": "code",
   "execution_count": 102,
   "id": "224cc8ca-61b2-4b8c-a48f-59d2e2c775ec",
   "metadata": {},
   "outputs": [
    {
     "name": "stdout",
     "output_type": "stream",
     "text": [
      "[29.57270139  2.71300412]\n",
      "[[13.4294 15.4943 19.9349]\n",
      " [ 2.7055  3.8415  6.6349]]\n",
      "[26.85969727  2.71300412]\n",
      "[[12.2971 14.2639 18.52  ]\n",
      " [ 2.7055  3.8415  6.6349]]\n"
     ]
    }
   ],
   "source": [
    "# Add IGE for Johansen test\n",
    "result = vm.coint_johansen(df.values, det_order=0, k_ar_diff=1)\n",
    "print(result.lr1)\n",
    "print(result.cvt)\n",
    "print(result.lr2)\n",
    "print(result.cvm)"
   ]
  },
  {
   "cell_type": "code",
   "execution_count": 491,
   "id": "a170b1ea-edd8-433f-b3ff-5cdff8fc59b1",
   "metadata": {},
   "outputs": [
    {
     "name": "stdout",
     "output_type": "stream",
     "text": [
      "[1.61816728e-04 3.52692355e-06]\n",
      "[[269.19025662  23.92829479]\n",
      " [-29.24700968   3.60031228]]\n"
     ]
    }
   ],
   "source": [
    "print(result.eig)  # eigenvalues\n",
    "print(result.evec)  # eigenvectors"
   ]
  },
  {
   "cell_type": "code",
   "execution_count": 492,
   "id": "075651b4-b749-4a27-a629-215fea6f91a8",
   "metadata": {},
   "outputs": [
    {
     "data": {
      "text/plain": [
       "<AxesSubplot:>"
      ]
     },
     "execution_count": 492,
     "metadata": {},
     "output_type": "execute_result"
    },
    {
     "data": {
      "image/png": "[encoded data removed]",
      "text/plain": [
       "<Figure size 432x288 with 1 Axes>"
      ]
     },
     "metadata": {
      "needs_background": "light"
     },
     "output_type": "display_data"
    }
   ],
   "source": [
    "yport = pd.DataFrame(np.dot(df.values, result.evec[:, 0]))  # (net) market value of portfolio\n",
    "yport.plot()"
   ]
  },
  {
   "cell_type": "code",
   "execution_count": 493,
   "id": "157a286c-6efe-4dba-be90-aa2b7f2b9f15",
   "metadata": {},
   "outputs": [
    {
     "name": "stdout",
     "output_type": "stream",
     "text": [
      "Intercept   -0.000092\n",
      "ylag        -0.000375\n",
      "dtype: float64\n"
     ]
    }
   ],
   "source": [
    "ylag = yport.shift()\n",
    "deltaY = yport - ylag\n",
    "df2 = pd.concat([ylag, deltaY], axis=1)\n",
    "df2.columns = ['ylag', 'deltaY']\n",
    "regress_results = sm.ols(formula=\"deltaY ~ ylag\", data=df2).fit()  # Note this can deal with NaN in top row\n",
    "print(regress_results.params)"
   ]
  },
  {
   "cell_type": "code",
   "execution_count": 494,
   "id": "feca1395-338d-47ff-b91c-f2b31021f75f",
   "metadata": {},
   "outputs": [
    {
     "name": "stdout",
     "output_type": "stream",
     "text": [
      "halflife=1846.180824 days\n"
     ]
    }
   ],
   "source": [
    "halflife = -np.log(2) / regress_results.params['ylag']\n",
    "print('halflife=%f days' % halflife)"
   ]
  },
  {
   "cell_type": "code",
   "execution_count": 495,
   "id": "c23e4f5f-f6df-43fe-86fd-06fb0988a870",
   "metadata": {},
   "outputs": [
    {
     "name": "stdout",
     "output_type": "stream",
     "text": [
      "APR=0.012435 Sharpe=0.436517\n"
     ]
    },
    {
     "data": {
      "image/png": "[encoded data removed]",
      "text/plain": [
       "<Figure size 432x288 with 1 Axes>"
      ]
     },
     "metadata": {
      "needs_background": "light"
     },
     "output_type": "display_data"
    }
   ],
   "source": [
    "#  Apply a simple linear mean reversion strategy to EWA-EWC-IGE\n",
    "lookback = np.round(halflife).astype(int)  # setting lookback to the halflife found above\n",
    "numUnits = -(yport - yport.rolling(lookback).mean()) / yport.rolling(\n",
    "    lookback).std()  # capital invested in portfolio in dollars.  movingAvg and movingStd are functions from epchan.com/book2\n",
    "positions = pd.DataFrame(np.dot(numUnits.values, np.expand_dims(result.evec[:, 0],\n",
    "                                                                axis=1).T) * df.values)  # results.evec(:, 1)' can be viewed as the capital allocation, while positions is the dollar capital in each ETF.\n",
    "pnl = np.sum((positions.shift().values) * (df.pct_change().values), axis=1)  # daily P&L of the strategy\n",
    "ret = pnl / np.sum(np.abs(positions.shift()), axis=1)\n",
    "pd.DataFrame((np.cumprod(1 + ret) - 1)).plot()\n",
    "print('APR=%f Sharpe=%f' % (np.prod(1 + ret) ** (252 / len(ret)) - 1, np.sqrt(252) * np.mean(ret) / np.std(ret)))\n",
    "# APR=0.125739 Sharpe=191310"
   ]
  },
  {
   "cell_type": "code",
   "execution_count": null,
   "id": "6077a1da-bf4d-4ff5-ba30-dacd4f5a4f3c",
   "metadata": {},
   "outputs": [],
   "source": []
  },
  {
   "cell_type": "markdown",
   "id": "5c087af0-008b-4303-af6d-687680c83521",
   "metadata": {},
   "source": [
    "## Co-integration brute-force tests"
   ]
  },
  {
   "cell_type": "code",
   "execution_count": null,
   "id": "ccf57b05-8855-4f3d-8b5f-80518b89471c",
   "metadata": {},
   "outputs": [],
   "source": [
    "# BTCUSDT\n",
    "# ETHUSDT\n",
    "# DOTUSDT\n",
    "# ADAUSDT\n",
    "# LTCUSDT\n",
    "# ZECUSDT\n",
    "# XMRUSDT\n",
    "# ETCUSDT\n",
    "# XLMUSDT\n",
    "# BCHUSDT\n",
    "# EOSUSDT\n",
    "# DASHUSDT\n",
    "# NANOUSDT"
   ]
  },
  {
   "cell_type": "code",
   "execution_count": 495,
   "id": "a31c1518-3991-4e8c-ab28-038502d30558",
   "metadata": {},
   "outputs": [],
   "source": [
    "stats = pd.DataFrame(columns=[\"A\", \"B\", \"t\", \"p\", \"h\"])"
   ]
  },
  {
   "cell_type": "code",
   "execution_count": 496,
   "id": "7af7ddc5-dfe0-4dfe-a060-a8609dc41083",
   "metadata": {},
   "outputs": [
    {
     "name": "stdout",
     "output_type": "stream",
     "text": [
      "========== BTCUSDT and ETHUSDT ==========\n",
      "t-statistic=-2.4, pvalue=0.33, crits=[-3.89677187 -3.33631514 -3.04457851]\n",
      "halflife=2197.0 days\n",
      "========== BTCUSDT and DOTUSDT ==========\n",
      "t-statistic=-2.97, pvalue=0.12, crits=[-3.8978432  -3.33691266 -3.04499323]\n",
      "halflife=239.0 days\n",
      "========== BTCUSDT and ADAUSDT ==========\n",
      "t-statistic=-2.35, pvalue=0.35, crits=[-3.89682765 -3.33634626 -3.04460011]\n",
      "halflife=1397.0 days\n",
      "========== BTCUSDT and LTCUSDT ==========\n",
      "t-statistic=-3.65, pvalue=0.02, crits=[-3.89679128 -3.33632597 -3.04458603]\n",
      "halflife=821.0 days\n",
      "========== BTCUSDT and ZECUSDT ==========\n",
      "t-statistic=-2.95, pvalue=0.12, crits=[-3.89698287 -3.33643284 -3.04466021]\n",
      "halflife=472.0 days\n",
      "========== BTCUSDT and XMRUSDT ==========\n",
      "t-statistic=-2.67, pvalue=0.21, crits=[-3.89697903 -3.3364307  -3.04465872]\n",
      "halflife=540.0 days\n",
      "========== BTCUSDT and ETCUSDT ==========\n",
      "t-statistic=-3.17, pvalue=0.08, crits=[-3.89684698 -3.33635704 -3.04460759]\n",
      "halflife=1104.0 days\n",
      "========== BTCUSDT and XLMUSDT ==========\n",
      "t-statistic=-3.21, pvalue=0.07, crits=[-3.89684278 -3.33635469 -3.04460596]\n",
      "halflife=720.0 days\n",
      "========== BTCUSDT and BCHUSDT ==========\n",
      "t-statistic=-2.73, pvalue=0.19, crits=[-3.89721443 -3.336562   -3.04474985]\n",
      "halflife=563.0 days\n",
      "========== ETHUSDT and DOTUSDT ==========\n",
      "t-statistic=-1.22, pvalue=0.85, crits=[-3.8978432  -3.33691266 -3.04499323]\n",
      "halflife=1096.0 days\n",
      "========== ETHUSDT and ADAUSDT ==========\n",
      "t-statistic=-5.26, pvalue=0.0, crits=[-3.89682765 -3.33634626 -3.04460011]\n",
      "halflife=403.0 days\n",
      "========== ETHUSDT and LTCUSDT ==========\n",
      "t-statistic=-3.96, pvalue=0.01, crits=[-3.89679128 -3.33632597 -3.04458603]\n",
      "halflife=679.0 days\n",
      "========== ETHUSDT and ZECUSDT ==========\n",
      "t-statistic=-3.02, pvalue=0.11, crits=[-3.89698287 -3.33643284 -3.04466021]\n",
      "halflife=394.0 days\n",
      "========== ETHUSDT and XMRUSDT ==========\n",
      "t-statistic=-3.81, pvalue=0.01, crits=[-3.89697903 -3.3364307  -3.04465872]\n",
      "halflife=302.0 days\n",
      "========== ETHUSDT and ETCUSDT ==========\n",
      "t-statistic=-4.71, pvalue=0.0, crits=[-3.89684698 -3.33635704 -3.04460759]\n",
      "halflife=572.0 days\n",
      "========== ETHUSDT and XLMUSDT ==========\n",
      "t-statistic=-2.58, pvalue=0.24, crits=[-3.89684278 -3.33635469 -3.04460596]\n",
      "halflife=698.0 days\n",
      "========== ETHUSDT and BCHUSDT ==========\n",
      "t-statistic=-3.31, pvalue=0.05, crits=[-3.89721443 -3.336562   -3.04474985]\n",
      "halflife=333.0 days\n",
      "========== DOTUSDT and ADAUSDT ==========\n",
      "t-statistic=-0.7, pvalue=0.95, crits=[-3.8980494  -3.33702764 -3.04507303]\n",
      "halflife=1369.0 days\n",
      "========== DOTUSDT and LTCUSDT ==========\n",
      "t-statistic=-2.58, pvalue=0.25, crits=[-3.8980494  -3.33702764 -3.04507303]\n",
      "halflife=303.0 days\n",
      "========== DOTUSDT and ZECUSDT ==========\n",
      "t-statistic=-2.03, pvalue=0.52, crits=[-3.8980494  -3.33702764 -3.04507303]\n",
      "halflife=292.0 days\n",
      "========== DOTUSDT and XMRUSDT ==========\n",
      "t-statistic=-1.86, pvalue=0.6, crits=[-3.8980494  -3.33702764 -3.04507303]\n",
      "halflife=417.0 days\n",
      "========== DOTUSDT and ETCUSDT ==========\n",
      "t-statistic=-1.28, pvalue=0.84, crits=[-3.8980494  -3.33702764 -3.04507303]\n",
      "halflife=993.0 days\n",
      "========== DOTUSDT and XLMUSDT ==========\n",
      "t-statistic=-3.33, pvalue=0.05, crits=[-3.8980494  -3.33702764 -3.04507303]\n",
      "halflife=164.0 days\n",
      "========== DOTUSDT and BCHUSDT ==========\n",
      "t-statistic=-2.02, pvalue=0.52, crits=[-3.8980494  -3.33702764 -3.04507303]\n",
      "halflife=495.0 days\n",
      "========== ADAUSDT and LTCUSDT ==========\n",
      "t-statistic=-2.92, pvalue=0.13, crits=[-3.89684188 -3.33635419 -3.04460562]\n",
      "halflife=994.0 days\n",
      "========== ADAUSDT and ZECUSDT ==========\n",
      "t-statistic=-2.82, pvalue=0.16, crits=[-3.89698287 -3.33643284 -3.04466021]\n",
      "halflife=520.0 days\n",
      "========== ADAUSDT and XMRUSDT ==========\n",
      "t-statistic=-2.79, pvalue=0.17, crits=[-3.89697903 -3.3364307  -3.04465872]\n",
      "halflife=527.0 days\n",
      "========== ADAUSDT and ETCUSDT ==========\n",
      "t-statistic=-4.55, pvalue=0.0, crits=[-3.89684698 -3.33635704 -3.04460759]\n",
      "halflife=542.0 days\n",
      "========== ADAUSDT and XLMUSDT ==========\n",
      "t-statistic=-2.22, pvalue=0.42, crits=[-3.89684278 -3.33635469 -3.04460596]\n",
      "halflife=936.0 days\n",
      "========== ADAUSDT and BCHUSDT ==========\n",
      "t-statistic=-2.87, pvalue=0.14, crits=[-3.89721443 -3.336562   -3.04474985]\n",
      "halflife=532.0 days\n",
      "========== LTCUSDT and ZECUSDT ==========\n",
      "t-statistic=-4.27, pvalue=0.0, crits=[-3.89698287 -3.33643284 -3.04466021]\n",
      "halflife=234.0 days\n",
      "========== LTCUSDT and XMRUSDT ==========\n",
      "t-statistic=-3.27, pvalue=0.06, crits=[-3.89697903 -3.3364307  -3.04465872]\n",
      "halflife=385.0 days\n",
      "========== LTCUSDT and ETCUSDT ==========\n",
      "t-statistic=-2.87, pvalue=0.14, crits=[-3.89684698 -3.33635704 -3.04460759]\n",
      "halflife=1002.0 days\n",
      "========== LTCUSDT and XLMUSDT ==========\n",
      "t-statistic=-2.7, pvalue=0.2, crits=[-3.89684278 -3.33635469 -3.04460596]\n",
      "halflife=654.0 days\n",
      "========== LTCUSDT and BCHUSDT ==========\n",
      "t-statistic=-3.07, pvalue=0.09, crits=[-3.89721443 -3.336562   -3.04474985]\n",
      "halflife=310.0 days\n",
      "========== ZECUSDT and XMRUSDT ==========\n",
      "t-statistic=-3.38, pvalue=0.04, crits=[-3.89701119 -3.33644863 -3.04467117]\n",
      "halflife=202.0 days\n",
      "========== ZECUSDT and ETCUSDT ==========\n",
      "t-statistic=-2.75, pvalue=0.18, crits=[-3.89701119 -3.33644863 -3.04467117]\n",
      "halflife=670.0 days\n",
      "========== ZECUSDT and XLMUSDT ==========\n",
      "t-statistic=-3.32, pvalue=0.05, crits=[-3.89701119 -3.33644863 -3.04467117]\n",
      "halflife=236.0 days\n",
      "========== ZECUSDT and BCHUSDT ==========\n",
      "t-statistic=-3.69, pvalue=0.02, crits=[-3.89721443 -3.336562   -3.04474985]\n",
      "halflife=170.0 days\n",
      "========== XMRUSDT and ETCUSDT ==========\n",
      "t-statistic=-3.14, pvalue=0.08, crits=[-3.89700693 -3.33644626 -3.04466952]\n",
      "halflife=658.0 days\n",
      "========== XMRUSDT and XLMUSDT ==========\n",
      "t-statistic=-3.57, pvalue=0.03, crits=[-3.89700693 -3.33644626 -3.04466952]\n",
      "halflife=271.0 days\n",
      "========== XMRUSDT and BCHUSDT ==========\n",
      "t-statistic=-3.57, pvalue=0.03, crits=[-3.89721443 -3.336562   -3.04474985]\n",
      "halflife=266.0 days\n",
      "========== ETCUSDT and XLMUSDT ==========\n",
      "t-statistic=-2.59, pvalue=0.24, crits=[-3.89686253 -3.33636571 -3.04461361]\n",
      "halflife=865.0 days\n",
      "========== ETCUSDT and BCHUSDT ==========\n",
      "t-statistic=-1.79, pvalue=0.63, crits=[-3.89721443 -3.336562   -3.04474985]\n",
      "halflife=500.0 days\n",
      "========== XLMUSDT and BCHUSDT ==========\n",
      "t-statistic=-3.27, pvalue=0.06, crits=[-3.89721443 -3.336562   -3.04474985]\n",
      "halflife=315.0 days\n"
     ]
    },
    {
     "data": {
      "text/html": [
       "<div>\n",
       "<style scoped>\n",
       "    .dataframe tbody tr th:only-of-type {\n",
       "        vertical-align: middle;\n",
       "    }\n",
       "\n",
       "    .dataframe tbody tr th {\n",
       "        vertical-align: top;\n",
       "    }\n",
       "\n",
       "    .dataframe thead th {\n",
       "        text-align: right;\n",
       "    }\n",
       "</style>\n",
       "<table border=\"1\" class=\"dataframe\">\n",
       "  <thead>\n",
       "    <tr style=\"text-align: right;\">\n",
       "      <th></th>\n",
       "      <th>A</th>\n",
       "      <th>B</th>\n",
       "      <th>t</th>\n",
       "      <th>p</th>\n",
       "      <th>h</th>\n",
       "    </tr>\n",
       "  </thead>\n",
       "  <tbody>\n",
       "  </tbody>\n",
       "</table>\n",
       "</div>"
      ],
      "text/plain": [
       "Empty DataFrame\n",
       "Columns: [A, B, t, p, h]\n",
       "Index: []"
      ]
     },
     "execution_count": 496,
     "metadata": {},
     "output_type": "execute_result"
    }
   ],
   "source": [
    "loc = [\"BTCUSDT\", \"ETHUSDT\", \"DOTUSDT\", \"ADAUSDT\", \"LTCUSDT\", \"ZECUSDT\", \"XMRUSDT\", \"ETCUSDT\", \"XLMUSDT\", \"BCHUSDT\"]\n",
    "\n",
    "for a in loc:\n",
    "    for b in loc[loc.index(a)+1:]:\n",
    "        print(f\"========== {a} and {b} ==========\")\n",
    "        df1 = pd.read_csv(f\"../data/{a}-hour.csv\", index_col=0, parse_dates=True)\n",
    "        df2 = pd.read_csv(f\"../data/{b}-hour.csv\", index_col=0, parse_dates=True)\n",
    "        df = df1.close.rename(\"A\").to_frame()\n",
    "        df[\"B\"] = df2.close\n",
    "        df = df[1000:]\n",
    "        df = df.dropna()\n",
    "        # cadf test\n",
    "        coint_t, pvalue, crit_value = ts.coint(df['B'], df['A'])\n",
    "        print(f\"t-statistic={round(coint_t, 2)}, pvalue={round(pvalue, 2)}, crits={crit_value}\")\n",
    "\n",
    "        result = vm.coint_johansen(df[['A', 'B']].values, det_order=0, k_ar_diff=1)\n",
    "        yport = pd.DataFrame(np.dot(df.values, result.evec[:, 0]))  # (net) market value of portfolio\n",
    "        ylag = yport.shift()\n",
    "        deltaY = yport - ylag\n",
    "        df2 = pd.concat([ylag, deltaY], axis=1)\n",
    "        df2.columns = ['ylag', 'deltaY']\n",
    "        regress_results = sm.ols(formula=\"deltaY ~ ylag\", data=df2).fit()\n",
    "        halflife = -np.log(2) / regress_results.params['ylag']\n",
    "        stats.append({\"A\":a, \"B\":b, \"t\":coint_t, \"p\":pvalue, \"h\":halflife}, ignore_index=True)\n",
    "        print(f'halflife={round(halflife, 0)} days')\n",
    "stats"
   ]
  },
  {
   "cell_type": "code",
   "execution_count": null,
   "id": "a8770ca5-2737-423f-8b41-1a2f274f85ba",
   "metadata": {},
   "outputs": [],
   "source": [
    "# If reach 2 reverse position\n",
    "total = 100.\n",
    "fee = 0.002       #Set double normal rate\n",
    "thres = 1.        #2\n",
    "sell_thres = 1.   # 0, in range [0, ...) for more travel\n",
    "reverse_thres = 2. #Reverse trades if reached here, pretend it's the same trade. \n",
    "reverse = False\n",
    "cusum = []\n",
    "price_a = None\n",
    "price_b = None\n",
    "long = None       #Values: None, \"A\", \"B\"\n",
    "long_a = []\n",
    "long_b = []\n",
    "liquidate = []\n",
    "test = []\n",
    "trades = 0\n",
    "mr = -1           #or 1 for not mean reversion\n",
    "for i in range(spread.shape[0]):\n",
    "    z = spread.zscore[i]\n",
    "    if long == None: # Looking to buy\n",
    "        if z>thres or z<-thres:\n",
    "            trades += 1\n",
    "            al, ah, bl, bh = get_a_b(spread.Al[i], spread.A[i], spread.Ah[i], spread.Bl[i], spread.B[i], spread.Bh[i])\n",
    "            if z>thres: \n",
    "                price_a = [ah, ((total/2)/ah)*(1.-fee)]\n",
    "                price_b = [bl, ((total/2)/bl)*(1.-fee)]\n",
    "                long = \"B\"\n",
    "                long_b.append(spread.index[i])\n",
    "            elif z<-thres:\n",
    "                price_a = [al, ((total/2)/al)*(1.-fee)]\n",
    "                price_b = [bh, ((total/2)/bh)*(1.-fee)]\n",
    "                long = \"A\"\n",
    "                long_a.append(spread.index[i])\n",
    "    if long == \"A\" and z<-reverse_thres and not reverse: #Reverse\n",
    "        al, ah, bl, bh = get_a_b(spread.Al[i], spread.A[i], spread.Ah[i], spread.Bl[i], spread.B[i], spread.Bh[i])\n",
    "        total += liquidate_assets(long, reverse, al, ah, bl, bh, price_a, price_b, fee)\n",
    "        liquidate.append(spread.index[i])\n",
    "        \n",
    "        price_a = [ah, ((total/2)/ah)*(1.-fee)]\n",
    "        price_b = [bl, ((total/2)/bl)*(1.-fee)]\n",
    "        long_b.append(spread.index[i])\n",
    "        \n",
    "        reverse = True\n",
    "    elif long == \"B\" and z>reverse_thres and not reverse:\n",
    "        al, ah, bl, bh = get_a_b(spread.Al[i], spread.A[i], spread.Ah[i], spread.Bl[i], spread.B[i], spread.Bh[i])\n",
    "        total += liquidate_assets(long, reverse, al, ah, bl, bh, price_a, price_b, fee)\n",
    "        liquidate.append(spread.index[i])\n",
    "        \n",
    "        price_a = [al, ((total/2)/al)*(1.-fee)]\n",
    "        price_b = [bh, ((total/2)/bh)*(1.-fee)]\n",
    "        long_a.append(spread.index[i])\n",
    "        \n",
    "        reverse = True\n",
    "        \n",
    "    if long == \"A\" and z>sell_thres: #Liquidate positions\n",
    "        al, ah, bl, bh = get_a_b(spread.Al[i], spread.A[i], spread.Ah[i], spread.Bl[i], spread.B[i], spread.Bh[i])\n",
    "        total += liquidate_assets(long, reverse, al, ah, bl, bh, price_a, price_b, fee)\n",
    "        price_a, price_b, long, reverse = None, None, None, False\n",
    "        liquidate.append(spread.index[i])\n",
    "    elif long == \"B\" and z<-sell_thres: #Liquidate positions\n",
    "        al, ah, bl, bh = get_a_b(spread.Al[i], spread.A[i], spread.Ah[i], spread.Bl[i], spread.B[i], spread.Bh[i])\n",
    "        total += liquidate_assets(long, reverse, al, ah, bl, bh, price_a, price_b, fee)\n",
    "        price_a, price_b, long, reverse = None, None, None, False\n",
    "        liquidate.append(spread.index[i])\n",
    "    cusum.append(total)\n",
    "    "
   ]
  }
 ],
 "metadata": {
  "kernelspec": {
   "display_name": "Python 3",
   "language": "python",
   "name": "python3"
  },
  "language_info": {
   "codemirror_mode": {
    "name": "ipython",
    "version": 3
   },
   "file_extension": ".py",
   "mimetype": "text/x-python",
   "name": "python",
   "nbconvert_exporter": "python",
   "pygments_lexer": "ipython3",
   "version": "3.9.5"
  }
 },
 "nbformat": 4,
 "nbformat_minor": 5
}
