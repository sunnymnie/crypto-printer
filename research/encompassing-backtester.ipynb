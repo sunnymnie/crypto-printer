{
 "cells": [
  {
   "cell_type": "markdown",
   "id": "c9fffc9d-e8c8-47c1-bcda-710b9f8fc1a7",
   "metadata": {},
   "source": [
    "# Encompassing Backtester"
   ]
  },
  {
   "cell_type": "code",
   "execution_count": 1,
   "id": "618948ee-fcdf-4165-8d88-67169e7b1d43",
   "metadata": {},
   "outputs": [],
   "source": [
    "import pandas as pd\n",
    "import numpy as np\n",
    "import matplotlib.pyplot as plt\n",
    "from datetime import datetime, timedelta\n",
    "import math\n",
    "from IPython.display import clear_output\n",
    "\n",
    "import statsmodels.formula.api as sm\n",
    "import statsmodels.tsa.stattools as ts\n",
    "import statsmodels.tsa.vector_ar.vecm as vm"
   ]
  },
  {
   "cell_type": "code",
   "execution_count": 2,
   "id": "45bc2f0c-2bac-42db-9c3c-83a3f0f1a77d",
   "metadata": {},
   "outputs": [],
   "source": [
    "df1 = pd.read_csv(\"../data/minute/CELRUSDT-minute.csv\", index_col=0, parse_dates=True)\n",
    "df2 = pd.read_csv(\"../data/minute/FETUSDT-minute.csv\", index_col=0, parse_dates=True)"
   ]
  },
  {
   "cell_type": "code",
   "execution_count": 3,
   "id": "66022f6a-78c0-4d67-b4e9-fd7bcf005c96",
   "metadata": {},
   "outputs": [],
   "source": [
    "df = df1.open.rename(\"A\").to_frame()\n",
    "df[\"B\"] = df2.open\n",
    "df = df[1000:]\n",
    "df = df.dropna()"
   ]
  },
  {
   "cell_type": "markdown",
   "id": "6e9c7324-96c2-4854-b1d8-6c88e70f8cdf",
   "metadata": {},
   "source": [
    "## Hedge Ratio calculation"
   ]
  },
  {
   "cell_type": "code",
   "execution_count": 4,
   "id": "6412a81a-edf9-4c63-a198-41be2c5b8d55",
   "metadata": {},
   "outputs": [
    {
     "name": "stdout",
     "output_type": "stream",
     "text": [
      "1210 < 1211\n"
     ]
    }
   ],
   "source": [
    "ds = 1000 #downsample\n",
    "hedge_ratio = np.full(df.shape[0], np.nan)\n",
    "l = math.floor(len(hedge_ratio)/ds)\n",
    "index = []\n",
    "for t in np.arange(l):\n",
    "    clear_output()\n",
    "    print(f\"{t} < {l}\")\n",
    "    regress_results = sm.ols(formula=\"B ~ A\",\n",
    "                             data=df[:t*ds+1]).fit()  # Note this can deal with NaN in top row\n",
    "    hedge_ratio[t] = regress_results.params[1]\n",
    "    index.append(df.index[t*ds+1])"
   ]
  },
  {
   "cell_type": "code",
   "execution_count": 5,
   "id": "47a58d4b-1dff-44b6-b794-68387664c983",
   "metadata": {},
   "outputs": [],
   "source": [
    "hr = pd.Series(hedge_ratio).dropna().rename(\"hr\").to_frame()\n",
    "\n",
    "hr[\"index\"] = index\n",
    "hr.set_index(\"index\", inplace=True)\n",
    "\n",
    "spread = pd.DataFrame(hr.hr, index=df.index)\n",
    "\n",
    "spread.ffill(inplace=True)\n",
    "\n",
    "spread = pd.Series((df['B'] - spread[\"hr\"] * df['A'])).rename(\"spread\").to_frame()\n",
    "spread[\"mean\"] = spread.spread.rolling(4000).mean()\n",
    "spread[\"std\"] =  spread.spread.rolling(4000).std()\n",
    "spread[\"zscore\"] = pd.Series((spread[\"spread\"]-spread[\"mean\"])/spread[\"std\"])\n",
    "\n",
    "spread = spread.dropna()\n",
    "\n",
    "spread[\"A\"] = df1[\"close\"].reindex(spread.index)\n",
    "spread[\"Ah\"] = df1[\"high\"].reindex(spread.index)\n",
    "spread[\"Al\"] = df1[\"low\"].reindex(spread.index)\n",
    "\n",
    "spread[\"B\"] = df2[\"close\"].reindex(spread.index)\n",
    "spread[\"Bh\"] = df2[\"high\"].reindex(spread.index)\n",
    "spread[\"Bl\"] = df2[\"low\"].reindex(spread.index)\n",
    "\n",
    "# spread.index = (range(len(spread))) #If using XXXUSDT-past.csv"
   ]
  },
  {
   "cell_type": "code",
   "execution_count": 6,
   "id": "957b2764-2b88-484d-9a3f-1b79fb87a118",
   "metadata": {},
   "outputs": [
    {
     "name": "stdout",
     "output_type": "stream",
     "text": [
      "1207637\n"
     ]
    }
   ],
   "source": [
    "print(len(spread))\n",
    "spread = spread[-700_000:]"
   ]
  },
  {
   "cell_type": "markdown",
   "id": "d4bd0310-54d1-43dc-a86e-5799aa38d6a5",
   "metadata": {},
   "source": [
    "## Backtester"
   ]
  },
  {
   "cell_type": "code",
   "execution_count": 8,
   "id": "f0b2d035-c868-48c8-b8a7-5eb905c66afa",
   "metadata": {},
   "outputs": [],
   "source": [
    "def get_a_b(al, ac, ah, bl, bc, bh):\n",
    "    return ac-abs(ac-al)/2, ac+abs(ac-ah)/2, bc-abs(bc-bl)/2, bc+abs(bc-bh)/2\n",
    "\n",
    "def run_backtest(spread, thres, sell_thres, fee=0.002, interest=0.002):\n",
    "    total, p_total = 0, 0 #Previous total\n",
    "    cusum, returns = [], []\n",
    "    price_a, price_b, long = None, None, None #Values: None, \"A\", \"B\"\n",
    "    long_a, long_b, liquidate,  dd_indices= [], [], [], [] #Drawdown indicies\n",
    "    dd_i = True\n",
    "    for i in range(spread.shape[0]):\n",
    "        z = spread.zscore[i]\n",
    "        if long == None: # Looking to buy\n",
    "            if z>thres or z<-thres:\n",
    "                al, ah, bl, bh = get_a_b(spread.Al[i], spread.A[i], spread.Ah[i], spread.Bl[i], spread.B[i], spread.Bh[i])\n",
    "                price_a = ah if z > thres else al\n",
    "                price_b = bl if z > thres else bh\n",
    "                long = \"A\" if z > thres else \"B\"\n",
    "                long_a.append(spread.index[i]) if z > thres else long_b.append(spread.index[i])\n",
    "        if (long == \"A\" and z<-sell_thres) or (long == \"B\" and z>sell_thres): #Liquidate positions\n",
    "            al, ah, bl, bh = get_a_b(spread.Al[i], spread.A[i], spread.Ah[i], spread.Bl[i], spread.B[i], spread.Bh[i])\n",
    "            gain = 0\n",
    "            if long==\"A\":\n",
    "                gain = liquidate_assets(price_b, bh, al, price_a, fee, long_a[-1], spread.index[i], interest)\n",
    "            else:\n",
    "                gain = liquidate_assets(price_a, ah, bl, price_b, fee, long_b[-1], spread.index[i], interest)\n",
    "            returns.append(gain)\n",
    "            total += gain\n",
    "            price_a, price_b, long = None, None, None\n",
    "            liquidate.append(spread.index[i])\n",
    "        cusum.append(total)\n",
    "\n",
    "        if total < p_total:\n",
    "            if dd_i:\n",
    "                dd_indices.append(spread.index[i])\n",
    "                dd_i = False\n",
    "        else:\n",
    "            if not dd_i:\n",
    "                dd_indices.append(spread.index[i])\n",
    "                dd_i = True\n",
    "            p_total = total\n",
    "    if total < p_total:\n",
    "        dd_indices.append(spread.index[i])\n",
    "    drawdowns = get_drawdowns(dd_indices)\n",
    "    return long_a, long_b, liquidate, cusum, returns, drawdowns\n",
    "        \n",
    "def liquidate_assets(x1, x2, y1, y2, fee, d1, d2, interest):\n",
    "    interest = ((d2-d1).days + 1) * interest\n",
    "    total = (x1 - x2)/x1 - 2*fee - interest\n",
    "    total += (y1 - y2)/y1 - 2*fee - interest\n",
    "    return total\n",
    "\n",
    "def get_drawdowns(dd_indices):\n",
    "    a = dd_indices[1::2]\n",
    "    b = dd_indices[::2]\n",
    "    a = np.array(a)\n",
    "    b = np.array(b[:len(a)])\n",
    "    c = a-b\n",
    "    c.sort()\n",
    "    return c[::-1]"
   ]
  },
  {
   "cell_type": "code",
   "execution_count": 60,
   "id": "3e50114d-6c16-4319-b50d-57d8318672c2",
   "metadata": {},
   "outputs": [],
   "source": [
    "long_a, long_b, liquidate, cusum, returns, drawdowns = run_backtest(spread, 3., 0.)"
   ]
  },
  {
   "cell_type": "code",
   "execution_count": 61,
   "id": "1bb4d35a-f24e-412d-89d7-f249f9f53a90",
   "metadata": {},
   "outputs": [
    {
     "data": {
      "text/plain": [
       "<AxesSubplot:>"
      ]
     },
     "execution_count": 61,
     "metadata": {},
     "output_type": "execute_result"
    },
    {
     "data": {
      "image/png": "[encoded data removed]",
      "text/plain": [
       "<Figure size 432x288 with 1 Axes>"
      ]
     },
     "metadata": {
      "needs_background": "light"
     },
     "output_type": "display_data"
    }
   ],
   "source": [
    "pd.Series(cusum).plot()"
   ]
  },
  {
   "cell_type": "code",
   "execution_count": 62,
   "id": "6e8bb49b-87d0-471d-87b9-ce3d9060cf72",
   "metadata": {},
   "outputs": [
    {
     "data": {
      "text/plain": [
       "<AxesSubplot:>"
      ]
     },
     "execution_count": 62,
     "metadata": {},
     "output_type": "execute_result"
    },
    {
     "data": {
      "image/png": "[encoded data removed]",
      "text/plain": [
       "<Figure size 432x288 with 1 Axes>"
      ]
     },
     "metadata": {
      "needs_background": "light"
     },
     "output_type": "display_data"
    }
   ],
   "source": [
    "pd.Series(returns).cumsum().plot()"
   ]
  },
  {
   "cell_type": "code",
   "execution_count": 12,
   "id": "71002134-eb8e-4855-972e-e157acd7414f",
   "metadata": {},
   "outputs": [
    {
     "data": {
      "text/plain": [
       "252"
      ]
     },
     "execution_count": 12,
     "metadata": {},
     "output_type": "execute_result"
    }
   ],
   "source": [
    "len(list(filter(lambda x: x>0, returns)))"
   ]
  },
  {
   "cell_type": "code",
   "execution_count": 45,
   "id": "f75f7dcf-c556-40c1-abfb-2f6fb1f934e4",
   "metadata": {},
   "outputs": [],
   "source": [
    "def convert_timedelta_to_seconds(td):\n",
    "    \"\"\"converts timedelta to seconds\"\"\"\n",
    "    return td.days*24*60*60 + td.seconds"
   ]
  },
  {
   "cell_type": "code",
   "execution_count": 46,
   "id": "95ec6087-feaf-4607-a702-58156f431927",
   "metadata": {},
   "outputs": [
    {
     "data": {
      "text/plain": [
       "5308200"
      ]
     },
     "execution_count": 46,
     "metadata": {},
     "output_type": "execute_result"
    }
   ],
   "source": [
    "convert_timedelta_to_seconds(a)"
   ]
  },
  {
   "cell_type": "code",
   "execution_count": 48,
   "id": "fa71bea1-4aa0-413e-b5a2-6224068885e7",
   "metadata": {},
   "outputs": [],
   "source": [
    "d = {\"A\":[[1, 2, 3], [2, 3, 4]], \"B\":[3, 4]}"
   ]
  },
  {
   "cell_type": "code",
   "execution_count": 65,
   "id": "86c7b81e-3e65-43c9-a275-07085a2e0da3",
   "metadata": {},
   "outputs": [],
   "source": [
    "d = pd.Series(cusum).diff()"
   ]
  },
  {
   "cell_type": "code",
   "execution_count": null,
   "id": "640f2d3a-a0b6-4362-abf9-ed1b20a48e5b",
   "metadata": {},
   "outputs": [],
   "source": [
    "acc = []\n",
    "for i in range(len(d)/1440)"
   ]
  },
  {
   "cell_type": "code",
   "execution_count": 69,
   "id": "6367ef55-fd3a-4775-a29c-a12c550d757b",
   "metadata": {},
   "outputs": [
    {
     "data": {
      "text/plain": [
       "<AxesSubplot:>"
      ]
     },
     "execution_count": 69,
     "metadata": {},
     "output_type": "execute_result"
    },
    {
     "data": {
      "image/png": "[encoded data removed]",
      "text/plain": [
       "<Figure size 432x288 with 1 Axes>"
      ]
     },
     "metadata": {
      "needs_background": "light"
     },
     "output_type": "display_data"
    }
   ],
   "source": [
    "d.plot()"
   ]
  },
  {
   "cell_type": "code",
   "execution_count": 68,
   "id": "c2464b59-db30-4eb8-a3aa-31acddac88e1",
   "metadata": {},
   "outputs": [],
   "source": [
    "d.to_csv(\"returnss.csv\", index=False)"
   ]
  },
  {
   "cell_type": "code",
   "execution_count": 51,
   "id": "3cc2c1a8-3c8c-4bed-9531-9a64c50da2a8",
   "metadata": {},
   "outputs": [
    {
     "data": {
      "text/html": [
       "<div>\n",
       "<style scoped>\n",
       "    .dataframe tbody tr th:only-of-type {\n",
       "        vertical-align: middle;\n",
       "    }\n",
       "\n",
       "    .dataframe tbody tr th {\n",
       "        vertical-align: top;\n",
       "    }\n",
       "\n",
       "    .dataframe thead th {\n",
       "        text-align: right;\n",
       "    }\n",
       "</style>\n",
       "<table border=\"1\" class=\"dataframe\">\n",
       "  <thead>\n",
       "    <tr style=\"text-align: right;\">\n",
       "      <th></th>\n",
       "      <th>A</th>\n",
       "      <th>B</th>\n",
       "    </tr>\n",
       "  </thead>\n",
       "  <tbody>\n",
       "    <tr>\n",
       "      <th>0</th>\n",
       "      <td>[1, 2, 3]</td>\n",
       "      <td>3</td>\n",
       "    </tr>\n",
       "    <tr>\n",
       "      <th>1</th>\n",
       "      <td>[2, 3, 4]</td>\n",
       "      <td>4</td>\n",
       "    </tr>\n",
       "  </tbody>\n",
       "</table>\n",
       "</div>"
      ],
      "text/plain": [
       "           A  B\n",
       "0  [1, 2, 3]  3\n",
       "1  [2, 3, 4]  4"
      ]
     },
     "execution_count": 51,
     "metadata": {},
     "output_type": "execute_result"
    }
   ],
   "source": [
    "d = pd.read_csv(\"returnss.csv\")\n",
    "d"
   ]
  },
  {
   "cell_type": "code",
   "execution_count": 52,
   "id": "17ae4ee1-70fe-4ab6-9ec2-0e54883c236c",
   "metadata": {},
   "outputs": [],
   "source": [
    "d[\"A\"] = d[\"A\"].apply(eval)"
   ]
  },
  {
   "cell_type": "code",
   "execution_count": 55,
   "id": "f0c9dd1c-bebf-4364-a67f-4fe84c359fc3",
   "metadata": {},
   "outputs": [
    {
     "data": {
      "text/plain": [
       "[1, 2, 3]"
      ]
     },
     "execution_count": 55,
     "metadata": {},
     "output_type": "execute_result"
    }
   ],
   "source": [
    "d.A[0]"
   ]
  },
  {
   "cell_type": "code",
   "execution_count": 17,
   "id": "d5eee524-4e6b-47c7-9583-890d7f718b43",
   "metadata": {},
   "outputs": [],
   "source": [
    "import ast"
   ]
  },
  {
   "cell_type": "code",
   "execution_count": 20,
   "id": "1231fe85-bd52-4474-9872-f116f02193f2",
   "metadata": {},
   "outputs": [],
   "source": [
    "# ast.literal_eval(d.A[0])"
   ]
  },
  {
   "cell_type": "code",
   "execution_count": 22,
   "id": "ed5d2f06-8ee6-4ec9-863f-5999d0fc76f7",
   "metadata": {},
   "outputs": [],
   "source": [
    "# d[\"A\"] = list(map(lambda x: list(ast.literal_eval(x)), d.A))\n",
    "# d"
   ]
  },
  {
   "cell_type": "code",
   "execution_count": 109,
   "id": "797fcd39-fe03-46ec-9c9d-77de6a2741b5",
   "metadata": {},
   "outputs": [],
   "source": [
    "def get_wins_and_losses(returns):\n",
    "    wins = len(list(filter(lambda x: x>0, returns)))\n",
    "    losses = len(list(filter(lambda x: x<=0, returns)))\n",
    "    return wins, losses\n",
    "\n",
    "def get_average_win_loss(returns):\n",
    "    wins = np.mean(list(filter(lambda x: x>0, returns)))\n",
    "    losses = np.mean(list(filter(lambda x: x<=0, returns)))\n",
    "    return wins, losses\n",
    "\n",
    "def get_winning_losing_streak(returns):\n",
    "    w, p_w = 0, 0\n",
    "    l, p_l = 0, 0\n",
    "    for trade in returns:\n",
    "        if trade > 0:\n",
    "            w += 1\n",
    "            p_l = l if l>p_l else p_l\n",
    "            l = 0\n",
    "        else:\n",
    "            l += 1\n",
    "            p_w = w if w>p_w else p_w\n",
    "            w = 0\n",
    "    return p_w, p_l"
   ]
  },
  {
   "cell_type": "code",
   "execution_count": 116,
   "id": "fe2407b2-d611-4d59-a9d8-1f027fae9ae2",
   "metadata": {},
   "outputs": [],
   "source": [
    "a, b = get_wins_and_losses(returns)"
   ]
  },
  {
   "cell_type": "code",
   "execution_count": 118,
   "id": "77c0922b-b067-4a2e-9e45-dbe5915fc8eb",
   "metadata": {},
   "outputs": [
    {
     "data": {
      "text/plain": [
       "80"
      ]
     },
     "execution_count": 118,
     "metadata": {},
     "output_type": "execute_result"
    }
   ],
   "source": [
    "b"
   ]
  },
  {
   "cell_type": "code",
   "execution_count": 80,
   "id": "43095553-e59e-40e2-9fe3-622905ce5464",
   "metadata": {},
   "outputs": [],
   "source": [
    "pd.Series(returns).to_csv(\"returnss.csv\", index=False)"
   ]
  },
  {
   "cell_type": "code",
   "execution_count": 34,
   "id": "acfe62b2-a140-448d-b8fc-b1109ca58ec3",
   "metadata": {},
   "outputs": [
    {
     "data": {
      "text/plain": [
       "array([Timedelta('50 days 05:48:00'), Timedelta('26 days 20:40:00'),\n",
       "       Timedelta('25 days 22:50:00'), Timedelta('22 days 08:35:00'),\n",
       "       Timedelta('21 days 21:32:00'), Timedelta('18 days 23:44:00'),\n",
       "       Timedelta('12 days 02:01:00'), Timedelta('9 days 09:46:00'),\n",
       "       Timedelta('6 days 01:04:00'), Timedelta('5 days 13:29:00'),\n",
       "       Timedelta('5 days 11:06:00'), Timedelta('5 days 09:25:00'),\n",
       "       Timedelta('3 days 16:40:00'), Timedelta('3 days 06:28:00'),\n",
       "       Timedelta('3 days 00:53:00'), Timedelta('2 days 06:02:00'),\n",
       "       Timedelta('2 days 03:53:00'), Timedelta('1 days 17:16:00'),\n",
       "       Timedelta('1 days 14:58:00'), Timedelta('1 days 07:37:00'),\n",
       "       Timedelta('1 days 07:21:00'), Timedelta('1 days 05:44:00')],\n",
       "      dtype=object)"
      ]
     },
     "execution_count": 34,
     "metadata": {},
     "output_type": "execute_result"
    }
   ],
   "source": [
    "drawdowns"
   ]
  },
  {
   "cell_type": "code",
   "execution_count": 76,
   "id": "b8403c2e-631e-4eef-8a08-02cb5d8a503a",
   "metadata": {},
   "outputs": [],
   "source": [
    "def strategy_score(long_a, long_b, liquidate, cusum, returns, drawdowns):\n",
    "    score = 0.\n",
    "    time_length = (liquidate[-1]-liquidate[0]).days\n",
    "    \n",
    "    # How many trades, where more is better, but very low priority. \n",
    "    # Score=1 if one trade a day, 2 if twice a day, 0.5 if one trade every 2 days. \n",
    "    # [0, 3]\n",
    "    points = min(len(liquidate)/time_length, 3)\n",
    "    print(f\"{round(points, 2)} from [0, 3]: How many trades\")\n",
    "    score += points\n",
    "    \n",
    "    # Max drawdown length compared to 50 days\n",
    "    # [-40, 20]\n",
    "    points = max(min(20-drawdowns[0].days/5, 20), -40)\n",
    "    print(f\"{round(points, 2)} from [-40, 20]: Max drawdown length\")\n",
    "    score += points\n",
    "    \n",
    "    # Number of drawdowns lasting for more than a week\n",
    "    # [-5, 5]\n",
    "    points = max(min(5-len(list(filter(lambda x: x.days>=6, drawdowns))), 5), -5)\n",
    "    print(f\"{round(points, 2)} from [-5, 5]: Number of drawdowns lasting for more than a week\")\n",
    "    score += points\n",
    "    \n",
    "    # Biggest loss\n",
    "    # [-40, 20], where -40 is 60% or more, and 20 is 0%\n",
    "    points = max(min(20+np.min(returns)*100, 20), -40)\n",
    "    print(f\"{round(points, 2)} from [-40, 20]: Biggest loss\")\n",
    "    score += points\n",
    "    \n",
    "    # Number of 15% losses\n",
    "    # [-20, 20], where -20 is 20 or more, and 20 is 0\n",
    "    points = max(min(20-len(np.array(returns)[np.array(returns)<-0.15]), 20), -20)\n",
    "    print(f\"{round(points, 2)} from [-20, 20]: Number of 15% losses\")\n",
    "    score += points\n",
    "    \n",
    "    # Cumulative returns\n",
    "    # [-inf, inf], where 5 is 100 and 0 is 0\n",
    "    points = 20*cusum[-1]\n",
    "    print(f\"{round(points, 2)} from [-inf, -inf]: Cumulative returns\")\n",
    "    score += points\n",
    "    \n",
    "    return score"
   ]
  },
  {
   "cell_type": "code",
   "execution_count": 77,
   "id": "53265519-a9c0-45bc-8340-a69cd91b7719",
   "metadata": {},
   "outputs": [
    {
     "name": "stdout",
     "output_type": "stream",
     "text": [
      "0.68 from [0, 3]: How many trades\n",
      "7.8 from [-40, 20]: Max drawdown length\n",
      "-5 from [-5, 5]: Number of drawdowns lasting for more than a week\n",
      "-11.32 from [-40, 20]: Biggest loss\n",
      "12 from [-20, 20]: Number of 15% losses\n",
      "79.83 from [-inf, -inf]: Cumulative returns\n"
     ]
    },
    {
     "data": {
      "text/plain": [
       "83.98755987934706"
      ]
     },
     "execution_count": 77,
     "metadata": {},
     "output_type": "execute_result"
    }
   ],
   "source": [
    "strategy_score(long_a, long_b, liquidate, cusum, returns, drawdowns)"
   ]
  },
  {
   "cell_type": "code",
   "execution_count": 158,
   "id": "d59c8195-d2c6-4685-84cf-cefa7cfc1aa7",
   "metadata": {},
   "outputs": [
    {
     "data": {
      "text/plain": [
       "-0.0029742338808068235"
      ]
     },
     "execution_count": 158,
     "metadata": {},
     "output_type": "execute_result"
    }
   ],
   "source": [
    "np.array(returns[-50:]).mean()"
   ]
  },
  {
   "cell_type": "code",
   "execution_count": 112,
   "id": "72997c05-bee2-4825-b1f6-4c2b35589dc0",
   "metadata": {},
   "outputs": [
    {
     "data": {
      "text/plain": [
       "485"
      ]
     },
     "execution_count": 112,
     "metadata": {},
     "output_type": "execute_result"
    }
   ],
   "source": []
  },
  {
   "cell_type": "code",
   "execution_count": null,
   "id": "e5f1da11-dd16-4764-86b3-d1037387c5b8",
   "metadata": {},
   "outputs": [],
   "source": []
  }
 ],
 "metadata": {
  "kernelspec": {
   "display_name": "Python 3",
   "language": "python",
   "name": "python3"
  },
  "language_info": {
   "codemirror_mode": {
    "name": "ipython",
    "version": 3
   },
   "file_extension": ".py",
   "mimetype": "text/x-python",
   "name": "python",
   "nbconvert_exporter": "python",
   "pygments_lexer": "ipython3",
   "version": "3.9.5"
  }
 },
 "nbformat": 4,
 "nbformat_minor": 5
}
