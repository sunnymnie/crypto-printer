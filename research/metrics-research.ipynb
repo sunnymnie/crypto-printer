{
 "cells": [
  {
   "cell_type": "markdown",
   "id": "f07f5d2a",
   "metadata": {},
   "source": [
    "# Metrics Research"
   ]
  },
  {
   "cell_type": "markdown",
   "id": "4f619e71",
   "metadata": {},
   "source": [
    "## Hypothesis Testing"
   ]
  },
  {
   "cell_type": "markdown",
   "id": "e1a32a46",
   "metadata": {},
   "source": [
    "The general framework of hypothesis testing as applied to backtesting follows these steps:\n",
    "\n",
    "1. Based on a backtest on some finite sample of data, we compute a certain statistical measure called the **test statistic**.\n",
    "\n",
    "\n",
    "2. We suppose that t-statistic based on an infinite data set is actually zero.This supposition is called the null hypothesis.\n",
    "\n",
    "\n",
    "3. We suppose that the probability distribution of daily returns is known. This probability distribution has a zero mean, based on the null hypothesis. We describe later how we determine this probability distribution.\n",
    "\n",
    "\n",
    "4. Based on this null hypothesis probability distribution, we compute the probability p that the t-statistic will be at least as extreme (allowing for the possibility of a negative test statistic). This probability p is called the **p-value**, and if it is very small (let’s say smaller than 0.01), that means we can “reject the null hypothesis,” and conclude that the backtested average daily return is statistically significant."
   ]
  },
  {
   "cell_type": "markdown",
   "id": "c50ba1df",
   "metadata": {},
   "source": [
    "## Determining the Probability Distribution Under Null Hypothesis"
   ]
  },
  {
   "cell_type": "markdown",
   "id": "bbf99282",
   "metadata": {},
   "source": [
    "### Gaussian Distribution"
   ]
  },
  {
   "cell_type": "markdown",
   "id": "6854a86f",
   "metadata": {},
   "source": [
    "Suppose that the daily returns follow a Gaussian distribution, with a mean of zero and a standard deviation given by the sample standard deviation of the t-statistic. \n",
    "\n",
    "\n",
    "If we do this, it is clear that if the backtest has a high Sharpe ratio, it would be very easy for us to reject the null hypothesis. This is because the standard test statistic for a Gaussian distribution is none other than the average divided by the standard deviation and multiplied by the square root of the number of data points \n",
    "\n",
    "(basically fancy way of saying the sharpe ratio lmao)"
   ]
  },
  {
   "cell_type": "markdown",
   "id": "6504915d",
   "metadata": {},
   "source": [
    "| p-value         | 0.1   | 0.05  | 0.01  | 0.001 |\n",
    "|-----------------|-------|-------|-------|-------|\n",
    "| Critical Values | 1.282 | 1.645 | 2.326 | 3.091 |"
   ]
  },
  {
   "cell_type": "markdown",
   "id": "528b48a2",
   "metadata": {},
   "source": [
    "### Monte Carlo Simulation"
   ]
  },
  {
   "cell_type": "markdown",
   "id": "2a018dcc",
   "metadata": {},
   "source": [
    "Another method is to use Monte Carlo methods to generate simulated historical price data and feed these simulated data into our strategy to determine the empirical probability distribution of profits.\n",
    "\n",
    "\n",
    "Our belief is that the profitability of the trading strategy captured some subtle patterns or correlations of the price series, and not just because of the first few moments of the price distributions.\n",
    "\n",
    "\n",
    "So if we generate many simulated price series with the same first moments and the same length as the actual price data, and run the trading strategy over all these simulated price series, we can find out in what fraction p of these price series are the average returns greater than or equal to the backtest return."
   ]
  },
  {
   "cell_type": "markdown",
   "id": "f2f50c6a",
   "metadata": {},
   "source": [
    "### Simulated Trades Method"
   ]
  },
  {
   "cell_type": "markdown",
   "id": "d7e4b3c0",
   "metadata": {},
   "source": [
    "In this method, instead of generating simulated price data, we generate sets of simulated trades, with the constraint that the number of long and short entry trades is the same as in the backtest, and with the same average holding period for the trades. \n",
    "\n",
    "These trades are distributed randomly over the actual historical price series. We then measure what fraction of such sets of trades has average return greater than or equal to the backtest average return."
   ]
  },
  {
   "cell_type": "markdown",
   "id": "66e3ba44",
   "metadata": {},
   "source": [
    "## Options for T-Statistic"
   ]
  },
  {
   "cell_type": "markdown",
   "id": "93b6be62",
   "metadata": {},
   "source": [
    "- Returns\n",
    "    - Cumulative Returns\n",
    "    - Average Daily Returns\n",
    "    \n",
    "    \n",
    "- Drawdown\n",
    "    - Maximum Drawdown Length\n",
    "    - Number of Drawdowns > 1 Week\n",
    "\n",
    "\n",
    "- Losses\n",
    "    - Number of 15% Losses\n",
    "    - Biggest Loss\n",
    "    \n",
    "**OR Some Combination of the Above.**"
   ]
  },
  {
   "cell_type": "markdown",
   "id": "4d2c7de8",
   "metadata": {},
   "source": [
    "# Hypothesis Tests"
   ]
  },
  {
   "cell_type": "code",
   "execution_count": 8,
   "id": "13c9ccc8",
   "metadata": {},
   "outputs": [],
   "source": [
    "import numpy as np\n",
    "import pandas as pd\n",
    "import scipy.stats as st\n",
    "import math\n",
    "import time\n",
    "# from tqdm import tqdm"
   ]
  },
  {
   "cell_type": "code",
   "execution_count": 2,
   "id": "b1b75556",
   "metadata": {},
   "outputs": [],
   "source": [
    "import matplotlib.pyplot as plt"
   ]
  },
  {
   "cell_type": "markdown",
   "id": "3b9f0af6",
   "metadata": {},
   "source": [
    "## Gaussian"
   ]
  },
  {
   "cell_type": "markdown",
   "id": "0d582cfb",
   "metadata": {},
   "source": [
    "### Average Daily Returns"
   ]
  },
  {
   "cell_type": "code",
   "execution_count": 56,
   "id": "a7129229",
   "metadata": {},
   "outputs": [],
   "source": [
    "daily_returns = pd.read_csv('../data/returnss2.csv')"
   ]
  },
  {
   "cell_type": "code",
   "execution_count": 39,
   "id": "bece45dd",
   "metadata": {},
   "outputs": [],
   "source": [
    "ret = daily_returns['0'].to_list()"
   ]
  },
  {
   "cell_type": "code",
   "execution_count": 40,
   "id": "c91f6b19",
   "metadata": {},
   "outputs": [
    {
     "name": "stdout",
     "output_type": "stream",
     "text": [
      "Gaussian Test statistic = 4.707045\n"
     ]
    }
   ],
   "source": [
    "# we multiply by the sqrt(len(ret)) to \"annualize\" the sharpe ratio based on big brain maths\n",
    "sharpe = np.sqrt(len(ret)) * np.nanmean(ret) / np.nanstd(ret)\n",
    "print(\"Gaussian Test statistic = %f\" % sharpe)"
   ]
  },
  {
   "cell_type": "markdown",
   "id": "a5e26f8e",
   "metadata": {},
   "source": [
    "| p-value         | 0.1   | 0.05  | 0.01  | 0.001 |\n",
    "|-----------------|-------|-------|-------|-------|\n",
    "| Critical Values | 1.282 | 1.645 | 2.326 | 3.091 |"
   ]
  },
  {
   "cell_type": "code",
   "execution_count": 23,
   "id": "5981ad2d",
   "metadata": {},
   "outputs": [],
   "source": [
    "df1 = pd.read_csv('../data/generated/ARDRUSDT-LSKUSDT-4500.csv')\n",
    "df2 = pd.read_csv('../data/generated/ARDRUSDT-LSKUSDT-4750.csv')\n",
    "df3 = pd.read_csv('../data/generated/ARDRUSDT-LSKUSDT-5000.csv')\n",
    "df4 = pd.read_csv('../data/generated/ARDRUSDT-LSKUSDT-5250.csv')\n",
    "df5 = pd.read_csv('../data/generated/ARDRUSDT-LSKUSDT-5500.csv')\n",
    "# df6 = pd.read_csv('../data/generated/ARDRUSDT-LSKUSDT-4000.csv')\n",
    "# df7 = pd.read_csv('../data/generated/ARDRUSDT-LSKUSDT-5000.csv')\n",
    "# df8 = pd.read_csv('../data/generated/ARDRUSDT-LSKUSDT-6000.csv')\n",
    "# df9 = pd.read_csv('../data/generated/ARDRUSDT-LSKUSDT-8000.csv')"
   ]
  },
  {
   "cell_type": "code",
   "execution_count": 27,
   "id": "8739d9a1",
   "metadata": {},
   "outputs": [],
   "source": [
    "bigdf = pd.concat([df1, df2, df3, df4]) #df5, df6, df7\n",
    "df1 = None\n",
    "df2 = None\n",
    "df3 = None\n",
    "df4 = None\n",
    "df5 = None\n",
    "df6 = None\n",
    "df7 = None\n",
    "df8 = None\n",
    "df9 = None"
   ]
  },
  {
   "cell_type": "code",
   "execution_count": 28,
   "id": "af8d093c",
   "metadata": {
    "scrolled": true
   },
   "outputs": [
    {
     "data": {
      "text/html": [
       "<div>\n",
       "<style scoped>\n",
       "    .dataframe tbody tr th:only-of-type {\n",
       "        vertical-align: middle;\n",
       "    }\n",
       "\n",
       "    .dataframe tbody tr th {\n",
       "        vertical-align: top;\n",
       "    }\n",
       "\n",
       "    .dataframe thead th {\n",
       "        text-align: right;\n",
       "    }\n",
       "</style>\n",
       "<table border=\"1\" class=\"dataframe\">\n",
       "  <thead>\n",
       "    <tr style=\"text-align: right;\">\n",
       "      <th></th>\n",
       "      <th>lookback</th>\n",
       "      <th>thres</th>\n",
       "      <th>sell_thres</th>\n",
       "      <th>cusum</th>\n",
       "      <th>returns</th>\n",
       "      <th>drawdowns</th>\n",
       "    </tr>\n",
       "  </thead>\n",
       "  <tbody>\n",
       "    <tr>\n",
       "      <th>0</th>\n",
       "      <td>4500</td>\n",
       "      <td>3.2</td>\n",
       "      <td>-0.25</td>\n",
       "      <td>[0, 0, 0, 0, 0, 0, 0, 0, 0, 0, 0, 0, 0, 0, 0, ...</td>\n",
       "      <td>[0.13594, 0.00748, -0.07305, -0.02474, 0.04631...</td>\n",
       "      <td>[10115580, 204660, 282360, 349500, 301980, 237...</td>\n",
       "    </tr>\n",
       "    <tr>\n",
       "      <th>1</th>\n",
       "      <td>4500</td>\n",
       "      <td>3.2</td>\n",
       "      <td>-0.10</td>\n",
       "      <td>[0, 0, 0, 0, 0, 0, 0, 0, 0, 0, 0, 0, 0, 0, 0, ...</td>\n",
       "      <td>[0.17387, 0.01452, -0.07264, -0.02162, 0.05117...</td>\n",
       "      <td>[9460320, 204600, 398160, 301680, 300780, 2391...</td>\n",
       "    </tr>\n",
       "    <tr>\n",
       "      <th>2</th>\n",
       "      <td>4500</td>\n",
       "      <td>3.2</td>\n",
       "      <td>0.00</td>\n",
       "      <td>[0, 0, 0, 0, 0, 0, 0, 0, 0, 0, 0, 0, 0, 0, 0, ...</td>\n",
       "      <td>[0.10282, 0.01452, -0.06946, -0.01994, 0.053, ...</td>\n",
       "      <td>[9444540, 204420, 174660, 2314080, 922920, 113...</td>\n",
       "    </tr>\n",
       "    <tr>\n",
       "      <th>3</th>\n",
       "      <td>4500</td>\n",
       "      <td>3.2</td>\n",
       "      <td>0.10</td>\n",
       "      <td>[0, 0, 0, 0, 0, 0, 0, 0, 0, 0, 0, 0, 0, 0, 0, ...</td>\n",
       "      <td>[0.0698, 0.01452, -0.06946, -0.01886, 0.053, 0...</td>\n",
       "      <td>[9661440, 197160, 316740, 282600, 2310120, 113...</td>\n",
       "    </tr>\n",
       "    <tr>\n",
       "      <th>4</th>\n",
       "      <td>4500</td>\n",
       "      <td>3.2</td>\n",
       "      <td>0.25</td>\n",
       "      <td>[0, 0, 0, 0, 0, 0, 0, 0, 0, 0, 0, 0, 0, 0, 0, ...</td>\n",
       "      <td>[0.07462, 0.01452, -0.07963, -0.01797, -0.0605...</td>\n",
       "      <td>[9646380, 197040, 1157880, 2301960, 710940, 12...</td>\n",
       "    </tr>\n",
       "    <tr>\n",
       "      <th>...</th>\n",
       "      <td>...</td>\n",
       "      <td>...</td>\n",
       "      <td>...</td>\n",
       "      <td>...</td>\n",
       "      <td>...</td>\n",
       "      <td>...</td>\n",
       "    </tr>\n",
       "    <tr>\n",
       "      <th>40</th>\n",
       "      <td>5250</td>\n",
       "      <td>4.8</td>\n",
       "      <td>-0.25</td>\n",
       "      <td>[0, 0, 0, 0, 0, 0, 0, 0, 0, 0, 0, 0, 0, 0, 0, ...</td>\n",
       "      <td>[-0.06277, 0.06981, -0.00115, 0.05714, 0.03415...</td>\n",
       "      <td>[4640340, 1605900, 401940, 788340, 2666880, 88...</td>\n",
       "    </tr>\n",
       "    <tr>\n",
       "      <th>41</th>\n",
       "      <td>5250</td>\n",
       "      <td>4.8</td>\n",
       "      <td>-0.10</td>\n",
       "      <td>[0, 0, 0, 0, 0, 0, 0, 0, 0, 0, 0, 0, 0, 0, 0, ...</td>\n",
       "      <td>[-0.05936, 0.07363, -0.00115, 0.0649, 0.04707,...</td>\n",
       "      <td>[4639920, 1622280, 340080, 788220, 2658540, 88...</td>\n",
       "    </tr>\n",
       "    <tr>\n",
       "      <th>42</th>\n",
       "      <td>5250</td>\n",
       "      <td>4.8</td>\n",
       "      <td>0.00</td>\n",
       "      <td>[0, 0, 0, 0, 0, 0, 0, 0, 0, 0, 0, 0, 0, 0, 0, ...</td>\n",
       "      <td>[-0.0791, 0.09238, -0.01193, 0.07014, 0.04707,...</td>\n",
       "      <td>[4626480, 1622280, 337260, 788220, 2657880, 86...</td>\n",
       "    </tr>\n",
       "    <tr>\n",
       "      <th>43</th>\n",
       "      <td>5250</td>\n",
       "      <td>4.8</td>\n",
       "      <td>0.10</td>\n",
       "      <td>[0, 0, 0, 0, 0, 0, 0, 0, 0, 0, 0, 0, 0, 0, 0, ...</td>\n",
       "      <td>[-0.07051, 0.09238, -0.01193, 0.07014, 0.04903...</td>\n",
       "      <td>[4624920, 1622280, 216840, 552300, 2656140, 10...</td>\n",
       "    </tr>\n",
       "    <tr>\n",
       "      <th>44</th>\n",
       "      <td>5250</td>\n",
       "      <td>4.8</td>\n",
       "      <td>0.25</td>\n",
       "      <td>[0, 0, 0, 0, 0, 0, 0, 0, 0, 0, 0, 0, 0, 0, 0, ...</td>\n",
       "      <td>[-0.06527, 0.10312, -0.01193, 0.07173, 0.05435...</td>\n",
       "      <td>[4618200, 1626540, 216840, 794520, 2298000, 10...</td>\n",
       "    </tr>\n",
       "  </tbody>\n",
       "</table>\n",
       "<p>180 rows × 6 columns</p>\n",
       "</div>"
      ],
      "text/plain": [
       "    lookback  thres  sell_thres  \\\n",
       "0       4500    3.2       -0.25   \n",
       "1       4500    3.2       -0.10   \n",
       "2       4500    3.2        0.00   \n",
       "3       4500    3.2        0.10   \n",
       "4       4500    3.2        0.25   \n",
       "..       ...    ...         ...   \n",
       "40      5250    4.8       -0.25   \n",
       "41      5250    4.8       -0.10   \n",
       "42      5250    4.8        0.00   \n",
       "43      5250    4.8        0.10   \n",
       "44      5250    4.8        0.25   \n",
       "\n",
       "                                                cusum  \\\n",
       "0   [0, 0, 0, 0, 0, 0, 0, 0, 0, 0, 0, 0, 0, 0, 0, ...   \n",
       "1   [0, 0, 0, 0, 0, 0, 0, 0, 0, 0, 0, 0, 0, 0, 0, ...   \n",
       "2   [0, 0, 0, 0, 0, 0, 0, 0, 0, 0, 0, 0, 0, 0, 0, ...   \n",
       "3   [0, 0, 0, 0, 0, 0, 0, 0, 0, 0, 0, 0, 0, 0, 0, ...   \n",
       "4   [0, 0, 0, 0, 0, 0, 0, 0, 0, 0, 0, 0, 0, 0, 0, ...   \n",
       "..                                                ...   \n",
       "40  [0, 0, 0, 0, 0, 0, 0, 0, 0, 0, 0, 0, 0, 0, 0, ...   \n",
       "41  [0, 0, 0, 0, 0, 0, 0, 0, 0, 0, 0, 0, 0, 0, 0, ...   \n",
       "42  [0, 0, 0, 0, 0, 0, 0, 0, 0, 0, 0, 0, 0, 0, 0, ...   \n",
       "43  [0, 0, 0, 0, 0, 0, 0, 0, 0, 0, 0, 0, 0, 0, 0, ...   \n",
       "44  [0, 0, 0, 0, 0, 0, 0, 0, 0, 0, 0, 0, 0, 0, 0, ...   \n",
       "\n",
       "                                              returns  \\\n",
       "0   [0.13594, 0.00748, -0.07305, -0.02474, 0.04631...   \n",
       "1   [0.17387, 0.01452, -0.07264, -0.02162, 0.05117...   \n",
       "2   [0.10282, 0.01452, -0.06946, -0.01994, 0.053, ...   \n",
       "3   [0.0698, 0.01452, -0.06946, -0.01886, 0.053, 0...   \n",
       "4   [0.07462, 0.01452, -0.07963, -0.01797, -0.0605...   \n",
       "..                                                ...   \n",
       "40  [-0.06277, 0.06981, -0.00115, 0.05714, 0.03415...   \n",
       "41  [-0.05936, 0.07363, -0.00115, 0.0649, 0.04707,...   \n",
       "42  [-0.0791, 0.09238, -0.01193, 0.07014, 0.04707,...   \n",
       "43  [-0.07051, 0.09238, -0.01193, 0.07014, 0.04903...   \n",
       "44  [-0.06527, 0.10312, -0.01193, 0.07173, 0.05435...   \n",
       "\n",
       "                                            drawdowns  \n",
       "0   [10115580, 204660, 282360, 349500, 301980, 237...  \n",
       "1   [9460320, 204600, 398160, 301680, 300780, 2391...  \n",
       "2   [9444540, 204420, 174660, 2314080, 922920, 113...  \n",
       "3   [9661440, 197160, 316740, 282600, 2310120, 113...  \n",
       "4   [9646380, 197040, 1157880, 2301960, 710940, 12...  \n",
       "..                                                ...  \n",
       "40  [4640340, 1605900, 401940, 788340, 2666880, 88...  \n",
       "41  [4639920, 1622280, 340080, 788220, 2658540, 88...  \n",
       "42  [4626480, 1622280, 337260, 788220, 2657880, 86...  \n",
       "43  [4624920, 1622280, 216840, 552300, 2656140, 10...  \n",
       "44  [4618200, 1626540, 216840, 794520, 2298000, 10...  \n",
       "\n",
       "[180 rows x 6 columns]"
      ]
     },
     "execution_count": 28,
     "metadata": {},
     "output_type": "execute_result"
    }
   ],
   "source": [
    "bigdf"
   ]
  },
  {
   "cell_type": "code",
   "execution_count": 29,
   "id": "b83b9cd5",
   "metadata": {},
   "outputs": [
    {
     "data": {
      "text/plain": [
       "lookback      False\n",
       "thres         False\n",
       "sell_thres    False\n",
       "cusum         False\n",
       "returns       False\n",
       "drawdowns     False\n",
       "dtype: bool"
      ]
     },
     "execution_count": 29,
     "metadata": {},
     "output_type": "execute_result"
    }
   ],
   "source": [
    "bigdf.isnull().any()"
   ]
  },
  {
   "cell_type": "code",
   "execution_count": 30,
   "id": "894f70ad",
   "metadata": {},
   "outputs": [
    {
     "data": {
      "text/plain": [
       "522.829530954361"
      ]
     },
     "execution_count": 30,
     "metadata": {},
     "output_type": "execute_result"
    }
   ],
   "source": [
    "start = time.time()\n",
    "\n",
    "bigdf[\"cusum\"] = bigdf[\"cusum\"].apply(eval)\n",
    "bigdf[\"returns\"] = bigdf[\"returns\"].apply(eval)\n",
    "bigdf[\"drawdowns\"] = bigdf[\"drawdowns\"].apply(eval)\n",
    "\n",
    "time.time() - start"
   ]
  },
  {
   "cell_type": "code",
   "execution_count": 32,
   "id": "d62fadb6",
   "metadata": {},
   "outputs": [
    {
     "data": {
      "text/html": [
       "<div>\n",
       "<style scoped>\n",
       "    .dataframe tbody tr th:only-of-type {\n",
       "        vertical-align: middle;\n",
       "    }\n",
       "\n",
       "    .dataframe tbody tr th {\n",
       "        vertical-align: top;\n",
       "    }\n",
       "\n",
       "    .dataframe thead th {\n",
       "        text-align: right;\n",
       "    }\n",
       "</style>\n",
       "<table border=\"1\" class=\"dataframe\">\n",
       "  <thead>\n",
       "    <tr style=\"text-align: right;\">\n",
       "      <th></th>\n",
       "      <th>lookback</th>\n",
       "      <th>thres</th>\n",
       "      <th>sell_thres</th>\n",
       "      <th>cusum</th>\n",
       "      <th>returns</th>\n",
       "      <th>drawdowns</th>\n",
       "    </tr>\n",
       "  </thead>\n",
       "  <tbody>\n",
       "    <tr>\n",
       "      <th>0</th>\n",
       "      <td>4500</td>\n",
       "      <td>3.2</td>\n",
       "      <td>-0.25</td>\n",
       "      <td>[0, 0, 0, 0, 0, 0, 0, 0, 0, 0, 0, 0, 0, 0, 0, ...</td>\n",
       "      <td>[0.13594, 0.00748, -0.07305, -0.02474, 0.04631...</td>\n",
       "      <td>[10115580, 204660, 282360, 349500, 301980, 237...</td>\n",
       "    </tr>\n",
       "    <tr>\n",
       "      <th>1</th>\n",
       "      <td>4500</td>\n",
       "      <td>3.2</td>\n",
       "      <td>-0.10</td>\n",
       "      <td>[0, 0, 0, 0, 0, 0, 0, 0, 0, 0, 0, 0, 0, 0, 0, ...</td>\n",
       "      <td>[0.17387, 0.01452, -0.07264, -0.02162, 0.05117...</td>\n",
       "      <td>[9460320, 204600, 398160, 301680, 300780, 2391...</td>\n",
       "    </tr>\n",
       "    <tr>\n",
       "      <th>2</th>\n",
       "      <td>4500</td>\n",
       "      <td>3.2</td>\n",
       "      <td>0.00</td>\n",
       "      <td>[0, 0, 0, 0, 0, 0, 0, 0, 0, 0, 0, 0, 0, 0, 0, ...</td>\n",
       "      <td>[0.10282, 0.01452, -0.06946, -0.01994, 0.053, ...</td>\n",
       "      <td>[9444540, 204420, 174660, 2314080, 922920, 113...</td>\n",
       "    </tr>\n",
       "    <tr>\n",
       "      <th>3</th>\n",
       "      <td>4500</td>\n",
       "      <td>3.2</td>\n",
       "      <td>0.10</td>\n",
       "      <td>[0, 0, 0, 0, 0, 0, 0, 0, 0, 0, 0, 0, 0, 0, 0, ...</td>\n",
       "      <td>[0.0698, 0.01452, -0.06946, -0.01886, 0.053, 0...</td>\n",
       "      <td>[9661440, 197160, 316740, 282600, 2310120, 113...</td>\n",
       "    </tr>\n",
       "    <tr>\n",
       "      <th>4</th>\n",
       "      <td>4500</td>\n",
       "      <td>3.2</td>\n",
       "      <td>0.25</td>\n",
       "      <td>[0, 0, 0, 0, 0, 0, 0, 0, 0, 0, 0, 0, 0, 0, 0, ...</td>\n",
       "      <td>[0.07462, 0.01452, -0.07963, -0.01797, -0.0605...</td>\n",
       "      <td>[9646380, 197040, 1157880, 2301960, 710940, 12...</td>\n",
       "    </tr>\n",
       "    <tr>\n",
       "      <th>...</th>\n",
       "      <td>...</td>\n",
       "      <td>...</td>\n",
       "      <td>...</td>\n",
       "      <td>...</td>\n",
       "      <td>...</td>\n",
       "      <td>...</td>\n",
       "    </tr>\n",
       "    <tr>\n",
       "      <th>40</th>\n",
       "      <td>5250</td>\n",
       "      <td>4.8</td>\n",
       "      <td>-0.25</td>\n",
       "      <td>[0, 0, 0, 0, 0, 0, 0, 0, 0, 0, 0, 0, 0, 0, 0, ...</td>\n",
       "      <td>[-0.06277, 0.06981, -0.00115, 0.05714, 0.03415...</td>\n",
       "      <td>[4640340, 1605900, 401940, 788340, 2666880, 88...</td>\n",
       "    </tr>\n",
       "    <tr>\n",
       "      <th>41</th>\n",
       "      <td>5250</td>\n",
       "      <td>4.8</td>\n",
       "      <td>-0.10</td>\n",
       "      <td>[0, 0, 0, 0, 0, 0, 0, 0, 0, 0, 0, 0, 0, 0, 0, ...</td>\n",
       "      <td>[-0.05936, 0.07363, -0.00115, 0.0649, 0.04707,...</td>\n",
       "      <td>[4639920, 1622280, 340080, 788220, 2658540, 88...</td>\n",
       "    </tr>\n",
       "    <tr>\n",
       "      <th>42</th>\n",
       "      <td>5250</td>\n",
       "      <td>4.8</td>\n",
       "      <td>0.00</td>\n",
       "      <td>[0, 0, 0, 0, 0, 0, 0, 0, 0, 0, 0, 0, 0, 0, 0, ...</td>\n",
       "      <td>[-0.0791, 0.09238, -0.01193, 0.07014, 0.04707,...</td>\n",
       "      <td>[4626480, 1622280, 337260, 788220, 2657880, 86...</td>\n",
       "    </tr>\n",
       "    <tr>\n",
       "      <th>43</th>\n",
       "      <td>5250</td>\n",
       "      <td>4.8</td>\n",
       "      <td>0.10</td>\n",
       "      <td>[0, 0, 0, 0, 0, 0, 0, 0, 0, 0, 0, 0, 0, 0, 0, ...</td>\n",
       "      <td>[-0.07051, 0.09238, -0.01193, 0.07014, 0.04903...</td>\n",
       "      <td>[4624920, 1622280, 216840, 552300, 2656140, 10...</td>\n",
       "    </tr>\n",
       "    <tr>\n",
       "      <th>44</th>\n",
       "      <td>5250</td>\n",
       "      <td>4.8</td>\n",
       "      <td>0.25</td>\n",
       "      <td>[0, 0, 0, 0, 0, 0, 0, 0, 0, 0, 0, 0, 0, 0, 0, ...</td>\n",
       "      <td>[-0.06527, 0.10312, -0.01193, 0.07173, 0.05435...</td>\n",
       "      <td>[4618200, 1626540, 216840, 794520, 2298000, 10...</td>\n",
       "    </tr>\n",
       "  </tbody>\n",
       "</table>\n",
       "<p>180 rows × 6 columns</p>\n",
       "</div>"
      ],
      "text/plain": [
       "    lookback  thres  sell_thres  \\\n",
       "0       4500    3.2       -0.25   \n",
       "1       4500    3.2       -0.10   \n",
       "2       4500    3.2        0.00   \n",
       "3       4500    3.2        0.10   \n",
       "4       4500    3.2        0.25   \n",
       "..       ...    ...         ...   \n",
       "40      5250    4.8       -0.25   \n",
       "41      5250    4.8       -0.10   \n",
       "42      5250    4.8        0.00   \n",
       "43      5250    4.8        0.10   \n",
       "44      5250    4.8        0.25   \n",
       "\n",
       "                                                cusum  \\\n",
       "0   [0, 0, 0, 0, 0, 0, 0, 0, 0, 0, 0, 0, 0, 0, 0, ...   \n",
       "1   [0, 0, 0, 0, 0, 0, 0, 0, 0, 0, 0, 0, 0, 0, 0, ...   \n",
       "2   [0, 0, 0, 0, 0, 0, 0, 0, 0, 0, 0, 0, 0, 0, 0, ...   \n",
       "3   [0, 0, 0, 0, 0, 0, 0, 0, 0, 0, 0, 0, 0, 0, 0, ...   \n",
       "4   [0, 0, 0, 0, 0, 0, 0, 0, 0, 0, 0, 0, 0, 0, 0, ...   \n",
       "..                                                ...   \n",
       "40  [0, 0, 0, 0, 0, 0, 0, 0, 0, 0, 0, 0, 0, 0, 0, ...   \n",
       "41  [0, 0, 0, 0, 0, 0, 0, 0, 0, 0, 0, 0, 0, 0, 0, ...   \n",
       "42  [0, 0, 0, 0, 0, 0, 0, 0, 0, 0, 0, 0, 0, 0, 0, ...   \n",
       "43  [0, 0, 0, 0, 0, 0, 0, 0, 0, 0, 0, 0, 0, 0, 0, ...   \n",
       "44  [0, 0, 0, 0, 0, 0, 0, 0, 0, 0, 0, 0, 0, 0, 0, ...   \n",
       "\n",
       "                                              returns  \\\n",
       "0   [0.13594, 0.00748, -0.07305, -0.02474, 0.04631...   \n",
       "1   [0.17387, 0.01452, -0.07264, -0.02162, 0.05117...   \n",
       "2   [0.10282, 0.01452, -0.06946, -0.01994, 0.053, ...   \n",
       "3   [0.0698, 0.01452, -0.06946, -0.01886, 0.053, 0...   \n",
       "4   [0.07462, 0.01452, -0.07963, -0.01797, -0.0605...   \n",
       "..                                                ...   \n",
       "40  [-0.06277, 0.06981, -0.00115, 0.05714, 0.03415...   \n",
       "41  [-0.05936, 0.07363, -0.00115, 0.0649, 0.04707,...   \n",
       "42  [-0.0791, 0.09238, -0.01193, 0.07014, 0.04707,...   \n",
       "43  [-0.07051, 0.09238, -0.01193, 0.07014, 0.04903...   \n",
       "44  [-0.06527, 0.10312, -0.01193, 0.07173, 0.05435...   \n",
       "\n",
       "                                            drawdowns  \n",
       "0   [10115580, 204660, 282360, 349500, 301980, 237...  \n",
       "1   [9460320, 204600, 398160, 301680, 300780, 2391...  \n",
       "2   [9444540, 204420, 174660, 2314080, 922920, 113...  \n",
       "3   [9661440, 197160, 316740, 282600, 2310120, 113...  \n",
       "4   [9646380, 197040, 1157880, 2301960, 710940, 12...  \n",
       "..                                                ...  \n",
       "40  [4640340, 1605900, 401940, 788340, 2666880, 88...  \n",
       "41  [4639920, 1622280, 340080, 788220, 2658540, 88...  \n",
       "42  [4626480, 1622280, 337260, 788220, 2657880, 86...  \n",
       "43  [4624920, 1622280, 216840, 552300, 2656140, 10...  \n",
       "44  [4618200, 1626540, 216840, 794520, 2298000, 10...  \n",
       "\n",
       "[180 rows x 6 columns]"
      ]
     },
     "execution_count": 32,
     "metadata": {},
     "output_type": "execute_result"
    }
   ],
   "source": [
    "bigdf"
   ]
  },
  {
   "cell_type": "code",
   "execution_count": 33,
   "id": "ae298558",
   "metadata": {},
   "outputs": [],
   "source": [
    "bigdf = bigdf.reset_index(drop=True)"
   ]
  },
  {
   "cell_type": "code",
   "execution_count": 34,
   "id": "39553420",
   "metadata": {},
   "outputs": [],
   "source": [
    "bigdf[\"sharpe\"] = np.nan\n",
    "bigdf[\"mxdd\"] = np.nan\n",
    "\n",
    "for index, row in bigdf.iterrows():\n",
    "    r = row['returns']\n",
    "    bigdf.at[index, 'sharpe'] = np.sqrt(len(r)) * np.nanmean(r) / np.nanstd(r)\n",
    "    bigdf.at[index, 'mxdd'] = row.drawdowns[0]"
   ]
  },
  {
   "cell_type": "code",
   "execution_count": 35,
   "id": "ef1a8495",
   "metadata": {},
   "outputs": [
    {
     "data": {
      "text/plain": [
       "array([[<AxesSubplot:title={'center':'mxdd'}>]], dtype=object)"
      ]
     },
     "execution_count": 35,
     "metadata": {},
     "output_type": "execute_result"
    },
    {
     "data": {
      "image/png": "[encoded data removed]",
      "text/plain": [
       "<Figure size 432x288 with 1 Axes>"
      ]
     },
     "metadata": {
      "needs_background": "light"
     },
     "output_type": "display_data"
    }
   ],
   "source": [
    "bigdf.hist('mxdd')"
   ]
  },
  {
   "cell_type": "code",
   "execution_count": 36,
   "id": "25702ced",
   "metadata": {},
   "outputs": [],
   "source": [
    "bigdf_filtered = bigdf.loc[bigdf['mxdd'] < 3.0e7].reset_index(drop=True)"
   ]
  },
  {
   "cell_type": "code",
   "execution_count": 37,
   "id": "6a25644a",
   "metadata": {
    "scrolled": true
   },
   "outputs": [
    {
     "data": {
      "text/html": [
       "<div>\n",
       "<style scoped>\n",
       "    .dataframe tbody tr th:only-of-type {\n",
       "        vertical-align: middle;\n",
       "    }\n",
       "\n",
       "    .dataframe tbody tr th {\n",
       "        vertical-align: top;\n",
       "    }\n",
       "\n",
       "    .dataframe thead th {\n",
       "        text-align: right;\n",
       "    }\n",
       "</style>\n",
       "<table border=\"1\" class=\"dataframe\">\n",
       "  <thead>\n",
       "    <tr style=\"text-align: right;\">\n",
       "      <th></th>\n",
       "      <th>lookback</th>\n",
       "      <th>thres</th>\n",
       "      <th>sell_thres</th>\n",
       "      <th>cusum</th>\n",
       "      <th>returns</th>\n",
       "      <th>drawdowns</th>\n",
       "      <th>sharpe</th>\n",
       "      <th>mxdd</th>\n",
       "    </tr>\n",
       "  </thead>\n",
       "  <tbody>\n",
       "    <tr>\n",
       "      <th>0</th>\n",
       "      <td>4500</td>\n",
       "      <td>3.2</td>\n",
       "      <td>-0.25</td>\n",
       "      <td>[0, 0, 0, 0, 0, 0, 0, 0, 0, 0, 0, 0, 0, 0, 0, ...</td>\n",
       "      <td>[0.13594, 0.00748, -0.07305, -0.02474, 0.04631...</td>\n",
       "      <td>[10115580, 204660, 282360, 349500, 301980, 237...</td>\n",
       "      <td>5.014912</td>\n",
       "      <td>10115580.0</td>\n",
       "    </tr>\n",
       "    <tr>\n",
       "      <th>1</th>\n",
       "      <td>4500</td>\n",
       "      <td>3.2</td>\n",
       "      <td>-0.10</td>\n",
       "      <td>[0, 0, 0, 0, 0, 0, 0, 0, 0, 0, 0, 0, 0, 0, 0, ...</td>\n",
       "      <td>[0.17387, 0.01452, -0.07264, -0.02162, 0.05117...</td>\n",
       "      <td>[9460320, 204600, 398160, 301680, 300780, 2391...</td>\n",
       "      <td>5.580092</td>\n",
       "      <td>9460320.0</td>\n",
       "    </tr>\n",
       "    <tr>\n",
       "      <th>2</th>\n",
       "      <td>4500</td>\n",
       "      <td>3.2</td>\n",
       "      <td>0.00</td>\n",
       "      <td>[0, 0, 0, 0, 0, 0, 0, 0, 0, 0, 0, 0, 0, 0, 0, ...</td>\n",
       "      <td>[0.10282, 0.01452, -0.06946, -0.01994, 0.053, ...</td>\n",
       "      <td>[9444540, 204420, 174660, 2314080, 922920, 113...</td>\n",
       "      <td>5.880504</td>\n",
       "      <td>9444540.0</td>\n",
       "    </tr>\n",
       "    <tr>\n",
       "      <th>3</th>\n",
       "      <td>4500</td>\n",
       "      <td>3.2</td>\n",
       "      <td>0.10</td>\n",
       "      <td>[0, 0, 0, 0, 0, 0, 0, 0, 0, 0, 0, 0, 0, 0, 0, ...</td>\n",
       "      <td>[0.0698, 0.01452, -0.06946, -0.01886, 0.053, 0...</td>\n",
       "      <td>[9661440, 197160, 316740, 282600, 2310120, 113...</td>\n",
       "      <td>5.015778</td>\n",
       "      <td>9661440.0</td>\n",
       "    </tr>\n",
       "    <tr>\n",
       "      <th>4</th>\n",
       "      <td>4500</td>\n",
       "      <td>3.2</td>\n",
       "      <td>0.25</td>\n",
       "      <td>[0, 0, 0, 0, 0, 0, 0, 0, 0, 0, 0, 0, 0, 0, 0, ...</td>\n",
       "      <td>[0.07462, 0.01452, -0.07963, -0.01797, -0.0605...</td>\n",
       "      <td>[9646380, 197040, 1157880, 2301960, 710940, 12...</td>\n",
       "      <td>5.042959</td>\n",
       "      <td>9646380.0</td>\n",
       "    </tr>\n",
       "    <tr>\n",
       "      <th>...</th>\n",
       "      <td>...</td>\n",
       "      <td>...</td>\n",
       "      <td>...</td>\n",
       "      <td>...</td>\n",
       "      <td>...</td>\n",
       "      <td>...</td>\n",
       "      <td>...</td>\n",
       "      <td>...</td>\n",
       "    </tr>\n",
       "    <tr>\n",
       "      <th>175</th>\n",
       "      <td>5250</td>\n",
       "      <td>4.8</td>\n",
       "      <td>-0.25</td>\n",
       "      <td>[0, 0, 0, 0, 0, 0, 0, 0, 0, 0, 0, 0, 0, 0, 0, ...</td>\n",
       "      <td>[-0.06277, 0.06981, -0.00115, 0.05714, 0.03415...</td>\n",
       "      <td>[4640340, 1605900, 401940, 788340, 2666880, 88...</td>\n",
       "      <td>7.313693</td>\n",
       "      <td>4640340.0</td>\n",
       "    </tr>\n",
       "    <tr>\n",
       "      <th>176</th>\n",
       "      <td>5250</td>\n",
       "      <td>4.8</td>\n",
       "      <td>-0.10</td>\n",
       "      <td>[0, 0, 0, 0, 0, 0, 0, 0, 0, 0, 0, 0, 0, 0, 0, ...</td>\n",
       "      <td>[-0.05936, 0.07363, -0.00115, 0.0649, 0.04707,...</td>\n",
       "      <td>[4639920, 1622280, 340080, 788220, 2658540, 88...</td>\n",
       "      <td>7.606606</td>\n",
       "      <td>4639920.0</td>\n",
       "    </tr>\n",
       "    <tr>\n",
       "      <th>177</th>\n",
       "      <td>5250</td>\n",
       "      <td>4.8</td>\n",
       "      <td>0.00</td>\n",
       "      <td>[0, 0, 0, 0, 0, 0, 0, 0, 0, 0, 0, 0, 0, 0, 0, ...</td>\n",
       "      <td>[-0.0791, 0.09238, -0.01193, 0.07014, 0.04707,...</td>\n",
       "      <td>[4626480, 1622280, 337260, 788220, 2657880, 86...</td>\n",
       "      <td>7.519992</td>\n",
       "      <td>4626480.0</td>\n",
       "    </tr>\n",
       "    <tr>\n",
       "      <th>178</th>\n",
       "      <td>5250</td>\n",
       "      <td>4.8</td>\n",
       "      <td>0.10</td>\n",
       "      <td>[0, 0, 0, 0, 0, 0, 0, 0, 0, 0, 0, 0, 0, 0, 0, ...</td>\n",
       "      <td>[-0.07051, 0.09238, -0.01193, 0.07014, 0.04903...</td>\n",
       "      <td>[4624920, 1622280, 216840, 552300, 2656140, 10...</td>\n",
       "      <td>6.835065</td>\n",
       "      <td>4624920.0</td>\n",
       "    </tr>\n",
       "    <tr>\n",
       "      <th>179</th>\n",
       "      <td>5250</td>\n",
       "      <td>4.8</td>\n",
       "      <td>0.25</td>\n",
       "      <td>[0, 0, 0, 0, 0, 0, 0, 0, 0, 0, 0, 0, 0, 0, 0, ...</td>\n",
       "      <td>[-0.06527, 0.10312, -0.01193, 0.07173, 0.05435...</td>\n",
       "      <td>[4618200, 1626540, 216840, 794520, 2298000, 10...</td>\n",
       "      <td>6.920182</td>\n",
       "      <td>4618200.0</td>\n",
       "    </tr>\n",
       "  </tbody>\n",
       "</table>\n",
       "<p>180 rows × 8 columns</p>\n",
       "</div>"
      ],
      "text/plain": [
       "     lookback  thres  sell_thres  \\\n",
       "0        4500    3.2       -0.25   \n",
       "1        4500    3.2       -0.10   \n",
       "2        4500    3.2        0.00   \n",
       "3        4500    3.2        0.10   \n",
       "4        4500    3.2        0.25   \n",
       "..        ...    ...         ...   \n",
       "175      5250    4.8       -0.25   \n",
       "176      5250    4.8       -0.10   \n",
       "177      5250    4.8        0.00   \n",
       "178      5250    4.8        0.10   \n",
       "179      5250    4.8        0.25   \n",
       "\n",
       "                                                 cusum  \\\n",
       "0    [0, 0, 0, 0, 0, 0, 0, 0, 0, 0, 0, 0, 0, 0, 0, ...   \n",
       "1    [0, 0, 0, 0, 0, 0, 0, 0, 0, 0, 0, 0, 0, 0, 0, ...   \n",
       "2    [0, 0, 0, 0, 0, 0, 0, 0, 0, 0, 0, 0, 0, 0, 0, ...   \n",
       "3    [0, 0, 0, 0, 0, 0, 0, 0, 0, 0, 0, 0, 0, 0, 0, ...   \n",
       "4    [0, 0, 0, 0, 0, 0, 0, 0, 0, 0, 0, 0, 0, 0, 0, ...   \n",
       "..                                                 ...   \n",
       "175  [0, 0, 0, 0, 0, 0, 0, 0, 0, 0, 0, 0, 0, 0, 0, ...   \n",
       "176  [0, 0, 0, 0, 0, 0, 0, 0, 0, 0, 0, 0, 0, 0, 0, ...   \n",
       "177  [0, 0, 0, 0, 0, 0, 0, 0, 0, 0, 0, 0, 0, 0, 0, ...   \n",
       "178  [0, 0, 0, 0, 0, 0, 0, 0, 0, 0, 0, 0, 0, 0, 0, ...   \n",
       "179  [0, 0, 0, 0, 0, 0, 0, 0, 0, 0, 0, 0, 0, 0, 0, ...   \n",
       "\n",
       "                                               returns  \\\n",
       "0    [0.13594, 0.00748, -0.07305, -0.02474, 0.04631...   \n",
       "1    [0.17387, 0.01452, -0.07264, -0.02162, 0.05117...   \n",
       "2    [0.10282, 0.01452, -0.06946, -0.01994, 0.053, ...   \n",
       "3    [0.0698, 0.01452, -0.06946, -0.01886, 0.053, 0...   \n",
       "4    [0.07462, 0.01452, -0.07963, -0.01797, -0.0605...   \n",
       "..                                                 ...   \n",
       "175  [-0.06277, 0.06981, -0.00115, 0.05714, 0.03415...   \n",
       "176  [-0.05936, 0.07363, -0.00115, 0.0649, 0.04707,...   \n",
       "177  [-0.0791, 0.09238, -0.01193, 0.07014, 0.04707,...   \n",
       "178  [-0.07051, 0.09238, -0.01193, 0.07014, 0.04903...   \n",
       "179  [-0.06527, 0.10312, -0.01193, 0.07173, 0.05435...   \n",
       "\n",
       "                                             drawdowns    sharpe        mxdd  \n",
       "0    [10115580, 204660, 282360, 349500, 301980, 237...  5.014912  10115580.0  \n",
       "1    [9460320, 204600, 398160, 301680, 300780, 2391...  5.580092   9460320.0  \n",
       "2    [9444540, 204420, 174660, 2314080, 922920, 113...  5.880504   9444540.0  \n",
       "3    [9661440, 197160, 316740, 282600, 2310120, 113...  5.015778   9661440.0  \n",
       "4    [9646380, 197040, 1157880, 2301960, 710940, 12...  5.042959   9646380.0  \n",
       "..                                                 ...       ...         ...  \n",
       "175  [4640340, 1605900, 401940, 788340, 2666880, 88...  7.313693   4640340.0  \n",
       "176  [4639920, 1622280, 340080, 788220, 2658540, 88...  7.606606   4639920.0  \n",
       "177  [4626480, 1622280, 337260, 788220, 2657880, 86...  7.519992   4626480.0  \n",
       "178  [4624920, 1622280, 216840, 552300, 2656140, 10...  6.835065   4624920.0  \n",
       "179  [4618200, 1626540, 216840, 794520, 2298000, 10...  6.920182   4618200.0  \n",
       "\n",
       "[180 rows x 8 columns]"
      ]
     },
     "execution_count": 37,
     "metadata": {},
     "output_type": "execute_result"
    }
   ],
   "source": [
    "bigdf_filtered"
   ]
  },
  {
   "cell_type": "code",
   "execution_count": null,
   "id": "d6fb77a4-4c33-48f8-bec7-a907ec3dae19",
   "metadata": {},
   "outputs": [],
   "source": [
    "b = pd.read_csv(\"../data/generated/results/ARDR-LSK-preliminary.csv\")"
   ]
  },
  {
   "cell_type": "code",
   "execution_count": 61,
   "id": "9ebc52d2-eaad-432b-80d8-a3ccde44c57c",
   "metadata": {},
   "outputs": [],
   "source": [
    "a = b[b.lookback == 5000]"
   ]
  },
  {
   "cell_type": "code",
   "execution_count": 62,
   "id": "cb5628e4-ee49-4327-9e97-11dc270c8ea9",
   "metadata": {},
   "outputs": [],
   "source": [
    "a = a[a.sell_thres == 0.]"
   ]
  },
  {
   "cell_type": "code",
   "execution_count": 63,
   "id": "e99faae7-fe19-413f-9307-d0bca8d799eb",
   "metadata": {},
   "outputs": [],
   "source": [
    "a = a[[\"thres\", \"sharpe\"]]"
   ]
  },
  {
   "cell_type": "code",
   "execution_count": 64,
   "id": "f945593d-b233-4a85-9a5a-bd6ae9ca967e",
   "metadata": {},
   "outputs": [
    {
     "data": {
      "text/plain": [
       "<matplotlib.collections.PathCollection at 0x7fb8f00f2ca0>"
      ]
     },
     "execution_count": 64,
     "metadata": {},
     "output_type": "execute_result"
    },
    {
     "data": {
      "image/png": "[encoded data removed]",
      "text/plain": [
       "<Figure size 864x288 with 1 Axes>"
      ]
     },
     "metadata": {
      "needs_background": "light"
     },
     "output_type": "display_data"
    }
   ],
   "source": [
    "fig, ax = plt.subplots(figsize=(12, 4))\n",
    "\n",
    "ax.scatter(x=a.thres, y=a.sharpe)"
   ]
  },
  {
   "cell_type": "code",
   "execution_count": 38,
   "id": "c839b544",
   "metadata": {},
   "outputs": [],
   "source": [
    "bigdf_result = bigdf_filtered.nlargest(10,'sharpe')"
   ]
  },
  {
   "cell_type": "code",
   "execution_count": 42,
   "id": "86fd1d0f-e9db-4fd1-a8ec-9737867adebf",
   "metadata": {},
   "outputs": [],
   "source": [
    "bigdf_filtered.to_csv(\"../data/generated/results/test.csv\")"
   ]
  },
  {
   "cell_type": "code",
   "execution_count": 39,
   "id": "553391ce",
   "metadata": {},
   "outputs": [
    {
     "data": {
      "text/html": [
       "<div>\n",
       "<style scoped>\n",
       "    .dataframe tbody tr th:only-of-type {\n",
       "        vertical-align: middle;\n",
       "    }\n",
       "\n",
       "    .dataframe tbody tr th {\n",
       "        vertical-align: top;\n",
       "    }\n",
       "\n",
       "    .dataframe thead th {\n",
       "        text-align: right;\n",
       "    }\n",
       "</style>\n",
       "<table border=\"1\" class=\"dataframe\">\n",
       "  <thead>\n",
       "    <tr style=\"text-align: right;\">\n",
       "      <th></th>\n",
       "      <th>lookback</th>\n",
       "      <th>thres</th>\n",
       "      <th>sell_thres</th>\n",
       "      <th>cusum</th>\n",
       "      <th>returns</th>\n",
       "      <th>drawdowns</th>\n",
       "      <th>sharpe</th>\n",
       "      <th>mxdd</th>\n",
       "    </tr>\n",
       "  </thead>\n",
       "  <tbody>\n",
       "    <tr>\n",
       "      <th>86</th>\n",
       "      <td>4750</td>\n",
       "      <td>4.8</td>\n",
       "      <td>-0.10</td>\n",
       "      <td>[0, 0, 0, 0, 0, 0, 0, 0, 0, 0, 0, 0, 0, 0, 0, ...</td>\n",
       "      <td>[-0.05399, 0.09238, 0.00018, 0.05016, 0.0888, ...</td>\n",
       "      <td>[4641060, 1804800, 525060, 2670660, 1400400, 6...</td>\n",
       "      <td>7.789063</td>\n",
       "      <td>4641060.0</td>\n",
       "    </tr>\n",
       "    <tr>\n",
       "      <th>126</th>\n",
       "      <td>5000</td>\n",
       "      <td>4.6</td>\n",
       "      <td>-0.10</td>\n",
       "      <td>[0, 0, 0, 0, 0, 0, 0, 0, 0, 0, 0, 0, 0, 0, 0, ...</td>\n",
       "      <td>[-0.06575, 0.04152, -0.02649, 0.07363, -0.0011...</td>\n",
       "      <td>[4639920, 1606080, 340440, 488340, 2666640, 90...</td>\n",
       "      <td>7.718890</td>\n",
       "      <td>4639920.0</td>\n",
       "    </tr>\n",
       "    <tr>\n",
       "      <th>131</th>\n",
       "      <td>5000</td>\n",
       "      <td>4.8</td>\n",
       "      <td>-0.10</td>\n",
       "      <td>[0, 0, 0, 0, 0, 0, 0, 0, 0, 0, 0, 0, 0, 0, 0, ...</td>\n",
       "      <td>[-0.05992, 0.07363, 0.00018, 0.05786, 0.04707,...</td>\n",
       "      <td>[4639920, 340440, 488340, 2666640, 903780, 67620]</td>\n",
       "      <td>7.635782</td>\n",
       "      <td>4639920.0</td>\n",
       "    </tr>\n",
       "    <tr>\n",
       "      <th>176</th>\n",
       "      <td>5250</td>\n",
       "      <td>4.8</td>\n",
       "      <td>-0.10</td>\n",
       "      <td>[0, 0, 0, 0, 0, 0, 0, 0, 0, 0, 0, 0, 0, 0, 0, ...</td>\n",
       "      <td>[-0.05936, 0.07363, -0.00115, 0.0649, 0.04707,...</td>\n",
       "      <td>[4639920, 1622280, 340080, 788220, 2658540, 88...</td>\n",
       "      <td>7.606606</td>\n",
       "      <td>4639920.0</td>\n",
       "    </tr>\n",
       "    <tr>\n",
       "      <th>87</th>\n",
       "      <td>4750</td>\n",
       "      <td>4.8</td>\n",
       "      <td>0.00</td>\n",
       "      <td>[0, 0, 0, 0, 0, 0, 0, 0, 0, 0, 0, 0, 0, 0, 0, ...</td>\n",
       "      <td>[-0.05928, 0.09238, -0.01063, 0.04873, 0.0888,...</td>\n",
       "      <td>[4639980, 1605900, 1743360, 505080, 2659680, 1...</td>\n",
       "      <td>7.545852</td>\n",
       "      <td>4639980.0</td>\n",
       "    </tr>\n",
       "    <tr>\n",
       "      <th>177</th>\n",
       "      <td>5250</td>\n",
       "      <td>4.8</td>\n",
       "      <td>0.00</td>\n",
       "      <td>[0, 0, 0, 0, 0, 0, 0, 0, 0, 0, 0, 0, 0, 0, 0, ...</td>\n",
       "      <td>[-0.0791, 0.09238, -0.01193, 0.07014, 0.04707,...</td>\n",
       "      <td>[4626480, 1622280, 337260, 788220, 2657880, 86...</td>\n",
       "      <td>7.519992</td>\n",
       "      <td>4626480.0</td>\n",
       "    </tr>\n",
       "    <tr>\n",
       "      <th>42</th>\n",
       "      <td>4500</td>\n",
       "      <td>4.8</td>\n",
       "      <td>0.00</td>\n",
       "      <td>[0, 0, 0, 0, 0, 0, 0, 0, 0, 0, 0, 0, 0, 0, 0, ...</td>\n",
       "      <td>[-0.05928, 0.04326, 0.09238, -0.01063, 0.05016...</td>\n",
       "      <td>[4639980, 1605780, 1804800, 531600, 2670660, 4...</td>\n",
       "      <td>7.498027</td>\n",
       "      <td>4639980.0</td>\n",
       "    </tr>\n",
       "    <tr>\n",
       "      <th>85</th>\n",
       "      <td>4750</td>\n",
       "      <td>4.8</td>\n",
       "      <td>-0.25</td>\n",
       "      <td>[0, 0, 0, 0, 0, 0, 0, 0, 0, 0, 0, 0, 0, 0, 0, ...</td>\n",
       "      <td>[-0.06302, 0.07363, 0.00018, 0.04872, 0.07806,...</td>\n",
       "      <td>[4646460, 1809360, 534840, 2671980, 740640]</td>\n",
       "      <td>7.478183</td>\n",
       "      <td>4646460.0</td>\n",
       "    </tr>\n",
       "    <tr>\n",
       "      <th>76</th>\n",
       "      <td>4750</td>\n",
       "      <td>4.4</td>\n",
       "      <td>-0.10</td>\n",
       "      <td>[0, 0, 0, 0, 0, 0, 0, 0, 0, 0, 0, 0, 0, 0, 0, ...</td>\n",
       "      <td>[-0.05848, 0.03898, -0.03646, 0.09238, -0.0011...</td>\n",
       "      <td>[4641060, 1605840, 401940, 525060, 2670660, 15...</td>\n",
       "      <td>7.476651</td>\n",
       "      <td>4641060.0</td>\n",
       "    </tr>\n",
       "    <tr>\n",
       "      <th>37</th>\n",
       "      <td>4500</td>\n",
       "      <td>4.6</td>\n",
       "      <td>0.00</td>\n",
       "      <td>[0, 0, 0, 0, 0, 0, 0, 0, 0, 0, 0, 0, 0, 0, 0, ...</td>\n",
       "      <td>[-0.05928, 0.04518, -0.03926, 0.09238, -0.0106...</td>\n",
       "      <td>[4639980, 1605780, 401940, 204420, 531600, 267...</td>\n",
       "      <td>7.405942</td>\n",
       "      <td>4639980.0</td>\n",
       "    </tr>\n",
       "  </tbody>\n",
       "</table>\n",
       "</div>"
      ],
      "text/plain": [
       "     lookback  thres  sell_thres  \\\n",
       "86       4750    4.8       -0.10   \n",
       "126      5000    4.6       -0.10   \n",
       "131      5000    4.8       -0.10   \n",
       "176      5250    4.8       -0.10   \n",
       "87       4750    4.8        0.00   \n",
       "177      5250    4.8        0.00   \n",
       "42       4500    4.8        0.00   \n",
       "85       4750    4.8       -0.25   \n",
       "76       4750    4.4       -0.10   \n",
       "37       4500    4.6        0.00   \n",
       "\n",
       "                                                 cusum  \\\n",
       "86   [0, 0, 0, 0, 0, 0, 0, 0, 0, 0, 0, 0, 0, 0, 0, ...   \n",
       "126  [0, 0, 0, 0, 0, 0, 0, 0, 0, 0, 0, 0, 0, 0, 0, ...   \n",
       "131  [0, 0, 0, 0, 0, 0, 0, 0, 0, 0, 0, 0, 0, 0, 0, ...   \n",
       "176  [0, 0, 0, 0, 0, 0, 0, 0, 0, 0, 0, 0, 0, 0, 0, ...   \n",
       "87   [0, 0, 0, 0, 0, 0, 0, 0, 0, 0, 0, 0, 0, 0, 0, ...   \n",
       "177  [0, 0, 0, 0, 0, 0, 0, 0, 0, 0, 0, 0, 0, 0, 0, ...   \n",
       "42   [0, 0, 0, 0, 0, 0, 0, 0, 0, 0, 0, 0, 0, 0, 0, ...   \n",
       "85   [0, 0, 0, 0, 0, 0, 0, 0, 0, 0, 0, 0, 0, 0, 0, ...   \n",
       "76   [0, 0, 0, 0, 0, 0, 0, 0, 0, 0, 0, 0, 0, 0, 0, ...   \n",
       "37   [0, 0, 0, 0, 0, 0, 0, 0, 0, 0, 0, 0, 0, 0, 0, ...   \n",
       "\n",
       "                                               returns  \\\n",
       "86   [-0.05399, 0.09238, 0.00018, 0.05016, 0.0888, ...   \n",
       "126  [-0.06575, 0.04152, -0.02649, 0.07363, -0.0011...   \n",
       "131  [-0.05992, 0.07363, 0.00018, 0.05786, 0.04707,...   \n",
       "176  [-0.05936, 0.07363, -0.00115, 0.0649, 0.04707,...   \n",
       "87   [-0.05928, 0.09238, -0.01063, 0.04873, 0.0888,...   \n",
       "177  [-0.0791, 0.09238, -0.01193, 0.07014, 0.04707,...   \n",
       "42   [-0.05928, 0.04326, 0.09238, -0.01063, 0.05016...   \n",
       "85   [-0.06302, 0.07363, 0.00018, 0.04872, 0.07806,...   \n",
       "76   [-0.05848, 0.03898, -0.03646, 0.09238, -0.0011...   \n",
       "37   [-0.05928, 0.04518, -0.03926, 0.09238, -0.0106...   \n",
       "\n",
       "                                             drawdowns    sharpe       mxdd  \n",
       "86   [4641060, 1804800, 525060, 2670660, 1400400, 6...  7.789063  4641060.0  \n",
       "126  [4639920, 1606080, 340440, 488340, 2666640, 90...  7.718890  4639920.0  \n",
       "131  [4639920, 340440, 488340, 2666640, 903780, 67620]  7.635782  4639920.0  \n",
       "176  [4639920, 1622280, 340080, 788220, 2658540, 88...  7.606606  4639920.0  \n",
       "87   [4639980, 1605900, 1743360, 505080, 2659680, 1...  7.545852  4639980.0  \n",
       "177  [4626480, 1622280, 337260, 788220, 2657880, 86...  7.519992  4626480.0  \n",
       "42   [4639980, 1605780, 1804800, 531600, 2670660, 4...  7.498027  4639980.0  \n",
       "85         [4646460, 1809360, 534840, 2671980, 740640]  7.478183  4646460.0  \n",
       "76   [4641060, 1605840, 401940, 525060, 2670660, 15...  7.476651  4641060.0  \n",
       "37   [4639980, 1605780, 401940, 204420, 531600, 267...  7.405942  4639980.0  "
      ]
     },
     "execution_count": 39,
     "metadata": {},
     "output_type": "execute_result"
    }
   ],
   "source": [
    "bigdf_filtered.drop([\"cusum\"], axis=1, inplace=True)\n",
    "bigdf_filtered.to_csv(\"../data/generated/results/test.csv\")"
   ]
  },
  {
   "cell_type": "code",
   "execution_count": null,
   "id": "600ebc90-06fc-4ffd-aa73-8f4f4863ba62",
   "metadata": {},
   "outputs": [],
   "source": [
    "bigdf_filtered.drop([\"cusum\"], axis=1, inplace=True)\n",
    "bigdf_filtered.to_csv(\"../data/generated/results/test.csv\")"
   ]
  },
  {
   "cell_type": "code",
   "execution_count": 40,
   "id": "667e1c4a",
   "metadata": {
    "scrolled": true
   },
   "outputs": [
    {
     "data": {
      "image/png": "[encoded data removed]",
      "text/plain": [
       "<Figure size 1440x720 with 1 Axes>"
      ]
     },
     "metadata": {
      "needs_background": "light"
     },
     "output_type": "display_data"
    }
   ],
   "source": [
    "fig, ax = plt.subplots(figsize=(20, 10))\n",
    "for index, row in bigdf_result.iterrows():\n",
    "    pd.Series(row['cusum']).plot(legend=True)\n",
    "ax.legend(bigdf_result.index)\n",
    "# fig.savefig('../data/generated/preliminary.png') #For first round\n",
    "fig.savefig('../data/generated/final.png') #For final round"
   ]
  },
  {
   "cell_type": "code",
   "execution_count": 19,
   "id": "050953ab-5d40-4845-9cd0-43e722c9466e",
   "metadata": {},
   "outputs": [],
   "source": [
    "bigdf_filtered.to_csv(\"../data/generated/results/ARDR-LSK-preliminary.csv\")"
   ]
  },
  {
   "cell_type": "code",
   "execution_count": 141,
   "id": "12e97062",
   "metadata": {},
   "outputs": [
    {
     "name": "stdout",
     "output_type": "stream",
     "text": [
      "99\n",
      "1.7144523701359085\n",
      "223\n",
      "1.3743058865378712\n",
      "347\n",
      "1.8594478613602894\n",
      "471\n",
      "2.1280851014235\n",
      "595\n",
      "5.472205487597502\n",
      "719\n",
      "5.083683363605593\n",
      "843\n",
      "5.929368069009028\n",
      "98\n",
      "1.7707864611644295\n",
      "222\n",
      "0.8649171037960948\n",
      "346\n",
      "0.9021308359593915\n"
     ]
    }
   ],
   "source": [
    "for index, row in bigdf_result.iterrows():\n",
    "    ret = row['returns']\n",
    "    print(index)\n",
    "    print(np.sqrt(len(ret)) * np.nanmean(ret) / np.nanstd(ret))"
   ]
  },
  {
   "cell_type": "markdown",
   "id": "435e0b1e",
   "metadata": {
    "heading_collapsed": true
   },
   "source": [
    "### Anything Else"
   ]
  },
  {
   "cell_type": "markdown",
   "id": "94d8daed",
   "metadata": {
    "hidden": true
   },
   "source": [
    "(Basically like the sharpe ratio, but using params other than returns)"
   ]
  },
  {
   "cell_type": "code",
   "execution_count": 27,
   "id": "1328bdc2",
   "metadata": {
    "hidden": true
   },
   "outputs": [
    {
     "name": "stdout",
     "output_type": "stream",
     "text": [
      "Average Daily Returns = 0.027455\n"
     ]
    }
   ],
   "source": [
    "# list to base std off of (ex. for avg daily return, would be list of daily returns.\n",
    "# for max drawdown length, would be list of drawdown lengths)\n",
    "raw_value_list = ret\n",
    "\n",
    "#the raw value of the t-stat to test\n",
    "raw_value = np.nanmean(ret)\n",
    "\n",
    "#the null hypothesis value\n",
    "null_hypothesis = 0 \n",
    "\n",
    "print('Average Daily Returns = %f' % raw_value)"
   ]
  },
  {
   "cell_type": "code",
   "execution_count": 29,
   "id": "e3829509",
   "metadata": {
    "hidden": true,
    "scrolled": true
   },
   "outputs": [
    {
     "name": "stdout",
     "output_type": "stream",
     "text": [
      "0.4123370454656365\n"
     ]
    }
   ],
   "source": [
    "t_stat = (raw_value - null_hypothesis) / np.nanstd(raw_value_list)\n",
    "print(t_stat)"
   ]
  },
  {
   "cell_type": "code",
   "execution_count": 37,
   "id": "dac1c813",
   "metadata": {
    "hidden": true,
    "scrolled": true
   },
   "outputs": [
    {
     "data": {
      "text/plain": [
       "0.3400461996725078"
      ]
     },
     "execution_count": 37,
     "metadata": {},
     "output_type": "execute_result"
    }
   ],
   "source": [
    "1 - st.norm.cdf(t_stat)"
   ]
  },
  {
   "cell_type": "code",
   "execution_count": 34,
   "id": "07f66aa4",
   "metadata": {
    "hidden": true
   },
   "outputs": [
    {
     "data": {
      "text/plain": [
       "0.3400461996725078"
      ]
     },
     "execution_count": 34,
     "metadata": {},
     "output_type": "execute_result"
    }
   ],
   "source": [
    "st.norm.sf(abs(t_stat))"
   ]
  },
  {
   "cell_type": "code",
   "execution_count": 32,
   "id": "1cce12fe",
   "metadata": {
    "hidden": true
   },
   "outputs": [
    {
     "name": "stdout",
     "output_type": "stream",
     "text": [
      "1.2823987214609247\n",
      "1.6463788172854639\n",
      "2.3300826747555097\n",
      "3.0984021639128754\n"
     ]
    }
   ],
   "source": [
    "# Finding Critical Values\n",
    "# dof (degrees of freedom) is pretty much just a fancy way of saying n-1, (n=number of values in distribution)\n",
    "# theoretically infinite, since we are using a hypothetical gaussian distribution\n",
    "dof = 1000\n",
    "\n",
    "print(st.t.ppf(q=1-(0.1),df=dof))\n",
    "print(st.t.ppf(q=1-(0.05),df=dof))\n",
    "print(st.t.ppf(q=1-(0.01),df=dof))\n",
    "print(st.t.ppf(q=1-(0.001),df=dof))\n"
   ]
  },
  {
   "cell_type": "markdown",
   "id": "df74a35c",
   "metadata": {
    "heading_collapsed": true
   },
   "source": [
    "## Monte Carlo"
   ]
  },
  {
   "cell_type": "markdown",
   "id": "6111e4b4",
   "metadata": {
    "hidden": true
   },
   "source": [
    "### Monte Carlo Returns"
   ]
  },
  {
   "cell_type": "code",
   "execution_count": null,
   "id": "827b7dd6",
   "metadata": {
    "hidden": true
   },
   "outputs": [],
   "source": [
    "# The metric to use to measure the input data\n",
    "# for \"predict the market\" strategies, can be close price or market returns\n",
    "# can use z-score for this strategy\n",
    "zscore_metric = spread.zscore\n",
    "\n",
    "#daily returns of strategy\n",
    "#ret"
   ]
  },
  {
   "cell_type": "code",
   "execution_count": null,
   "id": "8dfde8c9",
   "metadata": {
    "hidden": true
   },
   "outputs": [],
   "source": [
    "skew_, loc_, scale_ = st.pearson3.fit(zscore_metric)\n",
    "num_better_samples = 0"
   ]
  },
  {
   "cell_type": "code",
   "execution_count": 42,
   "id": "76940178",
   "metadata": {
    "hidden": true
   },
   "outputs": [
    {
     "name": "stderr",
     "output_type": "stream",
     "text": [
      "  0%|          | 0/10000 [00:00<?, ?it/s]\n"
     ]
    },
    {
     "ename": "NameError",
     "evalue": "name 'skew_' is not defined",
     "output_type": "error",
     "traceback": [
      "\u001b[0;31m---------------------------------------------------------------------------\u001b[0m",
      "\u001b[0;31mNameError\u001b[0m                                 Traceback (most recent call last)",
      "\u001b[0;32m<ipython-input-42-87dcb25b34c9>\u001b[0m in \u001b[0;36m<module>\u001b[0;34m\u001b[0m\n\u001b[1;32m      3\u001b[0m \u001b[0;34m\u001b[0m\u001b[0m\n\u001b[1;32m      4\u001b[0m \u001b[0;32mfor\u001b[0m \u001b[0msample\u001b[0m \u001b[0;32min\u001b[0m \u001b[0mtqdm\u001b[0m\u001b[0;34m(\u001b[0m\u001b[0mrange\u001b[0m\u001b[0;34m(\u001b[0m\u001b[0msample_size\u001b[0m\u001b[0;34m)\u001b[0m\u001b[0;34m)\u001b[0m\u001b[0;34m:\u001b[0m\u001b[0;34m\u001b[0m\u001b[0;34m\u001b[0m\u001b[0m\n\u001b[0;32m----> 5\u001b[0;31m     \u001b[0mzscore_sim\u001b[0m \u001b[0;34m=\u001b[0m \u001b[0mst\u001b[0m\u001b[0;34m.\u001b[0m\u001b[0mpearson3\u001b[0m\u001b[0;34m.\u001b[0m\u001b[0mrvs\u001b[0m\u001b[0;34m(\u001b[0m\u001b[0mskew\u001b[0m\u001b[0;34m=\u001b[0m\u001b[0mskew_\u001b[0m\u001b[0;34m,\u001b[0m \u001b[0mloc\u001b[0m\u001b[0;34m=\u001b[0m\u001b[0mloc_\u001b[0m\u001b[0;34m,\u001b[0m \u001b[0mscale\u001b[0m\u001b[0;34m=\u001b[0m\u001b[0mscale_\u001b[0m\u001b[0;34m,\u001b[0m \u001b[0msize\u001b[0m\u001b[0;34m=\u001b[0m\u001b[0mzscore_metric\u001b[0m\u001b[0;34m.\u001b[0m\u001b[0mshape\u001b[0m\u001b[0;34m[\u001b[0m\u001b[0;36m0\u001b[0m\u001b[0;34m]\u001b[0m\u001b[0;34m,\u001b[0m \u001b[0mrandom_state\u001b[0m\u001b[0;34m=\u001b[0m\u001b[0msample\u001b[0m\u001b[0;34m)\u001b[0m\u001b[0;34m\u001b[0m\u001b[0;34m\u001b[0m\u001b[0m\n\u001b[0m\u001b[1;32m      6\u001b[0m \u001b[0;34m\u001b[0m\u001b[0m\n\u001b[1;32m      7\u001b[0m     \u001b[0mspread_sim\u001b[0m \u001b[0;34m=\u001b[0m \u001b[0mspread\u001b[0m\u001b[0;34m\u001b[0m\u001b[0;34m\u001b[0m\u001b[0m\n",
      "\u001b[0;31mNameError\u001b[0m: name 'skew_' is not defined"
     ]
    }
   ],
   "source": [
    "sample_size = 10000\n",
    "ret_sims = []\n",
    "\n",
    "for sample in tqdm(range(sample_size)):\n",
    "    zscore_sim = st.pearson3.rvs(skew=skew_, loc=loc_, scale=scale_, size=zscore_metric.shape[0], random_state=sample)\n",
    "    \n",
    "    spread_sim = spread\n",
    "    spread_sim['zscore'] = zscore_sim\n",
    "    \n",
    "    _, _, _, _, ret_sim, _ = run_backtest(spread_sim, 2.0, 0.)[0]\n",
    "    ret_sims.append(ret_sim)\n",
    "    \n",
    "    if (np.mean(ret_sim) >= np.mean(ret)):\n",
    "        num_better_samples += 1\n",
    "            \n",
    "print(\"Randomized zscore: p-value = %f\" % (num_better_samples / sample_size))"
   ]
  },
  {
   "cell_type": "markdown",
   "id": "3c74b9da",
   "metadata": {
    "heading_collapsed": true
   },
   "source": [
    "## Randomized Entry Test"
   ]
  },
  {
   "cell_type": "markdown",
   "id": "d2d21fa5",
   "metadata": {
    "hidden": true
   },
   "source": [
    "### Randomized Entry Returns"
   ]
  },
  {
   "cell_type": "code",
   "execution_count": null,
   "id": "e10ac0b9",
   "metadata": {
    "hidden": true
   },
   "outputs": [],
   "source": [
    "num_better_samples = 0"
   ]
  },
  {
   "cell_type": "code",
   "execution_count": null,
   "id": "74fac295",
   "metadata": {
    "hidden": true
   },
   "outputs": [],
   "source": [
    "sample_size = 10000\n",
    "ret_sims = []\n",
    "\n",
    "for sample in tqdm(range(sample_size)):\n",
    "    long_a_sim = long_a.shuffle()\n",
    "    long_b_sim = long_b.shuffle() \n",
    "    \n",
    "    ret_sim = run_fake_backtest(spread, long_a_sim, long_b_sim, 1.5, 5)[0]\n",
    "    ret_sims.append(ret_sim)\n",
    "    \n",
    "    if (np.mean(ret_sim) >= np.mean(ret)):\n",
    "        num_better_samples += 1\n",
    "\n",
    "print(\"Randomized Entry: p-value = %f\" % (num_better_samples / sample_size))"
   ]
  },
  {
   "cell_type": "code",
   "execution_count": null,
   "id": "b48726d8",
   "metadata": {
    "hidden": true
   },
   "outputs": [],
   "source": [
    "def get_a_b(al, ac, ah, bl, bc, bh):\n",
    "    return ac-abs(ac-al)/2, ac+abs(ac-ah)/2, bc-abs(bc-bl)/2, bc+abs(bc-bh)/2\n",
    "\n",
    "def run_fake_backtest(spread, long_a_sim, long_b_sim, thres, sell_thres, fee=0.002, interest=0.002):\n",
    "    total, p_total = 0, 0 #Previous total\n",
    "    cusum, returns = [], []\n",
    "    price_a, price_b, long = None, None, None #Values: None, \"A\", \"B\"\n",
    "    long_a, long_b, liquidate,  dd_indices= [], [], [], [] #Drawdown indicies\n",
    "    dd_i = True\n",
    "    \n",
    "    for i in range(spread.shape[0]):\n",
    "        al, ah, bl, bh = get_a_b(spread.Al[i], spread.A[i], spread.Ah[i], spread.Bl[i], spread.B[i], spread.Bh[i])\n",
    "        \n",
    "        if i in long_a_sim: # Looking to buy\n",
    "            price_a = ah\n",
    "            price_b = bl\n",
    "            long = \"A\"\n",
    "            long_a.append(spread.index[i])\n",
    "            \n",
    "        elif i in long_b_sim:\n",
    "            price_a = al\n",
    "            price_b = bh\n",
    "            long = \"B\"\n",
    "            long_b.append(spread.index[i])\n",
    "            \n",
    "        elif (long == \"A\" and (i in long_b_sim)) or (long == \"B\" and (i in long_a_sim)): #Liquidate positions\n",
    "            al, ah, bl, bh = get_a_b(spread.Al[i], spread.A[i], spread.Ah[i], spread.Bl[i], spread.B[i], spread.Bh[i])\n",
    "            gain = 0\n",
    "            if long==\"A\":\n",
    "                gain = liquidate_assets(price_b, bh, al, price_a, fee, long_a[-1], spread.index[i], interest)\n",
    "            else:\n",
    "                gain = liquidate_assets(price_a, ah, bl, price_b, fee, long_b[-1], spread.index[i], interest)\n",
    "            returns.append(gain)\n",
    "            total += gain\n",
    "            price_a, price_b, long = None, None, None\n",
    "            liquidate.append(spread.index[i])\n",
    "        cusum.append(total)\n",
    "        \n",
    "\n",
    "        if total < p_total:\n",
    "            if dd_i:\n",
    "                dd_indices.append(spread.index[i])\n",
    "                dd_i = False\n",
    "        else:\n",
    "            if not dd_i:\n",
    "                dd_indices.append(spread.index[i])\n",
    "                dd_i = True\n",
    "            p_total = total\n",
    "    if total < p_total:\n",
    "        dd_indices.append(spread.index[i])\n",
    "    drawdowns = get_drawdowns(dd_indices)\n",
    "    return long_a, long_b, liquidate, cusum, returns, drawdowns\n",
    "        \n",
    "def liquidate_assets(x1, x2, y1, y2, fee, d1, d2, interest):\n",
    "    interest = ((d2-d1).days + 1) * interest\n",
    "    total = (x1 - x2)/x1 - 2*fee - interest\n",
    "    total += (y1 - y2)/y1 - 2*fee - interest\n",
    "    return total\n",
    "\n",
    "def get_drawdowns(dd_indices):\n",
    "    a = dd_indices[1::2]\n",
    "    b = dd_indices[::2]\n",
    "    a = np.array(a)\n",
    "    b = np.array(b[:len(a)])\n",
    "    c = a-b\n",
    "    c.sort()\n",
    "    return c[::-1]"
   ]
  }
 ],
 "metadata": {
  "kernelspec": {
   "display_name": "Python 3",
   "language": "python",
   "name": "python3"
  },
  "language_info": {
   "codemirror_mode": {
    "name": "ipython",
    "version": 3
   },
   "file_extension": ".py",
   "mimetype": "text/x-python",
   "name": "python",
   "nbconvert_exporter": "python",
   "pygments_lexer": "ipython3",
   "version": "3.9.5"
  },
  "toc": {
   "base_numbering": 1,
   "nav_menu": {},
   "number_sections": true,
   "sideBar": true,
   "skip_h1_title": false,
   "title_cell": "Table of Contents",
   "title_sidebar": "Contents",
   "toc_cell": false,
   "toc_position": {},
   "toc_section_display": true,
   "toc_window_display": false
  },
  "varInspector": {
   "cols": {
    "lenName": 16,
    "lenType": 16,
    "lenVar": 40
   },
   "kernels_config": {
    "python": {
     "delete_cmd_postfix": "",
     "delete_cmd_prefix": "del ",
     "library": "var_list.py",
     "varRefreshCmd": "print(var_dic_list())"
    },
    "r": {
     "delete_cmd_postfix": ") ",
     "delete_cmd_prefix": "rm(",
     "library": "var_list.r",
     "varRefreshCmd": "cat(var_dic_list()) "
    }
   },
   "types_to_exclude": [
    "module",
    "function",
    "builtin_function_or_method",
    "instance",
    "_Feature"
   ],
   "window_display": false
  }
 },
 "nbformat": 4,
 "nbformat_minor": 5
}
