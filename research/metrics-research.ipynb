{
 "cells": [
  {
   "cell_type": "markdown",
   "id": "f07f5d2a",
   "metadata": {},
   "source": [
    "# Metrics Research"
   ]
  },
  {
   "cell_type": "markdown",
   "id": "4f619e71",
   "metadata": {},
   "source": [
    "## Hypothesis Testing"
   ]
  },
  {
   "cell_type": "markdown",
   "id": "e1a32a46",
   "metadata": {},
   "source": [
    "The general framework of hypothesis testing as applied to backtesting follows these steps:\n",
    "\n",
    "1. Based on a backtest on some finite sample of data, we compute a certain statistical measure called the **test statistic**.\n",
    "\n",
    "\n",
    "2. We suppose that t-statistic based on an infinite data set is actually zero.This supposition is called the null hypothesis.\n",
    "\n",
    "\n",
    "3. We suppose that the probability distribution of daily returns is known. This probability distribution has a zero mean, based on the null hypothesis. We describe later how we determine this probability distribution.\n",
    "\n",
    "\n",
    "4. Based on this null hypothesis probability distribution, we compute the probability p that the t-statistic will be at least as extreme (allowing for the possibility of a negative test statistic). This probability p is called the **p-value**, and if it is very small (let’s say smaller than 0.01), that means we can “reject the null hypothesis,” and conclude that the backtested average daily return is statistically significant."
   ]
  },
  {
   "cell_type": "markdown",
   "id": "c50ba1df",
   "metadata": {},
   "source": [
    "## Determining the Probability Distribution Under Null Hypothesis"
   ]
  },
  {
   "cell_type": "markdown",
   "id": "bbf99282",
   "metadata": {},
   "source": [
    "### Gaussian Distribution"
   ]
  },
  {
   "cell_type": "markdown",
   "id": "6854a86f",
   "metadata": {},
   "source": [
    "Suppose that the daily returns follow a Gaussian distribution, with a mean of zero and a standard deviation given by the sample standard deviation of the t-statistic. \n",
    "\n",
    "\n",
    "If we do this, it is clear that if the backtest has a high Sharpe ratio, it would be very easy for us to reject the null hypothesis. This is because the standard test statistic for a Gaussian distribution is none other than the average divided by the standard deviation and multiplied by the square root of the number of data points \n",
    "\n",
    "(basically fancy way of saying the sharpe ratio lmao)"
   ]
  },
  {
   "cell_type": "markdown",
   "id": "6504915d",
   "metadata": {},
   "source": [
    "| p-value         | 0.1   | 0.05  | 0.01  | 0.001 |\n",
    "|-----------------|-------|-------|-------|-------|\n",
    "| Critical Values | 1.282 | 1.645 | 2.326 | 3.091 |"
   ]
  },
  {
   "cell_type": "markdown",
   "id": "528b48a2",
   "metadata": {},
   "source": [
    "### Monte Carlo Simulation"
   ]
  },
  {
   "cell_type": "markdown",
   "id": "2a018dcc",
   "metadata": {},
   "source": [
    "Another method is to use Monte Carlo methods to generate simulated historical price data and feed these simulated data into our strategy to determine the empirical probability distribution of profits.\n",
    "\n",
    "\n",
    "Our belief is that the profitability of the trading strategy captured some subtle patterns or correlations of the price series, and not just because of the first few moments of the price distributions.\n",
    "\n",
    "\n",
    "So if we generate many simulated price series with the same first moments and the same length as the actual price data, and run the trading strategy over all these simulated price series, we can find out in what fraction p of these price series are the average returns greater than or equal to the backtest return."
   ]
  },
  {
   "cell_type": "markdown",
   "id": "f2f50c6a",
   "metadata": {},
   "source": [
    "### Simulated Trades Method"
   ]
  },
  {
   "cell_type": "markdown",
   "id": "d7e4b3c0",
   "metadata": {},
   "source": [
    "In this method, instead of generating simulated price data, we generate sets of simulated trades, with the constraint that the number of long and short entry trades is the same as in the backtest, and with the same average holding period for the trades. \n",
    "\n",
    "These trades are distributed randomly over the actual historical price series. We then measure what fraction of such sets of trades has average return greater than or equal to the backtest average return."
   ]
  },
  {
   "cell_type": "markdown",
   "id": "66e3ba44",
   "metadata": {},
   "source": [
    "## Options for T-Statistic"
   ]
  },
  {
   "cell_type": "markdown",
   "id": "93b6be62",
   "metadata": {},
   "source": [
    "- Returns\n",
    "    - Cumulative Returns\n",
    "    - Average Daily Returns\n",
    "    \n",
    "    \n",
    "- Drawdown\n",
    "    - Maximum Drawdown Length\n",
    "    - Number of Drawdowns > 1 Week\n",
    "\n",
    "\n",
    "- Losses\n",
    "    - Number of 15% Losses\n",
    "    - Biggest Loss\n",
    "    \n",
    "**OR Some Combination of the Above.**"
   ]
  },
  {
   "cell_type": "markdown",
   "id": "4d2c7de8",
   "metadata": {},
   "source": [
    "# Hypothesis Tests"
   ]
  },
  {
   "cell_type": "code",
   "execution_count": 41,
   "id": "13c9ccc8",
   "metadata": {},
   "outputs": [],
   "source": [
    "import numpy as np\n",
    "import pandas as pd\n",
    "import scipy.stats as st\n",
    "import math\n",
    "from tqdm import tqdm"
   ]
  },
  {
   "cell_type": "code",
   "execution_count": 167,
   "id": "b1b75556",
   "metadata": {},
   "outputs": [],
   "source": [
    "import matplotlib.pyplot as plt"
   ]
  },
  {
   "cell_type": "markdown",
   "id": "3b9f0af6",
   "metadata": {},
   "source": [
    "## Gaussian"
   ]
  },
  {
   "cell_type": "markdown",
   "id": "0d582cfb",
   "metadata": {},
   "source": [
    "### Average Daily Returns"
   ]
  },
  {
   "cell_type": "code",
   "execution_count": 56,
   "id": "a7129229",
   "metadata": {},
   "outputs": [],
   "source": [
    "daily_returns = pd.read_csv('../data/returnss2.csv')"
   ]
  },
  {
   "cell_type": "code",
   "execution_count": 39,
   "id": "bece45dd",
   "metadata": {},
   "outputs": [],
   "source": [
    "ret = daily_returns['0'].to_list()"
   ]
  },
  {
   "cell_type": "code",
   "execution_count": 40,
   "id": "c91f6b19",
   "metadata": {},
   "outputs": [
    {
     "name": "stdout",
     "output_type": "stream",
     "text": [
      "Gaussian Test statistic = 4.707045\n"
     ]
    }
   ],
   "source": [
    "# we multiply by the sqrt(len(ret)) to \"annualize\" the sharpe ratio based on big brain maths\n",
    "sharpe = np.sqrt(len(ret)) * np.nanmean(ret) / np.nanstd(ret)\n",
    "print(\"Gaussian Test statistic = %f\" % sharpe)"
   ]
  },
  {
   "cell_type": "markdown",
   "id": "a5e26f8e",
   "metadata": {},
   "source": [
    "| p-value         | 0.1   | 0.05  | 0.01  | 0.001 |\n",
    "|-----------------|-------|-------|-------|-------|\n",
    "| Critical Values | 1.282 | 1.645 | 2.326 | 3.091 |"
   ]
  },
  {
   "cell_type": "code",
   "execution_count": 116,
   "id": "1e142440",
   "metadata": {},
   "outputs": [],
   "source": [
    "df1 = pd.read_csv('../data/fet-celr-500.csv')"
   ]
  },
  {
   "cell_type": "code",
   "execution_count": 109,
   "id": "5981ad2d",
   "metadata": {},
   "outputs": [],
   "source": [
    "df2 = pd.read_csv('../data/fet-celr-1000.csv')\n",
    "df3 = pd.read_csv('../data/fet-celr-1500.csv')\n",
    "df4 = pd.read_csv('../data/fet-celr-2000.csv')\n",
    "df5 = pd.read_csv('../data/fet-celr-3000.csv')\n",
    "df6 = pd.read_csv('../data/fet-celr-4000.csv')\n",
    "df7 = pd.read_csv('../data/fet-celr-5000.csv')"
   ]
  },
  {
   "cell_type": "code",
   "execution_count": 117,
   "id": "8739d9a1",
   "metadata": {},
   "outputs": [],
   "source": [
    "bigdf = pd.concat([df1, df2, df3, df4, df5, df6, df7])"
   ]
  },
  {
   "cell_type": "code",
   "execution_count": 118,
   "id": "af8d093c",
   "metadata": {
    "scrolled": true
   },
   "outputs": [
    {
     "data": {
      "text/html": [
       "<div>\n",
       "<style scoped>\n",
       "    .dataframe tbody tr th:only-of-type {\n",
       "        vertical-align: middle;\n",
       "    }\n",
       "\n",
       "    .dataframe tbody tr th {\n",
       "        vertical-align: top;\n",
       "    }\n",
       "\n",
       "    .dataframe thead th {\n",
       "        text-align: right;\n",
       "    }\n",
       "</style>\n",
       "<table border=\"1\" class=\"dataframe\">\n",
       "  <thead>\n",
       "    <tr style=\"text-align: right;\">\n",
       "      <th></th>\n",
       "      <th>lookback</th>\n",
       "      <th>thres</th>\n",
       "      <th>sell_thres</th>\n",
       "      <th>cusum</th>\n",
       "      <th>returns</th>\n",
       "      <th>drawdowns</th>\n",
       "    </tr>\n",
       "  </thead>\n",
       "  <tbody>\n",
       "    <tr>\n",
       "      <th>0</th>\n",
       "      <td>500</td>\n",
       "      <td>0.5</td>\n",
       "      <td>-0.25</td>\n",
       "      <td>[0, 0, 0, 0, 0, 0, 0, 0, 0, 0, 0, 0, 0, 0, 0, ...</td>\n",
       "      <td>[-0.03508, -0.02851, 0.01315, 0.00257, 0.00144...</td>\n",
       "      <td>[42074700]</td>\n",
       "    </tr>\n",
       "    <tr>\n",
       "      <th>1</th>\n",
       "      <td>500</td>\n",
       "      <td>0.5</td>\n",
       "      <td>0.00</td>\n",
       "      <td>[0, 0, 0, 0, 0, 0, 0, 0, 0, 0, 0, 0, 0, 0, 0, ...</td>\n",
       "      <td>[-0.01806, -0.00843, 0.01069, 0.00495, -0.0061...</td>\n",
       "      <td>[42072360]</td>\n",
       "    </tr>\n",
       "    <tr>\n",
       "      <th>2</th>\n",
       "      <td>500</td>\n",
       "      <td>0.5</td>\n",
       "      <td>0.25</td>\n",
       "      <td>[0, 0, 0, 0, 0, 0, 0, 0, 0, 0, 0, 0, 0, 0, 0, ...</td>\n",
       "      <td>[-0.01785, 0.01069, 0.00495, -0.00618, 0.00675...</td>\n",
       "      <td>[41984460, 76620, 1020]</td>\n",
       "    </tr>\n",
       "    <tr>\n",
       "      <th>3</th>\n",
       "      <td>500</td>\n",
       "      <td>0.5</td>\n",
       "      <td>0.50</td>\n",
       "      <td>[0, 0, 0, 0, 0, 0, 0, 0, 0, 0, 0, 0, 0, 0, 0, ...</td>\n",
       "      <td>[-0.02108, 0.02401, -0.0058, 0.00508, 0.00149,...</td>\n",
       "      <td>[41977980, 41280, 8820, 4080, 1980]</td>\n",
       "    </tr>\n",
       "    <tr>\n",
       "      <th>4</th>\n",
       "      <td>500</td>\n",
       "      <td>0.5</td>\n",
       "      <td>0.75</td>\n",
       "      <td>[0, 0, 0, 0, 0, 0, 0, 0, 0, 0, 0, 0, 0, 0, 0, ...</td>\n",
       "      <td>[-0.01678, 0.00274, -0.0091, 0.01447, 0.0061, ...</td>\n",
       "      <td>[40695720, 654600, 319920, 59400, 41340, 32580...</td>\n",
       "    </tr>\n",
       "    <tr>\n",
       "      <th>...</th>\n",
       "      <td>...</td>\n",
       "      <td>...</td>\n",
       "      <td>...</td>\n",
       "      <td>...</td>\n",
       "      <td>...</td>\n",
       "      <td>...</td>\n",
       "    </tr>\n",
       "    <tr>\n",
       "      <th>129</th>\n",
       "      <td>5000</td>\n",
       "      <td>4.0</td>\n",
       "      <td>1.25</td>\n",
       "      <td>[0, 0, 0, 0, 0, 0, 0, 0, 0, 0, 0, 0, 0, 0, 0, ...</td>\n",
       "      <td>[0.05583, 0.04841, 0.04287, 0.01604, 0.03829, ...</td>\n",
       "      <td>[16002420, 4818840, 1910100, 592140, 232620]</td>\n",
       "    </tr>\n",
       "    <tr>\n",
       "      <th>130</th>\n",
       "      <td>5000</td>\n",
       "      <td>4.0</td>\n",
       "      <td>1.50</td>\n",
       "      <td>[0, 0, 0, 0, 0, 0, 0, 0, 0, 0, 0, 0, 0, 0, 0, ...</td>\n",
       "      <td>[0.05583, 0.05513, 0.04532, 0.01011, 0.00655, ...</td>\n",
       "      <td>[11273220, 4808220, 972000, 827880, 661320, 59...</td>\n",
       "    </tr>\n",
       "    <tr>\n",
       "      <th>131</th>\n",
       "      <td>5000</td>\n",
       "      <td>4.0</td>\n",
       "      <td>2.00</td>\n",
       "      <td>[0, 0, 0, 0, 0, 0, 0, 0, 0, 0, 0, 0, 0, 0, 0, ...</td>\n",
       "      <td>[0.06731, 0.03438, -0.0382, 0.10206, -0.00289,...</td>\n",
       "      <td>[11181840, 4664700, 1576620, 973020, 827340, 7...</td>\n",
       "    </tr>\n",
       "    <tr>\n",
       "      <th>132</th>\n",
       "      <td>5000</td>\n",
       "      <td>4.0</td>\n",
       "      <td>2.50</td>\n",
       "      <td>[0, 0, 0, 0, 0, 0, 0, 0, 0, 0, 0, 0, 0, 0, 0, ...</td>\n",
       "      <td>[0.08525, 0.04038, -0.04072, 0.09848, 0.01749,...</td>\n",
       "      <td>[5957700, 4104900, 3802680, 3761460, 1710720, ...</td>\n",
       "    </tr>\n",
       "    <tr>\n",
       "      <th>133</th>\n",
       "      <td>5000</td>\n",
       "      <td>4.0</td>\n",
       "      <td>3.00</td>\n",
       "      <td>[0, 0, 0, 0, 0, 0, 0, 0, 0, 0, 0, 0, 0, 0, 0, ...</td>\n",
       "      <td>[0.08896, 0.08927, 0.00909, 0.09136, 0.02234, ...</td>\n",
       "      <td>[21280260, 5397540, 2309220]</td>\n",
       "    </tr>\n",
       "  </tbody>\n",
       "</table>\n",
       "<p>938 rows × 6 columns</p>\n",
       "</div>"
      ],
      "text/plain": [
       "     lookback  thres  sell_thres  \\\n",
       "0         500    0.5       -0.25   \n",
       "1         500    0.5        0.00   \n",
       "2         500    0.5        0.25   \n",
       "3         500    0.5        0.50   \n",
       "4         500    0.5        0.75   \n",
       "..        ...    ...         ...   \n",
       "129      5000    4.0        1.25   \n",
       "130      5000    4.0        1.50   \n",
       "131      5000    4.0        2.00   \n",
       "132      5000    4.0        2.50   \n",
       "133      5000    4.0        3.00   \n",
       "\n",
       "                                                 cusum  \\\n",
       "0    [0, 0, 0, 0, 0, 0, 0, 0, 0, 0, 0, 0, 0, 0, 0, ...   \n",
       "1    [0, 0, 0, 0, 0, 0, 0, 0, 0, 0, 0, 0, 0, 0, 0, ...   \n",
       "2    [0, 0, 0, 0, 0, 0, 0, 0, 0, 0, 0, 0, 0, 0, 0, ...   \n",
       "3    [0, 0, 0, 0, 0, 0, 0, 0, 0, 0, 0, 0, 0, 0, 0, ...   \n",
       "4    [0, 0, 0, 0, 0, 0, 0, 0, 0, 0, 0, 0, 0, 0, 0, ...   \n",
       "..                                                 ...   \n",
       "129  [0, 0, 0, 0, 0, 0, 0, 0, 0, 0, 0, 0, 0, 0, 0, ...   \n",
       "130  [0, 0, 0, 0, 0, 0, 0, 0, 0, 0, 0, 0, 0, 0, 0, ...   \n",
       "131  [0, 0, 0, 0, 0, 0, 0, 0, 0, 0, 0, 0, 0, 0, 0, ...   \n",
       "132  [0, 0, 0, 0, 0, 0, 0, 0, 0, 0, 0, 0, 0, 0, 0, ...   \n",
       "133  [0, 0, 0, 0, 0, 0, 0, 0, 0, 0, 0, 0, 0, 0, 0, ...   \n",
       "\n",
       "                                               returns  \\\n",
       "0    [-0.03508, -0.02851, 0.01315, 0.00257, 0.00144...   \n",
       "1    [-0.01806, -0.00843, 0.01069, 0.00495, -0.0061...   \n",
       "2    [-0.01785, 0.01069, 0.00495, -0.00618, 0.00675...   \n",
       "3    [-0.02108, 0.02401, -0.0058, 0.00508, 0.00149,...   \n",
       "4    [-0.01678, 0.00274, -0.0091, 0.01447, 0.0061, ...   \n",
       "..                                                 ...   \n",
       "129  [0.05583, 0.04841, 0.04287, 0.01604, 0.03829, ...   \n",
       "130  [0.05583, 0.05513, 0.04532, 0.01011, 0.00655, ...   \n",
       "131  [0.06731, 0.03438, -0.0382, 0.10206, -0.00289,...   \n",
       "132  [0.08525, 0.04038, -0.04072, 0.09848, 0.01749,...   \n",
       "133  [0.08896, 0.08927, 0.00909, 0.09136, 0.02234, ...   \n",
       "\n",
       "                                             drawdowns  \n",
       "0                                           [42074700]  \n",
       "1                                           [42072360]  \n",
       "2                              [41984460, 76620, 1020]  \n",
       "3                  [41977980, 41280, 8820, 4080, 1980]  \n",
       "4    [40695720, 654600, 319920, 59400, 41340, 32580...  \n",
       "..                                                 ...  \n",
       "129       [16002420, 4818840, 1910100, 592140, 232620]  \n",
       "130  [11273220, 4808220, 972000, 827880, 661320, 59...  \n",
       "131  [11181840, 4664700, 1576620, 973020, 827340, 7...  \n",
       "132  [5957700, 4104900, 3802680, 3761460, 1710720, ...  \n",
       "133                       [21280260, 5397540, 2309220]  \n",
       "\n",
       "[938 rows x 6 columns]"
      ]
     },
     "execution_count": 118,
     "metadata": {},
     "output_type": "execute_result"
    }
   ],
   "source": [
    "bigdf"
   ]
  },
  {
   "cell_type": "code",
   "execution_count": 115,
   "id": "b83b9cd5",
   "metadata": {},
   "outputs": [
    {
     "data": {
      "text/plain": [
       "lookback      False\n",
       "thres         False\n",
       "sell_thres    False\n",
       "cusum         False\n",
       "returns       False\n",
       "drawdowns     False\n",
       "sharpe         True\n",
       "mxdd           True\n",
       "dtype: bool"
      ]
     },
     "execution_count": 115,
     "metadata": {},
     "output_type": "execute_result"
    }
   ],
   "source": [
    "bigdf.isnull().any()"
   ]
  },
  {
   "cell_type": "code",
   "execution_count": 119,
   "id": "894f70ad",
   "metadata": {},
   "outputs": [],
   "source": [
    "bigdf[\"cusum\"] = bigdf[\"cusum\"].apply(eval)\n",
    "bigdf[\"returns\"] = bigdf[\"returns\"].apply(eval)\n",
    "bigdf[\"drawdowns\"] = bigdf[\"drawdowns\"].apply(eval)"
   ]
  },
  {
   "cell_type": "code",
   "execution_count": 121,
   "id": "d62fadb6",
   "metadata": {},
   "outputs": [
    {
     "data": {
      "text/html": [
       "<div>\n",
       "<style scoped>\n",
       "    .dataframe tbody tr th:only-of-type {\n",
       "        vertical-align: middle;\n",
       "    }\n",
       "\n",
       "    .dataframe tbody tr th {\n",
       "        vertical-align: top;\n",
       "    }\n",
       "\n",
       "    .dataframe thead th {\n",
       "        text-align: right;\n",
       "    }\n",
       "</style>\n",
       "<table border=\"1\" class=\"dataframe\">\n",
       "  <thead>\n",
       "    <tr style=\"text-align: right;\">\n",
       "      <th></th>\n",
       "      <th>lookback</th>\n",
       "      <th>thres</th>\n",
       "      <th>sell_thres</th>\n",
       "      <th>cusum</th>\n",
       "      <th>returns</th>\n",
       "      <th>drawdowns</th>\n",
       "      <th>sharpe</th>\n",
       "      <th>mxdd</th>\n",
       "    </tr>\n",
       "  </thead>\n",
       "  <tbody>\n",
       "    <tr>\n",
       "      <th>0</th>\n",
       "      <td>500</td>\n",
       "      <td>0.5</td>\n",
       "      <td>-0.25</td>\n",
       "      <td>[0, 0, 0, 0, 0, 0, 0, 0, 0, 0, 0, 0, 0, 0, 0, ...</td>\n",
       "      <td>[-0.03508, -0.02851, 0.01315, 0.00257, 0.00144...</td>\n",
       "      <td>[42074700]</td>\n",
       "      <td>NaN</td>\n",
       "      <td>NaN</td>\n",
       "    </tr>\n",
       "    <tr>\n",
       "      <th>1</th>\n",
       "      <td>500</td>\n",
       "      <td>0.5</td>\n",
       "      <td>0.00</td>\n",
       "      <td>[0, 0, 0, 0, 0, 0, 0, 0, 0, 0, 0, 0, 0, 0, 0, ...</td>\n",
       "      <td>[-0.01806, -0.00843, 0.01069, 0.00495, -0.0061...</td>\n",
       "      <td>[42072360]</td>\n",
       "      <td>NaN</td>\n",
       "      <td>NaN</td>\n",
       "    </tr>\n",
       "    <tr>\n",
       "      <th>2</th>\n",
       "      <td>500</td>\n",
       "      <td>0.5</td>\n",
       "      <td>0.25</td>\n",
       "      <td>[0, 0, 0, 0, 0, 0, 0, 0, 0, 0, 0, 0, 0, 0, 0, ...</td>\n",
       "      <td>[-0.01785, 0.01069, 0.00495, -0.00618, 0.00675...</td>\n",
       "      <td>[41984460, 76620, 1020]</td>\n",
       "      <td>NaN</td>\n",
       "      <td>NaN</td>\n",
       "    </tr>\n",
       "    <tr>\n",
       "      <th>3</th>\n",
       "      <td>500</td>\n",
       "      <td>0.5</td>\n",
       "      <td>0.50</td>\n",
       "      <td>[0, 0, 0, 0, 0, 0, 0, 0, 0, 0, 0, 0, 0, 0, 0, ...</td>\n",
       "      <td>[-0.02108, 0.02401, -0.0058, 0.00508, 0.00149,...</td>\n",
       "      <td>[41977980, 41280, 8820, 4080, 1980]</td>\n",
       "      <td>NaN</td>\n",
       "      <td>NaN</td>\n",
       "    </tr>\n",
       "    <tr>\n",
       "      <th>4</th>\n",
       "      <td>500</td>\n",
       "      <td>0.5</td>\n",
       "      <td>0.75</td>\n",
       "      <td>[0, 0, 0, 0, 0, 0, 0, 0, 0, 0, 0, 0, 0, 0, 0, ...</td>\n",
       "      <td>[-0.01678, 0.00274, -0.0091, 0.01447, 0.0061, ...</td>\n",
       "      <td>[40695720, 654600, 319920, 59400, 41340, 32580...</td>\n",
       "      <td>NaN</td>\n",
       "      <td>NaN</td>\n",
       "    </tr>\n",
       "    <tr>\n",
       "      <th>...</th>\n",
       "      <td>...</td>\n",
       "      <td>...</td>\n",
       "      <td>...</td>\n",
       "      <td>...</td>\n",
       "      <td>...</td>\n",
       "      <td>...</td>\n",
       "      <td>...</td>\n",
       "      <td>...</td>\n",
       "    </tr>\n",
       "    <tr>\n",
       "      <th>129</th>\n",
       "      <td>5000</td>\n",
       "      <td>4.0</td>\n",
       "      <td>1.25</td>\n",
       "      <td>[0, 0, 0, 0, 0, 0, 0, 0, 0, 0, 0, 0, 0, 0, 0, ...</td>\n",
       "      <td>[0.05583, 0.04841, 0.04287, 0.01604, 0.03829, ...</td>\n",
       "      <td>[16002420, 4818840, 1910100, 592140, 232620]</td>\n",
       "      <td>NaN</td>\n",
       "      <td>NaN</td>\n",
       "    </tr>\n",
       "    <tr>\n",
       "      <th>130</th>\n",
       "      <td>5000</td>\n",
       "      <td>4.0</td>\n",
       "      <td>1.50</td>\n",
       "      <td>[0, 0, 0, 0, 0, 0, 0, 0, 0, 0, 0, 0, 0, 0, 0, ...</td>\n",
       "      <td>[0.05583, 0.05513, 0.04532, 0.01011, 0.00655, ...</td>\n",
       "      <td>[11273220, 4808220, 972000, 827880, 661320, 59...</td>\n",
       "      <td>NaN</td>\n",
       "      <td>NaN</td>\n",
       "    </tr>\n",
       "    <tr>\n",
       "      <th>131</th>\n",
       "      <td>5000</td>\n",
       "      <td>4.0</td>\n",
       "      <td>2.00</td>\n",
       "      <td>[0, 0, 0, 0, 0, 0, 0, 0, 0, 0, 0, 0, 0, 0, 0, ...</td>\n",
       "      <td>[0.06731, 0.03438, -0.0382, 0.10206, -0.00289,...</td>\n",
       "      <td>[11181840, 4664700, 1576620, 973020, 827340, 7...</td>\n",
       "      <td>NaN</td>\n",
       "      <td>NaN</td>\n",
       "    </tr>\n",
       "    <tr>\n",
       "      <th>132</th>\n",
       "      <td>5000</td>\n",
       "      <td>4.0</td>\n",
       "      <td>2.50</td>\n",
       "      <td>[0, 0, 0, 0, 0, 0, 0, 0, 0, 0, 0, 0, 0, 0, 0, ...</td>\n",
       "      <td>[0.08525, 0.04038, -0.04072, 0.09848, 0.01749,...</td>\n",
       "      <td>[5957700, 4104900, 3802680, 3761460, 1710720, ...</td>\n",
       "      <td>NaN</td>\n",
       "      <td>NaN</td>\n",
       "    </tr>\n",
       "    <tr>\n",
       "      <th>133</th>\n",
       "      <td>5000</td>\n",
       "      <td>4.0</td>\n",
       "      <td>3.00</td>\n",
       "      <td>[0, 0, 0, 0, 0, 0, 0, 0, 0, 0, 0, 0, 0, 0, 0, ...</td>\n",
       "      <td>[0.08896, 0.08927, 0.00909, 0.09136, 0.02234, ...</td>\n",
       "      <td>[21280260, 5397540, 2309220]</td>\n",
       "      <td>NaN</td>\n",
       "      <td>NaN</td>\n",
       "    </tr>\n",
       "  </tbody>\n",
       "</table>\n",
       "<p>938 rows × 8 columns</p>\n",
       "</div>"
      ],
      "text/plain": [
       "     lookback  thres  sell_thres  \\\n",
       "0         500    0.5       -0.25   \n",
       "1         500    0.5        0.00   \n",
       "2         500    0.5        0.25   \n",
       "3         500    0.5        0.50   \n",
       "4         500    0.5        0.75   \n",
       "..        ...    ...         ...   \n",
       "129      5000    4.0        1.25   \n",
       "130      5000    4.0        1.50   \n",
       "131      5000    4.0        2.00   \n",
       "132      5000    4.0        2.50   \n",
       "133      5000    4.0        3.00   \n",
       "\n",
       "                                                 cusum  \\\n",
       "0    [0, 0, 0, 0, 0, 0, 0, 0, 0, 0, 0, 0, 0, 0, 0, ...   \n",
       "1    [0, 0, 0, 0, 0, 0, 0, 0, 0, 0, 0, 0, 0, 0, 0, ...   \n",
       "2    [0, 0, 0, 0, 0, 0, 0, 0, 0, 0, 0, 0, 0, 0, 0, ...   \n",
       "3    [0, 0, 0, 0, 0, 0, 0, 0, 0, 0, 0, 0, 0, 0, 0, ...   \n",
       "4    [0, 0, 0, 0, 0, 0, 0, 0, 0, 0, 0, 0, 0, 0, 0, ...   \n",
       "..                                                 ...   \n",
       "129  [0, 0, 0, 0, 0, 0, 0, 0, 0, 0, 0, 0, 0, 0, 0, ...   \n",
       "130  [0, 0, 0, 0, 0, 0, 0, 0, 0, 0, 0, 0, 0, 0, 0, ...   \n",
       "131  [0, 0, 0, 0, 0, 0, 0, 0, 0, 0, 0, 0, 0, 0, 0, ...   \n",
       "132  [0, 0, 0, 0, 0, 0, 0, 0, 0, 0, 0, 0, 0, 0, 0, ...   \n",
       "133  [0, 0, 0, 0, 0, 0, 0, 0, 0, 0, 0, 0, 0, 0, 0, ...   \n",
       "\n",
       "                                               returns  \\\n",
       "0    [-0.03508, -0.02851, 0.01315, 0.00257, 0.00144...   \n",
       "1    [-0.01806, -0.00843, 0.01069, 0.00495, -0.0061...   \n",
       "2    [-0.01785, 0.01069, 0.00495, -0.00618, 0.00675...   \n",
       "3    [-0.02108, 0.02401, -0.0058, 0.00508, 0.00149,...   \n",
       "4    [-0.01678, 0.00274, -0.0091, 0.01447, 0.0061, ...   \n",
       "..                                                 ...   \n",
       "129  [0.05583, 0.04841, 0.04287, 0.01604, 0.03829, ...   \n",
       "130  [0.05583, 0.05513, 0.04532, 0.01011, 0.00655, ...   \n",
       "131  [0.06731, 0.03438, -0.0382, 0.10206, -0.00289,...   \n",
       "132  [0.08525, 0.04038, -0.04072, 0.09848, 0.01749,...   \n",
       "133  [0.08896, 0.08927, 0.00909, 0.09136, 0.02234, ...   \n",
       "\n",
       "                                             drawdowns  sharpe  mxdd  \n",
       "0                                           [42074700]     NaN   NaN  \n",
       "1                                           [42072360]     NaN   NaN  \n",
       "2                              [41984460, 76620, 1020]     NaN   NaN  \n",
       "3                  [41977980, 41280, 8820, 4080, 1980]     NaN   NaN  \n",
       "4    [40695720, 654600, 319920, 59400, 41340, 32580...     NaN   NaN  \n",
       "..                                                 ...     ...   ...  \n",
       "129       [16002420, 4818840, 1910100, 592140, 232620]     NaN   NaN  \n",
       "130  [11273220, 4808220, 972000, 827880, 661320, 59...     NaN   NaN  \n",
       "131  [11181840, 4664700, 1576620, 973020, 827340, 7...     NaN   NaN  \n",
       "132  [5957700, 4104900, 3802680, 3761460, 1710720, ...     NaN   NaN  \n",
       "133                       [21280260, 5397540, 2309220]     NaN   NaN  \n",
       "\n",
       "[938 rows x 8 columns]"
      ]
     },
     "execution_count": 121,
     "metadata": {},
     "output_type": "execute_result"
    }
   ],
   "source": [
    "bigdf"
   ]
  },
  {
   "cell_type": "code",
   "execution_count": 152,
   "id": "ae298558",
   "metadata": {},
   "outputs": [],
   "source": [
    "bigdf = bigdf.reset_index(drop=True)"
   ]
  },
  {
   "cell_type": "code",
   "execution_count": 153,
   "id": "39553420",
   "metadata": {},
   "outputs": [],
   "source": [
    "bigdf[\"sharpe\"] = np.nan\n",
    "bigdf[\"mxdd\"] = np.nan\n",
    "\n",
    "for index, row in bigdf.iterrows():\n",
    "    r = row['returns']\n",
    "    bigdf.at[index, 'sharpe'] = np.sqrt(len(r)) * np.nanmean(r) / np.nanstd(r)\n",
    "    bigdf.at[index, 'mxdd'] = row.drawdowns[0]"
   ]
  },
  {
   "cell_type": "code",
   "execution_count": 154,
   "id": "ef1a8495",
   "metadata": {
    "scrolled": false
   },
   "outputs": [
    {
     "data": {
      "text/plain": [
       "array([[<AxesSubplot:title={'center':'mxdd'}>]], dtype=object)"
      ]
     },
     "execution_count": 154,
     "metadata": {},
     "output_type": "execute_result"
    },
    {
     "data": {
      "image/png": "[encoded data removed]",
      "text/plain": [
       "<Figure size 432x288 with 1 Axes>"
      ]
     },
     "metadata": {
      "needs_background": "light"
     },
     "output_type": "display_data"
    }
   ],
   "source": [
    "bigdf.hist('mxdd')"
   ]
  },
  {
   "cell_type": "code",
   "execution_count": 157,
   "id": "25702ced",
   "metadata": {},
   "outputs": [],
   "source": [
    "bigdf_filtered = bigdf.loc[bigdf['mxdd'] < 3.0e7].reset_index(drop=True)"
   ]
  },
  {
   "cell_type": "code",
   "execution_count": 158,
   "id": "6a25644a",
   "metadata": {
    "scrolled": true
   },
   "outputs": [
    {
     "data": {
      "text/html": [
       "<div>\n",
       "<style scoped>\n",
       "    .dataframe tbody tr th:only-of-type {\n",
       "        vertical-align: middle;\n",
       "    }\n",
       "\n",
       "    .dataframe tbody tr th {\n",
       "        vertical-align: top;\n",
       "    }\n",
       "\n",
       "    .dataframe thead th {\n",
       "        text-align: right;\n",
       "    }\n",
       "</style>\n",
       "<table border=\"1\" class=\"dataframe\">\n",
       "  <thead>\n",
       "    <tr style=\"text-align: right;\">\n",
       "      <th></th>\n",
       "      <th>lookback</th>\n",
       "      <th>thres</th>\n",
       "      <th>sell_thres</th>\n",
       "      <th>cusum</th>\n",
       "      <th>returns</th>\n",
       "      <th>drawdowns</th>\n",
       "      <th>sharpe</th>\n",
       "      <th>mxdd</th>\n",
       "    </tr>\n",
       "  </thead>\n",
       "  <tbody>\n",
       "    <tr>\n",
       "      <th>0</th>\n",
       "      <td>500</td>\n",
       "      <td>0.50</td>\n",
       "      <td>2.00</td>\n",
       "      <td>[0, 0, 0, 0, 0, 0, 0, 0, 0, 0, 0, 0, 0, 0, 0, ...</td>\n",
       "      <td>[-0.01141, 0.03012, 0.00682, -0.00718, 0.01924...</td>\n",
       "      <td>[18868920, 10803840, 1311180, 1059660, 726600,...</td>\n",
       "      <td>-0.557500</td>\n",
       "      <td>18868920.0</td>\n",
       "    </tr>\n",
       "    <tr>\n",
       "      <th>1</th>\n",
       "      <td>500</td>\n",
       "      <td>0.50</td>\n",
       "      <td>2.50</td>\n",
       "      <td>[0, 0, 0, 0, 0, 0, 0, 0, 0, 0, 0, 0, 0, 0, 0, ...</td>\n",
       "      <td>[0.00487, 0.0499, -0.00511, -0.00477, -0.01071...</td>\n",
       "      <td>[5650980, 4584840, 3630360, 3221100, 2908200, ...</td>\n",
       "      <td>0.889260</td>\n",
       "      <td>5650980.0</td>\n",
       "    </tr>\n",
       "    <tr>\n",
       "      <th>2</th>\n",
       "      <td>500</td>\n",
       "      <td>0.50</td>\n",
       "      <td>3.00</td>\n",
       "      <td>[0, 0, 0, 0, 0, 0, 0, 0, 0, 0, 0, 0, 0, 0, 0, ...</td>\n",
       "      <td>[-0.05841, 0.01058, 0.00211, -0.01254, 0.08036...</td>\n",
       "      <td>[7575780, 7415340, 2736120, 2421840, 2352780, ...</td>\n",
       "      <td>1.256480</td>\n",
       "      <td>7575780.0</td>\n",
       "    </tr>\n",
       "    <tr>\n",
       "      <th>3</th>\n",
       "      <td>500</td>\n",
       "      <td>0.75</td>\n",
       "      <td>2.00</td>\n",
       "      <td>[0, 0, 0, 0, 0, 0, 0, 0, 0, 0, 0, 0, 0, 0, 0, ...</td>\n",
       "      <td>[-0.01141, 0.03012, 0.00682, -0.00718, 0.01924...</td>\n",
       "      <td>[18814440, 10803840, 1311180, 1059660, 726600,...</td>\n",
       "      <td>-0.501146</td>\n",
       "      <td>18814440.0</td>\n",
       "    </tr>\n",
       "    <tr>\n",
       "      <th>4</th>\n",
       "      <td>500</td>\n",
       "      <td>0.75</td>\n",
       "      <td>2.50</td>\n",
       "      <td>[0, 0, 0, 0, 0, 0, 0, 0, 0, 0, 0, 0, 0, 0, 0, ...</td>\n",
       "      <td>[0.00487, 0.0499, -0.00511, -0.00477, -0.01071...</td>\n",
       "      <td>[5650980, 4584840, 3630360, 3221100, 2908200, ...</td>\n",
       "      <td>0.889260</td>\n",
       "      <td>5650980.0</td>\n",
       "    </tr>\n",
       "    <tr>\n",
       "      <th>...</th>\n",
       "      <td>...</td>\n",
       "      <td>...</td>\n",
       "      <td>...</td>\n",
       "      <td>...</td>\n",
       "      <td>...</td>\n",
       "      <td>...</td>\n",
       "      <td>...</td>\n",
       "      <td>...</td>\n",
       "    </tr>\n",
       "    <tr>\n",
       "      <th>741</th>\n",
       "      <td>5000</td>\n",
       "      <td>4.00</td>\n",
       "      <td>1.25</td>\n",
       "      <td>[0, 0, 0, 0, 0, 0, 0, 0, 0, 0, 0, 0, 0, 0, 0, ...</td>\n",
       "      <td>[0.05583, 0.04841, 0.04287, 0.01604, 0.03829, ...</td>\n",
       "      <td>[16002420, 4818840, 1910100, 592140, 232620]</td>\n",
       "      <td>1.496790</td>\n",
       "      <td>16002420.0</td>\n",
       "    </tr>\n",
       "    <tr>\n",
       "      <th>742</th>\n",
       "      <td>5000</td>\n",
       "      <td>4.00</td>\n",
       "      <td>1.50</td>\n",
       "      <td>[0, 0, 0, 0, 0, 0, 0, 0, 0, 0, 0, 0, 0, 0, 0, ...</td>\n",
       "      <td>[0.05583, 0.05513, 0.04532, 0.01011, 0.00655, ...</td>\n",
       "      <td>[11273220, 4808220, 972000, 827880, 661320, 59...</td>\n",
       "      <td>1.346823</td>\n",
       "      <td>11273220.0</td>\n",
       "    </tr>\n",
       "    <tr>\n",
       "      <th>743</th>\n",
       "      <td>5000</td>\n",
       "      <td>4.00</td>\n",
       "      <td>2.00</td>\n",
       "      <td>[0, 0, 0, 0, 0, 0, 0, 0, 0, 0, 0, 0, 0, 0, 0, ...</td>\n",
       "      <td>[0.06731, 0.03438, -0.0382, 0.10206, -0.00289,...</td>\n",
       "      <td>[11181840, 4664700, 1576620, 973020, 827340, 7...</td>\n",
       "      <td>0.483935</td>\n",
       "      <td>11181840.0</td>\n",
       "    </tr>\n",
       "    <tr>\n",
       "      <th>744</th>\n",
       "      <td>5000</td>\n",
       "      <td>4.00</td>\n",
       "      <td>2.50</td>\n",
       "      <td>[0, 0, 0, 0, 0, 0, 0, 0, 0, 0, 0, 0, 0, 0, 0, ...</td>\n",
       "      <td>[0.08525, 0.04038, -0.04072, 0.09848, 0.01749,...</td>\n",
       "      <td>[5957700, 4104900, 3802680, 3761460, 1710720, ...</td>\n",
       "      <td>1.657184</td>\n",
       "      <td>5957700.0</td>\n",
       "    </tr>\n",
       "    <tr>\n",
       "      <th>745</th>\n",
       "      <td>5000</td>\n",
       "      <td>4.00</td>\n",
       "      <td>3.00</td>\n",
       "      <td>[0, 0, 0, 0, 0, 0, 0, 0, 0, 0, 0, 0, 0, 0, 0, ...</td>\n",
       "      <td>[0.08896, 0.08927, 0.00909, 0.09136, 0.02234, ...</td>\n",
       "      <td>[21280260, 5397540, 2309220]</td>\n",
       "      <td>0.288993</td>\n",
       "      <td>21280260.0</td>\n",
       "    </tr>\n",
       "  </tbody>\n",
       "</table>\n",
       "<p>746 rows × 8 columns</p>\n",
       "</div>"
      ],
      "text/plain": [
       "     lookback  thres  sell_thres  \\\n",
       "0         500   0.50        2.00   \n",
       "1         500   0.50        2.50   \n",
       "2         500   0.50        3.00   \n",
       "3         500   0.75        2.00   \n",
       "4         500   0.75        2.50   \n",
       "..        ...    ...         ...   \n",
       "741      5000   4.00        1.25   \n",
       "742      5000   4.00        1.50   \n",
       "743      5000   4.00        2.00   \n",
       "744      5000   4.00        2.50   \n",
       "745      5000   4.00        3.00   \n",
       "\n",
       "                                                 cusum  \\\n",
       "0    [0, 0, 0, 0, 0, 0, 0, 0, 0, 0, 0, 0, 0, 0, 0, ...   \n",
       "1    [0, 0, 0, 0, 0, 0, 0, 0, 0, 0, 0, 0, 0, 0, 0, ...   \n",
       "2    [0, 0, 0, 0, 0, 0, 0, 0, 0, 0, 0, 0, 0, 0, 0, ...   \n",
       "3    [0, 0, 0, 0, 0, 0, 0, 0, 0, 0, 0, 0, 0, 0, 0, ...   \n",
       "4    [0, 0, 0, 0, 0, 0, 0, 0, 0, 0, 0, 0, 0, 0, 0, ...   \n",
       "..                                                 ...   \n",
       "741  [0, 0, 0, 0, 0, 0, 0, 0, 0, 0, 0, 0, 0, 0, 0, ...   \n",
       "742  [0, 0, 0, 0, 0, 0, 0, 0, 0, 0, 0, 0, 0, 0, 0, ...   \n",
       "743  [0, 0, 0, 0, 0, 0, 0, 0, 0, 0, 0, 0, 0, 0, 0, ...   \n",
       "744  [0, 0, 0, 0, 0, 0, 0, 0, 0, 0, 0, 0, 0, 0, 0, ...   \n",
       "745  [0, 0, 0, 0, 0, 0, 0, 0, 0, 0, 0, 0, 0, 0, 0, ...   \n",
       "\n",
       "                                               returns  \\\n",
       "0    [-0.01141, 0.03012, 0.00682, -0.00718, 0.01924...   \n",
       "1    [0.00487, 0.0499, -0.00511, -0.00477, -0.01071...   \n",
       "2    [-0.05841, 0.01058, 0.00211, -0.01254, 0.08036...   \n",
       "3    [-0.01141, 0.03012, 0.00682, -0.00718, 0.01924...   \n",
       "4    [0.00487, 0.0499, -0.00511, -0.00477, -0.01071...   \n",
       "..                                                 ...   \n",
       "741  [0.05583, 0.04841, 0.04287, 0.01604, 0.03829, ...   \n",
       "742  [0.05583, 0.05513, 0.04532, 0.01011, 0.00655, ...   \n",
       "743  [0.06731, 0.03438, -0.0382, 0.10206, -0.00289,...   \n",
       "744  [0.08525, 0.04038, -0.04072, 0.09848, 0.01749,...   \n",
       "745  [0.08896, 0.08927, 0.00909, 0.09136, 0.02234, ...   \n",
       "\n",
       "                                             drawdowns    sharpe        mxdd  \n",
       "0    [18868920, 10803840, 1311180, 1059660, 726600,... -0.557500  18868920.0  \n",
       "1    [5650980, 4584840, 3630360, 3221100, 2908200, ...  0.889260   5650980.0  \n",
       "2    [7575780, 7415340, 2736120, 2421840, 2352780, ...  1.256480   7575780.0  \n",
       "3    [18814440, 10803840, 1311180, 1059660, 726600,... -0.501146  18814440.0  \n",
       "4    [5650980, 4584840, 3630360, 3221100, 2908200, ...  0.889260   5650980.0  \n",
       "..                                                 ...       ...         ...  \n",
       "741       [16002420, 4818840, 1910100, 592140, 232620]  1.496790  16002420.0  \n",
       "742  [11273220, 4808220, 972000, 827880, 661320, 59...  1.346823  11273220.0  \n",
       "743  [11181840, 4664700, 1576620, 973020, 827340, 7...  0.483935  11181840.0  \n",
       "744  [5957700, 4104900, 3802680, 3761460, 1710720, ...  1.657184   5957700.0  \n",
       "745                       [21280260, 5397540, 2309220]  0.288993  21280260.0  \n",
       "\n",
       "[746 rows x 8 columns]"
      ]
     },
     "execution_count": 158,
     "metadata": {},
     "output_type": "execute_result"
    }
   ],
   "source": [
    "bigdf_filtered"
   ]
  },
  {
   "cell_type": "code",
   "execution_count": 159,
   "id": "c839b544",
   "metadata": {},
   "outputs": [],
   "source": [
    "bigdf_result = bigdf_filtered.nlargest(10,'sharpe')"
   ]
  },
  {
   "cell_type": "code",
   "execution_count": 161,
   "id": "553391ce",
   "metadata": {
    "scrolled": false
   },
   "outputs": [
    {
     "data": {
      "text/html": [
       "<div>\n",
       "<style scoped>\n",
       "    .dataframe tbody tr th:only-of-type {\n",
       "        vertical-align: middle;\n",
       "    }\n",
       "\n",
       "    .dataframe tbody tr th {\n",
       "        vertical-align: top;\n",
       "    }\n",
       "\n",
       "    .dataframe thead th {\n",
       "        text-align: right;\n",
       "    }\n",
       "</style>\n",
       "<table border=\"1\" class=\"dataframe\">\n",
       "  <thead>\n",
       "    <tr style=\"text-align: right;\">\n",
       "      <th></th>\n",
       "      <th>lookback</th>\n",
       "      <th>thres</th>\n",
       "      <th>sell_thres</th>\n",
       "      <th>cusum</th>\n",
       "      <th>returns</th>\n",
       "      <th>drawdowns</th>\n",
       "      <th>sharpe</th>\n",
       "      <th>mxdd</th>\n",
       "    </tr>\n",
       "  </thead>\n",
       "  <tbody>\n",
       "    <tr>\n",
       "      <th>721</th>\n",
       "      <td>5000</td>\n",
       "      <td>3.0</td>\n",
       "      <td>0.00</td>\n",
       "      <td>[0, 0, 0, 0, 0, 0, 0, 0, 0, 0, 0, 0, 0, 0, 0, ...</td>\n",
       "      <td>[0.05667, 0.02189, 0.05573, 0.01262, 0.02248, ...</td>\n",
       "      <td>[2288220, 1866300, 1643220, 1553400, 1349760, ...</td>\n",
       "      <td>5.929368</td>\n",
       "      <td>2288220.0</td>\n",
       "    </tr>\n",
       "    <tr>\n",
       "      <th>720</th>\n",
       "      <td>5000</td>\n",
       "      <td>3.0</td>\n",
       "      <td>-0.25</td>\n",
       "      <td>[0, 0, 0, 0, 0, 0, 0, 0, 0, 0, 0, 0, 0, 0, 0, ...</td>\n",
       "      <td>[0.04314, 0.00462, 0.0421, 0.00766, 0.02248, 0...</td>\n",
       "      <td>[3107820, 2174160, 1953180, 1932960, 1525380, ...</td>\n",
       "      <td>5.738196</td>\n",
       "      <td>3107820.0</td>\n",
       "    </tr>\n",
       "    <tr>\n",
       "      <th>483</th>\n",
       "      <td>3000</td>\n",
       "      <td>4.0</td>\n",
       "      <td>-2.00</td>\n",
       "      <td>[0, 0, 0, 0, 0, 0, 0, 0, 0, 0, 0, 0, 0, 0, 0, ...</td>\n",
       "      <td>[0.01118, 0.0201, 0.01243, 0.00972, 0.03253, 0...</td>\n",
       "      <td>[7021200, 2683260, 1900440, 1287600, 1029300, ...</td>\n",
       "      <td>5.547976</td>\n",
       "      <td>7021200.0</td>\n",
       "    </tr>\n",
       "    <tr>\n",
       "      <th>473</th>\n",
       "      <td>3000</td>\n",
       "      <td>3.0</td>\n",
       "      <td>0.00</td>\n",
       "      <td>[0, 0, 0, 0, 0, 0, 0, 0, 0, 0, 0, 0, 0, 0, 0, ...</td>\n",
       "      <td>[0.03912, 0.04248, 0.01576, 0.04463, 0.00414, ...</td>\n",
       "      <td>[5733120, 5309520, 1700820, 1226880, 1075800, ...</td>\n",
       "      <td>5.472205</td>\n",
       "      <td>5733120.0</td>\n",
       "    </tr>\n",
       "    <tr>\n",
       "      <th>598</th>\n",
       "      <td>4000</td>\n",
       "      <td>3.0</td>\n",
       "      <td>0.25</td>\n",
       "      <td>[0, 0, 0, 0, 0, 0, 0, 0, 0, 0, 0, 0, 0, 0, 0, ...</td>\n",
       "      <td>[0.04555, 0.02189, 0.05492, 0.02787, 0.01451, ...</td>\n",
       "      <td>[3443100, 3169980, 1967700, 1877760, 1592160, ...</td>\n",
       "      <td>5.180035</td>\n",
       "      <td>3443100.0</td>\n",
       "    </tr>\n",
       "    <tr>\n",
       "      <th>597</th>\n",
       "      <td>4000</td>\n",
       "      <td>3.0</td>\n",
       "      <td>0.00</td>\n",
       "      <td>[0, 0, 0, 0, 0, 0, 0, 0, 0, 0, 0, 0, 0, 0, 0, ...</td>\n",
       "      <td>[0.03199, 0.00462, 0.04086, 0.02538, 0.01262, ...</td>\n",
       "      <td>[4340880, 2320800, 2242200, 1931700, 1891920, ...</td>\n",
       "      <td>5.083683</td>\n",
       "      <td>4340880.0</td>\n",
       "    </tr>\n",
       "    <tr>\n",
       "      <th>719</th>\n",
       "      <td>5000</td>\n",
       "      <td>3.0</td>\n",
       "      <td>-0.50</td>\n",
       "      <td>[0, 0, 0, 0, 0, 0, 0, 0, 0, 0, 0, 0, 0, 0, 0, ...</td>\n",
       "      <td>[0.04706, 0.04358, 0.01576, 0.03298, 0.01356, ...</td>\n",
       "      <td>[5309520, 3183000, 1900260, 1593240, 1481580, ...</td>\n",
       "      <td>5.065596</td>\n",
       "      <td>5309520.0</td>\n",
       "    </tr>\n",
       "    <tr>\n",
       "      <th>475</th>\n",
       "      <td>3000</td>\n",
       "      <td>3.0</td>\n",
       "      <td>0.50</td>\n",
       "      <td>[0, 0, 0, 0, 0, 0, 0, 0, 0, 0, 0, 0, 0, 0, 0, ...</td>\n",
       "      <td>[0.07024, 0.00462, 0.04962, 0.03034, 0.02831, ...</td>\n",
       "      <td>[6383880, 2978280, 2046420, 1439640, 1420020, ...</td>\n",
       "      <td>5.034988</td>\n",
       "      <td>6383880.0</td>\n",
       "    </tr>\n",
       "    <tr>\n",
       "      <th>705</th>\n",
       "      <td>5000</td>\n",
       "      <td>2.5</td>\n",
       "      <td>-0.25</td>\n",
       "      <td>[0, 0, 0, 0, 0, 0, 0, 0, 0, 0, 0, 0, 0, 0, 0, ...</td>\n",
       "      <td>[0.0241, 0.03199, 0.00462, 0.03034, -0.00083, ...</td>\n",
       "      <td>[5308260, 3278340, 2033760, 1629780, 1553880, ...</td>\n",
       "      <td>5.011324</td>\n",
       "      <td>5308260.0</td>\n",
       "    </tr>\n",
       "    <tr>\n",
       "      <th>583</th>\n",
       "      <td>4000</td>\n",
       "      <td>2.5</td>\n",
       "      <td>0.25</td>\n",
       "      <td>[0, 0, 0, 0, 0, 0, 0, 0, 0, 0, 0, 0, 0, 0, 0, ...</td>\n",
       "      <td>[-0.00123, 0.02317, 0.02189, 0.03611, 0.03606,...</td>\n",
       "      <td>[2312820, 1783320, 1592160, 1581480, 1543920, ...</td>\n",
       "      <td>4.971169</td>\n",
       "      <td>2312820.0</td>\n",
       "    </tr>\n",
       "  </tbody>\n",
       "</table>\n",
       "</div>"
      ],
      "text/plain": [
       "     lookback  thres  sell_thres  \\\n",
       "721      5000    3.0        0.00   \n",
       "720      5000    3.0       -0.25   \n",
       "483      3000    4.0       -2.00   \n",
       "473      3000    3.0        0.00   \n",
       "598      4000    3.0        0.25   \n",
       "597      4000    3.0        0.00   \n",
       "719      5000    3.0       -0.50   \n",
       "475      3000    3.0        0.50   \n",
       "705      5000    2.5       -0.25   \n",
       "583      4000    2.5        0.25   \n",
       "\n",
       "                                                 cusum  \\\n",
       "721  [0, 0, 0, 0, 0, 0, 0, 0, 0, 0, 0, 0, 0, 0, 0, ...   \n",
       "720  [0, 0, 0, 0, 0, 0, 0, 0, 0, 0, 0, 0, 0, 0, 0, ...   \n",
       "483  [0, 0, 0, 0, 0, 0, 0, 0, 0, 0, 0, 0, 0, 0, 0, ...   \n",
       "473  [0, 0, 0, 0, 0, 0, 0, 0, 0, 0, 0, 0, 0, 0, 0, ...   \n",
       "598  [0, 0, 0, 0, 0, 0, 0, 0, 0, 0, 0, 0, 0, 0, 0, ...   \n",
       "597  [0, 0, 0, 0, 0, 0, 0, 0, 0, 0, 0, 0, 0, 0, 0, ...   \n",
       "719  [0, 0, 0, 0, 0, 0, 0, 0, 0, 0, 0, 0, 0, 0, 0, ...   \n",
       "475  [0, 0, 0, 0, 0, 0, 0, 0, 0, 0, 0, 0, 0, 0, 0, ...   \n",
       "705  [0, 0, 0, 0, 0, 0, 0, 0, 0, 0, 0, 0, 0, 0, 0, ...   \n",
       "583  [0, 0, 0, 0, 0, 0, 0, 0, 0, 0, 0, 0, 0, 0, 0, ...   \n",
       "\n",
       "                                               returns  \\\n",
       "721  [0.05667, 0.02189, 0.05573, 0.01262, 0.02248, ...   \n",
       "720  [0.04314, 0.00462, 0.0421, 0.00766, 0.02248, 0...   \n",
       "483  [0.01118, 0.0201, 0.01243, 0.00972, 0.03253, 0...   \n",
       "473  [0.03912, 0.04248, 0.01576, 0.04463, 0.00414, ...   \n",
       "598  [0.04555, 0.02189, 0.05492, 0.02787, 0.01451, ...   \n",
       "597  [0.03199, 0.00462, 0.04086, 0.02538, 0.01262, ...   \n",
       "719  [0.04706, 0.04358, 0.01576, 0.03298, 0.01356, ...   \n",
       "475  [0.07024, 0.00462, 0.04962, 0.03034, 0.02831, ...   \n",
       "705  [0.0241, 0.03199, 0.00462, 0.03034, -0.00083, ...   \n",
       "583  [-0.00123, 0.02317, 0.02189, 0.03611, 0.03606,...   \n",
       "\n",
       "                                             drawdowns    sharpe       mxdd  \n",
       "721  [2288220, 1866300, 1643220, 1553400, 1349760, ...  5.929368  2288220.0  \n",
       "720  [3107820, 2174160, 1953180, 1932960, 1525380, ...  5.738196  3107820.0  \n",
       "483  [7021200, 2683260, 1900440, 1287600, 1029300, ...  5.547976  7021200.0  \n",
       "473  [5733120, 5309520, 1700820, 1226880, 1075800, ...  5.472205  5733120.0  \n",
       "598  [3443100, 3169980, 1967700, 1877760, 1592160, ...  5.180035  3443100.0  \n",
       "597  [4340880, 2320800, 2242200, 1931700, 1891920, ...  5.083683  4340880.0  \n",
       "719  [5309520, 3183000, 1900260, 1593240, 1481580, ...  5.065596  5309520.0  \n",
       "475  [6383880, 2978280, 2046420, 1439640, 1420020, ...  5.034988  6383880.0  \n",
       "705  [5308260, 3278340, 2033760, 1629780, 1553880, ...  5.011324  5308260.0  \n",
       "583  [2312820, 1783320, 1592160, 1581480, 1543920, ...  4.971169  2312820.0  "
      ]
     },
     "execution_count": 161,
     "metadata": {},
     "output_type": "execute_result"
    }
   ],
   "source": [
    "bigdf_result"
   ]
  },
  {
   "cell_type": "code",
   "execution_count": 168,
   "id": "667e1c4a",
   "metadata": {
    "scrolled": true
   },
   "outputs": [
    {
     "data": {
      "text/plain": [
       "<matplotlib.legend.Legend at 0x7ff222859640>"
      ]
     },
     "execution_count": 168,
     "metadata": {},
     "output_type": "execute_result"
    },
    {
     "data": {
      "image/png": "[encoded data removed]",
      "text/plain": [
       "<Figure size 432x288 with 1 Axes>"
      ]
     },
     "metadata": {
      "needs_background": "light"
     },
     "output_type": "display_data"
    }
   ],
   "source": [
    "fig, ax = plt.subplots()\n",
    "for index, row in bigdf_result.iterrows():\n",
    "    pd.Series(row['cusum']).plot(legend=True)\n",
    "ax.legend(bigdf_result.index)"
   ]
  },
  {
   "cell_type": "code",
   "execution_count": 141,
   "id": "12e97062",
   "metadata": {},
   "outputs": [
    {
     "name": "stdout",
     "output_type": "stream",
     "text": [
      "99\n",
      "1.7144523701359085\n",
      "223\n",
      "1.3743058865378712\n",
      "347\n",
      "1.8594478613602894\n",
      "471\n",
      "2.1280851014235\n",
      "595\n",
      "5.472205487597502\n",
      "719\n",
      "5.083683363605593\n",
      "843\n",
      "5.929368069009028\n",
      "98\n",
      "1.7707864611644295\n",
      "222\n",
      "0.8649171037960948\n",
      "346\n",
      "0.9021308359593915\n"
     ]
    }
   ],
   "source": [
    "for index, row in bigdf_result.iterrows():\n",
    "    ret = row['returns']\n",
    "    print(index)\n",
    "    print(np.sqrt(len(ret)) * np.nanmean(ret) / np.nanstd(ret))"
   ]
  },
  {
   "cell_type": "markdown",
   "id": "435e0b1e",
   "metadata": {
    "heading_collapsed": true
   },
   "source": [
    "### Anything Else"
   ]
  },
  {
   "cell_type": "markdown",
   "id": "94d8daed",
   "metadata": {
    "hidden": true
   },
   "source": [
    "(Basically like the sharpe ratio, but using params other than returns)"
   ]
  },
  {
   "cell_type": "code",
   "execution_count": 27,
   "id": "1328bdc2",
   "metadata": {
    "hidden": true
   },
   "outputs": [
    {
     "name": "stdout",
     "output_type": "stream",
     "text": [
      "Average Daily Returns = 0.027455\n"
     ]
    }
   ],
   "source": [
    "# list to base std off of (ex. for avg daily return, would be list of daily returns.\n",
    "# for max drawdown length, would be list of drawdown lengths)\n",
    "raw_value_list = ret\n",
    "\n",
    "#the raw value of the t-stat to test\n",
    "raw_value = np.nanmean(ret)\n",
    "\n",
    "#the null hypothesis value\n",
    "null_hypothesis = 0 \n",
    "\n",
    "print('Average Daily Returns = %f' % raw_value)"
   ]
  },
  {
   "cell_type": "code",
   "execution_count": 29,
   "id": "e3829509",
   "metadata": {
    "hidden": true,
    "scrolled": true
   },
   "outputs": [
    {
     "name": "stdout",
     "output_type": "stream",
     "text": [
      "0.4123370454656365\n"
     ]
    }
   ],
   "source": [
    "t_stat = (raw_value - null_hypothesis) / np.nanstd(raw_value_list)\n",
    "print(t_stat)"
   ]
  },
  {
   "cell_type": "code",
   "execution_count": 37,
   "id": "dac1c813",
   "metadata": {
    "hidden": true,
    "scrolled": true
   },
   "outputs": [
    {
     "data": {
      "text/plain": [
       "0.3400461996725078"
      ]
     },
     "execution_count": 37,
     "metadata": {},
     "output_type": "execute_result"
    }
   ],
   "source": [
    "1 - st.norm.cdf(t_stat)"
   ]
  },
  {
   "cell_type": "code",
   "execution_count": 34,
   "id": "07f66aa4",
   "metadata": {
    "hidden": true
   },
   "outputs": [
    {
     "data": {
      "text/plain": [
       "0.3400461996725078"
      ]
     },
     "execution_count": 34,
     "metadata": {},
     "output_type": "execute_result"
    }
   ],
   "source": [
    "st.norm.sf(abs(t_stat))"
   ]
  },
  {
   "cell_type": "code",
   "execution_count": 32,
   "id": "1cce12fe",
   "metadata": {
    "hidden": true
   },
   "outputs": [
    {
     "name": "stdout",
     "output_type": "stream",
     "text": [
      "1.2823987214609247\n",
      "1.6463788172854639\n",
      "2.3300826747555097\n",
      "3.0984021639128754\n"
     ]
    }
   ],
   "source": [
    "# Finding Critical Values\n",
    "# dof (degrees of freedom) is pretty much just a fancy way of saying n-1, (n=number of values in distribution)\n",
    "# theoretically infinite, since we are using a hypothetical gaussian distribution\n",
    "dof = 1000\n",
    "\n",
    "print(st.t.ppf(q=1-(0.1),df=dof))\n",
    "print(st.t.ppf(q=1-(0.05),df=dof))\n",
    "print(st.t.ppf(q=1-(0.01),df=dof))\n",
    "print(st.t.ppf(q=1-(0.001),df=dof))\n"
   ]
  },
  {
   "cell_type": "markdown",
   "id": "df74a35c",
   "metadata": {
    "heading_collapsed": true
   },
   "source": [
    "## Monte Carlo"
   ]
  },
  {
   "cell_type": "markdown",
   "id": "6111e4b4",
   "metadata": {
    "hidden": true
   },
   "source": [
    "### Monte Carlo Returns"
   ]
  },
  {
   "cell_type": "code",
   "execution_count": null,
   "id": "827b7dd6",
   "metadata": {
    "hidden": true
   },
   "outputs": [],
   "source": [
    "# The metric to use to measure the input data\n",
    "# for \"predict the market\" strategies, can be close price or market returns\n",
    "# can use z-score for this strategy\n",
    "zscore_metric = spread.zscore\n",
    "\n",
    "#daily returns of strategy\n",
    "#ret"
   ]
  },
  {
   "cell_type": "code",
   "execution_count": null,
   "id": "8dfde8c9",
   "metadata": {
    "hidden": true
   },
   "outputs": [],
   "source": [
    "skew_, loc_, scale_ = st.pearson3.fit(zscore_metric)\n",
    "num_better_samples = 0"
   ]
  },
  {
   "cell_type": "code",
   "execution_count": 42,
   "id": "76940178",
   "metadata": {
    "hidden": true
   },
   "outputs": [
    {
     "name": "stderr",
     "output_type": "stream",
     "text": [
      "  0%|          | 0/10000 [00:00<?, ?it/s]\n"
     ]
    },
    {
     "ename": "NameError",
     "evalue": "name 'skew_' is not defined",
     "output_type": "error",
     "traceback": [
      "\u001b[0;31m---------------------------------------------------------------------------\u001b[0m",
      "\u001b[0;31mNameError\u001b[0m                                 Traceback (most recent call last)",
      "\u001b[0;32m<ipython-input-42-87dcb25b34c9>\u001b[0m in \u001b[0;36m<module>\u001b[0;34m\u001b[0m\n\u001b[1;32m      3\u001b[0m \u001b[0;34m\u001b[0m\u001b[0m\n\u001b[1;32m      4\u001b[0m \u001b[0;32mfor\u001b[0m \u001b[0msample\u001b[0m \u001b[0;32min\u001b[0m \u001b[0mtqdm\u001b[0m\u001b[0;34m(\u001b[0m\u001b[0mrange\u001b[0m\u001b[0;34m(\u001b[0m\u001b[0msample_size\u001b[0m\u001b[0;34m)\u001b[0m\u001b[0;34m)\u001b[0m\u001b[0;34m:\u001b[0m\u001b[0;34m\u001b[0m\u001b[0;34m\u001b[0m\u001b[0m\n\u001b[0;32m----> 5\u001b[0;31m     \u001b[0mzscore_sim\u001b[0m \u001b[0;34m=\u001b[0m \u001b[0mst\u001b[0m\u001b[0;34m.\u001b[0m\u001b[0mpearson3\u001b[0m\u001b[0;34m.\u001b[0m\u001b[0mrvs\u001b[0m\u001b[0;34m(\u001b[0m\u001b[0mskew\u001b[0m\u001b[0;34m=\u001b[0m\u001b[0mskew_\u001b[0m\u001b[0;34m,\u001b[0m \u001b[0mloc\u001b[0m\u001b[0;34m=\u001b[0m\u001b[0mloc_\u001b[0m\u001b[0;34m,\u001b[0m \u001b[0mscale\u001b[0m\u001b[0;34m=\u001b[0m\u001b[0mscale_\u001b[0m\u001b[0;34m,\u001b[0m \u001b[0msize\u001b[0m\u001b[0;34m=\u001b[0m\u001b[0mzscore_metric\u001b[0m\u001b[0;34m.\u001b[0m\u001b[0mshape\u001b[0m\u001b[0;34m[\u001b[0m\u001b[0;36m0\u001b[0m\u001b[0;34m]\u001b[0m\u001b[0;34m,\u001b[0m \u001b[0mrandom_state\u001b[0m\u001b[0;34m=\u001b[0m\u001b[0msample\u001b[0m\u001b[0;34m)\u001b[0m\u001b[0;34m\u001b[0m\u001b[0;34m\u001b[0m\u001b[0m\n\u001b[0m\u001b[1;32m      6\u001b[0m \u001b[0;34m\u001b[0m\u001b[0m\n\u001b[1;32m      7\u001b[0m     \u001b[0mspread_sim\u001b[0m \u001b[0;34m=\u001b[0m \u001b[0mspread\u001b[0m\u001b[0;34m\u001b[0m\u001b[0;34m\u001b[0m\u001b[0m\n",
      "\u001b[0;31mNameError\u001b[0m: name 'skew_' is not defined"
     ]
    }
   ],
   "source": [
    "sample_size = 10000\n",
    "ret_sims = []\n",
    "\n",
    "for sample in tqdm(range(sample_size)):\n",
    "    zscore_sim = st.pearson3.rvs(skew=skew_, loc=loc_, scale=scale_, size=zscore_metric.shape[0], random_state=sample)\n",
    "    \n",
    "    spread_sim = spread\n",
    "    spread_sim['zscore'] = zscore_sim\n",
    "    \n",
    "    _, _, _, _, ret_sim, _ = run_backtest(spread_sim, 2.0, 0.)[0]\n",
    "    ret_sims.append(ret_sim)\n",
    "    \n",
    "    if (np.mean(ret_sim) >= np.mean(ret)):\n",
    "        num_better_samples += 1\n",
    "            \n",
    "print(\"Randomized zscore: p-value = %f\" % (num_better_samples / sample_size))"
   ]
  },
  {
   "cell_type": "markdown",
   "id": "3c74b9da",
   "metadata": {
    "heading_collapsed": true
   },
   "source": [
    "## Randomized Entry Test"
   ]
  },
  {
   "cell_type": "markdown",
   "id": "d2d21fa5",
   "metadata": {
    "hidden": true
   },
   "source": [
    "### Randomized Entry Returns"
   ]
  },
  {
   "cell_type": "code",
   "execution_count": null,
   "id": "e10ac0b9",
   "metadata": {
    "hidden": true
   },
   "outputs": [],
   "source": [
    "num_better_samples = 0"
   ]
  },
  {
   "cell_type": "code",
   "execution_count": null,
   "id": "74fac295",
   "metadata": {
    "hidden": true
   },
   "outputs": [],
   "source": [
    "sample_size = 10000\n",
    "ret_sims = []\n",
    "\n",
    "for sample in tqdm(range(sample_size)):\n",
    "    long_a_sim = long_a.shuffle()\n",
    "    long_b_sim = long_b.shuffle() \n",
    "    \n",
    "    ret_sim = run_fake_backtest(spread, long_a_sim, long_b_sim, 1.5, 5)[0]\n",
    "    ret_sims.append(ret_sim)\n",
    "    \n",
    "    if (np.mean(ret_sim) >= np.mean(ret)):\n",
    "        num_better_samples += 1\n",
    "\n",
    "print(\"Randomized Entry: p-value = %f\" % (num_better_samples / sample_size))"
   ]
  },
  {
   "cell_type": "code",
   "execution_count": null,
   "id": "b48726d8",
   "metadata": {
    "hidden": true
   },
   "outputs": [],
   "source": [
    "def get_a_b(al, ac, ah, bl, bc, bh):\n",
    "    return ac-abs(ac-al)/2, ac+abs(ac-ah)/2, bc-abs(bc-bl)/2, bc+abs(bc-bh)/2\n",
    "\n",
    "def run_fake_backtest(spread, long_a_sim, long_b_sim, thres, sell_thres, fee=0.002, interest=0.002):\n",
    "    total, p_total = 0, 0 #Previous total\n",
    "    cusum, returns = [], []\n",
    "    price_a, price_b, long = None, None, None #Values: None, \"A\", \"B\"\n",
    "    long_a, long_b, liquidate,  dd_indices= [], [], [], [] #Drawdown indicies\n",
    "    dd_i = True\n",
    "    \n",
    "    for i in range(spread.shape[0]):\n",
    "        al, ah, bl, bh = get_a_b(spread.Al[i], spread.A[i], spread.Ah[i], spread.Bl[i], spread.B[i], spread.Bh[i])\n",
    "        \n",
    "        if i in long_a_sim: # Looking to buy\n",
    "            price_a = ah\n",
    "            price_b = bl\n",
    "            long = \"A\"\n",
    "            long_a.append(spread.index[i])\n",
    "            \n",
    "        elif i in long_b_sim:\n",
    "            price_a = al\n",
    "            price_b = bh\n",
    "            long = \"B\"\n",
    "            long_b.append(spread.index[i])\n",
    "            \n",
    "        elif (long == \"A\" and (i in long_b_sim)) or (long == \"B\" and (i in long_a_sim)): #Liquidate positions\n",
    "            al, ah, bl, bh = get_a_b(spread.Al[i], spread.A[i], spread.Ah[i], spread.Bl[i], spread.B[i], spread.Bh[i])\n",
    "            gain = 0\n",
    "            if long==\"A\":\n",
    "                gain = liquidate_assets(price_b, bh, al, price_a, fee, long_a[-1], spread.index[i], interest)\n",
    "            else:\n",
    "                gain = liquidate_assets(price_a, ah, bl, price_b, fee, long_b[-1], spread.index[i], interest)\n",
    "            returns.append(gain)\n",
    "            total += gain\n",
    "            price_a, price_b, long = None, None, None\n",
    "            liquidate.append(spread.index[i])\n",
    "        cusum.append(total)\n",
    "        \n",
    "\n",
    "        if total < p_total:\n",
    "            if dd_i:\n",
    "                dd_indices.append(spread.index[i])\n",
    "                dd_i = False\n",
    "        else:\n",
    "            if not dd_i:\n",
    "                dd_indices.append(spread.index[i])\n",
    "                dd_i = True\n",
    "            p_total = total\n",
    "    if total < p_total:\n",
    "        dd_indices.append(spread.index[i])\n",
    "    drawdowns = get_drawdowns(dd_indices)\n",
    "    return long_a, long_b, liquidate, cusum, returns, drawdowns\n",
    "        \n",
    "def liquidate_assets(x1, x2, y1, y2, fee, d1, d2, interest):\n",
    "    interest = ((d2-d1).days + 1) * interest\n",
    "    total = (x1 - x2)/x1 - 2*fee - interest\n",
    "    total += (y1 - y2)/y1 - 2*fee - interest\n",
    "    return total\n",
    "\n",
    "def get_drawdowns(dd_indices):\n",
    "    a = dd_indices[1::2]\n",
    "    b = dd_indices[::2]\n",
    "    a = np.array(a)\n",
    "    b = np.array(b[:len(a)])\n",
    "    c = a-b\n",
    "    c.sort()\n",
    "    return c[::-1]"
   ]
  }
 ],
 "metadata": {
  "kernelspec": {
   "display_name": "Python 3",
   "language": "python",
   "name": "python3"
  },
  "language_info": {
   "codemirror_mode": {
    "name": "ipython",
    "version": 3
   },
   "file_extension": ".py",
   "mimetype": "text/x-python",
   "name": "python",
   "nbconvert_exporter": "python",
   "pygments_lexer": "ipython3",
   "version": "3.8.8"
  },
  "toc": {
   "base_numbering": 1,
   "nav_menu": {},
   "number_sections": true,
   "sideBar": true,
   "skip_h1_title": false,
   "title_cell": "Table of Contents",
   "title_sidebar": "Contents",
   "toc_cell": false,
   "toc_position": {},
   "toc_section_display": true,
   "toc_window_display": false
  },
  "varInspector": {
   "cols": {
    "lenName": 16,
    "lenType": 16,
    "lenVar": 40
   },
   "kernels_config": {
    "python": {
     "delete_cmd_postfix": "",
     "delete_cmd_prefix": "del ",
     "library": "var_list.py",
     "varRefreshCmd": "print(var_dic_list())"
    },
    "r": {
     "delete_cmd_postfix": ") ",
     "delete_cmd_prefix": "rm(",
     "library": "var_list.r",
     "varRefreshCmd": "cat(var_dic_list()) "
    }
   },
   "types_to_exclude": [
    "module",
    "function",
    "builtin_function_or_method",
    "instance",
    "_Feature"
   ],
   "window_display": false
  }
 },
 "nbformat": 4,
 "nbformat_minor": 5
}
