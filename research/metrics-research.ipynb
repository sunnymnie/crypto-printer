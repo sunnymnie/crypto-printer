{
 "cells": [
  {
   "cell_type": "markdown",
   "id": "21b7c2fb",
   "metadata": {},
   "source": [
    "# Metrics Research"
   ]
  },
  {
   "cell_type": "markdown",
   "id": "7582b8da",
   "metadata": {},
   "source": [
    "## Hypothesis Testing"
   ]
  },
  {
   "cell_type": "markdown",
   "id": "661c0e7a",
   "metadata": {},
   "source": [
    "The general framework of hypothesis testing as applied to backtesting follows these steps:\n",
    "\n",
    "1. Based on a backtest on some finite sample of data, we compute a certain statistical measure called the **test statistic**.\n",
    "\n",
    "\n",
    "2. We suppose that t-statistic based on an infinite data set is actually zero.This supposition is called the null hypothesis.\n",
    "\n",
    "\n",
    "3. We suppose that the probability distribution of daily returns is known. This probability distribution has a zero mean, based on the null hypothesis. We describe later how we determine this probability distribution.\n",
    "\n",
    "\n",
    "4. Based on this null hypothesis probability distribution, we compute the probability p that the t-statistic will be at least as extreme (allowing for the possibility of a negative test statistic). This probability p is called the **p-value**, and if it is very small (let’s say smaller than 0.01), that means we can “reject the null hypothesis,” and conclude that the backtested average daily return is statistically significant."
   ]
  },
  {
   "cell_type": "markdown",
   "id": "d3c26a46",
   "metadata": {},
   "source": [
    "## Determining the Probability Distribution Under Null Hypothesis"
   ]
  },
  {
   "cell_type": "markdown",
   "id": "cd66c199",
   "metadata": {},
   "source": [
    "### Gaussian Distribution"
   ]
  },
  {
   "cell_type": "markdown",
   "id": "75e9e7a4",
   "metadata": {},
   "source": [
    "Suppose that the daily returns follow a Gaussian distribution, with a mean of zero and a standard deviation given by the sample standard deviation of the t-statistic. \n",
    "\n",
    "\n",
    "If we do this, it is clear that if the backtest has a high Sharpe ratio, it would be very easy for us to reject the null hypothesis. This is because the standard test statistic for a Gaussian distribution is none other than the average divided by the standard deviation and multiplied by the square root of the number of data points \n",
    "\n",
    "(basically fancy way of saying the sharpe ratio lmao)"
   ]
  },
  {
   "cell_type": "markdown",
   "id": "f6afe37d",
   "metadata": {},
   "source": [
    "| p-value         | 0.1   | 0.05  | 0.01  | 0.001 |\n",
    "|-----------------|-------|-------|-------|-------|\n",
    "| Critical Values | 1.282 | 1.645 | 2.326 | 3.091 |"
   ]
  },
  {
   "cell_type": "markdown",
   "id": "c4aced6c",
   "metadata": {},
   "source": [
    "### Monte Carlo Simulation"
   ]
  },
  {
   "cell_type": "markdown",
   "id": "7f203d30",
   "metadata": {},
   "source": [
    "Another method is to use Monte Carlo methods to generate simulated historical price data and feed these simulated data into our strategy to determine the empirical probability distribution of profits.\n",
    "\n",
    "\n",
    "Our belief is that the profitability of the trading strategy captured some subtle patterns or correlations of the price series, and not just because of the first few moments of the price distributions.\n",
    "\n",
    "\n",
    "So if we generate many simulated price series with the same first moments and the same length as the actual price data, and run the trading strategy over all these simulated price series, we can find out in what fraction p of these price series are the average returns greater than or equal to the backtest return."
   ]
  },
  {
   "cell_type": "markdown",
   "id": "0bf3cf8b",
   "metadata": {},
   "source": [
    "### Simulated Trades Method"
   ]
  },
  {
   "cell_type": "markdown",
   "id": "f5420b51",
   "metadata": {},
   "source": [
    "In this method, instead of generating simulated price data, we generate sets of simulated trades, with the constraint that the number of long and short entry trades is the same as in the backtest, and with the same average holding period for the trades. \n",
    "\n",
    "These trades are distributed randomly over the actual historical price series. We then measure what fraction of such sets of trades has average return greater than or equal to the backtest average return."
   ]
  },
  {
   "cell_type": "markdown",
   "id": "f8bed6e9",
   "metadata": {},
   "source": [
    "## Options for T-Statistic"
   ]
  },
  {
   "cell_type": "markdown",
   "id": "9481e4ea",
   "metadata": {},
   "source": [
    "- Returns\n",
    "    - Cumulative Returns\n",
    "    - Average Daily Returns\n",
    "    \n",
    "    \n",
    "- Drawdown\n",
    "    - Maximum Drawdown Length\n",
    "    - Number of Drawdowns > 1 Week\n",
    "\n",
    "\n",
    "- Losses\n",
    "    - Number of 15% Losses\n",
    "    - Biggest Loss\n",
    "    \n",
    "**OR Some Combination of the Above.**"
   ]
  },
  {
   "cell_type": "markdown",
   "id": "fecd404c",
   "metadata": {},
   "source": [
    "# Hypothesis Tests"
   ]
  },
  {
   "cell_type": "markdown",
   "id": "dae46aff",
   "metadata": {},
   "source": [
    "## Guassian"
   ]
  },
  {
   "cell_type": "code",
   "execution_count": 5,
   "id": "4b0df8b9",
   "metadata": {},
   "outputs": [],
   "source": [
    "import scipy.stats as st\n",
    "import math"
   ]
  },
  {
   "cell_type": "markdown",
   "id": "dfd502ca",
   "metadata": {},
   "source": [
    "### Average Daily Returns"
   ]
  },
  {
   "cell_type": "code",
   "execution_count": null,
   "id": "808624c1",
   "metadata": {},
   "outputs": [],
   "source": [
    "ret = #daily returns of strategy"
   ]
  },
  {
   "cell_type": "code",
   "execution_count": null,
   "id": "c9ce2b64",
   "metadata": {},
   "outputs": [],
   "source": [
    "# we multiply by the sqrt(len(ret)) to \"annualize\" the sharpe ratio based on big brain maths\n",
    "sharpe = np.sqrt(len(ret)) * np.nanmean(ret) / np.nanstd(ret)\n",
    "print(\"Gaussian Test statistic = %f\" % sharpe)"
   ]
  },
  {
   "cell_type": "markdown",
   "id": "dd5dc7ad",
   "metadata": {},
   "source": [
    "| p-value         | 0.1   | 0.05  | 0.01  | 0.001 |\n",
    "|-----------------|-------|-------|-------|-------|\n",
    "| Critical Values | 1.282 | 1.645 | 2.326 | 3.091 |"
   ]
  },
  {
   "cell_type": "markdown",
   "id": "4718163e",
   "metadata": {},
   "source": [
    "### Anything Else"
   ]
  },
  {
   "cell_type": "markdown",
   "id": "83747a19",
   "metadata": {},
   "source": [
    "(Basically like the sharpe ratio, but using params other than returns)"
   ]
  },
  {
   "cell_type": "code",
   "execution_count": null,
   "id": "b9fd2aad",
   "metadata": {},
   "outputs": [],
   "source": [
    "# list to base std off of (ex. for avg daily return, would be list of daily returns.\n",
    "# for max drawdown length, would be list of drawdown lengths)\n",
    "raw_value_list = \n",
    "raw_value = #the raw value of the t-stat to test"
   ]
  },
  {
   "cell_type": "code",
   "execution_count": null,
   "id": "25c23299",
   "metadata": {},
   "outputs": [],
   "source": [
    "t_stat = (raw_value - 0) / np.nanstd(raw_value_list)"
   ]
  },
  {
   "cell_type": "code",
   "execution_count": 11,
   "id": "96834ab2",
   "metadata": {},
   "outputs": [
    {
     "name": "stdout",
     "output_type": "stream",
     "text": [
      "1.2816362297304775\n",
      "1.6450060180692423\n",
      "2.3267208386694755\n",
      "3.091047516030612\n"
     ]
    }
   ],
   "source": [
    "# Finding Critical Values\n",
    "# dof (degrees of freedom) is pretty much just a fancy way of saying n-1, (n=number of values in distribution)\n",
    "# theoretically infinite, since we are using a hypothetical gaussian distribution\n",
    "dof = 10000 \n",
    "\n",
    "print(st.t.ppf(q=1-(0.1),df=dof))\n",
    "print(st.t.ppf(q=1-(0.05),df=dof))\n",
    "print(st.t.ppf(q=1-(0.01),df=dof))\n",
    "print(st.t.ppf(q=1-(0.001),df=dof))\n"
   ]
  },
  {
   "cell_type": "code",
   "execution_count": null,
   "id": "329a3144",
   "metadata": {},
   "outputs": [],
   "source": []
  }
 ],
 "metadata": {
  "kernelspec": {
   "display_name": "Python 3",
   "language": "python",
   "name": "python3"
  },
  "language_info": {
   "codemirror_mode": {
    "name": "ipython",
    "version": 3
   },
   "file_extension": ".py",
   "mimetype": "text/x-python",
   "name": "python",
   "nbconvert_exporter": "python",
   "pygments_lexer": "ipython3",
   "version": "3.8.8"
  },
  "toc": {
   "base_numbering": 1,
   "nav_menu": {},
   "number_sections": true,
   "sideBar": true,
   "skip_h1_title": false,
   "title_cell": "Table of Contents",
   "title_sidebar": "Contents",
   "toc_cell": false,
   "toc_position": {},
   "toc_section_display": true,
   "toc_window_display": false
  },
  "varInspector": {
   "cols": {
    "lenName": 16,
    "lenType": 16,
    "lenVar": 40
   },
   "kernels_config": {
    "python": {
     "delete_cmd_postfix": "",
     "delete_cmd_prefix": "del ",
     "library": "var_list.py",
     "varRefreshCmd": "print(var_dic_list())"
    },
    "r": {
     "delete_cmd_postfix": ") ",
     "delete_cmd_prefix": "rm(",
     "library": "var_list.r",
     "varRefreshCmd": "cat(var_dic_list()) "
    }
   },
   "types_to_exclude": [
    "module",
    "function",
    "builtin_function_or_method",
    "instance",
    "_Feature"
   ],
   "window_display": false
  }
 },
 "nbformat": 4,
 "nbformat_minor": 5
}
