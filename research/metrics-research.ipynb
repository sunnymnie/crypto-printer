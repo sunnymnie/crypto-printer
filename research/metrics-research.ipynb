{
 "cells": [
  {
   "cell_type": "markdown",
   "id": "f07f5d2a",
   "metadata": {},
   "source": [
    "# Metrics Research"
   ]
  },
  {
   "cell_type": "markdown",
   "id": "4f619e71",
   "metadata": {},
   "source": [
    "## Hypothesis Testing"
   ]
  },
  {
   "cell_type": "markdown",
   "id": "e1a32a46",
   "metadata": {},
   "source": [
    "The general framework of hypothesis testing as applied to backtesting follows these steps:\n",
    "\n",
    "1. Based on a backtest on some finite sample of data, we compute a certain statistical measure called the **test statistic**.\n",
    "\n",
    "\n",
    "2. We suppose that t-statistic based on an infinite data set is actually zero.This supposition is called the null hypothesis.\n",
    "\n",
    "\n",
    "3. We suppose that the probability distribution of daily returns is known. This probability distribution has a zero mean, based on the null hypothesis. We describe later how we determine this probability distribution.\n",
    "\n",
    "\n",
    "4. Based on this null hypothesis probability distribution, we compute the probability p that the t-statistic will be at least as extreme (allowing for the possibility of a negative test statistic). This probability p is called the **p-value**, and if it is very small (let’s say smaller than 0.01), that means we can “reject the null hypothesis,” and conclude that the backtested average daily return is statistically significant."
   ]
  },
  {
   "cell_type": "markdown",
   "id": "c50ba1df",
   "metadata": {},
   "source": [
    "## Determining the Probability Distribution Under Null Hypothesis"
   ]
  },
  {
   "cell_type": "markdown",
   "id": "bbf99282",
   "metadata": {},
   "source": [
    "### Gaussian Distribution"
   ]
  },
  {
   "cell_type": "markdown",
   "id": "6854a86f",
   "metadata": {},
   "source": [
    "Suppose that the daily returns follow a Gaussian distribution, with a mean of zero and a standard deviation given by the sample standard deviation of the t-statistic. \n",
    "\n",
    "\n",
    "If we do this, it is clear that if the backtest has a high Sharpe ratio, it would be very easy for us to reject the null hypothesis. This is because the standard test statistic for a Gaussian distribution is none other than the average divided by the standard deviation and multiplied by the square root of the number of data points \n",
    "\n",
    "(basically fancy way of saying the sharpe ratio lmao)"
   ]
  },
  {
   "cell_type": "markdown",
   "id": "6504915d",
   "metadata": {},
   "source": [
    "| p-value         | 0.1   | 0.05  | 0.01  | 0.001 |\n",
    "|-----------------|-------|-------|-------|-------|\n",
    "| Critical Values | 1.282 | 1.645 | 2.326 | 3.091 |"
   ]
  },
  {
   "cell_type": "markdown",
   "id": "528b48a2",
   "metadata": {},
   "source": [
    "### Monte Carlo Simulation"
   ]
  },
  {
   "cell_type": "markdown",
   "id": "2a018dcc",
   "metadata": {},
   "source": [
    "Another method is to use Monte Carlo methods to generate simulated historical price data and feed these simulated data into our strategy to determine the empirical probability distribution of profits.\n",
    "\n",
    "\n",
    "Our belief is that the profitability of the trading strategy captured some subtle patterns or correlations of the price series, and not just because of the first few moments of the price distributions.\n",
    "\n",
    "\n",
    "So if we generate many simulated price series with the same first moments and the same length as the actual price data, and run the trading strategy over all these simulated price series, we can find out in what fraction p of these price series are the average returns greater than or equal to the backtest return."
   ]
  },
  {
   "cell_type": "markdown",
   "id": "f2f50c6a",
   "metadata": {},
   "source": [
    "### Simulated Trades Method"
   ]
  },
  {
   "cell_type": "markdown",
   "id": "d7e4b3c0",
   "metadata": {},
   "source": [
    "In this method, instead of generating simulated price data, we generate sets of simulated trades, with the constraint that the number of long and short entry trades is the same as in the backtest, and with the same average holding period for the trades. \n",
    "\n",
    "These trades are distributed randomly over the actual historical price series. We then measure what fraction of such sets of trades has average return greater than or equal to the backtest average return."
   ]
  },
  {
   "cell_type": "markdown",
   "id": "66e3ba44",
   "metadata": {},
   "source": [
    "## Options for T-Statistic"
   ]
  },
  {
   "cell_type": "markdown",
   "id": "93b6be62",
   "metadata": {},
   "source": [
    "- Returns\n",
    "    - Cumulative Returns\n",
    "    - Average Daily Returns\n",
    "    \n",
    "    \n",
    "- Drawdown\n",
    "    - Maximum Drawdown Length\n",
    "    - Number of Drawdowns > 1 Week\n",
    "\n",
    "\n",
    "- Losses\n",
    "    - Number of 15% Losses\n",
    "    - Biggest Loss\n",
    "    \n",
    "**OR Some Combination of the Above.**"
   ]
  },
  {
   "cell_type": "markdown",
   "id": "4d2c7de8",
   "metadata": {},
   "source": [
    "# Hypothesis Tests"
   ]
  },
  {
   "cell_type": "code",
   "execution_count": 41,
   "id": "13c9ccc8",
   "metadata": {},
   "outputs": [],
   "source": [
    "import numpy as np\n",
    "import pandas as pd\n",
    "import scipy.stats as st\n",
    "import math\n",
    "from tqdm import tqdm"
   ]
  },
  {
   "cell_type": "markdown",
   "id": "3b9f0af6",
   "metadata": {},
   "source": [
    "## Gaussian"
   ]
  },
  {
   "cell_type": "markdown",
   "id": "0d582cfb",
   "metadata": {},
   "source": [
    "### Average Daily Returns"
   ]
  },
  {
   "cell_type": "code",
   "execution_count": 56,
   "id": "a7129229",
   "metadata": {},
   "outputs": [],
   "source": [
    "daily_returns = pd.read_csv('../data/returnss2.csv')"
   ]
  },
  {
   "cell_type": "code",
   "execution_count": 39,
   "id": "bece45dd",
   "metadata": {},
   "outputs": [],
   "source": [
    "ret = daily_returns['0'].to_list()"
   ]
  },
  {
   "cell_type": "code",
   "execution_count": 40,
   "id": "c91f6b19",
   "metadata": {},
   "outputs": [
    {
     "name": "stdout",
     "output_type": "stream",
     "text": [
      "Gaussian Test statistic = 4.707045\n"
     ]
    }
   ],
   "source": [
    "# we multiply by the sqrt(len(ret)) to \"annualize\" the sharpe ratio based on big brain maths\n",
    "sharpe = np.sqrt(len(ret)) * np.nanmean(ret) / np.nanstd(ret)\n",
    "print(\"Gaussian Test statistic = %f\" % sharpe)"
   ]
  },
  {
   "cell_type": "markdown",
   "id": "a5e26f8e",
   "metadata": {},
   "source": [
    "| p-value         | 0.1   | 0.05  | 0.01  | 0.001 |\n",
    "|-----------------|-------|-------|-------|-------|\n",
    "| Critical Values | 1.282 | 1.645 | 2.326 | 3.091 |"
   ]
  },
  {
   "cell_type": "code",
   "execution_count": 43,
   "id": "1e142440",
   "metadata": {},
   "outputs": [],
   "source": [
    "daily_returns1 = pd.read_csv('../data/fet-celr-500.csv')"
   ]
  },
  {
   "cell_type": "code",
   "execution_count": 44,
   "id": "41f5c25c",
   "metadata": {
    "scrolled": false
   },
   "outputs": [
    {
     "data": {
      "text/html": [
       "<div>\n",
       "<style scoped>\n",
       "    .dataframe tbody tr th:only-of-type {\n",
       "        vertical-align: middle;\n",
       "    }\n",
       "\n",
       "    .dataframe tbody tr th {\n",
       "        vertical-align: top;\n",
       "    }\n",
       "\n",
       "    .dataframe thead th {\n",
       "        text-align: right;\n",
       "    }\n",
       "</style>\n",
       "<table border=\"1\" class=\"dataframe\">\n",
       "  <thead>\n",
       "    <tr style=\"text-align: right;\">\n",
       "      <th></th>\n",
       "      <th>lookback</th>\n",
       "      <th>thres</th>\n",
       "      <th>sell_thres</th>\n",
       "      <th>cusum</th>\n",
       "      <th>returns</th>\n",
       "      <th>drawdowns</th>\n",
       "    </tr>\n",
       "  </thead>\n",
       "  <tbody>\n",
       "    <tr>\n",
       "      <th>0</th>\n",
       "      <td>500</td>\n",
       "      <td>0.5</td>\n",
       "      <td>-0.25</td>\n",
       "      <td>[0, 0, 0, 0, 0, 0, 0, 0, 0, 0, 0, 0, 0, 0, 0, ...</td>\n",
       "      <td>[-0.03508, -0.02851, 0.01315, 0.00257, 0.00144...</td>\n",
       "      <td>[42074700]</td>\n",
       "    </tr>\n",
       "    <tr>\n",
       "      <th>1</th>\n",
       "      <td>500</td>\n",
       "      <td>0.5</td>\n",
       "      <td>0.00</td>\n",
       "      <td>[0, 0, 0, 0, 0, 0, 0, 0, 0, 0, 0, 0, 0, 0, 0, ...</td>\n",
       "      <td>[-0.01806, -0.00843, 0.01069, 0.00495, -0.0061...</td>\n",
       "      <td>[42072360]</td>\n",
       "    </tr>\n",
       "    <tr>\n",
       "      <th>2</th>\n",
       "      <td>500</td>\n",
       "      <td>0.5</td>\n",
       "      <td>0.25</td>\n",
       "      <td>[0, 0, 0, 0, 0, 0, 0, 0, 0, 0, 0, 0, 0, 0, 0, ...</td>\n",
       "      <td>[-0.01785, 0.01069, 0.00495, -0.00618, 0.00675...</td>\n",
       "      <td>[41984460, 76620, 1020]</td>\n",
       "    </tr>\n",
       "    <tr>\n",
       "      <th>3</th>\n",
       "      <td>500</td>\n",
       "      <td>0.5</td>\n",
       "      <td>0.50</td>\n",
       "      <td>[0, 0, 0, 0, 0, 0, 0, 0, 0, 0, 0, 0, 0, 0, 0, ...</td>\n",
       "      <td>[-0.02108, 0.02401, -0.0058, 0.00508, 0.00149,...</td>\n",
       "      <td>[41977980, 41280, 8820, 4080, 1980]</td>\n",
       "    </tr>\n",
       "    <tr>\n",
       "      <th>4</th>\n",
       "      <td>500</td>\n",
       "      <td>0.5</td>\n",
       "      <td>0.75</td>\n",
       "      <td>[0, 0, 0, 0, 0, 0, 0, 0, 0, 0, 0, 0, 0, 0, 0, ...</td>\n",
       "      <td>[-0.01678, 0.00274, -0.0091, 0.01447, 0.0061, ...</td>\n",
       "      <td>[40695720, 654600, 319920, 59400, 41340, 32580...</td>\n",
       "    </tr>\n",
       "    <tr>\n",
       "      <th>...</th>\n",
       "      <td>...</td>\n",
       "      <td>...</td>\n",
       "      <td>...</td>\n",
       "      <td>...</td>\n",
       "      <td>...</td>\n",
       "      <td>...</td>\n",
       "    </tr>\n",
       "    <tr>\n",
       "      <th>129</th>\n",
       "      <td>500</td>\n",
       "      <td>4.0</td>\n",
       "      <td>1.25</td>\n",
       "      <td>[0, 0, 0, 0, 0, 0, 0, 0, 0, 0, 0, 0, 0, 0, 0, ...</td>\n",
       "      <td>[0.0288, -0.00431, 0.06933, 0.01905, 0.01192, ...</td>\n",
       "      <td>[5012580, 3699000, 3206880, 2055000, 1475340, ...</td>\n",
       "    </tr>\n",
       "    <tr>\n",
       "      <th>130</th>\n",
       "      <td>500</td>\n",
       "      <td>4.0</td>\n",
       "      <td>1.50</td>\n",
       "      <td>[0, 0, 0, 0, 0, 0, 0, 0, 0, 0, 0, 0, 0, 0, 0, ...</td>\n",
       "      <td>[0.01816, -0.00431, 0.06933, 0.01843, 0.01156,...</td>\n",
       "      <td>[5011980, 3413340, 3206160, 1941480, 1621500, ...</td>\n",
       "    </tr>\n",
       "    <tr>\n",
       "      <th>131</th>\n",
       "      <td>500</td>\n",
       "      <td>4.0</td>\n",
       "      <td>2.00</td>\n",
       "      <td>[0, 0, 0, 0, 0, 0, 0, 0, 0, 0, 0, 0, 0, 0, 0, ...</td>\n",
       "      <td>[-0.00012, 0.07744, 0.02643, -0.01771, -0.0351...</td>\n",
       "      <td>[5733480, 4752120, 3348240, 2321700, 1187760, ...</td>\n",
       "    </tr>\n",
       "    <tr>\n",
       "      <th>132</th>\n",
       "      <td>500</td>\n",
       "      <td>4.0</td>\n",
       "      <td>2.50</td>\n",
       "      <td>[0, 0, 0, 0, 0, 0, 0, 0, 0, 0, 0, 0, 0, 0, 0, ...</td>\n",
       "      <td>[0.01738, 0.09451, 0.01469, -0.01485, -0.06607...</td>\n",
       "      <td>[5650980, 4062960, 3291300, 2797140, 2434020, ...</td>\n",
       "    </tr>\n",
       "    <tr>\n",
       "      <th>133</th>\n",
       "      <td>500</td>\n",
       "      <td>4.0</td>\n",
       "      <td>3.00</td>\n",
       "      <td>[0, 0, 0, 0, 0, 0, 0, 0, 0, 0, 0, 0, 0, 0, 0, ...</td>\n",
       "      <td>[0.02361, 0.10341, 0.01095, -0.02492, -0.06607...</td>\n",
       "      <td>[7185540, 6486420, 5542500, 3477360, 3327360, ...</td>\n",
       "    </tr>\n",
       "  </tbody>\n",
       "</table>\n",
       "<p>134 rows × 6 columns</p>\n",
       "</div>"
      ],
      "text/plain": [
       "     lookback  thres  sell_thres  \\\n",
       "0         500    0.5       -0.25   \n",
       "1         500    0.5        0.00   \n",
       "2         500    0.5        0.25   \n",
       "3         500    0.5        0.50   \n",
       "4         500    0.5        0.75   \n",
       "..        ...    ...         ...   \n",
       "129       500    4.0        1.25   \n",
       "130       500    4.0        1.50   \n",
       "131       500    4.0        2.00   \n",
       "132       500    4.0        2.50   \n",
       "133       500    4.0        3.00   \n",
       "\n",
       "                                                 cusum  \\\n",
       "0    [0, 0, 0, 0, 0, 0, 0, 0, 0, 0, 0, 0, 0, 0, 0, ...   \n",
       "1    [0, 0, 0, 0, 0, 0, 0, 0, 0, 0, 0, 0, 0, 0, 0, ...   \n",
       "2    [0, 0, 0, 0, 0, 0, 0, 0, 0, 0, 0, 0, 0, 0, 0, ...   \n",
       "3    [0, 0, 0, 0, 0, 0, 0, 0, 0, 0, 0, 0, 0, 0, 0, ...   \n",
       "4    [0, 0, 0, 0, 0, 0, 0, 0, 0, 0, 0, 0, 0, 0, 0, ...   \n",
       "..                                                 ...   \n",
       "129  [0, 0, 0, 0, 0, 0, 0, 0, 0, 0, 0, 0, 0, 0, 0, ...   \n",
       "130  [0, 0, 0, 0, 0, 0, 0, 0, 0, 0, 0, 0, 0, 0, 0, ...   \n",
       "131  [0, 0, 0, 0, 0, 0, 0, 0, 0, 0, 0, 0, 0, 0, 0, ...   \n",
       "132  [0, 0, 0, 0, 0, 0, 0, 0, 0, 0, 0, 0, 0, 0, 0, ...   \n",
       "133  [0, 0, 0, 0, 0, 0, 0, 0, 0, 0, 0, 0, 0, 0, 0, ...   \n",
       "\n",
       "                                               returns  \\\n",
       "0    [-0.03508, -0.02851, 0.01315, 0.00257, 0.00144...   \n",
       "1    [-0.01806, -0.00843, 0.01069, 0.00495, -0.0061...   \n",
       "2    [-0.01785, 0.01069, 0.00495, -0.00618, 0.00675...   \n",
       "3    [-0.02108, 0.02401, -0.0058, 0.00508, 0.00149,...   \n",
       "4    [-0.01678, 0.00274, -0.0091, 0.01447, 0.0061, ...   \n",
       "..                                                 ...   \n",
       "129  [0.0288, -0.00431, 0.06933, 0.01905, 0.01192, ...   \n",
       "130  [0.01816, -0.00431, 0.06933, 0.01843, 0.01156,...   \n",
       "131  [-0.00012, 0.07744, 0.02643, -0.01771, -0.0351...   \n",
       "132  [0.01738, 0.09451, 0.01469, -0.01485, -0.06607...   \n",
       "133  [0.02361, 0.10341, 0.01095, -0.02492, -0.06607...   \n",
       "\n",
       "                                             drawdowns  \n",
       "0                                           [42074700]  \n",
       "1                                           [42072360]  \n",
       "2                              [41984460, 76620, 1020]  \n",
       "3                  [41977980, 41280, 8820, 4080, 1980]  \n",
       "4    [40695720, 654600, 319920, 59400, 41340, 32580...  \n",
       "..                                                 ...  \n",
       "129  [5012580, 3699000, 3206880, 2055000, 1475340, ...  \n",
       "130  [5011980, 3413340, 3206160, 1941480, 1621500, ...  \n",
       "131  [5733480, 4752120, 3348240, 2321700, 1187760, ...  \n",
       "132  [5650980, 4062960, 3291300, 2797140, 2434020, ...  \n",
       "133  [7185540, 6486420, 5542500, 3477360, 3327360, ...  \n",
       "\n",
       "[134 rows x 6 columns]"
      ]
     },
     "execution_count": 44,
     "metadata": {},
     "output_type": "execute_result"
    }
   ],
   "source": [
    "daily_returns1"
   ]
  },
  {
   "cell_type": "code",
   "execution_count": 66,
   "id": "894f70ad",
   "metadata": {},
   "outputs": [],
   "source": [
    "daily_returns1[\"cusum\"] = daily_returns1[\"cusum\"].apply(eval)\n",
    "daily_returns1[\"returns\"] = daily_returns1[\"returns\"].apply(eval)\n",
    "daily_returns1[\"drawdowns\"] = daily_returns1[\"drawdowns\"].apply(eval)"
   ]
  },
  {
   "cell_type": "code",
   "execution_count": 71,
   "id": "39553420",
   "metadata": {},
   "outputs": [],
   "source": [
    "daily_returns1[\"sharpe\"] = np.nan\n",
    "\n",
    "for index, row in daily_returns1.iterrows():\n",
    "    r = row['returns']\n",
    "    daily_returns1.at[index, 'sharpe'] = np.sqrt(len(r)) * np.nanmean(r) / np.nanstd(r)"
   ]
  },
  {
   "cell_type": "code",
   "execution_count": 72,
   "id": "6a25644a",
   "metadata": {
    "scrolled": false
   },
   "outputs": [
    {
     "data": {
      "text/html": [
       "<div>\n",
       "<style scoped>\n",
       "    .dataframe tbody tr th:only-of-type {\n",
       "        vertical-align: middle;\n",
       "    }\n",
       "\n",
       "    .dataframe tbody tr th {\n",
       "        vertical-align: top;\n",
       "    }\n",
       "\n",
       "    .dataframe thead th {\n",
       "        text-align: right;\n",
       "    }\n",
       "</style>\n",
       "<table border=\"1\" class=\"dataframe\">\n",
       "  <thead>\n",
       "    <tr style=\"text-align: right;\">\n",
       "      <th></th>\n",
       "      <th>lookback</th>\n",
       "      <th>thres</th>\n",
       "      <th>sell_thres</th>\n",
       "      <th>cusum</th>\n",
       "      <th>returns</th>\n",
       "      <th>drawdowns</th>\n",
       "      <th>sharpe</th>\n",
       "    </tr>\n",
       "  </thead>\n",
       "  <tbody>\n",
       "    <tr>\n",
       "      <th>0</th>\n",
       "      <td>500</td>\n",
       "      <td>0.5</td>\n",
       "      <td>-0.25</td>\n",
       "      <td>[0, 0, 0, 0, 0, 0, 0, 0, 0, 0, 0, 0, 0, 0, 0, ...</td>\n",
       "      <td>[-0.03508, -0.02851, 0.01315, 0.00257, 0.00144...</td>\n",
       "      <td>[42074700]</td>\n",
       "      <td>-88.057489</td>\n",
       "    </tr>\n",
       "    <tr>\n",
       "      <th>1</th>\n",
       "      <td>500</td>\n",
       "      <td>0.5</td>\n",
       "      <td>0.00</td>\n",
       "      <td>[0, 0, 0, 0, 0, 0, 0, 0, 0, 0, 0, 0, 0, 0, 0, ...</td>\n",
       "      <td>[-0.01806, -0.00843, 0.01069, 0.00495, -0.0061...</td>\n",
       "      <td>[42072360]</td>\n",
       "      <td>-47.387212</td>\n",
       "    </tr>\n",
       "    <tr>\n",
       "      <th>2</th>\n",
       "      <td>500</td>\n",
       "      <td>0.5</td>\n",
       "      <td>0.25</td>\n",
       "      <td>[0, 0, 0, 0, 0, 0, 0, 0, 0, 0, 0, 0, 0, 0, 0, ...</td>\n",
       "      <td>[-0.01785, 0.01069, 0.00495, -0.00618, 0.00675...</td>\n",
       "      <td>[41984460, 76620, 1020]</td>\n",
       "      <td>-27.940365</td>\n",
       "    </tr>\n",
       "    <tr>\n",
       "      <th>3</th>\n",
       "      <td>500</td>\n",
       "      <td>0.5</td>\n",
       "      <td>0.50</td>\n",
       "      <td>[0, 0, 0, 0, 0, 0, 0, 0, 0, 0, 0, 0, 0, 0, 0, ...</td>\n",
       "      <td>[-0.02108, 0.02401, -0.0058, 0.00508, 0.00149,...</td>\n",
       "      <td>[41977980, 41280, 8820, 4080, 1980]</td>\n",
       "      <td>-15.999500</td>\n",
       "    </tr>\n",
       "    <tr>\n",
       "      <th>4</th>\n",
       "      <td>500</td>\n",
       "      <td>0.5</td>\n",
       "      <td>0.75</td>\n",
       "      <td>[0, 0, 0, 0, 0, 0, 0, 0, 0, 0, 0, 0, 0, 0, 0, ...</td>\n",
       "      <td>[-0.01678, 0.00274, -0.0091, 0.01447, 0.0061, ...</td>\n",
       "      <td>[40695720, 654600, 319920, 59400, 41340, 32580...</td>\n",
       "      <td>-9.308326</td>\n",
       "    </tr>\n",
       "    <tr>\n",
       "      <th>...</th>\n",
       "      <td>...</td>\n",
       "      <td>...</td>\n",
       "      <td>...</td>\n",
       "      <td>...</td>\n",
       "      <td>...</td>\n",
       "      <td>...</td>\n",
       "      <td>...</td>\n",
       "    </tr>\n",
       "    <tr>\n",
       "      <th>129</th>\n",
       "      <td>500</td>\n",
       "      <td>4.0</td>\n",
       "      <td>1.25</td>\n",
       "      <td>[0, 0, 0, 0, 0, 0, 0, 0, 0, 0, 0, 0, 0, 0, 0, ...</td>\n",
       "      <td>[0.0288, -0.00431, 0.06933, 0.01905, 0.01192, ...</td>\n",
       "      <td>[5012580, 3699000, 3206880, 2055000, 1475340, ...</td>\n",
       "      <td>2.314567</td>\n",
       "    </tr>\n",
       "    <tr>\n",
       "      <th>130</th>\n",
       "      <td>500</td>\n",
       "      <td>4.0</td>\n",
       "      <td>1.50</td>\n",
       "      <td>[0, 0, 0, 0, 0, 0, 0, 0, 0, 0, 0, 0, 0, 0, 0, ...</td>\n",
       "      <td>[0.01816, -0.00431, 0.06933, 0.01843, 0.01156,...</td>\n",
       "      <td>[5011980, 3413340, 3206160, 1941480, 1621500, ...</td>\n",
       "      <td>2.396464</td>\n",
       "    </tr>\n",
       "    <tr>\n",
       "      <th>131</th>\n",
       "      <td>500</td>\n",
       "      <td>4.0</td>\n",
       "      <td>2.00</td>\n",
       "      <td>[0, 0, 0, 0, 0, 0, 0, 0, 0, 0, 0, 0, 0, 0, 0, ...</td>\n",
       "      <td>[-0.00012, 0.07744, 0.02643, -0.01771, -0.0351...</td>\n",
       "      <td>[5733480, 4752120, 3348240, 2321700, 1187760, ...</td>\n",
       "      <td>2.755810</td>\n",
       "    </tr>\n",
       "    <tr>\n",
       "      <th>132</th>\n",
       "      <td>500</td>\n",
       "      <td>4.0</td>\n",
       "      <td>2.50</td>\n",
       "      <td>[0, 0, 0, 0, 0, 0, 0, 0, 0, 0, 0, 0, 0, 0, 0, ...</td>\n",
       "      <td>[0.01738, 0.09451, 0.01469, -0.01485, -0.06607...</td>\n",
       "      <td>[5650980, 4062960, 3291300, 2797140, 2434020, ...</td>\n",
       "      <td>1.783434</td>\n",
       "    </tr>\n",
       "    <tr>\n",
       "      <th>133</th>\n",
       "      <td>500</td>\n",
       "      <td>4.0</td>\n",
       "      <td>3.00</td>\n",
       "      <td>[0, 0, 0, 0, 0, 0, 0, 0, 0, 0, 0, 0, 0, 0, 0, ...</td>\n",
       "      <td>[0.02361, 0.10341, 0.01095, -0.02492, -0.06607...</td>\n",
       "      <td>[7185540, 6486420, 5542500, 3477360, 3327360, ...</td>\n",
       "      <td>0.802209</td>\n",
       "    </tr>\n",
       "  </tbody>\n",
       "</table>\n",
       "<p>134 rows × 7 columns</p>\n",
       "</div>"
      ],
      "text/plain": [
       "     lookback  thres  sell_thres  \\\n",
       "0         500    0.5       -0.25   \n",
       "1         500    0.5        0.00   \n",
       "2         500    0.5        0.25   \n",
       "3         500    0.5        0.50   \n",
       "4         500    0.5        0.75   \n",
       "..        ...    ...         ...   \n",
       "129       500    4.0        1.25   \n",
       "130       500    4.0        1.50   \n",
       "131       500    4.0        2.00   \n",
       "132       500    4.0        2.50   \n",
       "133       500    4.0        3.00   \n",
       "\n",
       "                                                 cusum  \\\n",
       "0    [0, 0, 0, 0, 0, 0, 0, 0, 0, 0, 0, 0, 0, 0, 0, ...   \n",
       "1    [0, 0, 0, 0, 0, 0, 0, 0, 0, 0, 0, 0, 0, 0, 0, ...   \n",
       "2    [0, 0, 0, 0, 0, 0, 0, 0, 0, 0, 0, 0, 0, 0, 0, ...   \n",
       "3    [0, 0, 0, 0, 0, 0, 0, 0, 0, 0, 0, 0, 0, 0, 0, ...   \n",
       "4    [0, 0, 0, 0, 0, 0, 0, 0, 0, 0, 0, 0, 0, 0, 0, ...   \n",
       "..                                                 ...   \n",
       "129  [0, 0, 0, 0, 0, 0, 0, 0, 0, 0, 0, 0, 0, 0, 0, ...   \n",
       "130  [0, 0, 0, 0, 0, 0, 0, 0, 0, 0, 0, 0, 0, 0, 0, ...   \n",
       "131  [0, 0, 0, 0, 0, 0, 0, 0, 0, 0, 0, 0, 0, 0, 0, ...   \n",
       "132  [0, 0, 0, 0, 0, 0, 0, 0, 0, 0, 0, 0, 0, 0, 0, ...   \n",
       "133  [0, 0, 0, 0, 0, 0, 0, 0, 0, 0, 0, 0, 0, 0, 0, ...   \n",
       "\n",
       "                                               returns  \\\n",
       "0    [-0.03508, -0.02851, 0.01315, 0.00257, 0.00144...   \n",
       "1    [-0.01806, -0.00843, 0.01069, 0.00495, -0.0061...   \n",
       "2    [-0.01785, 0.01069, 0.00495, -0.00618, 0.00675...   \n",
       "3    [-0.02108, 0.02401, -0.0058, 0.00508, 0.00149,...   \n",
       "4    [-0.01678, 0.00274, -0.0091, 0.01447, 0.0061, ...   \n",
       "..                                                 ...   \n",
       "129  [0.0288, -0.00431, 0.06933, 0.01905, 0.01192, ...   \n",
       "130  [0.01816, -0.00431, 0.06933, 0.01843, 0.01156,...   \n",
       "131  [-0.00012, 0.07744, 0.02643, -0.01771, -0.0351...   \n",
       "132  [0.01738, 0.09451, 0.01469, -0.01485, -0.06607...   \n",
       "133  [0.02361, 0.10341, 0.01095, -0.02492, -0.06607...   \n",
       "\n",
       "                                             drawdowns     sharpe  \n",
       "0                                           [42074700] -88.057489  \n",
       "1                                           [42072360] -47.387212  \n",
       "2                              [41984460, 76620, 1020] -27.940365  \n",
       "3                  [41977980, 41280, 8820, 4080, 1980] -15.999500  \n",
       "4    [40695720, 654600, 319920, 59400, 41340, 32580...  -9.308326  \n",
       "..                                                 ...        ...  \n",
       "129  [5012580, 3699000, 3206880, 2055000, 1475340, ...   2.314567  \n",
       "130  [5011980, 3413340, 3206160, 1941480, 1621500, ...   2.396464  \n",
       "131  [5733480, 4752120, 3348240, 2321700, 1187760, ...   2.755810  \n",
       "132  [5650980, 4062960, 3291300, 2797140, 2434020, ...   1.783434  \n",
       "133  [7185540, 6486420, 5542500, 3477360, 3327360, ...   0.802209  \n",
       "\n",
       "[134 rows x 7 columns]"
      ]
     },
     "execution_count": 72,
     "metadata": {},
     "output_type": "execute_result"
    }
   ],
   "source": [
    "daily_returns1"
   ]
  },
  {
   "cell_type": "code",
   "execution_count": 78,
   "id": "c839b544",
   "metadata": {},
   "outputs": [],
   "source": [
    "d3 = daily_returns1.nlargest(10,'sharpe')"
   ]
  },
  {
   "cell_type": "code",
   "execution_count": 79,
   "id": "553391ce",
   "metadata": {
    "scrolled": true
   },
   "outputs": [
    {
     "data": {
      "text/html": [
       "<div>\n",
       "<style scoped>\n",
       "    .dataframe tbody tr th:only-of-type {\n",
       "        vertical-align: middle;\n",
       "    }\n",
       "\n",
       "    .dataframe tbody tr th {\n",
       "        vertical-align: top;\n",
       "    }\n",
       "\n",
       "    .dataframe thead th {\n",
       "        text-align: right;\n",
       "    }\n",
       "</style>\n",
       "<table border=\"1\" class=\"dataframe\">\n",
       "  <thead>\n",
       "    <tr style=\"text-align: right;\">\n",
       "      <th></th>\n",
       "      <th>lookback</th>\n",
       "      <th>thres</th>\n",
       "      <th>sell_thres</th>\n",
       "      <th>cusum</th>\n",
       "      <th>returns</th>\n",
       "      <th>drawdowns</th>\n",
       "      <th>sharpe</th>\n",
       "    </tr>\n",
       "  </thead>\n",
       "  <tbody>\n",
       "    <tr>\n",
       "      <th>123</th>\n",
       "      <td>500</td>\n",
       "      <td>4.0</td>\n",
       "      <td>-0.25</td>\n",
       "      <td>[0, 0, 0, 0, 0, 0, 0, 0, 0, 0, 0, 0, 0, 0, 0, ...</td>\n",
       "      <td>[0.0254, 0.0205, 0.0416, -0.00819, -0.0051, 0....</td>\n",
       "      <td>[4414620, 4347480, 3815460, 3507000, 2350260, ...</td>\n",
       "      <td>3.626867</td>\n",
       "    </tr>\n",
       "    <tr>\n",
       "      <th>122</th>\n",
       "      <td>500</td>\n",
       "      <td>4.0</td>\n",
       "      <td>-0.50</td>\n",
       "      <td>[0, 0, 0, 0, 0, 0, 0, 0, 0, 0, 0, 0, 0, 0, 0, ...</td>\n",
       "      <td>[0.0254, 0.0205, 0.0416, -0.00667, 0.02131, 0....</td>\n",
       "      <td>[5004000, 3520920, 2825820, 2364540, 1944480, ...</td>\n",
       "      <td>3.492299</td>\n",
       "    </tr>\n",
       "    <tr>\n",
       "      <th>124</th>\n",
       "      <td>500</td>\n",
       "      <td>4.0</td>\n",
       "      <td>0.00</td>\n",
       "      <td>[0, 0, 0, 0, 0, 0, 0, 0, 0, 0, 0, 0, 0, 0, 0, ...</td>\n",
       "      <td>[0.02628, 0.01683, 0.03474, 0.01204, 0.00636, ...</td>\n",
       "      <td>[3006720, 2840400, 2679780, 2128200, 1884000, ...</td>\n",
       "      <td>3.128669</td>\n",
       "    </tr>\n",
       "    <tr>\n",
       "      <th>131</th>\n",
       "      <td>500</td>\n",
       "      <td>4.0</td>\n",
       "      <td>2.00</td>\n",
       "      <td>[0, 0, 0, 0, 0, 0, 0, 0, 0, 0, 0, 0, 0, 0, 0, ...</td>\n",
       "      <td>[-0.00012, 0.07744, 0.02643, -0.01771, -0.0351...</td>\n",
       "      <td>[5733480, 4752120, 3348240, 2321700, 1187760, ...</td>\n",
       "      <td>2.755810</td>\n",
       "    </tr>\n",
       "    <tr>\n",
       "      <th>126</th>\n",
       "      <td>500</td>\n",
       "      <td>4.0</td>\n",
       "      <td>0.50</td>\n",
       "      <td>[0, 0, 0, 0, 0, 0, 0, 0, 0, 0, 0, 0, 0, 0, 0, ...</td>\n",
       "      <td>[0.02123, 0.02876, 0.06433, 0.01204, 0.0027, 0...</td>\n",
       "      <td>[5040720, 4068300, 3928680, 3258240, 2274300, ...</td>\n",
       "      <td>2.717855</td>\n",
       "    </tr>\n",
       "    <tr>\n",
       "      <th>128</th>\n",
       "      <td>500</td>\n",
       "      <td>4.0</td>\n",
       "      <td>1.00</td>\n",
       "      <td>[0, 0, 0, 0, 0, 0, 0, 0, 0, 0, 0, 0, 0, 0, 0, ...</td>\n",
       "      <td>[0.02597, -0.00431, 0.06501, 0.01905, 0.01325,...</td>\n",
       "      <td>[5013600, 3726360, 2054940, 1613880, 1565040, ...</td>\n",
       "      <td>2.676724</td>\n",
       "    </tr>\n",
       "    <tr>\n",
       "      <th>125</th>\n",
       "      <td>500</td>\n",
       "      <td>4.0</td>\n",
       "      <td>0.25</td>\n",
       "      <td>[0, 0, 0, 0, 0, 0, 0, 0, 0, 0, 0, 0, 0, 0, 0, ...</td>\n",
       "      <td>[0.02628, 0.02572, 0.06433, 0.01204, 0.01173, ...</td>\n",
       "      <td>[5040840, 3943860, 3649380, 2428320, 2402100, ...</td>\n",
       "      <td>2.508247</td>\n",
       "    </tr>\n",
       "    <tr>\n",
       "      <th>127</th>\n",
       "      <td>500</td>\n",
       "      <td>4.0</td>\n",
       "      <td>0.75</td>\n",
       "      <td>[0, 0, 0, 0, 0, 0, 0, 0, 0, 0, 0, 0, 0, 0, 0, ...</td>\n",
       "      <td>[0.02123, 0.03326, 0.07171, 0.01204, 0.00914, ...</td>\n",
       "      <td>[5016660, 3532200, 3258420, 2427360, 1627620, ...</td>\n",
       "      <td>2.476624</td>\n",
       "    </tr>\n",
       "    <tr>\n",
       "      <th>130</th>\n",
       "      <td>500</td>\n",
       "      <td>4.0</td>\n",
       "      <td>1.50</td>\n",
       "      <td>[0, 0, 0, 0, 0, 0, 0, 0, 0, 0, 0, 0, 0, 0, 0, ...</td>\n",
       "      <td>[0.01816, -0.00431, 0.06933, 0.01843, 0.01156,...</td>\n",
       "      <td>[5011980, 3413340, 3206160, 1941480, 1621500, ...</td>\n",
       "      <td>2.396464</td>\n",
       "    </tr>\n",
       "    <tr>\n",
       "      <th>129</th>\n",
       "      <td>500</td>\n",
       "      <td>4.0</td>\n",
       "      <td>1.25</td>\n",
       "      <td>[0, 0, 0, 0, 0, 0, 0, 0, 0, 0, 0, 0, 0, 0, 0, ...</td>\n",
       "      <td>[0.0288, -0.00431, 0.06933, 0.01905, 0.01192, ...</td>\n",
       "      <td>[5012580, 3699000, 3206880, 2055000, 1475340, ...</td>\n",
       "      <td>2.314567</td>\n",
       "    </tr>\n",
       "  </tbody>\n",
       "</table>\n",
       "</div>"
      ],
      "text/plain": [
       "     lookback  thres  sell_thres  \\\n",
       "123       500    4.0       -0.25   \n",
       "122       500    4.0       -0.50   \n",
       "124       500    4.0        0.00   \n",
       "131       500    4.0        2.00   \n",
       "126       500    4.0        0.50   \n",
       "128       500    4.0        1.00   \n",
       "125       500    4.0        0.25   \n",
       "127       500    4.0        0.75   \n",
       "130       500    4.0        1.50   \n",
       "129       500    4.0        1.25   \n",
       "\n",
       "                                                 cusum  \\\n",
       "123  [0, 0, 0, 0, 0, 0, 0, 0, 0, 0, 0, 0, 0, 0, 0, ...   \n",
       "122  [0, 0, 0, 0, 0, 0, 0, 0, 0, 0, 0, 0, 0, 0, 0, ...   \n",
       "124  [0, 0, 0, 0, 0, 0, 0, 0, 0, 0, 0, 0, 0, 0, 0, ...   \n",
       "131  [0, 0, 0, 0, 0, 0, 0, 0, 0, 0, 0, 0, 0, 0, 0, ...   \n",
       "126  [0, 0, 0, 0, 0, 0, 0, 0, 0, 0, 0, 0, 0, 0, 0, ...   \n",
       "128  [0, 0, 0, 0, 0, 0, 0, 0, 0, 0, 0, 0, 0, 0, 0, ...   \n",
       "125  [0, 0, 0, 0, 0, 0, 0, 0, 0, 0, 0, 0, 0, 0, 0, ...   \n",
       "127  [0, 0, 0, 0, 0, 0, 0, 0, 0, 0, 0, 0, 0, 0, 0, ...   \n",
       "130  [0, 0, 0, 0, 0, 0, 0, 0, 0, 0, 0, 0, 0, 0, 0, ...   \n",
       "129  [0, 0, 0, 0, 0, 0, 0, 0, 0, 0, 0, 0, 0, 0, 0, ...   \n",
       "\n",
       "                                               returns  \\\n",
       "123  [0.0254, 0.0205, 0.0416, -0.00819, -0.0051, 0....   \n",
       "122  [0.0254, 0.0205, 0.0416, -0.00667, 0.02131, 0....   \n",
       "124  [0.02628, 0.01683, 0.03474, 0.01204, 0.00636, ...   \n",
       "131  [-0.00012, 0.07744, 0.02643, -0.01771, -0.0351...   \n",
       "126  [0.02123, 0.02876, 0.06433, 0.01204, 0.0027, 0...   \n",
       "128  [0.02597, -0.00431, 0.06501, 0.01905, 0.01325,...   \n",
       "125  [0.02628, 0.02572, 0.06433, 0.01204, 0.01173, ...   \n",
       "127  [0.02123, 0.03326, 0.07171, 0.01204, 0.00914, ...   \n",
       "130  [0.01816, -0.00431, 0.06933, 0.01843, 0.01156,...   \n",
       "129  [0.0288, -0.00431, 0.06933, 0.01905, 0.01192, ...   \n",
       "\n",
       "                                             drawdowns    sharpe  \n",
       "123  [4414620, 4347480, 3815460, 3507000, 2350260, ...  3.626867  \n",
       "122  [5004000, 3520920, 2825820, 2364540, 1944480, ...  3.492299  \n",
       "124  [3006720, 2840400, 2679780, 2128200, 1884000, ...  3.128669  \n",
       "131  [5733480, 4752120, 3348240, 2321700, 1187760, ...  2.755810  \n",
       "126  [5040720, 4068300, 3928680, 3258240, 2274300, ...  2.717855  \n",
       "128  [5013600, 3726360, 2054940, 1613880, 1565040, ...  2.676724  \n",
       "125  [5040840, 3943860, 3649380, 2428320, 2402100, ...  2.508247  \n",
       "127  [5016660, 3532200, 3258420, 2427360, 1627620, ...  2.476624  \n",
       "130  [5011980, 3413340, 3206160, 1941480, 1621500, ...  2.396464  \n",
       "129  [5012580, 3699000, 3206880, 2055000, 1475340, ...  2.314567  "
      ]
     },
     "execution_count": 79,
     "metadata": {},
     "output_type": "execute_result"
    }
   ],
   "source": [
    "d3"
   ]
  },
  {
   "cell_type": "markdown",
   "id": "435e0b1e",
   "metadata": {
    "heading_collapsed": true
   },
   "source": [
    "### Anything Else"
   ]
  },
  {
   "cell_type": "markdown",
   "id": "94d8daed",
   "metadata": {
    "hidden": true
   },
   "source": [
    "(Basically like the sharpe ratio, but using params other than returns)"
   ]
  },
  {
   "cell_type": "code",
   "execution_count": 27,
   "id": "1328bdc2",
   "metadata": {
    "hidden": true
   },
   "outputs": [
    {
     "name": "stdout",
     "output_type": "stream",
     "text": [
      "Average Daily Returns = 0.027455\n"
     ]
    }
   ],
   "source": [
    "# list to base std off of (ex. for avg daily return, would be list of daily returns.\n",
    "# for max drawdown length, would be list of drawdown lengths)\n",
    "raw_value_list = ret\n",
    "\n",
    "#the raw value of the t-stat to test\n",
    "raw_value = np.nanmean(ret)\n",
    "\n",
    "#the null hypothesis value\n",
    "null_hypothesis = 0 \n",
    "\n",
    "print('Average Daily Returns = %f' % raw_value)"
   ]
  },
  {
   "cell_type": "code",
   "execution_count": 29,
   "id": "e3829509",
   "metadata": {
    "hidden": true,
    "scrolled": true
   },
   "outputs": [
    {
     "name": "stdout",
     "output_type": "stream",
     "text": [
      "0.4123370454656365\n"
     ]
    }
   ],
   "source": [
    "t_stat = (raw_value - null_hypothesis) / np.nanstd(raw_value_list)\n",
    "print(t_stat)"
   ]
  },
  {
   "cell_type": "code",
   "execution_count": 37,
   "id": "dac1c813",
   "metadata": {
    "hidden": true,
    "scrolled": true
   },
   "outputs": [
    {
     "data": {
      "text/plain": [
       "0.3400461996725078"
      ]
     },
     "execution_count": 37,
     "metadata": {},
     "output_type": "execute_result"
    }
   ],
   "source": [
    "1 - st.norm.cdf(t_stat)"
   ]
  },
  {
   "cell_type": "code",
   "execution_count": 34,
   "id": "07f66aa4",
   "metadata": {
    "hidden": true
   },
   "outputs": [
    {
     "data": {
      "text/plain": [
       "0.3400461996725078"
      ]
     },
     "execution_count": 34,
     "metadata": {},
     "output_type": "execute_result"
    }
   ],
   "source": [
    "st.norm.sf(abs(t_stat))"
   ]
  },
  {
   "cell_type": "code",
   "execution_count": 32,
   "id": "1cce12fe",
   "metadata": {
    "hidden": true
   },
   "outputs": [
    {
     "name": "stdout",
     "output_type": "stream",
     "text": [
      "1.2823987214609247\n",
      "1.6463788172854639\n",
      "2.3300826747555097\n",
      "3.0984021639128754\n"
     ]
    }
   ],
   "source": [
    "# Finding Critical Values\n",
    "# dof (degrees of freedom) is pretty much just a fancy way of saying n-1, (n=number of values in distribution)\n",
    "# theoretically infinite, since we are using a hypothetical gaussian distribution\n",
    "dof = 1000\n",
    "\n",
    "print(st.t.ppf(q=1-(0.1),df=dof))\n",
    "print(st.t.ppf(q=1-(0.05),df=dof))\n",
    "print(st.t.ppf(q=1-(0.01),df=dof))\n",
    "print(st.t.ppf(q=1-(0.001),df=dof))\n"
   ]
  },
  {
   "cell_type": "markdown",
   "id": "df74a35c",
   "metadata": {
    "heading_collapsed": true
   },
   "source": [
    "## Monte Carlo"
   ]
  },
  {
   "cell_type": "markdown",
   "id": "6111e4b4",
   "metadata": {
    "hidden": true
   },
   "source": [
    "### Monte Carlo Returns"
   ]
  },
  {
   "cell_type": "code",
   "execution_count": null,
   "id": "827b7dd6",
   "metadata": {
    "hidden": true
   },
   "outputs": [],
   "source": [
    "# The metric to use to measure the input data\n",
    "# for \"predict the market\" strategies, can be close price or market returns\n",
    "# can use z-score for this strategy\n",
    "zscore_metric = spread.zscore\n",
    "\n",
    "#daily returns of strategy\n",
    "#ret"
   ]
  },
  {
   "cell_type": "code",
   "execution_count": null,
   "id": "8dfde8c9",
   "metadata": {
    "hidden": true
   },
   "outputs": [],
   "source": [
    "skew_, loc_, scale_ = st.pearson3.fit(zscore_metric)\n",
    "num_better_samples = 0"
   ]
  },
  {
   "cell_type": "code",
   "execution_count": 42,
   "id": "76940178",
   "metadata": {
    "hidden": true
   },
   "outputs": [
    {
     "name": "stderr",
     "output_type": "stream",
     "text": [
      "  0%|          | 0/10000 [00:00<?, ?it/s]\n"
     ]
    },
    {
     "ename": "NameError",
     "evalue": "name 'skew_' is not defined",
     "output_type": "error",
     "traceback": [
      "\u001b[0;31m---------------------------------------------------------------------------\u001b[0m",
      "\u001b[0;31mNameError\u001b[0m                                 Traceback (most recent call last)",
      "\u001b[0;32m<ipython-input-42-87dcb25b34c9>\u001b[0m in \u001b[0;36m<module>\u001b[0;34m\u001b[0m\n\u001b[1;32m      3\u001b[0m \u001b[0;34m\u001b[0m\u001b[0m\n\u001b[1;32m      4\u001b[0m \u001b[0;32mfor\u001b[0m \u001b[0msample\u001b[0m \u001b[0;32min\u001b[0m \u001b[0mtqdm\u001b[0m\u001b[0;34m(\u001b[0m\u001b[0mrange\u001b[0m\u001b[0;34m(\u001b[0m\u001b[0msample_size\u001b[0m\u001b[0;34m)\u001b[0m\u001b[0;34m)\u001b[0m\u001b[0;34m:\u001b[0m\u001b[0;34m\u001b[0m\u001b[0;34m\u001b[0m\u001b[0m\n\u001b[0;32m----> 5\u001b[0;31m     \u001b[0mzscore_sim\u001b[0m \u001b[0;34m=\u001b[0m \u001b[0mst\u001b[0m\u001b[0;34m.\u001b[0m\u001b[0mpearson3\u001b[0m\u001b[0;34m.\u001b[0m\u001b[0mrvs\u001b[0m\u001b[0;34m(\u001b[0m\u001b[0mskew\u001b[0m\u001b[0;34m=\u001b[0m\u001b[0mskew_\u001b[0m\u001b[0;34m,\u001b[0m \u001b[0mloc\u001b[0m\u001b[0;34m=\u001b[0m\u001b[0mloc_\u001b[0m\u001b[0;34m,\u001b[0m \u001b[0mscale\u001b[0m\u001b[0;34m=\u001b[0m\u001b[0mscale_\u001b[0m\u001b[0;34m,\u001b[0m \u001b[0msize\u001b[0m\u001b[0;34m=\u001b[0m\u001b[0mzscore_metric\u001b[0m\u001b[0;34m.\u001b[0m\u001b[0mshape\u001b[0m\u001b[0;34m[\u001b[0m\u001b[0;36m0\u001b[0m\u001b[0;34m]\u001b[0m\u001b[0;34m,\u001b[0m \u001b[0mrandom_state\u001b[0m\u001b[0;34m=\u001b[0m\u001b[0msample\u001b[0m\u001b[0;34m)\u001b[0m\u001b[0;34m\u001b[0m\u001b[0;34m\u001b[0m\u001b[0m\n\u001b[0m\u001b[1;32m      6\u001b[0m \u001b[0;34m\u001b[0m\u001b[0m\n\u001b[1;32m      7\u001b[0m     \u001b[0mspread_sim\u001b[0m \u001b[0;34m=\u001b[0m \u001b[0mspread\u001b[0m\u001b[0;34m\u001b[0m\u001b[0;34m\u001b[0m\u001b[0m\n",
      "\u001b[0;31mNameError\u001b[0m: name 'skew_' is not defined"
     ]
    }
   ],
   "source": [
    "sample_size = 10000\n",
    "ret_sims = []\n",
    "\n",
    "for sample in tqdm(range(sample_size)):\n",
    "    zscore_sim = st.pearson3.rvs(skew=skew_, loc=loc_, scale=scale_, size=zscore_metric.shape[0], random_state=sample)\n",
    "    \n",
    "    spread_sim = spread\n",
    "    spread_sim['zscore'] = zscore_sim\n",
    "    \n",
    "    _, _, _, _, ret_sim, _ = run_backtest(spread_sim, 2.0, 0.)[0]\n",
    "    ret_sims.append(ret_sim)\n",
    "    \n",
    "    if (np.mean(ret_sim) >= np.mean(ret)):\n",
    "        num_better_samples += 1\n",
    "            \n",
    "print(\"Randomized zscore: p-value = %f\" % (num_better_samples / sample_size))"
   ]
  },
  {
   "cell_type": "markdown",
   "id": "3c74b9da",
   "metadata": {
    "heading_collapsed": true
   },
   "source": [
    "## Randomized Entry Test"
   ]
  },
  {
   "cell_type": "markdown",
   "id": "d2d21fa5",
   "metadata": {
    "hidden": true
   },
   "source": [
    "### Randomized Entry Returns"
   ]
  },
  {
   "cell_type": "code",
   "execution_count": null,
   "id": "e10ac0b9",
   "metadata": {
    "hidden": true
   },
   "outputs": [],
   "source": [
    "num_better_samples = 0"
   ]
  },
  {
   "cell_type": "code",
   "execution_count": null,
   "id": "74fac295",
   "metadata": {
    "hidden": true
   },
   "outputs": [],
   "source": [
    "sample_size = 10000\n",
    "ret_sims = []\n",
    "\n",
    "for sample in tqdm(range(sample_size)):\n",
    "    long_a_sim = long_a.shuffle()\n",
    "    long_b_sim = long_b.shuffle() \n",
    "    \n",
    "    ret_sim = run_fake_backtest(spread, long_a_sim, long_b_sim, 1.5, 5)[0]\n",
    "    ret_sims.append(ret_sim)\n",
    "    \n",
    "    if (np.mean(ret_sim) >= np.mean(ret)):\n",
    "        num_better_samples += 1\n",
    "\n",
    "print(\"Randomized Entry: p-value = %f\" % (num_better_samples / sample_size))"
   ]
  },
  {
   "cell_type": "code",
   "execution_count": null,
   "id": "b48726d8",
   "metadata": {
    "hidden": true
   },
   "outputs": [],
   "source": [
    "def get_a_b(al, ac, ah, bl, bc, bh):\n",
    "    return ac-abs(ac-al)/2, ac+abs(ac-ah)/2, bc-abs(bc-bl)/2, bc+abs(bc-bh)/2\n",
    "\n",
    "def run_fake_backtest(spread, long_a_sim, long_b_sim, thres, sell_thres, fee=0.002, interest=0.002):\n",
    "    total, p_total = 0, 0 #Previous total\n",
    "    cusum, returns = [], []\n",
    "    price_a, price_b, long = None, None, None #Values: None, \"A\", \"B\"\n",
    "    long_a, long_b, liquidate,  dd_indices= [], [], [], [] #Drawdown indicies\n",
    "    dd_i = True\n",
    "    \n",
    "    for i in range(spread.shape[0]):\n",
    "        al, ah, bl, bh = get_a_b(spread.Al[i], spread.A[i], spread.Ah[i], spread.Bl[i], spread.B[i], spread.Bh[i])\n",
    "        \n",
    "        if i in long_a_sim: # Looking to buy\n",
    "            price_a = ah\n",
    "            price_b = bl\n",
    "            long = \"A\"\n",
    "            long_a.append(spread.index[i])\n",
    "            \n",
    "        elif i in long_b_sim:\n",
    "            price_a = al\n",
    "            price_b = bh\n",
    "            long = \"B\"\n",
    "            long_b.append(spread.index[i])\n",
    "            \n",
    "        elif (long == \"A\" and (i in long_b_sim)) or (long == \"B\" and (i in long_a_sim)): #Liquidate positions\n",
    "            al, ah, bl, bh = get_a_b(spread.Al[i], spread.A[i], spread.Ah[i], spread.Bl[i], spread.B[i], spread.Bh[i])\n",
    "            gain = 0\n",
    "            if long==\"A\":\n",
    "                gain = liquidate_assets(price_b, bh, al, price_a, fee, long_a[-1], spread.index[i], interest)\n",
    "            else:\n",
    "                gain = liquidate_assets(price_a, ah, bl, price_b, fee, long_b[-1], spread.index[i], interest)\n",
    "            returns.append(gain)\n",
    "            total += gain\n",
    "            price_a, price_b, long = None, None, None\n",
    "            liquidate.append(spread.index[i])\n",
    "        cusum.append(total)\n",
    "        \n",
    "\n",
    "        if total < p_total:\n",
    "            if dd_i:\n",
    "                dd_indices.append(spread.index[i])\n",
    "                dd_i = False\n",
    "        else:\n",
    "            if not dd_i:\n",
    "                dd_indices.append(spread.index[i])\n",
    "                dd_i = True\n",
    "            p_total = total\n",
    "    if total < p_total:\n",
    "        dd_indices.append(spread.index[i])\n",
    "    drawdowns = get_drawdowns(dd_indices)\n",
    "    return long_a, long_b, liquidate, cusum, returns, drawdowns\n",
    "        \n",
    "def liquidate_assets(x1, x2, y1, y2, fee, d1, d2, interest):\n",
    "    interest = ((d2-d1).days + 1) * interest\n",
    "    total = (x1 - x2)/x1 - 2*fee - interest\n",
    "    total += (y1 - y2)/y1 - 2*fee - interest\n",
    "    return total\n",
    "\n",
    "def get_drawdowns(dd_indices):\n",
    "    a = dd_indices[1::2]\n",
    "    b = dd_indices[::2]\n",
    "    a = np.array(a)\n",
    "    b = np.array(b[:len(a)])\n",
    "    c = a-b\n",
    "    c.sort()\n",
    "    return c[::-1]"
   ]
  }
 ],
 "metadata": {
  "kernelspec": {
   "display_name": "Python 3",
   "language": "python",
   "name": "python3"
  },
  "language_info": {
   "codemirror_mode": {
    "name": "ipython",
    "version": 3
   },
   "file_extension": ".py",
   "mimetype": "text/x-python",
   "name": "python",
   "nbconvert_exporter": "python",
   "pygments_lexer": "ipython3",
   "version": "3.8.8"
  },
  "toc": {
   "base_numbering": 1,
   "nav_menu": {},
   "number_sections": true,
   "sideBar": true,
   "skip_h1_title": false,
   "title_cell": "Table of Contents",
   "title_sidebar": "Contents",
   "toc_cell": false,
   "toc_position": {},
   "toc_section_display": true,
   "toc_window_display": false
  },
  "varInspector": {
   "cols": {
    "lenName": 16,
    "lenType": 16,
    "lenVar": 40
   },
   "kernels_config": {
    "python": {
     "delete_cmd_postfix": "",
     "delete_cmd_prefix": "del ",
     "library": "var_list.py",
     "varRefreshCmd": "print(var_dic_list())"
    },
    "r": {
     "delete_cmd_postfix": ") ",
     "delete_cmd_prefix": "rm(",
     "library": "var_list.r",
     "varRefreshCmd": "cat(var_dic_list()) "
    }
   },
   "types_to_exclude": [
    "module",
    "function",
    "builtin_function_or_method",
    "instance",
    "_Feature"
   ],
   "window_display": false
  }
 },
 "nbformat": 4,
 "nbformat_minor": 5
}
