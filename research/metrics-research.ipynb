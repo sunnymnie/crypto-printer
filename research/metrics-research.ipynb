{
 "cells": [
  {
   "cell_type": "markdown",
   "id": "f07f5d2a",
   "metadata": {},
   "source": [
    "# Metrics Research"
   ]
  },
  {
   "cell_type": "markdown",
   "id": "4f619e71",
   "metadata": {},
   "source": [
    "## Hypothesis Testing"
   ]
  },
  {
   "cell_type": "markdown",
   "id": "e1a32a46",
   "metadata": {},
   "source": [
    "The general framework of hypothesis testing as applied to backtesting follows these steps:\n",
    "\n",
    "1. Based on a backtest on some finite sample of data, we compute a certain statistical measure called the **test statistic**.\n",
    "\n",
    "\n",
    "2. We suppose that t-statistic based on an infinite data set is actually zero.This supposition is called the null hypothesis.\n",
    "\n",
    "\n",
    "3. We suppose that the probability distribution of daily returns is known. This probability distribution has a zero mean, based on the null hypothesis. We describe later how we determine this probability distribution.\n",
    "\n",
    "\n",
    "4. Based on this null hypothesis probability distribution, we compute the probability p that the t-statistic will be at least as extreme (allowing for the possibility of a negative test statistic). This probability p is called the **p-value**, and if it is very small (let’s say smaller than 0.01), that means we can “reject the null hypothesis,” and conclude that the backtested average daily return is statistically significant."
   ]
  },
  {
   "cell_type": "markdown",
   "id": "c50ba1df",
   "metadata": {},
   "source": [
    "## Determining the Probability Distribution Under Null Hypothesis"
   ]
  },
  {
   "cell_type": "markdown",
   "id": "bbf99282",
   "metadata": {},
   "source": [
    "### Gaussian Distribution"
   ]
  },
  {
   "cell_type": "markdown",
   "id": "6854a86f",
   "metadata": {},
   "source": [
    "Suppose that the daily returns follow a Gaussian distribution, with a mean of zero and a standard deviation given by the sample standard deviation of the t-statistic. \n",
    "\n",
    "\n",
    "If we do this, it is clear that if the backtest has a high Sharpe ratio, it would be very easy for us to reject the null hypothesis. This is because the standard test statistic for a Gaussian distribution is none other than the average divided by the standard deviation and multiplied by the square root of the number of data points \n",
    "\n",
    "(basically fancy way of saying the sharpe ratio lmao)"
   ]
  },
  {
   "cell_type": "markdown",
   "id": "6504915d",
   "metadata": {},
   "source": [
    "| p-value         | 0.1   | 0.05  | 0.01  | 0.001 |\n",
    "|-----------------|-------|-------|-------|-------|\n",
    "| Critical Values | 1.282 | 1.645 | 2.326 | 3.091 |"
   ]
  },
  {
   "cell_type": "markdown",
   "id": "528b48a2",
   "metadata": {},
   "source": [
    "### Monte Carlo Simulation"
   ]
  },
  {
   "cell_type": "markdown",
   "id": "2a018dcc",
   "metadata": {},
   "source": [
    "Another method is to use Monte Carlo methods to generate simulated historical price data and feed these simulated data into our strategy to determine the empirical probability distribution of profits.\n",
    "\n",
    "\n",
    "Our belief is that the profitability of the trading strategy captured some subtle patterns or correlations of the price series, and not just because of the first few moments of the price distributions.\n",
    "\n",
    "\n",
    "So if we generate many simulated price series with the same first moments and the same length as the actual price data, and run the trading strategy over all these simulated price series, we can find out in what fraction p of these price series are the average returns greater than or equal to the backtest return."
   ]
  },
  {
   "cell_type": "markdown",
   "id": "f2f50c6a",
   "metadata": {},
   "source": [
    "### Simulated Trades Method"
   ]
  },
  {
   "cell_type": "markdown",
   "id": "d7e4b3c0",
   "metadata": {},
   "source": [
    "In this method, instead of generating simulated price data, we generate sets of simulated trades, with the constraint that the number of long and short entry trades is the same as in the backtest, and with the same average holding period for the trades. \n",
    "\n",
    "These trades are distributed randomly over the actual historical price series. We then measure what fraction of such sets of trades has average return greater than or equal to the backtest average return."
   ]
  },
  {
   "cell_type": "markdown",
   "id": "66e3ba44",
   "metadata": {},
   "source": [
    "## Options for T-Statistic"
   ]
  },
  {
   "cell_type": "markdown",
   "id": "93b6be62",
   "metadata": {},
   "source": [
    "- Returns\n",
    "    - Cumulative Returns\n",
    "    - Average Daily Returns\n",
    "    \n",
    "    \n",
    "- Drawdown\n",
    "    - Maximum Drawdown Length\n",
    "    - Number of Drawdowns > 1 Week\n",
    "\n",
    "\n",
    "- Losses\n",
    "    - Number of 15% Losses\n",
    "    - Biggest Loss\n",
    "    \n",
    "**OR Some Combination of the Above.**"
   ]
  },
  {
   "cell_type": "markdown",
   "id": "4d2c7de8",
   "metadata": {},
   "source": [
    "# Hypothesis Tests"
   ]
  },
  {
   "cell_type": "code",
   "execution_count": 41,
   "id": "13c9ccc8",
   "metadata": {},
   "outputs": [],
   "source": [
    "import numpy as np\n",
    "import pandas as pd\n",
    "import scipy.stats as st\n",
    "import math\n",
    "from tqdm import tqdm"
   ]
  },
  {
   "cell_type": "code",
   "execution_count": 167,
   "id": "a40e85af",
   "metadata": {},
   "outputs": [],
   "source": [
    "import matplotlib.pyplot as plt"
   ]
  },
  {
   "cell_type": "markdown",
   "id": "3b9f0af6",
   "metadata": {},
   "source": [
    "## Gaussian"
   ]
  },
  {
   "cell_type": "markdown",
   "id": "0d582cfb",
   "metadata": {},
   "source": [
    "### Average Daily Returns"
   ]
  },
  {
   "cell_type": "code",
   "execution_count": 56,
   "id": "a7129229",
   "metadata": {},
   "outputs": [],
   "source": [
    "daily_returns = pd.read_csv('../data/returnss2.csv')"
   ]
  },
  {
   "cell_type": "code",
   "execution_count": 39,
   "id": "bece45dd",
   "metadata": {},
   "outputs": [],
   "source": [
    "ret = daily_returns['0'].to_list()"
   ]
  },
  {
   "cell_type": "code",
   "execution_count": 40,
   "id": "c91f6b19",
   "metadata": {},
   "outputs": [
    {
     "name": "stdout",
     "output_type": "stream",
     "text": [
      "Gaussian Test statistic = 4.707045\n"
     ]
    }
   ],
   "source": [
    "# we multiply by the sqrt(len(ret)) to \"annualize\" the sharpe ratio based on big brain maths\n",
    "sharpe = np.sqrt(len(ret)) * np.nanmean(ret) / np.nanstd(ret)\n",
    "print(\"Gaussian Test statistic = %f\" % sharpe)"
   ]
  },
  {
   "cell_type": "markdown",
   "id": "a5e26f8e",
   "metadata": {},
   "source": [
    "| p-value         | 0.1   | 0.05  | 0.01  | 0.001 |\n",
    "|-----------------|-------|-------|-------|-------|\n",
    "| Critical Values | 1.282 | 1.645 | 2.326 | 3.091 |"
   ]
  },
  {
   "cell_type": "code",
   "execution_count": 116,
   "id": "1e142440",
   "metadata": {},
   "outputs": [],
   "source": [
    "df1 = pd.read_csv('../data/fet-celr-500.csv')"
   ]
  },
  {
   "cell_type": "code",
   "execution_count": 109,
   "id": "fba13d51",
   "metadata": {},
   "outputs": [],
   "source": [
    "df2 = pd.read_csv('../data/fet-celr-1000.csv')\n",
    "df3 = pd.read_csv('../data/fet-celr-1500.csv')\n",
    "df4 = pd.read_csv('../data/fet-celr-2000.csv')\n",
    "df5 = pd.read_csv('../data/fet-celr-3000.csv')\n",
    "df6 = pd.read_csv('../data/fet-celr-4000.csv')\n",
    "df7 = pd.read_csv('../data/fet-celr-5000.csv')"
   ]
  },
  {
   "cell_type": "code",
   "execution_count": 117,
   "id": "16cc2441",
   "metadata": {},
   "outputs": [],
   "source": [
    "bigdf = pd.concat([df1, df2, df3, df4, df5, df6, df7])"
   ]
  },
  {
   "cell_type": "code",
   "execution_count": 118,
   "id": "0dc070dc",
   "metadata": {
    "scrolled": true
   },
   "outputs": [
    {
     "data": {
      "text/html": [
       "<div>\n",
       "<style scoped>\n",
       "    .dataframe tbody tr th:only-of-type {\n",
       "        vertical-align: middle;\n",
       "    }\n",
       "\n",
       "    .dataframe tbody tr th {\n",
       "        vertical-align: top;\n",
       "    }\n",
       "\n",
       "    .dataframe thead th {\n",
       "        text-align: right;\n",
       "    }\n",
       "</style>\n",
       "<table border=\"1\" class=\"dataframe\">\n",
       "  <thead>\n",
       "    <tr style=\"text-align: right;\">\n",
       "      <th></th>\n",
       "      <th>lookback</th>\n",
       "      <th>thres</th>\n",
       "      <th>sell_thres</th>\n",
       "      <th>cusum</th>\n",
       "      <th>returns</th>\n",
       "      <th>drawdowns</th>\n",
       "    </tr>\n",
       "  </thead>\n",
       "  <tbody>\n",
       "    <tr>\n",
       "      <th>0</th>\n",
       "      <td>500</td>\n",
       "      <td>0.5</td>\n",
       "      <td>-0.25</td>\n",
       "      <td>[0, 0, 0, 0, 0, 0, 0, 0, 0, 0, 0, 0, 0, 0, 0, ...</td>\n",
       "      <td>[-0.03508, -0.02851, 0.01315, 0.00257, 0.00144...</td>\n",
       "      <td>[42074700]</td>\n",
       "    </tr>\n",
       "    <tr>\n",
       "      <th>1</th>\n",
       "      <td>500</td>\n",
       "      <td>0.5</td>\n",
       "      <td>0.00</td>\n",
       "      <td>[0, 0, 0, 0, 0, 0, 0, 0, 0, 0, 0, 0, 0, 0, 0, ...</td>\n",
       "      <td>[-0.01806, -0.00843, 0.01069, 0.00495, -0.0061...</td>\n",
       "      <td>[42072360]</td>\n",
       "    </tr>\n",
       "    <tr>\n",
       "      <th>2</th>\n",
       "      <td>500</td>\n",
       "      <td>0.5</td>\n",
       "      <td>0.25</td>\n",
       "      <td>[0, 0, 0, 0, 0, 0, 0, 0, 0, 0, 0, 0, 0, 0, 0, ...</td>\n",
       "      <td>[-0.01785, 0.01069, 0.00495, -0.00618, 0.00675...</td>\n",
       "      <td>[41984460, 76620, 1020]</td>\n",
       "    </tr>\n",
       "    <tr>\n",
       "      <th>3</th>\n",
       "      <td>500</td>\n",
       "      <td>0.5</td>\n",
       "      <td>0.50</td>\n",
       "      <td>[0, 0, 0, 0, 0, 0, 0, 0, 0, 0, 0, 0, 0, 0, 0, ...</td>\n",
       "      <td>[-0.02108, 0.02401, -0.0058, 0.00508, 0.00149,...</td>\n",
       "      <td>[41977980, 41280, 8820, 4080, 1980]</td>\n",
       "    </tr>\n",
       "    <tr>\n",
       "      <th>4</th>\n",
       "      <td>500</td>\n",
       "      <td>0.5</td>\n",
       "      <td>0.75</td>\n",
       "      <td>[0, 0, 0, 0, 0, 0, 0, 0, 0, 0, 0, 0, 0, 0, 0, ...</td>\n",
       "      <td>[-0.01678, 0.00274, -0.0091, 0.01447, 0.0061, ...</td>\n",
       "      <td>[40695720, 654600, 319920, 59400, 41340, 32580...</td>\n",
       "    </tr>\n",
       "    <tr>\n",
       "      <th>...</th>\n",
       "      <td>...</td>\n",
       "      <td>...</td>\n",
       "      <td>...</td>\n",
       "      <td>...</td>\n",
       "      <td>...</td>\n",
       "      <td>...</td>\n",
       "    </tr>\n",
       "    <tr>\n",
       "      <th>129</th>\n",
       "      <td>5000</td>\n",
       "      <td>4.0</td>\n",
       "      <td>1.25</td>\n",
       "      <td>[0, 0, 0, 0, 0, 0, 0, 0, 0, 0, 0, 0, 0, 0, 0, ...</td>\n",
       "      <td>[0.05583, 0.04841, 0.04287, 0.01604, 0.03829, ...</td>\n",
       "      <td>[16002420, 4818840, 1910100, 592140, 232620]</td>\n",
       "    </tr>\n",
       "    <tr>\n",
       "      <th>130</th>\n",
       "      <td>5000</td>\n",
       "      <td>4.0</td>\n",
       "      <td>1.50</td>\n",
       "      <td>[0, 0, 0, 0, 0, 0, 0, 0, 0, 0, 0, 0, 0, 0, 0, ...</td>\n",
       "      <td>[0.05583, 0.05513, 0.04532, 0.01011, 0.00655, ...</td>\n",
       "      <td>[11273220, 4808220, 972000, 827880, 661320, 59...</td>\n",
       "    </tr>\n",
       "    <tr>\n",
       "      <th>131</th>\n",
       "      <td>5000</td>\n",
       "      <td>4.0</td>\n",
       "      <td>2.00</td>\n",
       "      <td>[0, 0, 0, 0, 0, 0, 0, 0, 0, 0, 0, 0, 0, 0, 0, ...</td>\n",
       "      <td>[0.06731, 0.03438, -0.0382, 0.10206, -0.00289,...</td>\n",
       "      <td>[11181840, 4664700, 1576620, 973020, 827340, 7...</td>\n",
       "    </tr>\n",
       "    <tr>\n",
       "      <th>132</th>\n",
       "      <td>5000</td>\n",
       "      <td>4.0</td>\n",
       "      <td>2.50</td>\n",
       "      <td>[0, 0, 0, 0, 0, 0, 0, 0, 0, 0, 0, 0, 0, 0, 0, ...</td>\n",
       "      <td>[0.08525, 0.04038, -0.04072, 0.09848, 0.01749,...</td>\n",
       "      <td>[5957700, 4104900, 3802680, 3761460, 1710720, ...</td>\n",
       "    </tr>\n",
       "    <tr>\n",
       "      <th>133</th>\n",
       "      <td>5000</td>\n",
       "      <td>4.0</td>\n",
       "      <td>3.00</td>\n",
       "      <td>[0, 0, 0, 0, 0, 0, 0, 0, 0, 0, 0, 0, 0, 0, 0, ...</td>\n",
       "      <td>[0.08896, 0.08927, 0.00909, 0.09136, 0.02234, ...</td>\n",
       "      <td>[21280260, 5397540, 2309220]</td>\n",
       "    </tr>\n",
       "  </tbody>\n",
       "</table>\n",
       "<p>938 rows × 6 columns</p>\n",
       "</div>"
      ],
      "text/plain": [
       "     lookback  thres  sell_thres  \\\n",
       "0         500    0.5       -0.25   \n",
       "1         500    0.5        0.00   \n",
       "2         500    0.5        0.25   \n",
       "3         500    0.5        0.50   \n",
       "4         500    0.5        0.75   \n",
       "..        ...    ...         ...   \n",
       "129      5000    4.0        1.25   \n",
       "130      5000    4.0        1.50   \n",
       "131      5000    4.0        2.00   \n",
       "132      5000    4.0        2.50   \n",
       "133      5000    4.0        3.00   \n",
       "\n",
       "                                                 cusum  \\\n",
       "0    [0, 0, 0, 0, 0, 0, 0, 0, 0, 0, 0, 0, 0, 0, 0, ...   \n",
       "1    [0, 0, 0, 0, 0, 0, 0, 0, 0, 0, 0, 0, 0, 0, 0, ...   \n",
       "2    [0, 0, 0, 0, 0, 0, 0, 0, 0, 0, 0, 0, 0, 0, 0, ...   \n",
       "3    [0, 0, 0, 0, 0, 0, 0, 0, 0, 0, 0, 0, 0, 0, 0, ...   \n",
       "4    [0, 0, 0, 0, 0, 0, 0, 0, 0, 0, 0, 0, 0, 0, 0, ...   \n",
       "..                                                 ...   \n",
       "129  [0, 0, 0, 0, 0, 0, 0, 0, 0, 0, 0, 0, 0, 0, 0, ...   \n",
       "130  [0, 0, 0, 0, 0, 0, 0, 0, 0, 0, 0, 0, 0, 0, 0, ...   \n",
       "131  [0, 0, 0, 0, 0, 0, 0, 0, 0, 0, 0, 0, 0, 0, 0, ...   \n",
       "132  [0, 0, 0, 0, 0, 0, 0, 0, 0, 0, 0, 0, 0, 0, 0, ...   \n",
       "133  [0, 0, 0, 0, 0, 0, 0, 0, 0, 0, 0, 0, 0, 0, 0, ...   \n",
       "\n",
       "                                               returns  \\\n",
       "0    [-0.03508, -0.02851, 0.01315, 0.00257, 0.00144...   \n",
       "1    [-0.01806, -0.00843, 0.01069, 0.00495, -0.0061...   \n",
       "2    [-0.01785, 0.01069, 0.00495, -0.00618, 0.00675...   \n",
       "3    [-0.02108, 0.02401, -0.0058, 0.00508, 0.00149,...   \n",
       "4    [-0.01678, 0.00274, -0.0091, 0.01447, 0.0061, ...   \n",
       "..                                                 ...   \n",
       "129  [0.05583, 0.04841, 0.04287, 0.01604, 0.03829, ...   \n",
       "130  [0.05583, 0.05513, 0.04532, 0.01011, 0.00655, ...   \n",
       "131  [0.06731, 0.03438, -0.0382, 0.10206, -0.00289,...   \n",
       "132  [0.08525, 0.04038, -0.04072, 0.09848, 0.01749,...   \n",
       "133  [0.08896, 0.08927, 0.00909, 0.09136, 0.02234, ...   \n",
       "\n",
       "                                             drawdowns  \n",
       "0                                           [42074700]  \n",
       "1                                           [42072360]  \n",
       "2                              [41984460, 76620, 1020]  \n",
       "3                  [41977980, 41280, 8820, 4080, 1980]  \n",
       "4    [40695720, 654600, 319920, 59400, 41340, 32580...  \n",
       "..                                                 ...  \n",
       "129       [16002420, 4818840, 1910100, 592140, 232620]  \n",
       "130  [11273220, 4808220, 972000, 827880, 661320, 59...  \n",
       "131  [11181840, 4664700, 1576620, 973020, 827340, 7...  \n",
       "132  [5957700, 4104900, 3802680, 3761460, 1710720, ...  \n",
       "133                       [21280260, 5397540, 2309220]  \n",
       "\n",
       "[938 rows x 6 columns]"
      ]
     },
     "execution_count": 118,
     "metadata": {},
     "output_type": "execute_result"
    }
   ],
   "source": [
    "bigdf"
   ]
  },
  {
   "cell_type": "code",
   "execution_count": 115,
   "id": "7840d471",
   "metadata": {},
   "outputs": [
    {
     "data": {
      "text/plain": [
       "lookback      False\n",
       "thres         False\n",
       "sell_thres    False\n",
       "cusum         False\n",
       "returns       False\n",
       "drawdowns     False\n",
       "sharpe         True\n",
       "mxdd           True\n",
       "dtype: bool"
      ]
     },
     "execution_count": 115,
     "metadata": {},
     "output_type": "execute_result"
    }
   ],
   "source": [
    "bigdf.isnull().any()"
   ]
  },
  {
   "cell_type": "code",
   "execution_count": 119,
   "id": "894f70ad",
   "metadata": {},
   "outputs": [],
   "source": [
    "bigdf[\"cusum\"] = bigdf[\"cusum\"].apply(eval)\n",
    "bigdf[\"returns\"] = bigdf[\"returns\"].apply(eval)\n",
    "bigdf[\"drawdowns\"] = bigdf[\"drawdowns\"].apply(eval)"
   ]
  },
  {
   "cell_type": "code",
   "execution_count": 121,
   "id": "0bedaabc",
   "metadata": {},
   "outputs": [
    {
     "data": {
      "text/html": [
       "<div>\n",
       "<style scoped>\n",
       "    .dataframe tbody tr th:only-of-type {\n",
       "        vertical-align: middle;\n",
       "    }\n",
       "\n",
       "    .dataframe tbody tr th {\n",
       "        vertical-align: top;\n",
       "    }\n",
       "\n",
       "    .dataframe thead th {\n",
       "        text-align: right;\n",
       "    }\n",
       "</style>\n",
       "<table border=\"1\" class=\"dataframe\">\n",
       "  <thead>\n",
       "    <tr style=\"text-align: right;\">\n",
       "      <th></th>\n",
       "      <th>lookback</th>\n",
       "      <th>thres</th>\n",
       "      <th>sell_thres</th>\n",
       "      <th>cusum</th>\n",
       "      <th>returns</th>\n",
       "      <th>drawdowns</th>\n",
       "      <th>sharpe</th>\n",
       "      <th>mxdd</th>\n",
       "    </tr>\n",
       "  </thead>\n",
       "  <tbody>\n",
       "    <tr>\n",
       "      <th>0</th>\n",
       "      <td>500</td>\n",
       "      <td>0.5</td>\n",
       "      <td>-0.25</td>\n",
       "      <td>[0, 0, 0, 0, 0, 0, 0, 0, 0, 0, 0, 0, 0, 0, 0, ...</td>\n",
       "      <td>[-0.03508, -0.02851, 0.01315, 0.00257, 0.00144...</td>\n",
       "      <td>[42074700]</td>\n",
       "      <td>NaN</td>\n",
       "      <td>NaN</td>\n",
       "    </tr>\n",
       "    <tr>\n",
       "      <th>1</th>\n",
       "      <td>500</td>\n",
       "      <td>0.5</td>\n",
       "      <td>0.00</td>\n",
       "      <td>[0, 0, 0, 0, 0, 0, 0, 0, 0, 0, 0, 0, 0, 0, 0, ...</td>\n",
       "      <td>[-0.01806, -0.00843, 0.01069, 0.00495, -0.0061...</td>\n",
       "      <td>[42072360]</td>\n",
       "      <td>NaN</td>\n",
       "      <td>NaN</td>\n",
       "    </tr>\n",
       "    <tr>\n",
       "      <th>2</th>\n",
       "      <td>500</td>\n",
       "      <td>0.5</td>\n",
       "      <td>0.25</td>\n",
       "      <td>[0, 0, 0, 0, 0, 0, 0, 0, 0, 0, 0, 0, 0, 0, 0, ...</td>\n",
       "      <td>[-0.01785, 0.01069, 0.00495, -0.00618, 0.00675...</td>\n",
       "      <td>[41984460, 76620, 1020]</td>\n",
       "      <td>NaN</td>\n",
       "      <td>NaN</td>\n",
       "    </tr>\n",
       "    <tr>\n",
       "      <th>3</th>\n",
       "      <td>500</td>\n",
       "      <td>0.5</td>\n",
       "      <td>0.50</td>\n",
       "      <td>[0, 0, 0, 0, 0, 0, 0, 0, 0, 0, 0, 0, 0, 0, 0, ...</td>\n",
       "      <td>[-0.02108, 0.02401, -0.0058, 0.00508, 0.00149,...</td>\n",
       "      <td>[41977980, 41280, 8820, 4080, 1980]</td>\n",
       "      <td>NaN</td>\n",
       "      <td>NaN</td>\n",
       "    </tr>\n",
       "    <tr>\n",
       "      <th>4</th>\n",
       "      <td>500</td>\n",
       "      <td>0.5</td>\n",
       "      <td>0.75</td>\n",
       "      <td>[0, 0, 0, 0, 0, 0, 0, 0, 0, 0, 0, 0, 0, 0, 0, ...</td>\n",
       "      <td>[-0.01678, 0.00274, -0.0091, 0.01447, 0.0061, ...</td>\n",
       "      <td>[40695720, 654600, 319920, 59400, 41340, 32580...</td>\n",
       "      <td>NaN</td>\n",
       "      <td>NaN</td>\n",
       "    </tr>\n",
       "    <tr>\n",
       "      <th>...</th>\n",
       "      <td>...</td>\n",
       "      <td>...</td>\n",
       "      <td>...</td>\n",
       "      <td>...</td>\n",
       "      <td>...</td>\n",
       "      <td>...</td>\n",
       "      <td>...</td>\n",
       "      <td>...</td>\n",
       "    </tr>\n",
       "    <tr>\n",
       "      <th>129</th>\n",
       "      <td>5000</td>\n",
       "      <td>4.0</td>\n",
       "      <td>1.25</td>\n",
       "      <td>[0, 0, 0, 0, 0, 0, 0, 0, 0, 0, 0, 0, 0, 0, 0, ...</td>\n",
       "      <td>[0.05583, 0.04841, 0.04287, 0.01604, 0.03829, ...</td>\n",
       "      <td>[16002420, 4818840, 1910100, 592140, 232620]</td>\n",
       "      <td>NaN</td>\n",
       "      <td>NaN</td>\n",
       "    </tr>\n",
       "    <tr>\n",
       "      <th>130</th>\n",
       "      <td>5000</td>\n",
       "      <td>4.0</td>\n",
       "      <td>1.50</td>\n",
       "      <td>[0, 0, 0, 0, 0, 0, 0, 0, 0, 0, 0, 0, 0, 0, 0, ...</td>\n",
       "      <td>[0.05583, 0.05513, 0.04532, 0.01011, 0.00655, ...</td>\n",
       "      <td>[11273220, 4808220, 972000, 827880, 661320, 59...</td>\n",
       "      <td>NaN</td>\n",
       "      <td>NaN</td>\n",
       "    </tr>\n",
       "    <tr>\n",
       "      <th>131</th>\n",
       "      <td>5000</td>\n",
       "      <td>4.0</td>\n",
       "      <td>2.00</td>\n",
       "      <td>[0, 0, 0, 0, 0, 0, 0, 0, 0, 0, 0, 0, 0, 0, 0, ...</td>\n",
       "      <td>[0.06731, 0.03438, -0.0382, 0.10206, -0.00289,...</td>\n",
       "      <td>[11181840, 4664700, 1576620, 973020, 827340, 7...</td>\n",
       "      <td>NaN</td>\n",
       "      <td>NaN</td>\n",
       "    </tr>\n",
       "    <tr>\n",
       "      <th>132</th>\n",
       "      <td>5000</td>\n",
       "      <td>4.0</td>\n",
       "      <td>2.50</td>\n",
       "      <td>[0, 0, 0, 0, 0, 0, 0, 0, 0, 0, 0, 0, 0, 0, 0, ...</td>\n",
       "      <td>[0.08525, 0.04038, -0.04072, 0.09848, 0.01749,...</td>\n",
       "      <td>[5957700, 4104900, 3802680, 3761460, 1710720, ...</td>\n",
       "      <td>NaN</td>\n",
       "      <td>NaN</td>\n",
       "    </tr>\n",
       "    <tr>\n",
       "      <th>133</th>\n",
       "      <td>5000</td>\n",
       "      <td>4.0</td>\n",
       "      <td>3.00</td>\n",
       "      <td>[0, 0, 0, 0, 0, 0, 0, 0, 0, 0, 0, 0, 0, 0, 0, ...</td>\n",
       "      <td>[0.08896, 0.08927, 0.00909, 0.09136, 0.02234, ...</td>\n",
       "      <td>[21280260, 5397540, 2309220]</td>\n",
       "      <td>NaN</td>\n",
       "      <td>NaN</td>\n",
       "    </tr>\n",
       "  </tbody>\n",
       "</table>\n",
       "<p>938 rows × 8 columns</p>\n",
       "</div>"
      ],
      "text/plain": [
       "     lookback  thres  sell_thres  \\\n",
       "0         500    0.5       -0.25   \n",
       "1         500    0.5        0.00   \n",
       "2         500    0.5        0.25   \n",
       "3         500    0.5        0.50   \n",
       "4         500    0.5        0.75   \n",
       "..        ...    ...         ...   \n",
       "129      5000    4.0        1.25   \n",
       "130      5000    4.0        1.50   \n",
       "131      5000    4.0        2.00   \n",
       "132      5000    4.0        2.50   \n",
       "133      5000    4.0        3.00   \n",
       "\n",
       "                                                 cusum  \\\n",
       "0    [0, 0, 0, 0, 0, 0, 0, 0, 0, 0, 0, 0, 0, 0, 0, ...   \n",
       "1    [0, 0, 0, 0, 0, 0, 0, 0, 0, 0, 0, 0, 0, 0, 0, ...   \n",
       "2    [0, 0, 0, 0, 0, 0, 0, 0, 0, 0, 0, 0, 0, 0, 0, ...   \n",
       "3    [0, 0, 0, 0, 0, 0, 0, 0, 0, 0, 0, 0, 0, 0, 0, ...   \n",
       "4    [0, 0, 0, 0, 0, 0, 0, 0, 0, 0, 0, 0, 0, 0, 0, ...   \n",
       "..                                                 ...   \n",
       "129  [0, 0, 0, 0, 0, 0, 0, 0, 0, 0, 0, 0, 0, 0, 0, ...   \n",
       "130  [0, 0, 0, 0, 0, 0, 0, 0, 0, 0, 0, 0, 0, 0, 0, ...   \n",
       "131  [0, 0, 0, 0, 0, 0, 0, 0, 0, 0, 0, 0, 0, 0, 0, ...   \n",
       "132  [0, 0, 0, 0, 0, 0, 0, 0, 0, 0, 0, 0, 0, 0, 0, ...   \n",
       "133  [0, 0, 0, 0, 0, 0, 0, 0, 0, 0, 0, 0, 0, 0, 0, ...   \n",
       "\n",
       "                                               returns  \\\n",
       "0    [-0.03508, -0.02851, 0.01315, 0.00257, 0.00144...   \n",
       "1    [-0.01806, -0.00843, 0.01069, 0.00495, -0.0061...   \n",
       "2    [-0.01785, 0.01069, 0.00495, -0.00618, 0.00675...   \n",
       "3    [-0.02108, 0.02401, -0.0058, 0.00508, 0.00149,...   \n",
       "4    [-0.01678, 0.00274, -0.0091, 0.01447, 0.0061, ...   \n",
       "..                                                 ...   \n",
       "129  [0.05583, 0.04841, 0.04287, 0.01604, 0.03829, ...   \n",
       "130  [0.05583, 0.05513, 0.04532, 0.01011, 0.00655, ...   \n",
       "131  [0.06731, 0.03438, -0.0382, 0.10206, -0.00289,...   \n",
       "132  [0.08525, 0.04038, -0.04072, 0.09848, 0.01749,...   \n",
       "133  [0.08896, 0.08927, 0.00909, 0.09136, 0.02234, ...   \n",
       "\n",
       "                                             drawdowns  sharpe  mxdd  \n",
       "0                                           [42074700]     NaN   NaN  \n",
       "1                                           [42072360]     NaN   NaN  \n",
       "2                              [41984460, 76620, 1020]     NaN   NaN  \n",
       "3                  [41977980, 41280, 8820, 4080, 1980]     NaN   NaN  \n",
       "4    [40695720, 654600, 319920, 59400, 41340, 32580...     NaN   NaN  \n",
       "..                                                 ...     ...   ...  \n",
       "129       [16002420, 4818840, 1910100, 592140, 232620]     NaN   NaN  \n",
       "130  [11273220, 4808220, 972000, 827880, 661320, 59...     NaN   NaN  \n",
       "131  [11181840, 4664700, 1576620, 973020, 827340, 7...     NaN   NaN  \n",
       "132  [5957700, 4104900, 3802680, 3761460, 1710720, ...     NaN   NaN  \n",
       "133                       [21280260, 5397540, 2309220]     NaN   NaN  \n",
       "\n",
       "[938 rows x 8 columns]"
      ]
     },
     "execution_count": 121,
     "metadata": {},
     "output_type": "execute_result"
    }
   ],
   "source": [
    "bigdf"
   ]
  },
  {
   "cell_type": "code",
   "execution_count": 152,
   "id": "9defb6df",
   "metadata": {},
   "outputs": [],
   "source": [
    "bigdf = bigdf.reset_index(drop=True)"
   ]
  },
  {
   "cell_type": "code",
   "execution_count": 153,
   "id": "39553420",
   "metadata": {},
   "outputs": [],
   "source": [
    "bigdf[\"sharpe\"] = np.nan\n",
    "bigdf[\"mxdd\"] = np.nan\n",
    "\n",
    "for index, row in bigdf.iterrows():\n",
    "    r = row['returns']\n",
    "    bigdf.at[index, 'sharpe'] = np.sqrt(len(r)) * np.nanmean(r) / np.nanstd(r)\n",
    "    bigdf.at[index, 'mxdd'] = row.drawdowns[0]"
   ]
  },
  {
   "cell_type": "code",
   "execution_count": 154,
<<<<<<< Updated upstream
   "id": "ef1a8495",
   "metadata": {},
=======
   "id": "0810f0e0",
   "metadata": {
    "scrolled": false
   },
>>>>>>> Stashed changes
   "outputs": [
    {
     "data": {
      "text/plain": [
       "array([[<AxesSubplot:title={'center':'mxdd'}>]], dtype=object)"
      ]
     },
     "execution_count": 154,
     "metadata": {},
     "output_type": "execute_result"
    },
    {
     "data": {
      "image/png": "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\n",
      "text/plain": [
       "<Figure size 432x288 with 1 Axes>"
      ]
     },
     "metadata": {
      "needs_background": "light"
     },
     "output_type": "display_data"
    }
   ],
   "source": [
    "bigdf.hist('mxdd')"
   ]
  },
  {
   "cell_type": "code",
   "execution_count": 157,
   "id": "feb6c132",
   "metadata": {},
   "outputs": [],
   "source": [
    "bigdf_filtered = bigdf.loc[bigdf['mxdd'] < 3.0e7].reset_index(drop=True)"
   ]
  },
  {
   "cell_type": "code",
   "execution_count": 158,
   "id": "6a25644a",
   "metadata": {
    "scrolled": true
   },
   "outputs": [
    {
     "data": {
      "text/html": [
       "<div>\n",
       "<style scoped>\n",
       "    .dataframe tbody tr th:only-of-type {\n",
       "        vertical-align: middle;\n",
       "    }\n",
       "\n",
       "    .dataframe tbody tr th {\n",
       "        vertical-align: top;\n",
       "    }\n",
       "\n",
       "    .dataframe thead th {\n",
       "        text-align: right;\n",
       "    }\n",
       "</style>\n",
       "<table border=\"1\" class=\"dataframe\">\n",
       "  <thead>\n",
       "    <tr style=\"text-align: right;\">\n",
       "      <th></th>\n",
       "      <th>lookback</th>\n",
       "      <th>thres</th>\n",
       "      <th>sell_thres</th>\n",
       "      <th>cusum</th>\n",
       "      <th>returns</th>\n",
       "      <th>drawdowns</th>\n",
       "      <th>sharpe</th>\n",
       "      <th>mxdd</th>\n",
       "    </tr>\n",
       "  </thead>\n",
       "  <tbody>\n",
       "    <tr>\n",
       "      <th>0</th>\n",
       "      <td>500</td>\n",
       "      <td>0.50</td>\n",
       "      <td>2.00</td>\n",
       "      <td>[0, 0, 0, 0, 0, 0, 0, 0, 0, 0, 0, 0, 0, 0, 0, ...</td>\n",
       "      <td>[-0.01141, 0.03012, 0.00682, -0.00718, 0.01924...</td>\n",
       "      <td>[18868920, 10803840, 1311180, 1059660, 726600,...</td>\n",
       "      <td>-0.557500</td>\n",
       "      <td>18868920.0</td>\n",
       "    </tr>\n",
       "    <tr>\n",
       "      <th>1</th>\n",
       "      <td>500</td>\n",
       "      <td>0.50</td>\n",
       "      <td>2.50</td>\n",
       "      <td>[0, 0, 0, 0, 0, 0, 0, 0, 0, 0, 0, 0, 0, 0, 0, ...</td>\n",
       "      <td>[0.00487, 0.0499, -0.00511, -0.00477, -0.01071...</td>\n",
       "      <td>[5650980, 4584840, 3630360, 3221100, 2908200, ...</td>\n",
       "      <td>0.889260</td>\n",
       "      <td>5650980.0</td>\n",
       "    </tr>\n",
       "    <tr>\n",
       "      <th>2</th>\n",
       "      <td>500</td>\n",
       "      <td>0.50</td>\n",
       "      <td>3.00</td>\n",
       "      <td>[0, 0, 0, 0, 0, 0, 0, 0, 0, 0, 0, 0, 0, 0, 0, ...</td>\n",
       "      <td>[-0.05841, 0.01058, 0.00211, -0.01254, 0.08036...</td>\n",
       "      <td>[7575780, 7415340, 2736120, 2421840, 2352780, ...</td>\n",
       "      <td>1.256480</td>\n",
       "      <td>7575780.0</td>\n",
       "    </tr>\n",
       "    <tr>\n",
       "      <th>3</th>\n",
       "      <td>500</td>\n",
       "      <td>0.75</td>\n",
       "      <td>2.00</td>\n",
       "      <td>[0, 0, 0, 0, 0, 0, 0, 0, 0, 0, 0, 0, 0, 0, 0, ...</td>\n",
       "      <td>[-0.01141, 0.03012, 0.00682, -0.00718, 0.01924...</td>\n",
       "      <td>[18814440, 10803840, 1311180, 1059660, 726600,...</td>\n",
       "      <td>-0.501146</td>\n",
       "      <td>18814440.0</td>\n",
       "    </tr>\n",
       "    <tr>\n",
       "      <th>4</th>\n",
       "      <td>500</td>\n",
       "      <td>0.75</td>\n",
       "      <td>2.50</td>\n",
       "      <td>[0, 0, 0, 0, 0, 0, 0, 0, 0, 0, 0, 0, 0, 0, 0, ...</td>\n",
       "      <td>[0.00487, 0.0499, -0.00511, -0.00477, -0.01071...</td>\n",
       "      <td>[5650980, 4584840, 3630360, 3221100, 2908200, ...</td>\n",
       "      <td>0.889260</td>\n",
       "      <td>5650980.0</td>\n",
       "    </tr>\n",
       "    <tr>\n",
       "      <th>...</th>\n",
       "      <td>...</td>\n",
       "      <td>...</td>\n",
       "      <td>...</td>\n",
       "      <td>...</td>\n",
       "      <td>...</td>\n",
       "      <td>...</td>\n",
       "      <td>...</td>\n",
       "      <td>...</td>\n",
       "    </tr>\n",
       "    <tr>\n",
       "      <th>741</th>\n",
       "      <td>5000</td>\n",
       "      <td>4.00</td>\n",
       "      <td>1.25</td>\n",
       "      <td>[0, 0, 0, 0, 0, 0, 0, 0, 0, 0, 0, 0, 0, 0, 0, ...</td>\n",
       "      <td>[0.05583, 0.04841, 0.04287, 0.01604, 0.03829, ...</td>\n",
       "      <td>[16002420, 4818840, 1910100, 592140, 232620]</td>\n",
       "      <td>1.496790</td>\n",
       "      <td>16002420.0</td>\n",
       "    </tr>\n",
       "    <tr>\n",
       "      <th>742</th>\n",
       "      <td>5000</td>\n",
       "      <td>4.00</td>\n",
       "      <td>1.50</td>\n",
       "      <td>[0, 0, 0, 0, 0, 0, 0, 0, 0, 0, 0, 0, 0, 0, 0, ...</td>\n",
       "      <td>[0.05583, 0.05513, 0.04532, 0.01011, 0.00655, ...</td>\n",
       "      <td>[11273220, 4808220, 972000, 827880, 661320, 59...</td>\n",
       "      <td>1.346823</td>\n",
       "      <td>11273220.0</td>\n",
       "    </tr>\n",
       "    <tr>\n",
       "      <th>743</th>\n",
       "      <td>5000</td>\n",
       "      <td>4.00</td>\n",
       "      <td>2.00</td>\n",
       "      <td>[0, 0, 0, 0, 0, 0, 0, 0, 0, 0, 0, 0, 0, 0, 0, ...</td>\n",
       "      <td>[0.06731, 0.03438, -0.0382, 0.10206, -0.00289,...</td>\n",
       "      <td>[11181840, 4664700, 1576620, 973020, 827340, 7...</td>\n",
       "      <td>0.483935</td>\n",
       "      <td>11181840.0</td>\n",
       "    </tr>\n",
       "    <tr>\n",
       "      <th>744</th>\n",
       "      <td>5000</td>\n",
       "      <td>4.00</td>\n",
       "      <td>2.50</td>\n",
       "      <td>[0, 0, 0, 0, 0, 0, 0, 0, 0, 0, 0, 0, 0, 0, 0, ...</td>\n",
       "      <td>[0.08525, 0.04038, -0.04072, 0.09848, 0.01749,...</td>\n",
       "      <td>[5957700, 4104900, 3802680, 3761460, 1710720, ...</td>\n",
       "      <td>1.657184</td>\n",
       "      <td>5957700.0</td>\n",
       "    </tr>\n",
       "    <tr>\n",
       "      <th>745</th>\n",
       "      <td>5000</td>\n",
       "      <td>4.00</td>\n",
       "      <td>3.00</td>\n",
       "      <td>[0, 0, 0, 0, 0, 0, 0, 0, 0, 0, 0, 0, 0, 0, 0, ...</td>\n",
       "      <td>[0.08896, 0.08927, 0.00909, 0.09136, 0.02234, ...</td>\n",
       "      <td>[21280260, 5397540, 2309220]</td>\n",
       "      <td>0.288993</td>\n",
       "      <td>21280260.0</td>\n",
       "    </tr>\n",
       "  </tbody>\n",
       "</table>\n",
       "<p>746 rows × 8 columns</p>\n",
       "</div>"
      ],
      "text/plain": [
       "     lookback  thres  sell_thres  \\\n",
       "0         500   0.50        2.00   \n",
       "1         500   0.50        2.50   \n",
       "2         500   0.50        3.00   \n",
       "3         500   0.75        2.00   \n",
       "4         500   0.75        2.50   \n",
       "..        ...    ...         ...   \n",
       "741      5000   4.00        1.25   \n",
       "742      5000   4.00        1.50   \n",
       "743      5000   4.00        2.00   \n",
       "744      5000   4.00        2.50   \n",
       "745      5000   4.00        3.00   \n",
       "\n",
       "                                                 cusum  \\\n",
       "0    [0, 0, 0, 0, 0, 0, 0, 0, 0, 0, 0, 0, 0, 0, 0, ...   \n",
       "1    [0, 0, 0, 0, 0, 0, 0, 0, 0, 0, 0, 0, 0, 0, 0, ...   \n",
       "2    [0, 0, 0, 0, 0, 0, 0, 0, 0, 0, 0, 0, 0, 0, 0, ...   \n",
       "3    [0, 0, 0, 0, 0, 0, 0, 0, 0, 0, 0, 0, 0, 0, 0, ...   \n",
       "4    [0, 0, 0, 0, 0, 0, 0, 0, 0, 0, 0, 0, 0, 0, 0, ...   \n",
       "..                                                 ...   \n",
       "741  [0, 0, 0, 0, 0, 0, 0, 0, 0, 0, 0, 0, 0, 0, 0, ...   \n",
       "742  [0, 0, 0, 0, 0, 0, 0, 0, 0, 0, 0, 0, 0, 0, 0, ...   \n",
       "743  [0, 0, 0, 0, 0, 0, 0, 0, 0, 0, 0, 0, 0, 0, 0, ...   \n",
       "744  [0, 0, 0, 0, 0, 0, 0, 0, 0, 0, 0, 0, 0, 0, 0, ...   \n",
       "745  [0, 0, 0, 0, 0, 0, 0, 0, 0, 0, 0, 0, 0, 0, 0, ...   \n",
       "\n",
       "                                               returns  \\\n",
       "0    [-0.01141, 0.03012, 0.00682, -0.00718, 0.01924...   \n",
       "1    [0.00487, 0.0499, -0.00511, -0.00477, -0.01071...   \n",
       "2    [-0.05841, 0.01058, 0.00211, -0.01254, 0.08036...   \n",
       "3    [-0.01141, 0.03012, 0.00682, -0.00718, 0.01924...   \n",
       "4    [0.00487, 0.0499, -0.00511, -0.00477, -0.01071...   \n",
       "..                                                 ...   \n",
       "741  [0.05583, 0.04841, 0.04287, 0.01604, 0.03829, ...   \n",
       "742  [0.05583, 0.05513, 0.04532, 0.01011, 0.00655, ...   \n",
       "743  [0.06731, 0.03438, -0.0382, 0.10206, -0.00289,...   \n",
       "744  [0.08525, 0.04038, -0.04072, 0.09848, 0.01749,...   \n",
       "745  [0.08896, 0.08927, 0.00909, 0.09136, 0.02234, ...   \n",
       "\n",
       "                                             drawdowns    sharpe        mxdd  \n",
       "0    [18868920, 10803840, 1311180, 1059660, 726600,... -0.557500  18868920.0  \n",
       "1    [5650980, 4584840, 3630360, 3221100, 2908200, ...  0.889260   5650980.0  \n",
       "2    [7575780, 7415340, 2736120, 2421840, 2352780, ...  1.256480   7575780.0  \n",
       "3    [18814440, 10803840, 1311180, 1059660, 726600,... -0.501146  18814440.0  \n",
       "4    [5650980, 4584840, 3630360, 3221100, 2908200, ...  0.889260   5650980.0  \n",
       "..                                                 ...       ...         ...  \n",
       "741       [16002420, 4818840, 1910100, 592140, 232620]  1.496790  16002420.0  \n",
       "742  [11273220, 4808220, 972000, 827880, 661320, 59...  1.346823  11273220.0  \n",
       "743  [11181840, 4664700, 1576620, 973020, 827340, 7...  0.483935  11181840.0  \n",
       "744  [5957700, 4104900, 3802680, 3761460, 1710720, ...  1.657184   5957700.0  \n",
       "745                       [21280260, 5397540, 2309220]  0.288993  21280260.0  \n",
       "\n",
       "[746 rows x 8 columns]"
      ]
     },
     "execution_count": 158,
     "metadata": {},
     "output_type": "execute_result"
    }
   ],
   "source": [
    "bigdf_filtered"
   ]
  },
  {
   "cell_type": "code",
   "execution_count": 159,
   "id": "c839b544",
   "metadata": {},
   "outputs": [],
   "source": [
    "bigdf_result = bigdf_filtered.nlargest(10,'sharpe')"
   ]
  },
  {
   "cell_type": "code",
   "execution_count": 161,
   "id": "553391ce",
<<<<<<< Updated upstream
   "metadata": {},
=======
   "metadata": {
    "scrolled": true
   },
>>>>>>> Stashed changes
   "outputs": [
    {
     "data": {
      "text/html": [
       "<div>\n",
       "<style scoped>\n",
       "    .dataframe tbody tr th:only-of-type {\n",
       "        vertical-align: middle;\n",
       "    }\n",
       "\n",
       "    .dataframe tbody tr th {\n",
       "        vertical-align: top;\n",
       "    }\n",
       "\n",
       "    .dataframe thead th {\n",
       "        text-align: right;\n",
       "    }\n",
       "</style>\n",
       "<table border=\"1\" class=\"dataframe\">\n",
       "  <thead>\n",
       "    <tr style=\"text-align: right;\">\n",
       "      <th></th>\n",
       "      <th>lookback</th>\n",
       "      <th>thres</th>\n",
       "      <th>sell_thres</th>\n",
       "      <th>cusum</th>\n",
       "      <th>returns</th>\n",
       "      <th>drawdowns</th>\n",
       "      <th>sharpe</th>\n",
       "      <th>mxdd</th>\n",
       "    </tr>\n",
       "  </thead>\n",
       "  <tbody>\n",
       "    <tr>\n",
       "      <th>721</th>\n",
       "      <td>5000</td>\n",
       "      <td>3.0</td>\n",
       "      <td>0.00</td>\n",
       "      <td>[0, 0, 0, 0, 0, 0, 0, 0, 0, 0, 0, 0, 0, 0, 0, ...</td>\n",
       "      <td>[0.05667, 0.02189, 0.05573, 0.01262, 0.02248, ...</td>\n",
       "      <td>[2288220, 1866300, 1643220, 1553400, 1349760, ...</td>\n",
       "      <td>5.929368</td>\n",
       "      <td>2288220.0</td>\n",
       "    </tr>\n",
       "    <tr>\n",
       "      <th>720</th>\n",
       "      <td>5000</td>\n",
       "      <td>3.0</td>\n",
       "      <td>-0.25</td>\n",
       "      <td>[0, 0, 0, 0, 0, 0, 0, 0, 0, 0, 0, 0, 0, 0, 0, ...</td>\n",
       "      <td>[0.04314, 0.00462, 0.0421, 0.00766, 0.02248, 0...</td>\n",
       "      <td>[3107820, 2174160, 1953180, 1932960, 1525380, ...</td>\n",
       "      <td>5.738196</td>\n",
       "      <td>3107820.0</td>\n",
       "    </tr>\n",
       "    <tr>\n",
       "      <th>483</th>\n",
       "      <td>3000</td>\n",
       "      <td>4.0</td>\n",
       "      <td>-2.00</td>\n",
       "      <td>[0, 0, 0, 0, 0, 0, 0, 0, 0, 0, 0, 0, 0, 0, 0, ...</td>\n",
       "      <td>[0.01118, 0.0201, 0.01243, 0.00972, 0.03253, 0...</td>\n",
       "      <td>[7021200, 2683260, 1900440, 1287600, 1029300, ...</td>\n",
       "      <td>5.547976</td>\n",
       "      <td>7021200.0</td>\n",
       "    </tr>\n",
       "    <tr>\n",
       "      <th>473</th>\n",
       "      <td>3000</td>\n",
       "      <td>3.0</td>\n",
       "      <td>0.00</td>\n",
       "      <td>[0, 0, 0, 0, 0, 0, 0, 0, 0, 0, 0, 0, 0, 0, 0, ...</td>\n",
       "      <td>[0.03912, 0.04248, 0.01576, 0.04463, 0.00414, ...</td>\n",
       "      <td>[5733120, 5309520, 1700820, 1226880, 1075800, ...</td>\n",
       "      <td>5.472205</td>\n",
       "      <td>5733120.0</td>\n",
       "    </tr>\n",
       "    <tr>\n",
       "      <th>598</th>\n",
       "      <td>4000</td>\n",
       "      <td>3.0</td>\n",
       "      <td>0.25</td>\n",
       "      <td>[0, 0, 0, 0, 0, 0, 0, 0, 0, 0, 0, 0, 0, 0, 0, ...</td>\n",
       "      <td>[0.04555, 0.02189, 0.05492, 0.02787, 0.01451, ...</td>\n",
       "      <td>[3443100, 3169980, 1967700, 1877760, 1592160, ...</td>\n",
       "      <td>5.180035</td>\n",
       "      <td>3443100.0</td>\n",
       "    </tr>\n",
       "    <tr>\n",
       "      <th>597</th>\n",
       "      <td>4000</td>\n",
       "      <td>3.0</td>\n",
       "      <td>0.00</td>\n",
       "      <td>[0, 0, 0, 0, 0, 0, 0, 0, 0, 0, 0, 0, 0, 0, 0, ...</td>\n",
       "      <td>[0.03199, 0.00462, 0.04086, 0.02538, 0.01262, ...</td>\n",
       "      <td>[4340880, 2320800, 2242200, 1931700, 1891920, ...</td>\n",
       "      <td>5.083683</td>\n",
       "      <td>4340880.0</td>\n",
       "    </tr>\n",
       "    <tr>\n",
       "      <th>719</th>\n",
       "      <td>5000</td>\n",
       "      <td>3.0</td>\n",
       "      <td>-0.50</td>\n",
       "      <td>[0, 0, 0, 0, 0, 0, 0, 0, 0, 0, 0, 0, 0, 0, 0, ...</td>\n",
       "      <td>[0.04706, 0.04358, 0.01576, 0.03298, 0.01356, ...</td>\n",
       "      <td>[5309520, 3183000, 1900260, 1593240, 1481580, ...</td>\n",
       "      <td>5.065596</td>\n",
       "      <td>5309520.0</td>\n",
       "    </tr>\n",
       "    <tr>\n",
       "      <th>475</th>\n",
       "      <td>3000</td>\n",
       "      <td>3.0</td>\n",
       "      <td>0.50</td>\n",
       "      <td>[0, 0, 0, 0, 0, 0, 0, 0, 0, 0, 0, 0, 0, 0, 0, ...</td>\n",
       "      <td>[0.07024, 0.00462, 0.04962, 0.03034, 0.02831, ...</td>\n",
       "      <td>[6383880, 2978280, 2046420, 1439640, 1420020, ...</td>\n",
       "      <td>5.034988</td>\n",
       "      <td>6383880.0</td>\n",
       "    </tr>\n",
       "    <tr>\n",
       "      <th>705</th>\n",
       "      <td>5000</td>\n",
       "      <td>2.5</td>\n",
       "      <td>-0.25</td>\n",
       "      <td>[0, 0, 0, 0, 0, 0, 0, 0, 0, 0, 0, 0, 0, 0, 0, ...</td>\n",
       "      <td>[0.0241, 0.03199, 0.00462, 0.03034, -0.00083, ...</td>\n",
       "      <td>[5308260, 3278340, 2033760, 1629780, 1553880, ...</td>\n",
       "      <td>5.011324</td>\n",
       "      <td>5308260.0</td>\n",
       "    </tr>\n",
       "    <tr>\n",
       "      <th>583</th>\n",
       "      <td>4000</td>\n",
       "      <td>2.5</td>\n",
       "      <td>0.25</td>\n",
       "      <td>[0, 0, 0, 0, 0, 0, 0, 0, 0, 0, 0, 0, 0, 0, 0, ...</td>\n",
       "      <td>[-0.00123, 0.02317, 0.02189, 0.03611, 0.03606,...</td>\n",
       "      <td>[2312820, 1783320, 1592160, 1581480, 1543920, ...</td>\n",
       "      <td>4.971169</td>\n",
       "      <td>2312820.0</td>\n",
       "    </tr>\n",
       "  </tbody>\n",
       "</table>\n",
       "</div>"
      ],
      "text/plain": [
       "     lookback  thres  sell_thres  \\\n",
       "721      5000    3.0        0.00   \n",
       "720      5000    3.0       -0.25   \n",
       "483      3000    4.0       -2.00   \n",
       "473      3000    3.0        0.00   \n",
       "598      4000    3.0        0.25   \n",
       "597      4000    3.0        0.00   \n",
       "719      5000    3.0       -0.50   \n",
       "475      3000    3.0        0.50   \n",
       "705      5000    2.5       -0.25   \n",
       "583      4000    2.5        0.25   \n",
       "\n",
       "                                                 cusum  \\\n",
       "721  [0, 0, 0, 0, 0, 0, 0, 0, 0, 0, 0, 0, 0, 0, 0, ...   \n",
       "720  [0, 0, 0, 0, 0, 0, 0, 0, 0, 0, 0, 0, 0, 0, 0, ...   \n",
       "483  [0, 0, 0, 0, 0, 0, 0, 0, 0, 0, 0, 0, 0, 0, 0, ...   \n",
       "473  [0, 0, 0, 0, 0, 0, 0, 0, 0, 0, 0, 0, 0, 0, 0, ...   \n",
       "598  [0, 0, 0, 0, 0, 0, 0, 0, 0, 0, 0, 0, 0, 0, 0, ...   \n",
       "597  [0, 0, 0, 0, 0, 0, 0, 0, 0, 0, 0, 0, 0, 0, 0, ...   \n",
       "719  [0, 0, 0, 0, 0, 0, 0, 0, 0, 0, 0, 0, 0, 0, 0, ...   \n",
       "475  [0, 0, 0, 0, 0, 0, 0, 0, 0, 0, 0, 0, 0, 0, 0, ...   \n",
       "705  [0, 0, 0, 0, 0, 0, 0, 0, 0, 0, 0, 0, 0, 0, 0, ...   \n",
       "583  [0, 0, 0, 0, 0, 0, 0, 0, 0, 0, 0, 0, 0, 0, 0, ...   \n",
       "\n",
       "                                               returns  \\\n",
       "721  [0.05667, 0.02189, 0.05573, 0.01262, 0.02248, ...   \n",
       "720  [0.04314, 0.00462, 0.0421, 0.00766, 0.02248, 0...   \n",
       "483  [0.01118, 0.0201, 0.01243, 0.00972, 0.03253, 0...   \n",
       "473  [0.03912, 0.04248, 0.01576, 0.04463, 0.00414, ...   \n",
       "598  [0.04555, 0.02189, 0.05492, 0.02787, 0.01451, ...   \n",
       "597  [0.03199, 0.00462, 0.04086, 0.02538, 0.01262, ...   \n",
       "719  [0.04706, 0.04358, 0.01576, 0.03298, 0.01356, ...   \n",
       "475  [0.07024, 0.00462, 0.04962, 0.03034, 0.02831, ...   \n",
       "705  [0.0241, 0.03199, 0.00462, 0.03034, -0.00083, ...   \n",
       "583  [-0.00123, 0.02317, 0.02189, 0.03611, 0.03606,...   \n",
       "\n",
       "                                             drawdowns    sharpe       mxdd  \n",
       "721  [2288220, 1866300, 1643220, 1553400, 1349760, ...  5.929368  2288220.0  \n",
       "720  [3107820, 2174160, 1953180, 1932960, 1525380, ...  5.738196  3107820.0  \n",
       "483  [7021200, 2683260, 1900440, 1287600, 1029300, ...  5.547976  7021200.0  \n",
       "473  [5733120, 5309520, 1700820, 1226880, 1075800, ...  5.472205  5733120.0  \n",
       "598  [3443100, 3169980, 1967700, 1877760, 1592160, ...  5.180035  3443100.0  \n",
       "597  [4340880, 2320800, 2242200, 1931700, 1891920, ...  5.083683  4340880.0  \n",
       "719  [5309520, 3183000, 1900260, 1593240, 1481580, ...  5.065596  5309520.0  \n",
       "475  [6383880, 2978280, 2046420, 1439640, 1420020, ...  5.034988  6383880.0  \n",
       "705  [5308260, 3278340, 2033760, 1629780, 1553880, ...  5.011324  5308260.0  \n",
       "583  [2312820, 1783320, 1592160, 1581480, 1543920, ...  4.971169  2312820.0  "
      ]
     },
     "execution_count": 161,
     "metadata": {},
     "output_type": "execute_result"
    }
   ],
   "source": [
    "bigdf_result"
   ]
  },
  {
   "cell_type": "code",
   "execution_count": 168,
   "id": "b3e32875",
   "metadata": {
    "scrolled": true
   },
   "outputs": [
    {
     "data": {
      "text/plain": [
       "<matplotlib.legend.Legend at 0x7ff222859640>"
      ]
     },
     "execution_count": 168,
     "metadata": {},
     "output_type": "execute_result"
    },
    {
     "data": {
      "image/png": "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\n",
      "text/plain": [
       "<Figure size 432x288 with 1 Axes>"
      ]
     },
     "metadata": {
      "needs_background": "light"
     },
     "output_type": "display_data"
    }
   ],
   "source": [
    "fig, ax = plt.subplots()\n",
    "for index, row in bigdf_result.iterrows():\n",
    "    pd.Series(row['cusum']).plot(legend=True)\n",
    "ax.legend(bigdf_result.index)"
   ]
  },
  {
   "cell_type": "code",
   "execution_count": 141,
   "id": "6da1220d",
   "metadata": {
    "scrolled": true
   },
   "outputs": [
    {
     "name": "stdout",
     "output_type": "stream",
     "text": [
      "99\n",
      "1.7144523701359085\n",
      "223\n",
      "1.3743058865378712\n",
      "347\n",
      "1.8594478613602894\n",
      "471\n",
      "2.1280851014235\n",
      "595\n",
      "5.472205487597502\n",
      "719\n",
      "5.083683363605593\n",
      "843\n",
      "5.929368069009028\n",
      "98\n",
      "1.7707864611644295\n",
      "222\n",
      "0.8649171037960948\n",
      "346\n",
      "0.9021308359593915\n"
     ]
    }
   ],
   "source": [
    "for index, row in bigdf_result.iterrows():\n",
    "    ret = row['returns']\n",
    "    print(index)\n",
    "    print(np.sqrt(len(ret)) * np.nanmean(ret) / np.nanstd(ret))"
   ]
  },
  {
   "cell_type": "markdown",
   "id": "63d1d8e2",
   "metadata": {},
   "source": [
    "### Second"
   ]
  },
  {
   "cell_type": "code",
   "execution_count": 169,
   "id": "90e8df22",
   "metadata": {},
   "outputs": [],
   "source": [
    "df8 = pd.read_csv('../data/new_data/fet-celr-4250.csv')\n",
    "df9 = pd.read_csv('../data/new_data/fet-celr-4500.csv')\n",
    "df10 = pd.read_csv('../data/new_data/fet-celr-4750.csv')\n",
    "df11 = pd.read_csv('../data/new_data/fet-celr-5000.csv')\n",
    "df12 = pd.read_csv('../data/new_data/fet-celr-5250.csv')\n",
    "df13 = pd.read_csv('../data/new_data/fet-celr-5500.csv')"
   ]
  },
  {
   "cell_type": "code",
   "execution_count": 170,
   "id": "bf9d6025",
   "metadata": {},
   "outputs": [],
   "source": [
    "bigdf2 = pd.concat([df8, df9, df10, df11, df12, df13])"
   ]
  },
  {
   "cell_type": "code",
   "execution_count": 171,
   "id": "c05a2e17",
   "metadata": {},
   "outputs": [],
   "source": [
    "bigdf2[\"cusum\"] = bigdf2[\"cusum\"].apply(eval)\n",
    "bigdf2[\"returns\"] = bigdf2[\"returns\"].apply(eval)\n",
    "bigdf2[\"drawdowns\"] = bigdf2[\"drawdowns\"].apply(eval)"
   ]
  },
  {
   "cell_type": "code",
   "execution_count": 172,
   "id": "ac5ecc8a",
   "metadata": {},
   "outputs": [],
   "source": [
    "bigdf2 = bigdf2.reset_index(drop=True)"
   ]
  },
  {
   "cell_type": "code",
   "execution_count": 173,
   "id": "68b332b2",
   "metadata": {},
   "outputs": [],
   "source": [
    "bigdf2[\"sharpe\"] = np.nan\n",
    "bigdf2[\"mxdd\"] = np.nan\n",
    "\n",
    "for index, row in bigdf2.iterrows():\n",
    "    r = row['returns']\n",
    "    bigdf2.at[index, 'sharpe'] = np.sqrt(len(r)) * np.nanmean(r) / np.nanstd(r)\n",
    "    bigdf2.at[index, 'mxdd'] = row.drawdowns[0]"
   ]
  },
  {
   "cell_type": "code",
   "execution_count": 174,
   "id": "d7ab37a1",
   "metadata": {},
   "outputs": [
    {
     "data": {
      "text/plain": [
       "array([[<AxesSubplot:title={'center':'mxdd'}>]], dtype=object)"
      ]
     },
     "execution_count": 174,
     "metadata": {},
     "output_type": "execute_result"
    },
    {
     "data": {
      "image/png": "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\n",
      "text/plain": [
       "<Figure size 432x288 with 1 Axes>"
      ]
     },
     "metadata": {
      "needs_background": "light"
     },
     "output_type": "display_data"
    }
   ],
   "source": [
    "bigdf2.hist('mxdd')"
   ]
  },
  {
   "cell_type": "code",
   "execution_count": 175,
   "id": "e6bd5b02",
   "metadata": {},
   "outputs": [],
   "source": [
    "bigdf2_filtered = bigdf2.loc[bigdf['mxdd'] < 2.0e7].reset_index(drop=True)"
   ]
  },
  {
   "cell_type": "code",
   "execution_count": 176,
   "id": "5a14c4af",
   "metadata": {},
   "outputs": [],
   "source": [
    "bigdf2_result = bigdf2_filtered.nlargest(10,'sharpe')"
   ]
  },
  {
   "cell_type": "code",
   "execution_count": 177,
   "id": "aab8b097",
   "metadata": {},
   "outputs": [
    {
     "data": {
      "text/html": [
       "<div>\n",
       "<style scoped>\n",
       "    .dataframe tbody tr th:only-of-type {\n",
       "        vertical-align: middle;\n",
       "    }\n",
       "\n",
       "    .dataframe tbody tr th {\n",
       "        vertical-align: top;\n",
       "    }\n",
       "\n",
       "    .dataframe thead th {\n",
       "        text-align: right;\n",
       "    }\n",
       "</style>\n",
       "<table border=\"1\" class=\"dataframe\">\n",
       "  <thead>\n",
       "    <tr style=\"text-align: right;\">\n",
       "      <th></th>\n",
       "      <th>lookback</th>\n",
       "      <th>thres</th>\n",
       "      <th>sell_thres</th>\n",
       "      <th>cusum</th>\n",
       "      <th>returns</th>\n",
       "      <th>drawdowns</th>\n",
       "      <th>sharpe</th>\n",
       "      <th>mxdd</th>\n",
       "    </tr>\n",
       "  </thead>\n",
       "  <tbody>\n",
       "    <tr>\n",
       "      <th>8</th>\n",
       "      <td>4250</td>\n",
       "      <td>3.4</td>\n",
       "      <td>0.25</td>\n",
       "      <td>[0, 0, 0, 0, 0, 0, 0, 0, 0, 0, 0, 0, 0, 0, 0, ...</td>\n",
       "      <td>[0.03994, 0.02189, 0.06817, 0.01262, 0.02883, ...</td>\n",
       "      <td>[318060, 1461060, 957360, 1478040, 1512840, 99...</td>\n",
       "      <td>6.165048</td>\n",
       "      <td>318060.0</td>\n",
       "    </tr>\n",
       "    <tr>\n",
       "      <th>7</th>\n",
       "      <td>4250</td>\n",
       "      <td>3.4</td>\n",
       "      <td>0.10</td>\n",
       "      <td>[0, 0, 0, 0, 0, 0, 0, 0, 0, 0, 0, 0, 0, 0, 0, ...</td>\n",
       "      <td>[0.04529, 0.00462, 0.06035, 0.01262, 0.02883, ...</td>\n",
       "      <td>[324300, 1526760, 1715100, 1605420, 1520160, 9...</td>\n",
       "      <td>5.984220</td>\n",
       "      <td>324300.0</td>\n",
       "    </tr>\n",
       "    <tr>\n",
       "      <th>87</th>\n",
       "      <td>5250</td>\n",
       "      <td>3.0</td>\n",
       "      <td>-0.25</td>\n",
       "      <td>[0, 0, 0, 0, 0, 0, 0, 0, 0, 0, 0, 0, 0, 0, 0, ...</td>\n",
       "      <td>[0.04765, 0.00462, 0.04505, 0.00766, 0.02248, ...</td>\n",
       "      <td>[378720, 25860, 1525380, 148020, 267240, 19519...</td>\n",
       "      <td>5.972704</td>\n",
       "      <td>378720.0</td>\n",
       "    </tr>\n",
       "    <tr>\n",
       "      <th>6</th>\n",
       "      <td>4250</td>\n",
       "      <td>3.4</td>\n",
       "      <td>0.00</td>\n",
       "      <td>[0, 0, 0, 0, 0, 0, 0, 0, 0, 0, 0, 0, 0, 0, 0, ...</td>\n",
       "      <td>[0.03527, 0.00462, 0.05303, 0.01262, 0.02883, ...</td>\n",
       "      <td>[378720, 1526820, 1714980, 1605300, 1520580, 9...</td>\n",
       "      <td>5.864555</td>\n",
       "      <td>378720.0</td>\n",
       "    </tr>\n",
       "    <tr>\n",
       "      <th>62</th>\n",
       "      <td>5000</td>\n",
       "      <td>3.2</td>\n",
       "      <td>0.00</td>\n",
       "      <td>[0, 0, 0, 0, 0, 0, 0, 0, 0, 0, 0, 0, 0, 0, 0, ...</td>\n",
       "      <td>[0.06114, 0.02189, 0.05573, 0.01262, 0.02883, ...</td>\n",
       "      <td>[380580, 1294860, 1209180, 1595820, 2868480, 6...</td>\n",
       "      <td>5.781509</td>\n",
       "      <td>380580.0</td>\n",
       "    </tr>\n",
       "    <tr>\n",
       "      <th>39</th>\n",
       "      <td>4750</td>\n",
       "      <td>3.2</td>\n",
       "      <td>0.00</td>\n",
       "      <td>[0, 0, 0, 0, 0, 0, 0, 0, 0, 0, 0, 0, 0, 0, 0, ...</td>\n",
       "      <td>[0.04529, 0.00462, 0.05303, 0.01262, 0.02248, ...</td>\n",
       "      <td>[380520, 1564560, 1487940, 1603860, 4631340, 4...</td>\n",
       "      <td>5.770410</td>\n",
       "      <td>380520.0</td>\n",
       "    </tr>\n",
       "    <tr>\n",
       "      <th>88</th>\n",
       "      <td>5250</td>\n",
       "      <td>3.0</td>\n",
       "      <td>-0.10</td>\n",
       "      <td>[0, 0, 0, 0, 0, 0, 0, 0, 0, 0, 0, 0, 0, 0, 0, ...</td>\n",
       "      <td>[0.05757, 0.00462, 0.0527, 0.01262, 0.02248, 0...</td>\n",
       "      <td>[380580, 1557600, 144000, 267540, 1866000, 273...</td>\n",
       "      <td>5.748441</td>\n",
       "      <td>380580.0</td>\n",
       "    </tr>\n",
       "    <tr>\n",
       "      <th>60</th>\n",
       "      <td>5000</td>\n",
       "      <td>3.0</td>\n",
       "      <td>-0.25</td>\n",
       "      <td>[0, 0, 0, 0, 0, 0, 0, 0, 0, 0, 0, 0, 0, 0, 0, ...</td>\n",
       "      <td>[0.04314, 0.00462, 0.0421, 0.00766, 0.02248, 0...</td>\n",
       "      <td>[378720, 25860, 1525380, 267180, 1953180, 8053...</td>\n",
       "      <td>5.738196</td>\n",
       "      <td>378720.0</td>\n",
       "    </tr>\n",
       "    <tr>\n",
       "      <th>89</th>\n",
       "      <td>5250</td>\n",
       "      <td>3.0</td>\n",
       "      <td>0.00</td>\n",
       "      <td>[0, 0, 0, 0, 0, 0, 0, 0, 0, 0, 0, 0, 0, 0, 0, ...</td>\n",
       "      <td>[0.06114, 0.02189, 0.05573, 0.01262, 0.02248, ...</td>\n",
       "      <td>[318060, 1553400, 143880, 267540, 451620, 1820...</td>\n",
       "      <td>5.719024</td>\n",
       "      <td>318060.0</td>\n",
       "    </tr>\n",
       "    <tr>\n",
       "      <th>34</th>\n",
       "      <td>4750</td>\n",
       "      <td>3.0</td>\n",
       "      <td>0.00</td>\n",
       "      <td>[0, 0, 0, 0, 0, 0, 0, 0, 0, 0, 0, 0, 0, 0, 0, ...</td>\n",
       "      <td>[0.04204, 0.00462, 0.05303, 0.01262, 0.02248, ...</td>\n",
       "      <td>[380520, 1564560, 267480, 551160, 1876140, 222...</td>\n",
       "      <td>5.629139</td>\n",
       "      <td>380520.0</td>\n",
       "    </tr>\n",
       "  </tbody>\n",
       "</table>\n",
       "</div>"
      ],
      "text/plain": [
       "    lookback  thres  sell_thres  \\\n",
       "8       4250    3.4        0.25   \n",
       "7       4250    3.4        0.10   \n",
       "87      5250    3.0       -0.25   \n",
       "6       4250    3.4        0.00   \n",
       "62      5000    3.2        0.00   \n",
       "39      4750    3.2        0.00   \n",
       "88      5250    3.0       -0.10   \n",
       "60      5000    3.0       -0.25   \n",
       "89      5250    3.0        0.00   \n",
       "34      4750    3.0        0.00   \n",
       "\n",
       "                                                cusum  \\\n",
       "8   [0, 0, 0, 0, 0, 0, 0, 0, 0, 0, 0, 0, 0, 0, 0, ...   \n",
       "7   [0, 0, 0, 0, 0, 0, 0, 0, 0, 0, 0, 0, 0, 0, 0, ...   \n",
       "87  [0, 0, 0, 0, 0, 0, 0, 0, 0, 0, 0, 0, 0, 0, 0, ...   \n",
       "6   [0, 0, 0, 0, 0, 0, 0, 0, 0, 0, 0, 0, 0, 0, 0, ...   \n",
       "62  [0, 0, 0, 0, 0, 0, 0, 0, 0, 0, 0, 0, 0, 0, 0, ...   \n",
       "39  [0, 0, 0, 0, 0, 0, 0, 0, 0, 0, 0, 0, 0, 0, 0, ...   \n",
       "88  [0, 0, 0, 0, 0, 0, 0, 0, 0, 0, 0, 0, 0, 0, 0, ...   \n",
       "60  [0, 0, 0, 0, 0, 0, 0, 0, 0, 0, 0, 0, 0, 0, 0, ...   \n",
       "89  [0, 0, 0, 0, 0, 0, 0, 0, 0, 0, 0, 0, 0, 0, 0, ...   \n",
       "34  [0, 0, 0, 0, 0, 0, 0, 0, 0, 0, 0, 0, 0, 0, 0, ...   \n",
       "\n",
       "                                              returns  \\\n",
       "8   [0.03994, 0.02189, 0.06817, 0.01262, 0.02883, ...   \n",
       "7   [0.04529, 0.00462, 0.06035, 0.01262, 0.02883, ...   \n",
       "87  [0.04765, 0.00462, 0.04505, 0.00766, 0.02248, ...   \n",
       "6   [0.03527, 0.00462, 0.05303, 0.01262, 0.02883, ...   \n",
       "62  [0.06114, 0.02189, 0.05573, 0.01262, 0.02883, ...   \n",
       "39  [0.04529, 0.00462, 0.05303, 0.01262, 0.02248, ...   \n",
       "88  [0.05757, 0.00462, 0.0527, 0.01262, 0.02248, 0...   \n",
       "60  [0.04314, 0.00462, 0.0421, 0.00766, 0.02248, 0...   \n",
       "89  [0.06114, 0.02189, 0.05573, 0.01262, 0.02248, ...   \n",
       "34  [0.04204, 0.00462, 0.05303, 0.01262, 0.02248, ...   \n",
       "\n",
       "                                            drawdowns    sharpe      mxdd  \n",
       "8   [318060, 1461060, 957360, 1478040, 1512840, 99...  6.165048  318060.0  \n",
       "7   [324300, 1526760, 1715100, 1605420, 1520160, 9...  5.984220  324300.0  \n",
       "87  [378720, 25860, 1525380, 148020, 267240, 19519...  5.972704  378720.0  \n",
       "6   [378720, 1526820, 1714980, 1605300, 1520580, 9...  5.864555  378720.0  \n",
       "62  [380580, 1294860, 1209180, 1595820, 2868480, 6...  5.781509  380580.0  \n",
       "39  [380520, 1564560, 1487940, 1603860, 4631340, 4...  5.770410  380520.0  \n",
       "88  [380580, 1557600, 144000, 267540, 1866000, 273...  5.748441  380580.0  \n",
       "60  [378720, 25860, 1525380, 267180, 1953180, 8053...  5.738196  378720.0  \n",
       "89  [318060, 1553400, 143880, 267540, 451620, 1820...  5.719024  318060.0  \n",
       "34  [380520, 1564560, 267480, 551160, 1876140, 222...  5.629139  380520.0  "
      ]
     },
     "execution_count": 177,
     "metadata": {},
     "output_type": "execute_result"
    }
   ],
   "source": [
    "bigdf2_result"
   ]
  },
  {
   "cell_type": "code",
   "execution_count": 178,
   "id": "a5225550",
   "metadata": {},
   "outputs": [
    {
     "data": {
      "text/plain": [
       "<matplotlib.legend.Legend at 0x7ff222856b50>"
      ]
     },
     "execution_count": 178,
     "metadata": {},
     "output_type": "execute_result"
    },
    {
     "data": {
      "image/png": "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\n",
      "text/plain": [
       "<Figure size 432x288 with 1 Axes>"
      ]
     },
     "metadata": {
      "needs_background": "light"
     },
     "output_type": "display_data"
    }
   ],
   "source": [
    "fig, ax = plt.subplots()\n",
    "for index, row in bigdf2_result.iterrows():\n",
    "    pd.Series(row['cusum']).plot(legend=True)\n",
    "ax.legend(bigdf2_result.index)"
   ]
  },
  {
   "cell_type": "markdown",
   "id": "435e0b1e",
   "metadata": {
    "heading_collapsed": true
   },
   "source": [
    "### Anything Else"
   ]
  },
  {
   "cell_type": "markdown",
   "id": "94d8daed",
   "metadata": {
    "hidden": true
   },
   "source": [
    "(Basically like the sharpe ratio, but using params other than returns)"
   ]
  },
  {
   "cell_type": "code",
   "execution_count": 27,
   "id": "1328bdc2",
   "metadata": {
    "hidden": true
   },
   "outputs": [
    {
     "name": "stdout",
     "output_type": "stream",
     "text": [
      "Average Daily Returns = 0.027455\n"
     ]
    }
   ],
   "source": [
    "# list to base std off of (ex. for avg daily return, would be list of daily returns.\n",
    "# for max drawdown length, would be list of drawdown lengths)\n",
    "raw_value_list = ret\n",
    "\n",
    "#the raw value of the t-stat to test\n",
    "raw_value = np.nanmean(ret)\n",
    "\n",
    "#the null hypothesis value\n",
    "null_hypothesis = 0 \n",
    "\n",
    "print('Average Daily Returns = %f' % raw_value)"
   ]
  },
  {
   "cell_type": "code",
   "execution_count": 29,
   "id": "e3829509",
   "metadata": {
    "hidden": true,
    "scrolled": true
   },
   "outputs": [
    {
     "name": "stdout",
     "output_type": "stream",
     "text": [
      "0.4123370454656365\n"
     ]
    }
   ],
   "source": [
    "t_stat = (raw_value - null_hypothesis) / np.nanstd(raw_value_list)\n",
    "print(t_stat)"
   ]
  },
  {
   "cell_type": "code",
   "execution_count": 37,
   "id": "dac1c813",
   "metadata": {
    "hidden": true,
    "scrolled": true
   },
   "outputs": [
    {
     "data": {
      "text/plain": [
       "0.3400461996725078"
      ]
     },
     "execution_count": 37,
     "metadata": {},
     "output_type": "execute_result"
    }
   ],
   "source": [
    "1 - st.norm.cdf(t_stat)"
   ]
  },
  {
   "cell_type": "code",
   "execution_count": 34,
   "id": "07f66aa4",
   "metadata": {
    "hidden": true
   },
   "outputs": [
    {
     "data": {
      "text/plain": [
       "0.3400461996725078"
      ]
     },
     "execution_count": 34,
     "metadata": {},
     "output_type": "execute_result"
    }
   ],
   "source": [
    "st.norm.sf(abs(t_stat))"
   ]
  },
  {
   "cell_type": "code",
   "execution_count": 32,
   "id": "1cce12fe",
   "metadata": {
    "hidden": true
   },
   "outputs": [
    {
     "name": "stdout",
     "output_type": "stream",
     "text": [
      "1.2823987214609247\n",
      "1.6463788172854639\n",
      "2.3300826747555097\n",
      "3.0984021639128754\n"
     ]
    }
   ],
   "source": [
    "# Finding Critical Values\n",
    "# dof (degrees of freedom) is pretty much just a fancy way of saying n-1, (n=number of values in distribution)\n",
    "# theoretically infinite, since we are using a hypothetical gaussian distribution\n",
    "dof = 1000\n",
    "\n",
    "print(st.t.ppf(q=1-(0.1),df=dof))\n",
    "print(st.t.ppf(q=1-(0.05),df=dof))\n",
    "print(st.t.ppf(q=1-(0.01),df=dof))\n",
    "print(st.t.ppf(q=1-(0.001),df=dof))\n"
   ]
  },
  {
   "cell_type": "markdown",
   "id": "df74a35c",
   "metadata": {},
   "source": [
    "## Monte Carlo"
   ]
  },
  {
   "cell_type": "markdown",
   "id": "6111e4b4",
   "metadata": {},
   "source": [
    "### Monte Carlo Returns"
   ]
  },
  {
   "cell_type": "code",
   "execution_count": null,
   "id": "827b7dd6",
   "metadata": {},
   "outputs": [],
   "source": [
    "# The metric to use to measure the input data\n",
    "# for \"predict the market\" strategies, can be close price or market returns\n",
    "# can use z-score for this strategy\n",
    "zscore_metric = spread.zscore\n",
    "\n",
    "#daily returns of strategy\n",
    "#ret"
   ]
  },
  {
   "cell_type": "code",
   "execution_count": null,
   "id": "8dfde8c9",
   "metadata": {},
   "outputs": [],
   "source": [
    "skew_, loc_, scale_ = st.pearson3.fit(zscore_metric)\n",
    "num_better_samples = 0"
   ]
  },
  {
   "cell_type": "code",
   "execution_count": 42,
   "id": "76940178",
   "metadata": {},
   "outputs": [
    {
     "name": "stderr",
     "output_type": "stream",
     "text": [
      "  0%|          | 0/10000 [00:00<?, ?it/s]\n"
     ]
    },
    {
     "ename": "NameError",
     "evalue": "name 'skew_' is not defined",
     "output_type": "error",
     "traceback": [
      "\u001b[0;31m---------------------------------------------------------------------------\u001b[0m",
      "\u001b[0;31mNameError\u001b[0m                                 Traceback (most recent call last)",
      "\u001b[0;32m<ipython-input-42-87dcb25b34c9>\u001b[0m in \u001b[0;36m<module>\u001b[0;34m\u001b[0m\n\u001b[1;32m      3\u001b[0m \u001b[0;34m\u001b[0m\u001b[0m\n\u001b[1;32m      4\u001b[0m \u001b[0;32mfor\u001b[0m \u001b[0msample\u001b[0m \u001b[0;32min\u001b[0m \u001b[0mtqdm\u001b[0m\u001b[0;34m(\u001b[0m\u001b[0mrange\u001b[0m\u001b[0;34m(\u001b[0m\u001b[0msample_size\u001b[0m\u001b[0;34m)\u001b[0m\u001b[0;34m)\u001b[0m\u001b[0;34m:\u001b[0m\u001b[0;34m\u001b[0m\u001b[0;34m\u001b[0m\u001b[0m\n\u001b[0;32m----> 5\u001b[0;31m     \u001b[0mzscore_sim\u001b[0m \u001b[0;34m=\u001b[0m \u001b[0mst\u001b[0m\u001b[0;34m.\u001b[0m\u001b[0mpearson3\u001b[0m\u001b[0;34m.\u001b[0m\u001b[0mrvs\u001b[0m\u001b[0;34m(\u001b[0m\u001b[0mskew\u001b[0m\u001b[0;34m=\u001b[0m\u001b[0mskew_\u001b[0m\u001b[0;34m,\u001b[0m \u001b[0mloc\u001b[0m\u001b[0;34m=\u001b[0m\u001b[0mloc_\u001b[0m\u001b[0;34m,\u001b[0m \u001b[0mscale\u001b[0m\u001b[0;34m=\u001b[0m\u001b[0mscale_\u001b[0m\u001b[0;34m,\u001b[0m \u001b[0msize\u001b[0m\u001b[0;34m=\u001b[0m\u001b[0mzscore_metric\u001b[0m\u001b[0;34m.\u001b[0m\u001b[0mshape\u001b[0m\u001b[0;34m[\u001b[0m\u001b[0;36m0\u001b[0m\u001b[0;34m]\u001b[0m\u001b[0;34m,\u001b[0m \u001b[0mrandom_state\u001b[0m\u001b[0;34m=\u001b[0m\u001b[0msample\u001b[0m\u001b[0;34m)\u001b[0m\u001b[0;34m\u001b[0m\u001b[0;34m\u001b[0m\u001b[0m\n\u001b[0m\u001b[1;32m      6\u001b[0m \u001b[0;34m\u001b[0m\u001b[0m\n\u001b[1;32m      7\u001b[0m     \u001b[0mspread_sim\u001b[0m \u001b[0;34m=\u001b[0m \u001b[0mspread\u001b[0m\u001b[0;34m\u001b[0m\u001b[0;34m\u001b[0m\u001b[0m\n",
      "\u001b[0;31mNameError\u001b[0m: name 'skew_' is not defined"
     ]
    }
   ],
   "source": [
    "sample_size = 10000\n",
    "ret_sims = []\n",
    "\n",
    "for sample in tqdm(range(sample_size)):\n",
    "    zscore_sim = st.pearson3.rvs(skew=skew_, loc=loc_, scale=scale_, size=zscore_metric.shape[0], random_state=sample)\n",
    "    \n",
    "    spread_sim = spread\n",
    "    spread_sim['zscore'] = zscore_sim\n",
    "    \n",
    "    _, _, _, _, ret_sim, _ = run_backtest(spread_sim, 2.0, 0.)[0]\n",
    "    ret_sims.append(ret_sim)\n",
    "    \n",
    "    if (np.mean(ret_sim) >= np.mean(ret)):\n",
    "        num_better_samples += 1\n",
    "            \n",
    "print(\"Randomized zscore: p-value = %f\" % (num_better_samples / sample_size))"
   ]
  },
  {
   "cell_type": "markdown",
   "id": "3c74b9da",
   "metadata": {},
   "source": [
    "## Randomized Entry Test"
   ]
  },
  {
   "cell_type": "markdown",
   "id": "d2d21fa5",
   "metadata": {},
   "source": [
    "### Randomized Entry Returns"
   ]
  },
  {
   "cell_type": "code",
   "execution_count": null,
   "id": "e10ac0b9",
   "metadata": {},
   "outputs": [],
   "source": [
    "num_better_samples = 0"
   ]
  },
  {
   "cell_type": "code",
   "execution_count": null,
   "id": "74fac295",
   "metadata": {},
   "outputs": [],
   "source": [
    "sample_size = 10000\n",
    "ret_sims = []\n",
    "\n",
    "for sample in tqdm(range(sample_size)):\n",
    "    long_a_sim = long_a.shuffle()\n",
    "    long_b_sim = long_b.shuffle() \n",
    "    \n",
    "    ret_sim = run_fake_backtest(spread, long_a_sim, long_b_sim, 1.5, 5)[0]\n",
    "    ret_sims.append(ret_sim)\n",
    "    \n",
    "    if (np.mean(ret_sim) >= np.mean(ret)):\n",
    "        num_better_samples += 1\n",
    "\n",
    "print(\"Randomized Entry: p-value = %f\" % (num_better_samples / sample_size))"
   ]
  },
  {
   "cell_type": "code",
   "execution_count": null,
   "id": "b48726d8",
   "metadata": {},
   "outputs": [],
   "source": [
    "def get_a_b(al, ac, ah, bl, bc, bh):\n",
    "    return ac-abs(ac-al)/2, ac+abs(ac-ah)/2, bc-abs(bc-bl)/2, bc+abs(bc-bh)/2\n",
    "\n",
    "def run_fake_backtest(spread, long_a_sim, long_b_sim, thres, sell_thres, fee=0.002, interest=0.002):\n",
    "    total, p_total = 0, 0 #Previous total\n",
    "    cusum, returns = [], []\n",
    "    price_a, price_b, long = None, None, None #Values: None, \"A\", \"B\"\n",
    "    long_a, long_b, liquidate,  dd_indices= [], [], [], [] #Drawdown indicies\n",
    "    dd_i = True\n",
    "    \n",
    "    for i in range(spread.shape[0]):\n",
    "        al, ah, bl, bh = get_a_b(spread.Al[i], spread.A[i], spread.Ah[i], spread.Bl[i], spread.B[i], spread.Bh[i])\n",
    "        \n",
    "        if i in long_a_sim: # Looking to buy\n",
    "            price_a = ah\n",
    "            price_b = bl\n",
    "            long = \"A\"\n",
    "            long_a.append(spread.index[i])\n",
    "            \n",
    "        elif i in long_b_sim:\n",
    "            price_a = al\n",
    "            price_b = bh\n",
    "            long = \"B\"\n",
    "            long_b.append(spread.index[i])\n",
    "            \n",
    "        elif (long == \"A\" and (i in long_b_sim)) or (long == \"B\" and (i in long_a_sim)): #Liquidate positions\n",
    "            al, ah, bl, bh = get_a_b(spread.Al[i], spread.A[i], spread.Ah[i], spread.Bl[i], spread.B[i], spread.Bh[i])\n",
    "            gain = 0\n",
    "            if long==\"A\":\n",
    "                gain = liquidate_assets(price_b, bh, al, price_a, fee, long_a[-1], spread.index[i], interest)\n",
    "            else:\n",
    "                gain = liquidate_assets(price_a, ah, bl, price_b, fee, long_b[-1], spread.index[i], interest)\n",
    "            returns.append(gain)\n",
    "            total += gain\n",
    "            price_a, price_b, long = None, None, None\n",
    "            liquidate.append(spread.index[i])\n",
    "        cusum.append(total)\n",
    "        \n",
    "\n",
    "        if total < p_total:\n",
    "            if dd_i:\n",
    "                dd_indices.append(spread.index[i])\n",
    "                dd_i = False\n",
    "        else:\n",
    "            if not dd_i:\n",
    "                dd_indices.append(spread.index[i])\n",
    "                dd_i = True\n",
    "            p_total = total\n",
    "    if total < p_total:\n",
    "        dd_indices.append(spread.index[i])\n",
    "    drawdowns = get_drawdowns(dd_indices)\n",
    "    return long_a, long_b, liquidate, cusum, returns, drawdowns\n",
    "        \n",
    "def liquidate_assets(x1, x2, y1, y2, fee, d1, d2, interest):\n",
    "    interest = ((d2-d1).days + 1) * interest\n",
    "    total = (x1 - x2)/x1 - 2*fee - interest\n",
    "    total += (y1 - y2)/y1 - 2*fee - interest\n",
    "    return total\n",
    "\n",
    "def get_drawdowns(dd_indices):\n",
    "    a = dd_indices[1::2]\n",
    "    b = dd_indices[::2]\n",
    "    a = np.array(a)\n",
    "    b = np.array(b[:len(a)])\n",
    "    c = a-b\n",
    "    c.sort()\n",
    "    return c[::-1]"
   ]
  }
 ],
 "metadata": {
  "kernelspec": {
   "display_name": "Python 3",
   "language": "python",
   "name": "python3"
  },
  "language_info": {
   "codemirror_mode": {
    "name": "ipython",
    "version": 3
   },
   "file_extension": ".py",
   "mimetype": "text/x-python",
   "name": "python",
   "nbconvert_exporter": "python",
   "pygments_lexer": "ipython3",
   "version": "3.9.5"
  },
  "toc": {
   "base_numbering": 1,
   "nav_menu": {},
   "number_sections": true,
   "sideBar": true,
   "skip_h1_title": false,
   "title_cell": "Table of Contents",
   "title_sidebar": "Contents",
   "toc_cell": false,
   "toc_position": {},
   "toc_section_display": true,
   "toc_window_display": false
  },
  "varInspector": {
   "cols": {
    "lenName": 16,
    "lenType": 16,
    "lenVar": 40
   },
   "kernels_config": {
    "python": {
     "delete_cmd_postfix": "",
     "delete_cmd_prefix": "del ",
     "library": "var_list.py",
     "varRefreshCmd": "print(var_dic_list())"
    },
    "r": {
     "delete_cmd_postfix": ") ",
     "delete_cmd_prefix": "rm(",
     "library": "var_list.r",
     "varRefreshCmd": "cat(var_dic_list()) "
    }
   },
   "types_to_exclude": [
    "module",
    "function",
    "builtin_function_or_method",
    "instance",
    "_Feature"
   ],
   "window_display": false
  }
 },
 "nbformat": 4,
 "nbformat_minor": 5
}
