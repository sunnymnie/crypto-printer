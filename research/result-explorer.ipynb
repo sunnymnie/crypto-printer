{
 "cells": [
  {
   "cell_type": "markdown",
   "id": "5cdf9cc2-8dac-48cf-9bbd-7fa9c0063378",
   "metadata": {},
   "source": [
    "# Scratch work"
   ]
  },
  {
   "cell_type": "code",
   "execution_count": 1,
   "id": "11689523-85ea-4c4d-b8f6-c34aa4580a1d",
   "metadata": {},
   "outputs": [],
   "source": [
    "import pandas as pd\n",
    "import numpy as np\n",
    "import matplotlib.pyplot as plt\n",
    "import time"
   ]
  },
  {
   "cell_type": "code",
   "execution_count": 40,
   "id": "303b5e04-508c-4e4b-b4ee-a3262c572c33",
   "metadata": {},
   "outputs": [],
   "source": [
    "df = pd.read_csv(\"../data/generated/fet-celr-5000.csv\")"
   ]
  },
  {
   "cell_type": "code",
   "execution_count": 41,
   "id": "b98c804e-972a-4b47-a0ff-13e02aca761a",
   "metadata": {},
   "outputs": [
    {
     "name": "stdout",
     "output_type": "stream",
     "text": [
      "reformatting took: 6.11 minutes\n"
     ]
    }
   ],
   "source": [
    "start = time.time()\n",
    "\n",
    "df[\"cusum\"] = df[\"cusum\"].apply(eval)\n",
    "df[\"returns\"] = df[\"returns\"].apply(eval)\n",
    "df[\"drawdowns\"] = df[\"drawdowns\"].apply(eval)\n",
    "\n",
    "print(f\"reformatting took: {round((time.time()-start)/60, 2)} minutes\")"
   ]
  },
  {
   "cell_type": "markdown",
   "id": "2046904c-7575-4aed-9c43-fb98b6f3c6ad",
   "metadata": {},
   "source": [
    "## About the dataframe:"
   ]
  },
  {
   "cell_type": "code",
   "execution_count": 37,
   "id": "59e5f64f-99cd-4572-953d-697613e6fb44",
   "metadata": {},
   "outputs": [
    {
     "data": {
      "text/html": [
       "<div>\n",
       "<style scoped>\n",
       "    .dataframe tbody tr th:only-of-type {\n",
       "        vertical-align: middle;\n",
       "    }\n",
       "\n",
       "    .dataframe tbody tr th {\n",
       "        vertical-align: top;\n",
       "    }\n",
       "\n",
       "    .dataframe thead th {\n",
       "        text-align: right;\n",
       "    }\n",
       "</style>\n",
       "<table border=\"1\" class=\"dataframe\">\n",
       "  <thead>\n",
       "    <tr style=\"text-align: right;\">\n",
       "      <th></th>\n",
       "      <th>lookback</th>\n",
       "      <th>thres</th>\n",
       "      <th>sell_thres</th>\n",
       "      <th>cusum</th>\n",
       "      <th>returns</th>\n",
       "      <th>drawdowns</th>\n",
       "    </tr>\n",
       "  </thead>\n",
       "  <tbody>\n",
       "    <tr>\n",
       "      <th>0</th>\n",
       "      <td>4000</td>\n",
       "      <td>0.5</td>\n",
       "      <td>-0.25</td>\n",
       "      <td>[0, 0, 0, 0, 0, 0, 0, 0, 0, 0, 0, 0, 0, 0, 0, ...</td>\n",
       "      <td>[-0.04338, -0.00092, 0.00689, 0.00409, 0.00307...</td>\n",
       "      <td>[41920140, 83520]</td>\n",
       "    </tr>\n",
       "    <tr>\n",
       "      <th>1</th>\n",
       "      <td>4000</td>\n",
       "      <td>0.5</td>\n",
       "      <td>0.00</td>\n",
       "      <td>[0, 0, 0, 0, 0, 0, 0, 0, 0, 0, 0, 0, 0, 0, 0, ...</td>\n",
       "      <td>[-0.03909, 0.01631, 0.00499, 0.00778, 0.00482,...</td>\n",
       "      <td>[40840200, 562260, 128700, 64080, 57600, 35160...</td>\n",
       "    </tr>\n",
       "    <tr>\n",
       "      <th>2</th>\n",
       "      <td>4000</td>\n",
       "      <td>0.5</td>\n",
       "      <td>0.25</td>\n",
       "      <td>[0, 0, 0, 0, 0, 0, 0, 0, 0, 0, 0, 0, 0, 0, 0, ...</td>\n",
       "      <td>[-0.04346, 0.02526, 0.02499, 0.01898, 0.0033, ...</td>\n",
       "      <td>[18416700, 6417000, 2284080, 1861080, 1584240,...</td>\n",
       "    </tr>\n",
       "  </tbody>\n",
       "</table>\n",
       "</div>"
      ],
      "text/plain": [
       "   lookback  thres  sell_thres  \\\n",
       "0      4000    0.5       -0.25   \n",
       "1      4000    0.5        0.00   \n",
       "2      4000    0.5        0.25   \n",
       "\n",
       "                                               cusum  \\\n",
       "0  [0, 0, 0, 0, 0, 0, 0, 0, 0, 0, 0, 0, 0, 0, 0, ...   \n",
       "1  [0, 0, 0, 0, 0, 0, 0, 0, 0, 0, 0, 0, 0, 0, 0, ...   \n",
       "2  [0, 0, 0, 0, 0, 0, 0, 0, 0, 0, 0, 0, 0, 0, 0, ...   \n",
       "\n",
       "                                             returns  \\\n",
       "0  [-0.04338, -0.00092, 0.00689, 0.00409, 0.00307...   \n",
       "1  [-0.03909, 0.01631, 0.00499, 0.00778, 0.00482,...   \n",
       "2  [-0.04346, 0.02526, 0.02499, 0.01898, 0.0033, ...   \n",
       "\n",
       "                                           drawdowns  \n",
       "0                                  [41920140, 83520]  \n",
       "1  [40840200, 562260, 128700, 64080, 57600, 35160...  \n",
       "2  [18416700, 6417000, 2284080, 1861080, 1584240,...  "
      ]
     },
     "execution_count": 37,
     "metadata": {},
     "output_type": "execute_result"
    }
   ],
   "source": [
    "df.head(3)"
   ]
  },
  {
   "cell_type": "markdown",
   "id": "4283e3d6-65a9-4485-bd06-f7f862967362",
   "metadata": {},
   "source": [
    "| Column name | description |\n",
    "| --- | --- |\n",
    "| lookback | metric for identifying strategy (ignore) |\n",
    "| thres | metric for identifying strategy (ignore) |\n",
    "| sell_thres | metric for identifying strategy (ignore) |\n",
    "| cusum | cumulative realized returns starting at 0 and updated every minute |\n",
    "| returns | list of realized returns, where its length == number of trades that took place |\n",
    "| drawdowns | list of seconds indicating drawdown length, sorted from greatest to least |\n",
    "\n",
    "Therefore: \n",
    "- if you call .cumsum() on `returns`, the graph resembles `cusum` but much smoother because less granular detail. \n",
    "- length of `drawdowns` is how many 'dips' the strategy encountered.\n",
    "- calling .diff() on `cusum` returns `returns` but on a minutely basis. "
   ]
  },
  {
   "cell_type": "code",
   "execution_count": 25,
   "id": "2c396327-c1a5-436d-8c69-a2e953accdef",
   "metadata": {},
   "outputs": [],
   "source": [
    "def get_wins_and_losses(returns):\n",
    "    \"\"\"returns the number of profitable trades and number of losing trades\"\"\"\n",
    "    wins = len(list(filter(lambda x: x>0, returns)))\n",
    "    losses = len(list(filter(lambda x: x<=0, returns)))\n",
    "    return wins, losses\n",
    "\n",
    "def get_average_win_loss(returns):\n",
    "    \"\"\"returns the mean % gain of profitable trades and mean % loss of losing trades in decimal format\"\"\"\n",
    "    wins = np.mean(list(filter(lambda x: x>0, returns)))\n",
    "    losses = np.mean(list(filter(lambda x: x<=0, returns)))\n",
    "    return wins, losses\n",
    "\n",
    "def get_winning_losing_streak(returns):\n",
    "    \"\"\"returns the length of the winning streak and length of losing streak\"\"\"\n",
    "    w, p_w = 0, 0\n",
    "    l, p_l = 0, 0\n",
    "    for trade in returns:\n",
    "        if trade > 0:\n",
    "            w += 1\n",
    "            p_l = l if l>p_l else p_l\n",
    "            l = 0\n",
    "        else:\n",
    "            l += 1\n",
    "            p_w = w if w>p_w else p_w\n",
    "            w = 0\n",
    "    return p_w, p_l"
   ]
  },
  {
   "cell_type": "markdown",
   "id": "f5d9e07a-6c94-412f-9bd5-4c6be09675fc",
   "metadata": {},
   "source": [
    "## Below are examples for this trade:"
   ]
  },
  {
   "cell_type": "code",
   "execution_count": 26,
   "id": "acb7880a-7950-4e2f-8ffe-d0117ff26eb9",
   "metadata": {},
   "outputs": [
    {
     "data": {
      "text/plain": [
       "lookback                                                   2000\n",
       "thres                                                       0.5\n",
       "sell_thres                                                  1.0\n",
       "cusum         [0, 0, 0, 0, 0, 0, 0, 0, 0, 0, 0, 0, 0, 0, 0, ...\n",
       "returns       [-0.04523, 0.01422, 0.0132, 0.02318, 0.10748, ...\n",
       "drawdowns     [20299140, 4969260, 2049180, 868800, 713400, 7...\n",
       "Name: 5, dtype: object"
      ]
     },
     "execution_count": 26,
     "metadata": {},
     "output_type": "execute_result"
    }
   ],
   "source": [
    "result = df.iloc[5]\n",
    "result"
   ]
  },
  {
   "cell_type": "markdown",
   "id": "9aeb9dff-2e36-4c67-b822-a73dd59855f0",
   "metadata": {},
   "source": [
    "### Get number of trades"
   ]
  },
  {
   "cell_type": "code",
   "execution_count": 27,
   "id": "02671b61-2108-4b1a-989c-ce8c958c8f37",
   "metadata": {},
   "outputs": [
    {
     "data": {
      "text/plain": [
       "718"
      ]
     },
     "execution_count": 27,
     "metadata": {},
     "output_type": "execute_result"
    }
   ],
   "source": [
    "len(result.returns)"
   ]
  },
  {
   "cell_type": "markdown",
   "id": "306f33c5-94df-49f3-a843-768142120b63",
   "metadata": {},
   "source": [
    "### Get # of wins and # of losses"
   ]
  },
  {
   "cell_type": "code",
   "execution_count": 28,
   "id": "2f7b5f73-7569-4895-b4ed-7a2d4e547fca",
   "metadata": {},
   "outputs": [
    {
     "data": {
      "text/plain": [
       "(537, 181)"
      ]
     },
     "execution_count": 28,
     "metadata": {},
     "output_type": "execute_result"
    }
   ],
   "source": [
    "get_wins_and_losses(result.returns)"
   ]
  },
  {
   "cell_type": "markdown",
   "id": "58f15487-ae8d-4e01-8ea0-67ffaf3fae9a",
   "metadata": {},
   "source": [
    "### Get mean win amount and mean loss amount (where 0.02 == 2%)"
   ]
  },
  {
   "cell_type": "code",
   "execution_count": 29,
   "id": "1c33bf2c-98d8-434d-92fa-9670083a15dd",
   "metadata": {},
   "outputs": [
    {
     "data": {
      "text/plain": [
       "(0.026453780260707636, -0.06609541436464088)"
      ]
     },
     "execution_count": 29,
     "metadata": {},
     "output_type": "execute_result"
    }
   ],
   "source": [
    "get_average_win_loss(result.returns)"
   ]
  },
  {
   "cell_type": "markdown",
   "id": "c0b39fca-3ac7-459e-8fe4-cd4e06e6594d",
   "metadata": {},
   "source": [
    "### Get winning and losing streak, where 17 means 17 wins/losses in a row"
   ]
  },
  {
   "cell_type": "code",
   "execution_count": 30,
   "id": "9745b186-6b2e-4c74-8278-1feedf232f81",
   "metadata": {},
   "outputs": [
    {
     "data": {
      "text/plain": [
       "(18, 5)"
      ]
     },
     "execution_count": 30,
     "metadata": {},
     "output_type": "execute_result"
    }
   ],
   "source": [
    "get_winning_losing_streak(result.returns)"
   ]
  },
  {
   "cell_type": "markdown",
   "id": "e1815c31-517d-4130-9d0b-ee72b21cbd16",
   "metadata": {},
   "source": [
    "### Get max drawdown length (in seconds)"
   ]
  },
  {
   "cell_type": "code",
   "execution_count": 31,
   "id": "aa35fe06-5512-4212-a090-ef21eacc8441",
   "metadata": {},
   "outputs": [
    {
     "data": {
      "text/plain": [
       "20299140"
      ]
     },
     "execution_count": 31,
     "metadata": {},
     "output_type": "execute_result"
    }
   ],
   "source": [
    "result.drawdowns[0] #sorted by longest to shortest"
   ]
  },
  {
   "cell_type": "markdown",
   "id": "c07b2323-294b-4572-8d28-7aeddac4f049",
   "metadata": {},
   "source": [
    "### Get max drawdown on a trade and max gain on a trade (realized)"
   ]
  },
  {
   "cell_type": "code",
   "execution_count": 42,
   "id": "36503281-08d0-424c-98e0-2be38f4e8232",
   "metadata": {},
   "outputs": [
    {
     "data": {
      "text/plain": [
       "(-0.50733, 0.1568)"
      ]
     },
     "execution_count": 42,
     "metadata": {},
     "output_type": "execute_result"
    }
   ],
   "source": [
    "min(result.returns), max(result.returns)"
   ]
  },
  {
   "cell_type": "code",
   "execution_count": 43,
   "id": "15131b7a-ffe9-4799-8458-b02989f8e68a",
   "metadata": {},
   "outputs": [],
   "source": [
    "df[\"return\"] = list(map(lambda x: x[-1], df.cusum))"
   ]
  },
  {
   "cell_type": "code",
   "execution_count": 44,
   "id": "7d9a543a-efcd-4046-b5b8-7cdbcc16dafe",
   "metadata": {},
   "outputs": [
    {
     "data": {
      "text/html": [
       "<div>\n",
       "<style scoped>\n",
       "    .dataframe tbody tr th:only-of-type {\n",
       "        vertical-align: middle;\n",
       "    }\n",
       "\n",
       "    .dataframe tbody tr th {\n",
       "        vertical-align: top;\n",
       "    }\n",
       "\n",
       "    .dataframe thead th {\n",
       "        text-align: right;\n",
       "    }\n",
       "</style>\n",
       "<table border=\"1\" class=\"dataframe\">\n",
       "  <thead>\n",
       "    <tr style=\"text-align: right;\">\n",
       "      <th></th>\n",
       "      <th>lookback</th>\n",
       "      <th>thres</th>\n",
       "      <th>sell_thres</th>\n",
       "      <th>cusum</th>\n",
       "      <th>returns</th>\n",
       "      <th>drawdowns</th>\n",
       "      <th>return</th>\n",
       "    </tr>\n",
       "  </thead>\n",
       "  <tbody>\n",
       "    <tr>\n",
       "      <th>109</th>\n",
       "      <td>5000</td>\n",
       "      <td>3.00</td>\n",
       "      <td>0.00</td>\n",
       "      <td>[0, 0, 0, 0, 0, 0, 0, 0, 0, 0, 0, 0, 0, 0, 0, ...</td>\n",
       "      <td>[0.05667, 0.02189, 0.05573, 0.01262, 0.02248, ...</td>\n",
       "      <td>[2288220, 1866300, 1643220, 1553400, 1349760, ...</td>\n",
       "      <td>4.453754</td>\n",
       "    </tr>\n",
       "    <tr>\n",
       "      <th>94</th>\n",
       "      <td>5000</td>\n",
       "      <td>2.50</td>\n",
       "      <td>0.00</td>\n",
       "      <td>[0, 0, 0, 0, 0, 0, 0, 0, 0, 0, 0, 0, 0, 0, 0, ...</td>\n",
       "      <td>[0.02812, 0.04555, 0.02189, 0.04345, 0.00414, ...</td>\n",
       "      <td>[3752760, 2393340, 1704540, 1494420, 1216920, ...</td>\n",
       "      <td>4.452434</td>\n",
       "    </tr>\n",
       "    <tr>\n",
       "      <th>93</th>\n",
       "      <td>5000</td>\n",
       "      <td>2.50</td>\n",
       "      <td>-0.25</td>\n",
       "      <td>[0, 0, 0, 0, 0, 0, 0, 0, 0, 0, 0, 0, 0, 0, 0, ...</td>\n",
       "      <td>[0.0241, 0.03199, 0.00462, 0.03034, -0.00083, ...</td>\n",
       "      <td>[5308260, 3278340, 2033760, 1629780, 1553880, ...</td>\n",
       "      <td>4.309373</td>\n",
       "    </tr>\n",
       "    <tr>\n",
       "      <th>65</th>\n",
       "      <td>5000</td>\n",
       "      <td>1.75</td>\n",
       "      <td>0.00</td>\n",
       "      <td>[0, 0, 0, 0, 0, 0, 0, 0, 0, 0, 0, 0, 0, 0, 0, ...</td>\n",
       "      <td>[-0.0096, 0.05753, 0.02042, 0.06874, 0.01262, ...</td>\n",
       "      <td>[5297400, 3690840, 2592600, 2236740, 2021400, ...</td>\n",
       "      <td>4.306889</td>\n",
       "    </tr>\n",
       "    <tr>\n",
       "      <th>108</th>\n",
       "      <td>5000</td>\n",
       "      <td>3.00</td>\n",
       "      <td>-0.25</td>\n",
       "      <td>[0, 0, 0, 0, 0, 0, 0, 0, 0, 0, 0, 0, 0, 0, 0, ...</td>\n",
       "      <td>[0.04314, 0.00462, 0.0421, 0.00766, 0.02248, 0...</td>\n",
       "      <td>[3107820, 2174160, 1953180, 1932960, 1525380, ...</td>\n",
       "      <td>4.235001</td>\n",
       "    </tr>\n",
       "    <tr>\n",
       "      <th>...</th>\n",
       "      <td>...</td>\n",
       "      <td>...</td>\n",
       "      <td>...</td>\n",
       "      <td>...</td>\n",
       "      <td>...</td>\n",
       "      <td>...</td>\n",
       "      <td>...</td>\n",
       "    </tr>\n",
       "    <tr>\n",
       "      <th>1</th>\n",
       "      <td>5000</td>\n",
       "      <td>0.50</td>\n",
       "      <td>0.00</td>\n",
       "      <td>[0, 0, 0, 0, 0, 0, 0, 0, 0, 0, 0, 0, 0, 0, 0, ...</td>\n",
       "      <td>[-0.03909, 0.01631, 0.00499, 0.01388, 0.0151, ...</td>\n",
       "      <td>[40837620, 147960, 57660, 35940, 34620, 33120,...</td>\n",
       "      <td>-3.131897</td>\n",
       "    </tr>\n",
       "    <tr>\n",
       "      <th>61</th>\n",
       "      <td>5000</td>\n",
       "      <td>1.75</td>\n",
       "      <td>-1.50</td>\n",
       "      <td>[0, 0, 0, 0, 0, 0, 0, 0, 0, 0, 0, 0, 0, 0, 0, ...</td>\n",
       "      <td>[-0.01863, 0.0153, 0.00174, 0.00129, 0.00307, ...</td>\n",
       "      <td>[42047460, 4080, 1800]</td>\n",
       "      <td>-11.371068</td>\n",
       "    </tr>\n",
       "    <tr>\n",
       "      <th>35</th>\n",
       "      <td>5000</td>\n",
       "      <td>1.25</td>\n",
       "      <td>-1.00</td>\n",
       "      <td>[0, 0, 0, 0, 0, 0, 0, 0, 0, 0, 0, 0, 0, 0, 0, ...</td>\n",
       "      <td>[-0.03508, -0.00525, -0.00141, -2e-05, -0.0180...</td>\n",
       "      <td>[42074700]</td>\n",
       "      <td>-15.321294</td>\n",
       "    </tr>\n",
       "    <tr>\n",
       "      <th>11</th>\n",
       "      <td>5000</td>\n",
       "      <td>0.75</td>\n",
       "      <td>-0.50</td>\n",
       "      <td>[0, 0, 0, 0, 0, 0, 0, 0, 0, 0, 0, 0, 0, 0, 0, ...</td>\n",
       "      <td>[-0.01678, 0.01248, 0.00366, -0.00704, -0.0522...</td>\n",
       "      <td>[42070080]</td>\n",
       "      <td>-18.330420</td>\n",
       "    </tr>\n",
       "    <tr>\n",
       "      <th>0</th>\n",
       "      <td>5000</td>\n",
       "      <td>0.50</td>\n",
       "      <td>-0.25</td>\n",
       "      <td>[0, 0, 0, 0, 0, 0, 0, 0, 0, 0, 0, 0, 0, 0, 0, ...</td>\n",
       "      <td>[-0.04338, -0.00046, 0.00689, 0.00273, 0.00755...</td>\n",
       "      <td>[41890260, 96840, 4200]</td>\n",
       "      <td>-19.625918</td>\n",
       "    </tr>\n",
       "  </tbody>\n",
       "</table>\n",
       "<p>134 rows × 7 columns</p>\n",
       "</div>"
      ],
      "text/plain": [
       "     lookback  thres  sell_thres  \\\n",
       "109      5000   3.00        0.00   \n",
       "94       5000   2.50        0.00   \n",
       "93       5000   2.50       -0.25   \n",
       "65       5000   1.75        0.00   \n",
       "108      5000   3.00       -0.25   \n",
       "..        ...    ...         ...   \n",
       "1        5000   0.50        0.00   \n",
       "61       5000   1.75       -1.50   \n",
       "35       5000   1.25       -1.00   \n",
       "11       5000   0.75       -0.50   \n",
       "0        5000   0.50       -0.25   \n",
       "\n",
       "                                                 cusum  \\\n",
       "109  [0, 0, 0, 0, 0, 0, 0, 0, 0, 0, 0, 0, 0, 0, 0, ...   \n",
       "94   [0, 0, 0, 0, 0, 0, 0, 0, 0, 0, 0, 0, 0, 0, 0, ...   \n",
       "93   [0, 0, 0, 0, 0, 0, 0, 0, 0, 0, 0, 0, 0, 0, 0, ...   \n",
       "65   [0, 0, 0, 0, 0, 0, 0, 0, 0, 0, 0, 0, 0, 0, 0, ...   \n",
       "108  [0, 0, 0, 0, 0, 0, 0, 0, 0, 0, 0, 0, 0, 0, 0, ...   \n",
       "..                                                 ...   \n",
       "1    [0, 0, 0, 0, 0, 0, 0, 0, 0, 0, 0, 0, 0, 0, 0, ...   \n",
       "61   [0, 0, 0, 0, 0, 0, 0, 0, 0, 0, 0, 0, 0, 0, 0, ...   \n",
       "35   [0, 0, 0, 0, 0, 0, 0, 0, 0, 0, 0, 0, 0, 0, 0, ...   \n",
       "11   [0, 0, 0, 0, 0, 0, 0, 0, 0, 0, 0, 0, 0, 0, 0, ...   \n",
       "0    [0, 0, 0, 0, 0, 0, 0, 0, 0, 0, 0, 0, 0, 0, 0, ...   \n",
       "\n",
       "                                               returns  \\\n",
       "109  [0.05667, 0.02189, 0.05573, 0.01262, 0.02248, ...   \n",
       "94   [0.02812, 0.04555, 0.02189, 0.04345, 0.00414, ...   \n",
       "93   [0.0241, 0.03199, 0.00462, 0.03034, -0.00083, ...   \n",
       "65   [-0.0096, 0.05753, 0.02042, 0.06874, 0.01262, ...   \n",
       "108  [0.04314, 0.00462, 0.0421, 0.00766, 0.02248, 0...   \n",
       "..                                                 ...   \n",
       "1    [-0.03909, 0.01631, 0.00499, 0.01388, 0.0151, ...   \n",
       "61   [-0.01863, 0.0153, 0.00174, 0.00129, 0.00307, ...   \n",
       "35   [-0.03508, -0.00525, -0.00141, -2e-05, -0.0180...   \n",
       "11   [-0.01678, 0.01248, 0.00366, -0.00704, -0.0522...   \n",
       "0    [-0.04338, -0.00046, 0.00689, 0.00273, 0.00755...   \n",
       "\n",
       "                                             drawdowns     return  \n",
       "109  [2288220, 1866300, 1643220, 1553400, 1349760, ...   4.453754  \n",
       "94   [3752760, 2393340, 1704540, 1494420, 1216920, ...   4.452434  \n",
       "93   [5308260, 3278340, 2033760, 1629780, 1553880, ...   4.309373  \n",
       "65   [5297400, 3690840, 2592600, 2236740, 2021400, ...   4.306889  \n",
       "108  [3107820, 2174160, 1953180, 1932960, 1525380, ...   4.235001  \n",
       "..                                                 ...        ...  \n",
       "1    [40837620, 147960, 57660, 35940, 34620, 33120,...  -3.131897  \n",
       "61                              [42047460, 4080, 1800] -11.371068  \n",
       "35                                          [42074700] -15.321294  \n",
       "11                                          [42070080] -18.330420  \n",
       "0                              [41890260, 96840, 4200] -19.625918  \n",
       "\n",
       "[134 rows x 7 columns]"
      ]
     },
     "execution_count": 44,
     "metadata": {},
     "output_type": "execute_result"
    }
   ],
   "source": [
    "df.sort_values(\"return\", ascending=False)"
   ]
  },
  {
   "cell_type": "code",
   "execution_count": 39,
   "id": "9f5ed1c5-e47e-492b-8278-203b95466812",
   "metadata": {},
   "outputs": [
    {
     "data": {
      "text/html": [
       "<div>\n",
       "<style scoped>\n",
       "    .dataframe tbody tr th:only-of-type {\n",
       "        vertical-align: middle;\n",
       "    }\n",
       "\n",
       "    .dataframe tbody tr th {\n",
       "        vertical-align: top;\n",
       "    }\n",
       "\n",
       "    .dataframe thead th {\n",
       "        text-align: right;\n",
       "    }\n",
       "</style>\n",
       "<table border=\"1\" class=\"dataframe\">\n",
       "  <thead>\n",
       "    <tr style=\"text-align: right;\">\n",
       "      <th></th>\n",
       "      <th>lookback</th>\n",
       "      <th>thres</th>\n",
       "      <th>sell_thres</th>\n",
       "      <th>cusum</th>\n",
       "      <th>returns</th>\n",
       "      <th>drawdowns</th>\n",
       "      <th>return</th>\n",
       "    </tr>\n",
       "  </thead>\n",
       "  <tbody>\n",
       "    <tr>\n",
       "      <th>95</th>\n",
       "      <td>4000</td>\n",
       "      <td>2.50</td>\n",
       "      <td>0.25</td>\n",
       "      <td>[0, 0, 0, 0, 0, 0, 0, 0, 0, 0, 0, 0, 0, 0, 0, ...</td>\n",
       "      <td>[-0.00123, 0.02317, 0.02189, 0.03611, 0.03606,...</td>\n",
       "      <td>[2312820, 1783320, 1592160, 1581480, 1543920, ...</td>\n",
       "      <td>4.911096</td>\n",
       "    </tr>\n",
       "    <tr>\n",
       "      <th>39</th>\n",
       "      <td>4000</td>\n",
       "      <td>1.25</td>\n",
       "      <td>0.25</td>\n",
       "      <td>[0, 0, 0, 0, 0, 0, 0, 0, 0, 0, 0, 0, 0, 0, 0, ...</td>\n",
       "      <td>[-0.04346, 0.04344, 0.01702, -0.0088, 0.03334,...</td>\n",
       "      <td>[14919660, 2681400, 1775820, 1503780, 1046400,...</td>\n",
       "      <td>4.805235</td>\n",
       "    </tr>\n",
       "    <tr>\n",
       "      <th>15</th>\n",
       "      <td>4000</td>\n",
       "      <td>0.75</td>\n",
       "      <td>0.50</td>\n",
       "      <td>[0, 0, 0, 0, 0, 0, 0, 0, 0, 0, 0, 0, 0, 0, 0, ...</td>\n",
       "      <td>[-0.03648, 0.04098, 0.0383, 0.01883, 0.01424, ...</td>\n",
       "      <td>[16289520, 4202940, 1732980, 1306740, 854460, ...</td>\n",
       "      <td>4.656443</td>\n",
       "    </tr>\n",
       "    <tr>\n",
       "      <th>52</th>\n",
       "      <td>4000</td>\n",
       "      <td>1.50</td>\n",
       "      <td>0.25</td>\n",
       "      <td>[0, 0, 0, 0, 0, 0, 0, 0, 0, 0, 0, 0, 0, 0, 0, ...</td>\n",
       "      <td>[-0.04346, 0.05063, 0.03176, 0.00015, 0.07087,...</td>\n",
       "      <td>[8316300, 4227540, 2642100, 1658640, 1503780, ...</td>\n",
       "      <td>4.579836</td>\n",
       "    </tr>\n",
       "    <tr>\n",
       "      <th>94</th>\n",
       "      <td>4000</td>\n",
       "      <td>2.50</td>\n",
       "      <td>0.00</td>\n",
       "      <td>[0, 0, 0, 0, 0, 0, 0, 0, 0, 0, 0, 0, 0, 0, 0, ...</td>\n",
       "      <td>[0.0029, 0.00949, 0.00462, 0.03611, 0.02123, 0...</td>\n",
       "      <td>[3882900, 3185220, 2390160, 1698960, 1589640, ...</td>\n",
       "      <td>4.571913</td>\n",
       "    </tr>\n",
       "    <tr>\n",
       "      <th>...</th>\n",
       "      <td>...</td>\n",
       "      <td>...</td>\n",
       "      <td>...</td>\n",
       "      <td>...</td>\n",
       "      <td>...</td>\n",
       "      <td>...</td>\n",
       "      <td>...</td>\n",
       "    </tr>\n",
       "    <tr>\n",
       "      <th>12</th>\n",
       "      <td>4000</td>\n",
       "      <td>0.75</td>\n",
       "      <td>-0.25</td>\n",
       "      <td>[0, 0, 0, 0, 0, 0, 0, 0, 0, 0, 0, 0, 0, 0, 0, ...</td>\n",
       "      <td>[-0.04338, 0.01378, 0.00307, 0.00393, 0.01581,...</td>\n",
       "      <td>[41567880, 186360, 46020, 30600]</td>\n",
       "      <td>-5.121501</td>\n",
       "    </tr>\n",
       "    <tr>\n",
       "      <th>61</th>\n",
       "      <td>4000</td>\n",
       "      <td>1.75</td>\n",
       "      <td>-1.50</td>\n",
       "      <td>[0, 0, 0, 0, 0, 0, 0, 0, 0, 0, 0, 0, 0, 0, 0, ...</td>\n",
       "      <td>[-0.01581, 0.022, -0.04928, -0.02851, 0.00512,...</td>\n",
       "      <td>[42074700, 2280]</td>\n",
       "      <td>-14.488420</td>\n",
       "    </tr>\n",
       "    <tr>\n",
       "      <th>35</th>\n",
       "      <td>4000</td>\n",
       "      <td>1.25</td>\n",
       "      <td>-1.00</td>\n",
       "      <td>[0, 0, 0, 0, 0, 0, 0, 0, 0, 0, 0, 0, 0, 0, 0, ...</td>\n",
       "      <td>[-0.01302, 0.00545, 0.00857, 0.0044, 0.01059, ...</td>\n",
       "      <td>[42028680, 7620, 960]</td>\n",
       "      <td>-18.613442</td>\n",
       "    </tr>\n",
       "    <tr>\n",
       "      <th>11</th>\n",
       "      <td>4000</td>\n",
       "      <td>0.75</td>\n",
       "      <td>-0.50</td>\n",
       "      <td>[0, 0, 0, 0, 0, 0, 0, 0, 0, 0, 0, 0, 0, 0, 0, ...</td>\n",
       "      <td>[0.00487, -0.00704, -0.05226, -0.00491, 0.0051...</td>\n",
       "      <td>[42051840]</td>\n",
       "      <td>-23.353953</td>\n",
       "    </tr>\n",
       "    <tr>\n",
       "      <th>0</th>\n",
       "      <td>4000</td>\n",
       "      <td>0.50</td>\n",
       "      <td>-0.25</td>\n",
       "      <td>[0, 0, 0, 0, 0, 0, 0, 0, 0, 0, 0, 0, 0, 0, 0, ...</td>\n",
       "      <td>[-0.04338, -0.00092, 0.00689, 0.00409, 0.00307...</td>\n",
       "      <td>[41920140, 83520]</td>\n",
       "      <td>-24.287636</td>\n",
       "    </tr>\n",
       "  </tbody>\n",
       "</table>\n",
       "<p>134 rows × 7 columns</p>\n",
       "</div>"
      ],
      "text/plain": [
       "    lookback  thres  sell_thres  \\\n",
       "95      4000   2.50        0.25   \n",
       "39      4000   1.25        0.25   \n",
       "15      4000   0.75        0.50   \n",
       "52      4000   1.50        0.25   \n",
       "94      4000   2.50        0.00   \n",
       "..       ...    ...         ...   \n",
       "12      4000   0.75       -0.25   \n",
       "61      4000   1.75       -1.50   \n",
       "35      4000   1.25       -1.00   \n",
       "11      4000   0.75       -0.50   \n",
       "0       4000   0.50       -0.25   \n",
       "\n",
       "                                                cusum  \\\n",
       "95  [0, 0, 0, 0, 0, 0, 0, 0, 0, 0, 0, 0, 0, 0, 0, ...   \n",
       "39  [0, 0, 0, 0, 0, 0, 0, 0, 0, 0, 0, 0, 0, 0, 0, ...   \n",
       "15  [0, 0, 0, 0, 0, 0, 0, 0, 0, 0, 0, 0, 0, 0, 0, ...   \n",
       "52  [0, 0, 0, 0, 0, 0, 0, 0, 0, 0, 0, 0, 0, 0, 0, ...   \n",
       "94  [0, 0, 0, 0, 0, 0, 0, 0, 0, 0, 0, 0, 0, 0, 0, ...   \n",
       "..                                                ...   \n",
       "12  [0, 0, 0, 0, 0, 0, 0, 0, 0, 0, 0, 0, 0, 0, 0, ...   \n",
       "61  [0, 0, 0, 0, 0, 0, 0, 0, 0, 0, 0, 0, 0, 0, 0, ...   \n",
       "35  [0, 0, 0, 0, 0, 0, 0, 0, 0, 0, 0, 0, 0, 0, 0, ...   \n",
       "11  [0, 0, 0, 0, 0, 0, 0, 0, 0, 0, 0, 0, 0, 0, 0, ...   \n",
       "0   [0, 0, 0, 0, 0, 0, 0, 0, 0, 0, 0, 0, 0, 0, 0, ...   \n",
       "\n",
       "                                              returns  \\\n",
       "95  [-0.00123, 0.02317, 0.02189, 0.03611, 0.03606,...   \n",
       "39  [-0.04346, 0.04344, 0.01702, -0.0088, 0.03334,...   \n",
       "15  [-0.03648, 0.04098, 0.0383, 0.01883, 0.01424, ...   \n",
       "52  [-0.04346, 0.05063, 0.03176, 0.00015, 0.07087,...   \n",
       "94  [0.0029, 0.00949, 0.00462, 0.03611, 0.02123, 0...   \n",
       "..                                                ...   \n",
       "12  [-0.04338, 0.01378, 0.00307, 0.00393, 0.01581,...   \n",
       "61  [-0.01581, 0.022, -0.04928, -0.02851, 0.00512,...   \n",
       "35  [-0.01302, 0.00545, 0.00857, 0.0044, 0.01059, ...   \n",
       "11  [0.00487, -0.00704, -0.05226, -0.00491, 0.0051...   \n",
       "0   [-0.04338, -0.00092, 0.00689, 0.00409, 0.00307...   \n",
       "\n",
       "                                            drawdowns     return  \n",
       "95  [2312820, 1783320, 1592160, 1581480, 1543920, ...   4.911096  \n",
       "39  [14919660, 2681400, 1775820, 1503780, 1046400,...   4.805235  \n",
       "15  [16289520, 4202940, 1732980, 1306740, 854460, ...   4.656443  \n",
       "52  [8316300, 4227540, 2642100, 1658640, 1503780, ...   4.579836  \n",
       "94  [3882900, 3185220, 2390160, 1698960, 1589640, ...   4.571913  \n",
       "..                                                ...        ...  \n",
       "12                   [41567880, 186360, 46020, 30600]  -5.121501  \n",
       "61                                   [42074700, 2280] -14.488420  \n",
       "35                              [42028680, 7620, 960] -18.613442  \n",
       "11                                         [42051840] -23.353953  \n",
       "0                                   [41920140, 83520] -24.287636  \n",
       "\n",
       "[134 rows x 7 columns]"
      ]
     },
     "execution_count": 39,
     "metadata": {},
     "output_type": "execute_result"
    }
   ],
   "source": [
    "df.sort_values(\"return\", ascending=False)"
   ]
  },
  {
   "cell_type": "code",
   "execution_count": 34,
   "id": "8e0c2357-5eb9-4ee0-afbd-125dbb8e5549",
   "metadata": {},
   "outputs": [
    {
     "data": {
      "text/html": [
       "<div>\n",
       "<style scoped>\n",
       "    .dataframe tbody tr th:only-of-type {\n",
       "        vertical-align: middle;\n",
       "    }\n",
       "\n",
       "    .dataframe tbody tr th {\n",
       "        vertical-align: top;\n",
       "    }\n",
       "\n",
       "    .dataframe thead th {\n",
       "        text-align: right;\n",
       "    }\n",
       "</style>\n",
       "<table border=\"1\" class=\"dataframe\">\n",
       "  <thead>\n",
       "    <tr style=\"text-align: right;\">\n",
       "      <th></th>\n",
       "      <th>lookback</th>\n",
       "      <th>thres</th>\n",
       "      <th>sell_thres</th>\n",
       "      <th>cusum</th>\n",
       "      <th>returns</th>\n",
       "      <th>drawdowns</th>\n",
       "      <th>return</th>\n",
       "    </tr>\n",
       "  </thead>\n",
       "  <tbody>\n",
       "    <tr>\n",
       "      <th>43</th>\n",
       "      <td>2000</td>\n",
       "      <td>1.25</td>\n",
       "      <td>1.25</td>\n",
       "      <td>[0, 0, 0, 0, 0, 0, 0, 0, 0, 0, 0, 0, 0, 0, 0, ...</td>\n",
       "      <td>[-0.04523, 0.02047, 0.02388, 0.02385, 0.10748,...</td>\n",
       "      <td>[14694780, 4967940, 3022440, 1632300, 827760, ...</td>\n",
       "      <td>4.229392</td>\n",
       "    </tr>\n",
       "    <tr>\n",
       "      <th>54</th>\n",
       "      <td>2000</td>\n",
       "      <td>1.50</td>\n",
       "      <td>0.75</td>\n",
       "      <td>[0, 0, 0, 0, 0, 0, 0, 0, 0, 0, 0, 0, 0, 0, 0, ...</td>\n",
       "      <td>[-0.06352, 0.00342, 0.02847, 0.03367, 0.06253,...</td>\n",
       "      <td>[13640760, 4972200, 2661960, 1117860, 743700, ...</td>\n",
       "      <td>4.125456</td>\n",
       "    </tr>\n",
       "    <tr>\n",
       "      <th>55</th>\n",
       "      <td>2000</td>\n",
       "      <td>1.50</td>\n",
       "      <td>1.00</td>\n",
       "      <td>[0, 0, 0, 0, 0, 0, 0, 0, 0, 0, 0, 0, 0, 0, 0, ...</td>\n",
       "      <td>[-0.04523, 0.01422, 0.03985, 0.03367, 0.07261,...</td>\n",
       "      <td>[15127320, 4969260, 2749980, 1021440, 731340, ...</td>\n",
       "      <td>4.086052</td>\n",
       "    </tr>\n",
       "    <tr>\n",
       "      <th>56</th>\n",
       "      <td>2000</td>\n",
       "      <td>1.50</td>\n",
       "      <td>1.25</td>\n",
       "      <td>[0, 0, 0, 0, 0, 0, 0, 0, 0, 0, 0, 0, 0, 0, 0, ...</td>\n",
       "      <td>[-0.04523, 0.02047, 0.04466, 0.03367, 0.07261,...</td>\n",
       "      <td>[15351420, 4967940, 2638740, 1426920, 724140, ...</td>\n",
       "      <td>4.023866</td>\n",
       "    </tr>\n",
       "    <tr>\n",
       "      <th>41</th>\n",
       "      <td>2000</td>\n",
       "      <td>1.25</td>\n",
       "      <td>0.75</td>\n",
       "      <td>[0, 0, 0, 0, 0, 0, 0, 0, 0, 0, 0, 0, 0, 0, 0, ...</td>\n",
       "      <td>[-0.06352, 0.00342, 0.00821, 0.02418, 0.09868,...</td>\n",
       "      <td>[13995060, 4972200, 3659880, 1302180, 859920, ...</td>\n",
       "      <td>3.948964</td>\n",
       "    </tr>\n",
       "    <tr>\n",
       "      <th>...</th>\n",
       "      <td>...</td>\n",
       "      <td>...</td>\n",
       "      <td>...</td>\n",
       "      <td>...</td>\n",
       "      <td>...</td>\n",
       "      <td>...</td>\n",
       "      <td>...</td>\n",
       "    </tr>\n",
       "    <tr>\n",
       "      <th>1</th>\n",
       "      <td>2000</td>\n",
       "      <td>0.50</td>\n",
       "      <td>0.00</td>\n",
       "      <td>[0, 0, 0, 0, 0, 0, 0, 0, 0, 0, 0, 0, 0, 0, 0, ...</td>\n",
       "      <td>[-0.05948, 0.01135, 0.02219, 0.01542, -0.00647...</td>\n",
       "      <td>[41703720, 270120, 19680, 1500]</td>\n",
       "      <td>-16.232218</td>\n",
       "    </tr>\n",
       "    <tr>\n",
       "      <th>61</th>\n",
       "      <td>2000</td>\n",
       "      <td>1.75</td>\n",
       "      <td>-1.50</td>\n",
       "      <td>[0, 0, 0, 0, 0, 0, 0, 0, 0, 0, 0, 0, 0, 0, 0, ...</td>\n",
       "      <td>[-0.03508, -0.02851, 0.01315, 0.00257, 0.00144...</td>\n",
       "      <td>[42074700]</td>\n",
       "      <td>-28.621639</td>\n",
       "    </tr>\n",
       "    <tr>\n",
       "      <th>35</th>\n",
       "      <td>2000</td>\n",
       "      <td>1.25</td>\n",
       "      <td>-1.00</td>\n",
       "      <td>[0, 0, 0, 0, 0, 0, 0, 0, 0, 0, 0, 0, 0, 0, 0, ...</td>\n",
       "      <td>[-0.01302, -0.02493, 0.01832, 0.0022, 0.01081,...</td>\n",
       "      <td>[42070140]</td>\n",
       "      <td>-37.119296</td>\n",
       "    </tr>\n",
       "    <tr>\n",
       "      <th>11</th>\n",
       "      <td>2000</td>\n",
       "      <td>0.75</td>\n",
       "      <td>-0.50</td>\n",
       "      <td>[0, 0, 0, 0, 0, 0, 0, 0, 0, 0, 0, 0, 0, 0, 0, ...</td>\n",
       "      <td>[-0.00428, 0.01412, -0.02416, -0.00257, -0.000...</td>\n",
       "      <td>[42028680, 960]</td>\n",
       "      <td>-43.624891</td>\n",
       "    </tr>\n",
       "    <tr>\n",
       "      <th>0</th>\n",
       "      <td>2000</td>\n",
       "      <td>0.50</td>\n",
       "      <td>-0.25</td>\n",
       "      <td>[0, 0, 0, 0, 0, 0, 0, 0, 0, 0, 0, 0, 0, 0, 0, ...</td>\n",
       "      <td>[0.00809, -0.00704, -0.03011, -0.01405, 0.0104...</td>\n",
       "      <td>[42051840]</td>\n",
       "      <td>-45.564018</td>\n",
       "    </tr>\n",
       "  </tbody>\n",
       "</table>\n",
       "<p>134 rows × 7 columns</p>\n",
       "</div>"
      ],
      "text/plain": [
       "    lookback  thres  sell_thres  \\\n",
       "43      2000   1.25        1.25   \n",
       "54      2000   1.50        0.75   \n",
       "55      2000   1.50        1.00   \n",
       "56      2000   1.50        1.25   \n",
       "41      2000   1.25        0.75   \n",
       "..       ...    ...         ...   \n",
       "1       2000   0.50        0.00   \n",
       "61      2000   1.75       -1.50   \n",
       "35      2000   1.25       -1.00   \n",
       "11      2000   0.75       -0.50   \n",
       "0       2000   0.50       -0.25   \n",
       "\n",
       "                                                cusum  \\\n",
       "43  [0, 0, 0, 0, 0, 0, 0, 0, 0, 0, 0, 0, 0, 0, 0, ...   \n",
       "54  [0, 0, 0, 0, 0, 0, 0, 0, 0, 0, 0, 0, 0, 0, 0, ...   \n",
       "55  [0, 0, 0, 0, 0, 0, 0, 0, 0, 0, 0, 0, 0, 0, 0, ...   \n",
       "56  [0, 0, 0, 0, 0, 0, 0, 0, 0, 0, 0, 0, 0, 0, 0, ...   \n",
       "41  [0, 0, 0, 0, 0, 0, 0, 0, 0, 0, 0, 0, 0, 0, 0, ...   \n",
       "..                                                ...   \n",
       "1   [0, 0, 0, 0, 0, 0, 0, 0, 0, 0, 0, 0, 0, 0, 0, ...   \n",
       "61  [0, 0, 0, 0, 0, 0, 0, 0, 0, 0, 0, 0, 0, 0, 0, ...   \n",
       "35  [0, 0, 0, 0, 0, 0, 0, 0, 0, 0, 0, 0, 0, 0, 0, ...   \n",
       "11  [0, 0, 0, 0, 0, 0, 0, 0, 0, 0, 0, 0, 0, 0, 0, ...   \n",
       "0   [0, 0, 0, 0, 0, 0, 0, 0, 0, 0, 0, 0, 0, 0, 0, ...   \n",
       "\n",
       "                                              returns  \\\n",
       "43  [-0.04523, 0.02047, 0.02388, 0.02385, 0.10748,...   \n",
       "54  [-0.06352, 0.00342, 0.02847, 0.03367, 0.06253,...   \n",
       "55  [-0.04523, 0.01422, 0.03985, 0.03367, 0.07261,...   \n",
       "56  [-0.04523, 0.02047, 0.04466, 0.03367, 0.07261,...   \n",
       "41  [-0.06352, 0.00342, 0.00821, 0.02418, 0.09868,...   \n",
       "..                                                ...   \n",
       "1   [-0.05948, 0.01135, 0.02219, 0.01542, -0.00647...   \n",
       "61  [-0.03508, -0.02851, 0.01315, 0.00257, 0.00144...   \n",
       "35  [-0.01302, -0.02493, 0.01832, 0.0022, 0.01081,...   \n",
       "11  [-0.00428, 0.01412, -0.02416, -0.00257, -0.000...   \n",
       "0   [0.00809, -0.00704, -0.03011, -0.01405, 0.0104...   \n",
       "\n",
       "                                            drawdowns     return  \n",
       "43  [14694780, 4967940, 3022440, 1632300, 827760, ...   4.229392  \n",
       "54  [13640760, 4972200, 2661960, 1117860, 743700, ...   4.125456  \n",
       "55  [15127320, 4969260, 2749980, 1021440, 731340, ...   4.086052  \n",
       "56  [15351420, 4967940, 2638740, 1426920, 724140, ...   4.023866  \n",
       "41  [13995060, 4972200, 3659880, 1302180, 859920, ...   3.948964  \n",
       "..                                                ...        ...  \n",
       "1                     [41703720, 270120, 19680, 1500] -16.232218  \n",
       "61                                         [42074700] -28.621639  \n",
       "35                                         [42070140] -37.119296  \n",
       "11                                    [42028680, 960] -43.624891  \n",
       "0                                          [42051840] -45.564018  \n",
       "\n",
       "[134 rows x 7 columns]"
      ]
     },
     "execution_count": 34,
     "metadata": {},
     "output_type": "execute_result"
    }
   ],
   "source": [
    "df.sort_values(\"return\", ascending=False)"
   ]
  },
  {
   "cell_type": "code",
   "execution_count": null,
   "id": "06a07157-bfb6-4fb6-86e6-9f77b7870a1f",
   "metadata": {},
   "outputs": [],
   "source": []
  },
  {
   "cell_type": "code",
   "execution_count": null,
   "id": "e6ad9619-c32b-42b6-a060-64b9e3a4141f",
   "metadata": {},
   "outputs": [],
   "source": []
  }
 ],
 "metadata": {
  "kernelspec": {
   "display_name": "Python 3",
   "language": "python",
   "name": "python3"
  },
  "language_info": {
   "codemirror_mode": {
    "name": "ipython",
    "version": 3
   },
   "file_extension": ".py",
   "mimetype": "text/x-python",
   "name": "python",
   "nbconvert_exporter": "python",
   "pygments_lexer": "ipython3",
   "version": "3.8.8"
  },
  "toc": {
   "base_numbering": 1,
   "nav_menu": {},
   "number_sections": true,
   "sideBar": true,
   "skip_h1_title": false,
   "title_cell": "Table of Contents",
   "title_sidebar": "Contents",
   "toc_cell": false,
   "toc_position": {},
   "toc_section_display": true,
   "toc_window_display": false
  },
  "varInspector": {
   "cols": {
    "lenName": 16,
    "lenType": 16,
    "lenVar": 40
   },
   "kernels_config": {
    "python": {
     "delete_cmd_postfix": "",
     "delete_cmd_prefix": "del ",
     "library": "var_list.py",
     "varRefreshCmd": "print(var_dic_list())"
    },
    "r": {
     "delete_cmd_postfix": ") ",
     "delete_cmd_prefix": "rm(",
     "library": "var_list.r",
     "varRefreshCmd": "cat(var_dic_list()) "
    }
   },
   "types_to_exclude": [
    "module",
    "function",
    "builtin_function_or_method",
    "instance",
    "_Feature"
   ],
   "window_display": false
  }
 },
 "nbformat": 4,
 "nbformat_minor": 5
}
