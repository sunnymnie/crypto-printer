{
 "cells": [
  {
   "cell_type": "markdown",
   "id": "5cdf9cc2-8dac-48cf-9bbd-7fa9c0063378",
   "metadata": {},
   "source": [
    "# Scratch work"
   ]
  },
  {
   "cell_type": "code",
   "execution_count": 1,
   "id": "11689523-85ea-4c4d-b8f6-c34aa4580a1d",
   "metadata": {},
   "outputs": [],
   "source": [
    "import pandas as pd\n",
    "import numpy as np\n",
    "import matplotlib.pyplot as plt\n",
    "import time"
   ]
  },
  {
   "cell_type": "code",
   "execution_count": 2,
   "id": "303b5e04-508c-4e4b-b4ee-a3262c572c33",
   "metadata": {},
   "outputs": [],
   "source": [
    "df = pd.read_csv(\"../data/generated/fet-celr-500.csv\")"
   ]
  },
  {
   "cell_type": "code",
   "execution_count": 3,
   "id": "b98c804e-972a-4b47-a0ff-13e02aca761a",
   "metadata": {},
   "outputs": [
    {
     "name": "stdout",
     "output_type": "stream",
     "text": [
      "reformatting took: 7.67 minutes\n"
     ]
    }
   ],
   "source": [
    "start = time.time()\n",
    "\n",
    "df[\"cusum\"] = df[\"cusum\"].apply(eval)\n",
    "df[\"returns\"] = df[\"returns\"].apply(eval)\n",
    "df[\"drawdowns\"] = df[\"drawdowns\"].apply(eval)\n",
    "\n",
    "print(f\"reformatting took: {round((time.time()-start)/60, 2)} minutes\")"
   ]
  },
  {
   "cell_type": "markdown",
   "id": "2046904c-7575-4aed-9c43-fb98b6f3c6ad",
   "metadata": {},
   "source": [
    "## About the dataframe:"
   ]
  },
  {
   "cell_type": "code",
   "execution_count": 4,
   "id": "59e5f64f-99cd-4572-953d-697613e6fb44",
   "metadata": {},
   "outputs": [
    {
     "data": {
      "text/html": [
       "<div>\n",
       "<style scoped>\n",
       "    .dataframe tbody tr th:only-of-type {\n",
       "        vertical-align: middle;\n",
       "    }\n",
       "\n",
       "    .dataframe tbody tr th {\n",
       "        vertical-align: top;\n",
       "    }\n",
       "\n",
       "    .dataframe thead th {\n",
       "        text-align: right;\n",
       "    }\n",
       "</style>\n",
       "<table border=\"1\" class=\"dataframe\">\n",
       "  <thead>\n",
       "    <tr style=\"text-align: right;\">\n",
       "      <th></th>\n",
       "      <th>lookback</th>\n",
       "      <th>thres</th>\n",
       "      <th>sell_thres</th>\n",
       "      <th>cusum</th>\n",
       "      <th>returns</th>\n",
       "      <th>drawdowns</th>\n",
       "    </tr>\n",
       "  </thead>\n",
       "  <tbody>\n",
       "    <tr>\n",
       "      <th>0</th>\n",
       "      <td>500</td>\n",
       "      <td>0.5</td>\n",
       "      <td>-0.25</td>\n",
       "      <td>[0, 0, 0, 0, 0, 0, 0, 0, 0, 0, 0, 0, 0, 0, 0, ...</td>\n",
       "      <td>[-0.03508, -0.02851, 0.01315, 0.00257, 0.00144...</td>\n",
       "      <td>[42074700]</td>\n",
       "    </tr>\n",
       "    <tr>\n",
       "      <th>1</th>\n",
       "      <td>500</td>\n",
       "      <td>0.5</td>\n",
       "      <td>0.00</td>\n",
       "      <td>[0, 0, 0, 0, 0, 0, 0, 0, 0, 0, 0, 0, 0, 0, 0, ...</td>\n",
       "      <td>[-0.01806, -0.00843, 0.01069, 0.00495, -0.0061...</td>\n",
       "      <td>[42072360]</td>\n",
       "    </tr>\n",
       "    <tr>\n",
       "      <th>2</th>\n",
       "      <td>500</td>\n",
       "      <td>0.5</td>\n",
       "      <td>0.25</td>\n",
       "      <td>[0, 0, 0, 0, 0, 0, 0, 0, 0, 0, 0, 0, 0, 0, 0, ...</td>\n",
       "      <td>[-0.01785, 0.01069, 0.00495, -0.00618, 0.00675...</td>\n",
       "      <td>[41984460, 76620, 1020]</td>\n",
       "    </tr>\n",
       "  </tbody>\n",
       "</table>\n",
       "</div>"
      ],
      "text/plain": [
       "   lookback  thres  sell_thres  \\\n",
       "0       500    0.5       -0.25   \n",
       "1       500    0.5        0.00   \n",
       "2       500    0.5        0.25   \n",
       "\n",
       "                                               cusum  \\\n",
       "0  [0, 0, 0, 0, 0, 0, 0, 0, 0, 0, 0, 0, 0, 0, 0, ...   \n",
       "1  [0, 0, 0, 0, 0, 0, 0, 0, 0, 0, 0, 0, 0, 0, 0, ...   \n",
       "2  [0, 0, 0, 0, 0, 0, 0, 0, 0, 0, 0, 0, 0, 0, 0, ...   \n",
       "\n",
       "                                             returns                drawdowns  \n",
       "0  [-0.03508, -0.02851, 0.01315, 0.00257, 0.00144...               [42074700]  \n",
       "1  [-0.01806, -0.00843, 0.01069, 0.00495, -0.0061...               [42072360]  \n",
       "2  [-0.01785, 0.01069, 0.00495, -0.00618, 0.00675...  [41984460, 76620, 1020]  "
      ]
     },
     "execution_count": 4,
     "metadata": {},
     "output_type": "execute_result"
    }
   ],
   "source": [
    "df.head(3)"
   ]
  },
  {
   "cell_type": "markdown",
   "id": "4283e3d6-65a9-4485-bd06-f7f862967362",
   "metadata": {},
   "source": [
    "| Column name | description |\n",
    "| --- | --- |\n",
    "| lookback | metric for identifying strategy (ignore) |\n",
    "| thres | metric for identifying strategy (ignore) |\n",
    "| sell_thres | metric for identifying strategy (ignore) |\n",
    "| cusum | cumulative realized returns starting at 0 and updated every minute |\n",
    "| returns | list of realized returns, where its length == number of trades that took place |\n",
    "| drawdowns | list of seconds indicating drawdown length, sorted from greatest to least |\n",
    "\n",
    "Therefore: \n",
    "- if you call .cumsum() on `returns`, the graph resembles `cusum` but much smoother because less granular detail. \n",
    "- length of `drawdowns` is how many 'dips' the strategy encountered.\n",
    "- calling .diff() on `cusum` returns `returns` but on a minutely basis. "
   ]
  },
  {
   "cell_type": "code",
   "execution_count": 5,
   "id": "2c396327-c1a5-436d-8c69-a2e953accdef",
   "metadata": {},
   "outputs": [],
   "source": [
    "def get_wins_and_losses(returns):\n",
    "    \"\"\"returns the number of profitable trades and number of losing trades\"\"\"\n",
    "    wins = len(list(filter(lambda x: x>0, returns)))\n",
    "    losses = len(list(filter(lambda x: x<=0, returns)))\n",
    "    return wins, losses\n",
    "\n",
    "def get_average_win_loss(returns):\n",
    "    \"\"\"returns the mean % gain of profitable trades and mean % loss of losing trades in decimal format\"\"\"\n",
    "    wins = np.mean(list(filter(lambda x: x>0, returns)))\n",
    "    losses = np.mean(list(filter(lambda x: x<=0, returns)))\n",
    "    return wins, losses\n",
    "\n",
    "def get_winning_losing_streak(returns):\n",
    "    \"\"\"returns the length of the winning streak and length of losing streak\"\"\"\n",
    "    w, p_w = 0, 0\n",
    "    l, p_l = 0, 0\n",
    "    for trade in returns:\n",
    "        if trade > 0:\n",
    "            w += 1\n",
    "            p_l = l if l>p_l else p_l\n",
    "            l = 0\n",
    "        else:\n",
    "            l += 1\n",
    "            p_w = w if w>p_w else p_w\n",
    "            w = 0\n",
    "    return p_w, p_l"
   ]
  },
  {
   "cell_type": "markdown",
   "id": "f5d9e07a-6c94-412f-9bd5-4c6be09675fc",
   "metadata": {},
   "source": [
    "## Below are examples for this trade:"
   ]
  },
  {
   "cell_type": "code",
   "execution_count": 6,
   "id": "acb7880a-7950-4e2f-8ffe-d0117ff26eb9",
   "metadata": {},
   "outputs": [
    {
     "data": {
      "text/plain": [
       "lookback                                                    500\n",
       "thres                                                       0.5\n",
       "sell_thres                                                  1.0\n",
       "cusum         [0, 0, 0, 0, 0, 0, 0, 0, 0, 0, 0, 0, 0, 0, 0, ...\n",
       "returns       [-0.03467, -0.00425, -0.00456, 0.01364, -0.000...\n",
       "drawdowns     [39182160, 527460, 440700, 304800, 158940, 147...\n",
       "Name: 5, dtype: object"
      ]
     },
     "execution_count": 6,
     "metadata": {},
     "output_type": "execute_result"
    }
   ],
   "source": [
    "result = df.iloc[5]\n",
    "result"
   ]
  },
  {
   "cell_type": "markdown",
   "id": "9aeb9dff-2e36-4c67-b822-a73dd59855f0",
   "metadata": {},
   "source": [
    "### Get number of trades"
   ]
  },
  {
   "cell_type": "code",
   "execution_count": 7,
   "id": "02671b61-2108-4b1a-989c-ce8c958c8f37",
   "metadata": {},
   "outputs": [
    {
     "data": {
      "text/plain": [
       "2531"
      ]
     },
     "execution_count": 7,
     "metadata": {},
     "output_type": "execute_result"
    }
   ],
   "source": [
    "len(result.returns)"
   ]
  },
  {
   "cell_type": "markdown",
   "id": "306f33c5-94df-49f3-a843-768142120b63",
   "metadata": {},
   "source": [
    "### Get # of wins and # of losses"
   ]
  },
  {
   "cell_type": "code",
   "execution_count": 8,
   "id": "2f7b5f73-7569-4895-b4ed-7a2d4e547fca",
   "metadata": {},
   "outputs": [
    {
     "data": {
      "text/plain": [
       "(1481, 1050)"
      ]
     },
     "execution_count": 8,
     "metadata": {},
     "output_type": "execute_result"
    }
   ],
   "source": [
    "get_wins_and_losses(result.returns)"
   ]
  },
  {
   "cell_type": "markdown",
   "id": "58f15487-ae8d-4e01-8ea0-67ffaf3fae9a",
   "metadata": {},
   "source": [
    "### Get mean win amount and mean loss amount (where 0.02 == 2%)"
   ]
  },
  {
   "cell_type": "code",
   "execution_count": 9,
   "id": "1c33bf2c-98d8-434d-92fa-9670083a15dd",
   "metadata": {},
   "outputs": [
    {
     "data": {
      "text/plain": [
       "(0.013105367994598245, -0.02793844761904762)"
      ]
     },
     "execution_count": 9,
     "metadata": {},
     "output_type": "execute_result"
    }
   ],
   "source": [
    "get_average_win_loss(result.returns)"
   ]
  },
  {
   "cell_type": "markdown",
   "id": "c0b39fca-3ac7-459e-8fe4-cd4e06e6594d",
   "metadata": {},
   "source": [
    "### Get winning and losing streak, where 17 means 17 wins/losses in a row"
   ]
  },
  {
   "cell_type": "code",
   "execution_count": 10,
   "id": "9745b186-6b2e-4c74-8278-1feedf232f81",
   "metadata": {},
   "outputs": [
    {
     "data": {
      "text/plain": [
       "(14, 17)"
      ]
     },
     "execution_count": 10,
     "metadata": {},
     "output_type": "execute_result"
    }
   ],
   "source": [
    "get_winning_losing_streak(result.returns)"
   ]
  },
  {
   "cell_type": "markdown",
   "id": "e1815c31-517d-4130-9d0b-ee72b21cbd16",
   "metadata": {},
   "source": [
    "### Get max drawdown length (in seconds)"
   ]
  },
  {
   "cell_type": "code",
   "execution_count": 11,
   "id": "aa35fe06-5512-4212-a090-ef21eacc8441",
   "metadata": {},
   "outputs": [
    {
     "data": {
      "text/plain": [
       "39182160"
      ]
     },
     "execution_count": 11,
     "metadata": {},
     "output_type": "execute_result"
    }
   ],
   "source": [
    "result.drawdowns[0] #sorted by longest to shortest"
   ]
  },
  {
   "cell_type": "markdown",
   "id": "c07b2323-294b-4572-8d28-7aeddac4f049",
   "metadata": {},
   "source": [
    "### Get max drawdown on a trade and max gain on a trade (realized)"
   ]
  },
  {
   "cell_type": "code",
   "execution_count": 12,
   "id": "36503281-08d0-424c-98e0-2be38f4e8232",
   "metadata": {},
   "outputs": [
    {
     "data": {
      "text/plain": [
       "(-0.43374, 0.12575)"
      ]
     },
     "execution_count": 12,
     "metadata": {},
     "output_type": "execute_result"
    }
   ],
   "source": [
    "min(result.returns), max(result.returns)"
   ]
  },
  {
   "cell_type": "code",
   "execution_count": null,
   "id": "15131b7a-ffe9-4799-8458-b02989f8e68a",
   "metadata": {},
   "outputs": [],
   "source": []
  }
 ],
 "metadata": {
  "kernelspec": {
   "display_name": "Python 3",
   "language": "python",
   "name": "python3"
  },
  "language_info": {
   "codemirror_mode": {
    "name": "ipython",
    "version": 3
   },
   "file_extension": ".py",
   "mimetype": "text/x-python",
   "name": "python",
   "nbconvert_exporter": "python",
   "pygments_lexer": "ipython3",
   "version": "3.8.8"
  },
  "toc": {
   "base_numbering": 1,
   "nav_menu": {},
   "number_sections": true,
   "sideBar": true,
   "skip_h1_title": false,
   "title_cell": "Table of Contents",
   "title_sidebar": "Contents",
   "toc_cell": false,
   "toc_position": {},
   "toc_section_display": true,
   "toc_window_display": false
  },
  "varInspector": {
   "cols": {
    "lenName": 16,
    "lenType": 16,
    "lenVar": 40
   },
   "kernels_config": {
    "python": {
     "delete_cmd_postfix": "",
     "delete_cmd_prefix": "del ",
     "library": "var_list.py",
     "varRefreshCmd": "print(var_dic_list())"
    },
    "r": {
     "delete_cmd_postfix": ") ",
     "delete_cmd_prefix": "rm(",
     "library": "var_list.r",
     "varRefreshCmd": "cat(var_dic_list()) "
    }
   },
   "types_to_exclude": [
    "module",
    "function",
    "builtin_function_or_method",
    "instance",
    "_Feature"
   ],
   "window_display": false
  }
 },
 "nbformat": 4,
 "nbformat_minor": 5
}
